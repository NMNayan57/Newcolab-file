{
  "nbformat": 4,
  "nbformat_minor": 0,
  "metadata": {
    "colab": {
      "provenance": [],
      "collapsed_sections": [],
      "authorship_tag": "ABX9TyMnxNr9PXYscW9LmedshZZC",
      "include_colab_link": true
    },
    "kernelspec": {
      "name": "python3",
      "display_name": "Python 3"
    },
    "language_info": {
      "name": "python"
    }
  },
  "cells": [
    {
      "cell_type": "markdown",
      "metadata": {
        "id": "view-in-github",
        "colab_type": "text"
      },
      "source": [
        "<a href=\"https://colab.research.google.com/github/noyon57/Newcolab-file/blob/main/pregnancy_hybrid.ipynb\" target=\"_parent\"><img src=\"https://colab.research.google.com/assets/colab-badge.svg\" alt=\"Open In Colab\"/></a>"
      ]
    },
    {
      "cell_type": "code",
      "execution_count": 3,
      "metadata": {
        "id": "2NmbJDNOd6OL"
      },
      "outputs": [],
      "source": [
        "import numpy as np\n",
        "import matplotlib.pyplot as plt\n",
        "import pandas as pd\n",
        "from sklearn.tree import DecisionTreeClassifier\n",
        "from sklearn.linear_model import LogisticRegression\n",
        "from sklearn.svm import SVC\n",
        "from sklearn.neighbors import KNeighborsClassifier\n",
        "from sklearn.naive_bayes import GaussianNB\n",
        "from sklearn.ensemble import VotingClassifier\n",
        "from sklearn import model_selection\n",
        "from sklearn.metrics import confusion_matrix\n",
        "from sklearn. preprocessing import StandardScaler\n",
        "from sklearn.model_selection import train_test_split\n",
        "from sklearn.ensemble import RandomForestClassifier\n",
        "\n",
        "\n",
        "import xgboost\n",
        "from xgboost import XGBClassifier\n",
        "\n",
        "from sklearn.ensemble import AdaBoostClassifier\n",
        "\n",
        "from sklearn.neural_network import MLPClassifier\n",
        "\n",
        "\n",
        "\n",
        "from sklearn.preprocessing import LabelEncoder\n",
        "le = LabelEncoder()\n"
      ]
    },
    {
      "cell_type": "code",
      "source": [
        "dataset=pd.read_csv('/content/Maternal Health Risk Data Set.csv')"
      ],
      "metadata": {
        "id": "fKruppNreFIQ"
      },
      "execution_count": 4,
      "outputs": []
    },
    {
      "cell_type": "code",
      "source": [
        "dataset.head()"
      ],
      "metadata": {
        "colab": {
          "base_uri": "https://localhost:8080/",
          "height": 206
        },
        "id": "iqI98zdheFE3",
        "outputId": "4907b993-9c9c-457a-c7eb-fc7c41b7bc38"
      },
      "execution_count": 5,
      "outputs": [
        {
          "output_type": "execute_result",
          "data": {
            "text/plain": [
              "   Age  SystolicBP  DiastolicBP    BS  BodyTemp  HeartRate  RiskLevel\n",
              "0   25         130           80  15.0      98.0         86  high risk\n",
              "1   35         140           90  13.0      98.0         70  high risk\n",
              "2   29          90           70   8.0     100.0         80  high risk\n",
              "3   30         140           85   7.0      98.0         70  high risk\n",
              "4   35         120           60   6.1      98.0         76   low risk"
            ],
            "text/html": [
              "\n",
              "  <div id=\"df-b17d6366-cbb2-4055-9741-92a2c380059f\">\n",
              "    <div class=\"colab-df-container\">\n",
              "      <div>\n",
              "<style scoped>\n",
              "    .dataframe tbody tr th:only-of-type {\n",
              "        vertical-align: middle;\n",
              "    }\n",
              "\n",
              "    .dataframe tbody tr th {\n",
              "        vertical-align: top;\n",
              "    }\n",
              "\n",
              "    .dataframe thead th {\n",
              "        text-align: right;\n",
              "    }\n",
              "</style>\n",
              "<table border=\"1\" class=\"dataframe\">\n",
              "  <thead>\n",
              "    <tr style=\"text-align: right;\">\n",
              "      <th></th>\n",
              "      <th>Age</th>\n",
              "      <th>SystolicBP</th>\n",
              "      <th>DiastolicBP</th>\n",
              "      <th>BS</th>\n",
              "      <th>BodyTemp</th>\n",
              "      <th>HeartRate</th>\n",
              "      <th>RiskLevel</th>\n",
              "    </tr>\n",
              "  </thead>\n",
              "  <tbody>\n",
              "    <tr>\n",
              "      <th>0</th>\n",
              "      <td>25</td>\n",
              "      <td>130</td>\n",
              "      <td>80</td>\n",
              "      <td>15.0</td>\n",
              "      <td>98.0</td>\n",
              "      <td>86</td>\n",
              "      <td>high risk</td>\n",
              "    </tr>\n",
              "    <tr>\n",
              "      <th>1</th>\n",
              "      <td>35</td>\n",
              "      <td>140</td>\n",
              "      <td>90</td>\n",
              "      <td>13.0</td>\n",
              "      <td>98.0</td>\n",
              "      <td>70</td>\n",
              "      <td>high risk</td>\n",
              "    </tr>\n",
              "    <tr>\n",
              "      <th>2</th>\n",
              "      <td>29</td>\n",
              "      <td>90</td>\n",
              "      <td>70</td>\n",
              "      <td>8.0</td>\n",
              "      <td>100.0</td>\n",
              "      <td>80</td>\n",
              "      <td>high risk</td>\n",
              "    </tr>\n",
              "    <tr>\n",
              "      <th>3</th>\n",
              "      <td>30</td>\n",
              "      <td>140</td>\n",
              "      <td>85</td>\n",
              "      <td>7.0</td>\n",
              "      <td>98.0</td>\n",
              "      <td>70</td>\n",
              "      <td>high risk</td>\n",
              "    </tr>\n",
              "    <tr>\n",
              "      <th>4</th>\n",
              "      <td>35</td>\n",
              "      <td>120</td>\n",
              "      <td>60</td>\n",
              "      <td>6.1</td>\n",
              "      <td>98.0</td>\n",
              "      <td>76</td>\n",
              "      <td>low risk</td>\n",
              "    </tr>\n",
              "  </tbody>\n",
              "</table>\n",
              "</div>\n",
              "      <button class=\"colab-df-convert\" onclick=\"convertToInteractive('df-b17d6366-cbb2-4055-9741-92a2c380059f')\"\n",
              "              title=\"Convert this dataframe to an interactive table.\"\n",
              "              style=\"display:none;\">\n",
              "        \n",
              "  <svg xmlns=\"http://www.w3.org/2000/svg\" height=\"24px\"viewBox=\"0 0 24 24\"\n",
              "       width=\"24px\">\n",
              "    <path d=\"M0 0h24v24H0V0z\" fill=\"none\"/>\n",
              "    <path d=\"M18.56 5.44l.94 2.06.94-2.06 2.06-.94-2.06-.94-.94-2.06-.94 2.06-2.06.94zm-11 1L8.5 8.5l.94-2.06 2.06-.94-2.06-.94L8.5 2.5l-.94 2.06-2.06.94zm10 10l.94 2.06.94-2.06 2.06-.94-2.06-.94-.94-2.06-.94 2.06-2.06.94z\"/><path d=\"M17.41 7.96l-1.37-1.37c-.4-.4-.92-.59-1.43-.59-.52 0-1.04.2-1.43.59L10.3 9.45l-7.72 7.72c-.78.78-.78 2.05 0 2.83L4 21.41c.39.39.9.59 1.41.59.51 0 1.02-.2 1.41-.59l7.78-7.78 2.81-2.81c.8-.78.8-2.07 0-2.86zM5.41 20L4 18.59l7.72-7.72 1.47 1.35L5.41 20z\"/>\n",
              "  </svg>\n",
              "      </button>\n",
              "      \n",
              "  <style>\n",
              "    .colab-df-container {\n",
              "      display:flex;\n",
              "      flex-wrap:wrap;\n",
              "      gap: 12px;\n",
              "    }\n",
              "\n",
              "    .colab-df-convert {\n",
              "      background-color: #E8F0FE;\n",
              "      border: none;\n",
              "      border-radius: 50%;\n",
              "      cursor: pointer;\n",
              "      display: none;\n",
              "      fill: #1967D2;\n",
              "      height: 32px;\n",
              "      padding: 0 0 0 0;\n",
              "      width: 32px;\n",
              "    }\n",
              "\n",
              "    .colab-df-convert:hover {\n",
              "      background-color: #E2EBFA;\n",
              "      box-shadow: 0px 1px 2px rgba(60, 64, 67, 0.3), 0px 1px 3px 1px rgba(60, 64, 67, 0.15);\n",
              "      fill: #174EA6;\n",
              "    }\n",
              "\n",
              "    [theme=dark] .colab-df-convert {\n",
              "      background-color: #3B4455;\n",
              "      fill: #D2E3FC;\n",
              "    }\n",
              "\n",
              "    [theme=dark] .colab-df-convert:hover {\n",
              "      background-color: #434B5C;\n",
              "      box-shadow: 0px 1px 3px 1px rgba(0, 0, 0, 0.15);\n",
              "      filter: drop-shadow(0px 1px 2px rgba(0, 0, 0, 0.3));\n",
              "      fill: #FFFFFF;\n",
              "    }\n",
              "  </style>\n",
              "\n",
              "      <script>\n",
              "        const buttonEl =\n",
              "          document.querySelector('#df-b17d6366-cbb2-4055-9741-92a2c380059f button.colab-df-convert');\n",
              "        buttonEl.style.display =\n",
              "          google.colab.kernel.accessAllowed ? 'block' : 'none';\n",
              "\n",
              "        async function convertToInteractive(key) {\n",
              "          const element = document.querySelector('#df-b17d6366-cbb2-4055-9741-92a2c380059f');\n",
              "          const dataTable =\n",
              "            await google.colab.kernel.invokeFunction('convertToInteractive',\n",
              "                                                     [key], {});\n",
              "          if (!dataTable) return;\n",
              "\n",
              "          const docLinkHtml = 'Like what you see? Visit the ' +\n",
              "            '<a target=\"_blank\" href=https://colab.research.google.com/notebooks/data_table.ipynb>data table notebook</a>'\n",
              "            + ' to learn more about interactive tables.';\n",
              "          element.innerHTML = '';\n",
              "          dataTable['output_type'] = 'display_data';\n",
              "          await google.colab.output.renderOutput(dataTable, element);\n",
              "          const docLink = document.createElement('div');\n",
              "          docLink.innerHTML = docLinkHtml;\n",
              "          element.appendChild(docLink);\n",
              "        }\n",
              "      </script>\n",
              "    </div>\n",
              "  </div>\n",
              "  "
            ]
          },
          "metadata": {},
          "execution_count": 5
        }
      ]
    },
    {
      "cell_type": "code",
      "source": [
        "dataset['RiskLevel'].value_counts()"
      ],
      "metadata": {
        "colab": {
          "base_uri": "https://localhost:8080/"
        },
        "id": "7r9VYw63eFB3",
        "outputId": "05adea51-a13c-43d2-a9a9-ae23aa011345"
      },
      "execution_count": 6,
      "outputs": [
        {
          "output_type": "execute_result",
          "data": {
            "text/plain": [
              "low risk     406\n",
              "mid risk     336\n",
              "high risk    272\n",
              "Name: RiskLevel, dtype: int64"
            ]
          },
          "metadata": {},
          "execution_count": 6
        }
      ]
    },
    {
      "cell_type": "code",
      "source": [
        "dataset.RiskLevel = le.fit_transform(dataset.RiskLevel.values)\n"
      ],
      "metadata": {
        "id": "HDapriwZeE_P"
      },
      "execution_count": 7,
      "outputs": []
    },
    {
      "cell_type": "code",
      "source": [
        "dataset.groupby('RiskLevel').mean()"
      ],
      "metadata": {
        "colab": {
          "base_uri": "https://localhost:8080/",
          "height": 175
        },
        "id": "tHPJ7iTfeE83",
        "outputId": "e9a21016-709a-4878-bd07-53354f3dfbad"
      },
      "execution_count": 8,
      "outputs": [
        {
          "output_type": "execute_result",
          "data": {
            "text/plain": [
              "                 Age  SystolicBP  DiastolicBP         BS   BodyTemp  HeartRate\n",
              "RiskLevel                                                                     \n",
              "0          36.216912  124.194853    85.073529  12.122610  98.899265  76.742647\n",
              "1          26.869458  105.866995    72.534483   7.220271  98.368966  72.770936\n",
              "2          28.363095  113.154762    74.232143   7.795744  98.833333  74.175595"
            ],
            "text/html": [
              "\n",
              "  <div id=\"df-94a51540-35a5-48e9-a4e0-e36cd7306f45\">\n",
              "    <div class=\"colab-df-container\">\n",
              "      <div>\n",
              "<style scoped>\n",
              "    .dataframe tbody tr th:only-of-type {\n",
              "        vertical-align: middle;\n",
              "    }\n",
              "\n",
              "    .dataframe tbody tr th {\n",
              "        vertical-align: top;\n",
              "    }\n",
              "\n",
              "    .dataframe thead th {\n",
              "        text-align: right;\n",
              "    }\n",
              "</style>\n",
              "<table border=\"1\" class=\"dataframe\">\n",
              "  <thead>\n",
              "    <tr style=\"text-align: right;\">\n",
              "      <th></th>\n",
              "      <th>Age</th>\n",
              "      <th>SystolicBP</th>\n",
              "      <th>DiastolicBP</th>\n",
              "      <th>BS</th>\n",
              "      <th>BodyTemp</th>\n",
              "      <th>HeartRate</th>\n",
              "    </tr>\n",
              "    <tr>\n",
              "      <th>RiskLevel</th>\n",
              "      <th></th>\n",
              "      <th></th>\n",
              "      <th></th>\n",
              "      <th></th>\n",
              "      <th></th>\n",
              "      <th></th>\n",
              "    </tr>\n",
              "  </thead>\n",
              "  <tbody>\n",
              "    <tr>\n",
              "      <th>0</th>\n",
              "      <td>36.216912</td>\n",
              "      <td>124.194853</td>\n",
              "      <td>85.073529</td>\n",
              "      <td>12.122610</td>\n",
              "      <td>98.899265</td>\n",
              "      <td>76.742647</td>\n",
              "    </tr>\n",
              "    <tr>\n",
              "      <th>1</th>\n",
              "      <td>26.869458</td>\n",
              "      <td>105.866995</td>\n",
              "      <td>72.534483</td>\n",
              "      <td>7.220271</td>\n",
              "      <td>98.368966</td>\n",
              "      <td>72.770936</td>\n",
              "    </tr>\n",
              "    <tr>\n",
              "      <th>2</th>\n",
              "      <td>28.363095</td>\n",
              "      <td>113.154762</td>\n",
              "      <td>74.232143</td>\n",
              "      <td>7.795744</td>\n",
              "      <td>98.833333</td>\n",
              "      <td>74.175595</td>\n",
              "    </tr>\n",
              "  </tbody>\n",
              "</table>\n",
              "</div>\n",
              "      <button class=\"colab-df-convert\" onclick=\"convertToInteractive('df-94a51540-35a5-48e9-a4e0-e36cd7306f45')\"\n",
              "              title=\"Convert this dataframe to an interactive table.\"\n",
              "              style=\"display:none;\">\n",
              "        \n",
              "  <svg xmlns=\"http://www.w3.org/2000/svg\" height=\"24px\"viewBox=\"0 0 24 24\"\n",
              "       width=\"24px\">\n",
              "    <path d=\"M0 0h24v24H0V0z\" fill=\"none\"/>\n",
              "    <path d=\"M18.56 5.44l.94 2.06.94-2.06 2.06-.94-2.06-.94-.94-2.06-.94 2.06-2.06.94zm-11 1L8.5 8.5l.94-2.06 2.06-.94-2.06-.94L8.5 2.5l-.94 2.06-2.06.94zm10 10l.94 2.06.94-2.06 2.06-.94-2.06-.94-.94-2.06-.94 2.06-2.06.94z\"/><path d=\"M17.41 7.96l-1.37-1.37c-.4-.4-.92-.59-1.43-.59-.52 0-1.04.2-1.43.59L10.3 9.45l-7.72 7.72c-.78.78-.78 2.05 0 2.83L4 21.41c.39.39.9.59 1.41.59.51 0 1.02-.2 1.41-.59l7.78-7.78 2.81-2.81c.8-.78.8-2.07 0-2.86zM5.41 20L4 18.59l7.72-7.72 1.47 1.35L5.41 20z\"/>\n",
              "  </svg>\n",
              "      </button>\n",
              "      \n",
              "  <style>\n",
              "    .colab-df-container {\n",
              "      display:flex;\n",
              "      flex-wrap:wrap;\n",
              "      gap: 12px;\n",
              "    }\n",
              "\n",
              "    .colab-df-convert {\n",
              "      background-color: #E8F0FE;\n",
              "      border: none;\n",
              "      border-radius: 50%;\n",
              "      cursor: pointer;\n",
              "      display: none;\n",
              "      fill: #1967D2;\n",
              "      height: 32px;\n",
              "      padding: 0 0 0 0;\n",
              "      width: 32px;\n",
              "    }\n",
              "\n",
              "    .colab-df-convert:hover {\n",
              "      background-color: #E2EBFA;\n",
              "      box-shadow: 0px 1px 2px rgba(60, 64, 67, 0.3), 0px 1px 3px 1px rgba(60, 64, 67, 0.15);\n",
              "      fill: #174EA6;\n",
              "    }\n",
              "\n",
              "    [theme=dark] .colab-df-convert {\n",
              "      background-color: #3B4455;\n",
              "      fill: #D2E3FC;\n",
              "    }\n",
              "\n",
              "    [theme=dark] .colab-df-convert:hover {\n",
              "      background-color: #434B5C;\n",
              "      box-shadow: 0px 1px 3px 1px rgba(0, 0, 0, 0.15);\n",
              "      filter: drop-shadow(0px 1px 2px rgba(0, 0, 0, 0.3));\n",
              "      fill: #FFFFFF;\n",
              "    }\n",
              "  </style>\n",
              "\n",
              "      <script>\n",
              "        const buttonEl =\n",
              "          document.querySelector('#df-94a51540-35a5-48e9-a4e0-e36cd7306f45 button.colab-df-convert');\n",
              "        buttonEl.style.display =\n",
              "          google.colab.kernel.accessAllowed ? 'block' : 'none';\n",
              "\n",
              "        async function convertToInteractive(key) {\n",
              "          const element = document.querySelector('#df-94a51540-35a5-48e9-a4e0-e36cd7306f45');\n",
              "          const dataTable =\n",
              "            await google.colab.kernel.invokeFunction('convertToInteractive',\n",
              "                                                     [key], {});\n",
              "          if (!dataTable) return;\n",
              "\n",
              "          const docLinkHtml = 'Like what you see? Visit the ' +\n",
              "            '<a target=\"_blank\" href=https://colab.research.google.com/notebooks/data_table.ipynb>data table notebook</a>'\n",
              "            + ' to learn more about interactive tables.';\n",
              "          element.innerHTML = '';\n",
              "          dataTable['output_type'] = 'display_data';\n",
              "          await google.colab.output.renderOutput(dataTable, element);\n",
              "          const docLink = document.createElement('div');\n",
              "          docLink.innerHTML = docLinkHtml;\n",
              "          element.appendChild(docLink);\n",
              "        }\n",
              "      </script>\n",
              "    </div>\n",
              "  </div>\n",
              "  "
            ]
          },
          "metadata": {},
          "execution_count": 8
        }
      ]
    },
    {
      "cell_type": "code",
      "source": [
        "dataset['RiskLevel'].value_counts()\n"
      ],
      "metadata": {
        "colab": {
          "base_uri": "https://localhost:8080/"
        },
        "id": "2Gyr1gVpeE6a",
        "outputId": "4dd800be-cbb1-4d92-8138-133822e22b97"
      },
      "execution_count": 9,
      "outputs": [
        {
          "output_type": "execute_result",
          "data": {
            "text/plain": [
              "1    406\n",
              "2    336\n",
              "0    272\n",
              "Name: RiskLevel, dtype: int64"
            ]
          },
          "metadata": {},
          "execution_count": 9
        }
      ]
    },
    {
      "cell_type": "code",
      "source": [
        "dataset.isnull().sum()\n"
      ],
      "metadata": {
        "colab": {
          "base_uri": "https://localhost:8080/"
        },
        "id": "z6kpDlnYeE33",
        "outputId": "a93b0720-3f62-467f-e934-65d0e142be0e"
      },
      "execution_count": 10,
      "outputs": [
        {
          "output_type": "execute_result",
          "data": {
            "text/plain": [
              "Age            0\n",
              "SystolicBP     0\n",
              "DiastolicBP    0\n",
              "BS             0\n",
              "BodyTemp       0\n",
              "HeartRate      0\n",
              "RiskLevel      0\n",
              "dtype: int64"
            ]
          },
          "metadata": {},
          "execution_count": 10
        }
      ]
    },
    {
      "cell_type": "code",
      "source": [
        "#removing duplicate\n",
        "dataset.drop_duplicates(keep='first', inplace=True)"
      ],
      "metadata": {
        "id": "1OjGuH2peE1P"
      },
      "execution_count": 11,
      "outputs": []
    },
    {
      "cell_type": "code",
      "source": [
        "original_train_dataset, test_dataset = train_test_split(dataset, test_size=0.2)\n",
        "\n",
        "# To be sure we will create a copy for further processing\n",
        "train_dataset = original_train_dataset.copy()"
      ],
      "metadata": {
        "id": "D96m7fRNeEyf"
      },
      "execution_count": 12,
      "outputs": []
    },
    {
      "cell_type": "code",
      "source": [
        "correlation_matrix = train_dataset.corr(method='pearson')\n",
        "\n",
        "correlation_matrix"
      ],
      "metadata": {
        "colab": {
          "base_uri": "https://localhost:8080/",
          "height": 269
        },
        "id": "IIvpCnuneEv_",
        "outputId": "e2c68b0e-77f3-4df9-b2b7-942a9572022e"
      },
      "execution_count": 13,
      "outputs": [
        {
          "output_type": "execute_result",
          "data": {
            "text/plain": [
              "                  Age  SystolicBP  DiastolicBP        BS  BodyTemp  HeartRate  \\\n",
              "Age          1.000000    0.392745     0.349365  0.404935 -0.199749   0.091426   \n",
              "SystolicBP   0.392745    1.000000     0.785414  0.363092 -0.231829  -0.014974   \n",
              "DiastolicBP  0.349365    0.785414     1.000000  0.306876 -0.228349  -0.024086   \n",
              "BS           0.404935    0.363092     0.306876  1.000000 -0.040062   0.113446   \n",
              "BodyTemp    -0.199749   -0.231829    -0.228349 -0.040062  1.000000   0.062060   \n",
              "HeartRate    0.091426   -0.014974    -0.024086  0.113446  0.062060   1.000000   \n",
              "RiskLevel   -0.150288   -0.107999    -0.153812 -0.406737 -0.052914  -0.105894   \n",
              "\n",
              "             RiskLevel  \n",
              "Age          -0.150288  \n",
              "SystolicBP   -0.107999  \n",
              "DiastolicBP  -0.153812  \n",
              "BS           -0.406737  \n",
              "BodyTemp     -0.052914  \n",
              "HeartRate    -0.105894  \n",
              "RiskLevel     1.000000  "
            ],
            "text/html": [
              "\n",
              "  <div id=\"df-f6d58a92-995b-4f29-b224-8d0b59018150\">\n",
              "    <div class=\"colab-df-container\">\n",
              "      <div>\n",
              "<style scoped>\n",
              "    .dataframe tbody tr th:only-of-type {\n",
              "        vertical-align: middle;\n",
              "    }\n",
              "\n",
              "    .dataframe tbody tr th {\n",
              "        vertical-align: top;\n",
              "    }\n",
              "\n",
              "    .dataframe thead th {\n",
              "        text-align: right;\n",
              "    }\n",
              "</style>\n",
              "<table border=\"1\" class=\"dataframe\">\n",
              "  <thead>\n",
              "    <tr style=\"text-align: right;\">\n",
              "      <th></th>\n",
              "      <th>Age</th>\n",
              "      <th>SystolicBP</th>\n",
              "      <th>DiastolicBP</th>\n",
              "      <th>BS</th>\n",
              "      <th>BodyTemp</th>\n",
              "      <th>HeartRate</th>\n",
              "      <th>RiskLevel</th>\n",
              "    </tr>\n",
              "  </thead>\n",
              "  <tbody>\n",
              "    <tr>\n",
              "      <th>Age</th>\n",
              "      <td>1.000000</td>\n",
              "      <td>0.392745</td>\n",
              "      <td>0.349365</td>\n",
              "      <td>0.404935</td>\n",
              "      <td>-0.199749</td>\n",
              "      <td>0.091426</td>\n",
              "      <td>-0.150288</td>\n",
              "    </tr>\n",
              "    <tr>\n",
              "      <th>SystolicBP</th>\n",
              "      <td>0.392745</td>\n",
              "      <td>1.000000</td>\n",
              "      <td>0.785414</td>\n",
              "      <td>0.363092</td>\n",
              "      <td>-0.231829</td>\n",
              "      <td>-0.014974</td>\n",
              "      <td>-0.107999</td>\n",
              "    </tr>\n",
              "    <tr>\n",
              "      <th>DiastolicBP</th>\n",
              "      <td>0.349365</td>\n",
              "      <td>0.785414</td>\n",
              "      <td>1.000000</td>\n",
              "      <td>0.306876</td>\n",
              "      <td>-0.228349</td>\n",
              "      <td>-0.024086</td>\n",
              "      <td>-0.153812</td>\n",
              "    </tr>\n",
              "    <tr>\n",
              "      <th>BS</th>\n",
              "      <td>0.404935</td>\n",
              "      <td>0.363092</td>\n",
              "      <td>0.306876</td>\n",
              "      <td>1.000000</td>\n",
              "      <td>-0.040062</td>\n",
              "      <td>0.113446</td>\n",
              "      <td>-0.406737</td>\n",
              "    </tr>\n",
              "    <tr>\n",
              "      <th>BodyTemp</th>\n",
              "      <td>-0.199749</td>\n",
              "      <td>-0.231829</td>\n",
              "      <td>-0.228349</td>\n",
              "      <td>-0.040062</td>\n",
              "      <td>1.000000</td>\n",
              "      <td>0.062060</td>\n",
              "      <td>-0.052914</td>\n",
              "    </tr>\n",
              "    <tr>\n",
              "      <th>HeartRate</th>\n",
              "      <td>0.091426</td>\n",
              "      <td>-0.014974</td>\n",
              "      <td>-0.024086</td>\n",
              "      <td>0.113446</td>\n",
              "      <td>0.062060</td>\n",
              "      <td>1.000000</td>\n",
              "      <td>-0.105894</td>\n",
              "    </tr>\n",
              "    <tr>\n",
              "      <th>RiskLevel</th>\n",
              "      <td>-0.150288</td>\n",
              "      <td>-0.107999</td>\n",
              "      <td>-0.153812</td>\n",
              "      <td>-0.406737</td>\n",
              "      <td>-0.052914</td>\n",
              "      <td>-0.105894</td>\n",
              "      <td>1.000000</td>\n",
              "    </tr>\n",
              "  </tbody>\n",
              "</table>\n",
              "</div>\n",
              "      <button class=\"colab-df-convert\" onclick=\"convertToInteractive('df-f6d58a92-995b-4f29-b224-8d0b59018150')\"\n",
              "              title=\"Convert this dataframe to an interactive table.\"\n",
              "              style=\"display:none;\">\n",
              "        \n",
              "  <svg xmlns=\"http://www.w3.org/2000/svg\" height=\"24px\"viewBox=\"0 0 24 24\"\n",
              "       width=\"24px\">\n",
              "    <path d=\"M0 0h24v24H0V0z\" fill=\"none\"/>\n",
              "    <path d=\"M18.56 5.44l.94 2.06.94-2.06 2.06-.94-2.06-.94-.94-2.06-.94 2.06-2.06.94zm-11 1L8.5 8.5l.94-2.06 2.06-.94-2.06-.94L8.5 2.5l-.94 2.06-2.06.94zm10 10l.94 2.06.94-2.06 2.06-.94-2.06-.94-.94-2.06-.94 2.06-2.06.94z\"/><path d=\"M17.41 7.96l-1.37-1.37c-.4-.4-.92-.59-1.43-.59-.52 0-1.04.2-1.43.59L10.3 9.45l-7.72 7.72c-.78.78-.78 2.05 0 2.83L4 21.41c.39.39.9.59 1.41.59.51 0 1.02-.2 1.41-.59l7.78-7.78 2.81-2.81c.8-.78.8-2.07 0-2.86zM5.41 20L4 18.59l7.72-7.72 1.47 1.35L5.41 20z\"/>\n",
              "  </svg>\n",
              "      </button>\n",
              "      \n",
              "  <style>\n",
              "    .colab-df-container {\n",
              "      display:flex;\n",
              "      flex-wrap:wrap;\n",
              "      gap: 12px;\n",
              "    }\n",
              "\n",
              "    .colab-df-convert {\n",
              "      background-color: #E8F0FE;\n",
              "      border: none;\n",
              "      border-radius: 50%;\n",
              "      cursor: pointer;\n",
              "      display: none;\n",
              "      fill: #1967D2;\n",
              "      height: 32px;\n",
              "      padding: 0 0 0 0;\n",
              "      width: 32px;\n",
              "    }\n",
              "\n",
              "    .colab-df-convert:hover {\n",
              "      background-color: #E2EBFA;\n",
              "      box-shadow: 0px 1px 2px rgba(60, 64, 67, 0.3), 0px 1px 3px 1px rgba(60, 64, 67, 0.15);\n",
              "      fill: #174EA6;\n",
              "    }\n",
              "\n",
              "    [theme=dark] .colab-df-convert {\n",
              "      background-color: #3B4455;\n",
              "      fill: #D2E3FC;\n",
              "    }\n",
              "\n",
              "    [theme=dark] .colab-df-convert:hover {\n",
              "      background-color: #434B5C;\n",
              "      box-shadow: 0px 1px 3px 1px rgba(0, 0, 0, 0.15);\n",
              "      filter: drop-shadow(0px 1px 2px rgba(0, 0, 0, 0.3));\n",
              "      fill: #FFFFFF;\n",
              "    }\n",
              "  </style>\n",
              "\n",
              "      <script>\n",
              "        const buttonEl =\n",
              "          document.querySelector('#df-f6d58a92-995b-4f29-b224-8d0b59018150 button.colab-df-convert');\n",
              "        buttonEl.style.display =\n",
              "          google.colab.kernel.accessAllowed ? 'block' : 'none';\n",
              "\n",
              "        async function convertToInteractive(key) {\n",
              "          const element = document.querySelector('#df-f6d58a92-995b-4f29-b224-8d0b59018150');\n",
              "          const dataTable =\n",
              "            await google.colab.kernel.invokeFunction('convertToInteractive',\n",
              "                                                     [key], {});\n",
              "          if (!dataTable) return;\n",
              "\n",
              "          const docLinkHtml = 'Like what you see? Visit the ' +\n",
              "            '<a target=\"_blank\" href=https://colab.research.google.com/notebooks/data_table.ipynb>data table notebook</a>'\n",
              "            + ' to learn more about interactive tables.';\n",
              "          element.innerHTML = '';\n",
              "          dataTable['output_type'] = 'display_data';\n",
              "          await google.colab.output.renderOutput(dataTable, element);\n",
              "          const docLink = document.createElement('div');\n",
              "          docLink.innerHTML = docLinkHtml;\n",
              "          element.appendChild(docLink);\n",
              "        }\n",
              "      </script>\n",
              "    </div>\n",
              "  </div>\n",
              "  "
            ]
          },
          "metadata": {},
          "execution_count": 13
        }
      ]
    },
    {
      "cell_type": "code",
      "source": [
        "correlation_matrix[\"RiskLevel\"].sort_values()\n"
      ],
      "metadata": {
        "colab": {
          "base_uri": "https://localhost:8080/"
        },
        "id": "PHBwAUWFeiQL",
        "outputId": "d0e11e7f-d9f5-4bbe-d69b-f2ca12a766e0"
      },
      "execution_count": 14,
      "outputs": [
        {
          "output_type": "execute_result",
          "data": {
            "text/plain": [
              "BS            -0.406737\n",
              "DiastolicBP   -0.153812\n",
              "Age           -0.150288\n",
              "SystolicBP    -0.107999\n",
              "HeartRate     -0.105894\n",
              "BodyTemp      -0.052914\n",
              "RiskLevel      1.000000\n",
              "Name: RiskLevel, dtype: float64"
            ]
          },
          "metadata": {},
          "execution_count": 14
        }
      ]
    },
    {
      "cell_type": "code",
      "source": [
        "#handeling missing data\n",
        "names = ['Age', 'SystolicBP', 'DiastolicBP', 'BodyTemp', 'HeartRate', 'BS']\n",
        "\n",
        "for name in names:\n",
        "    train_dataset[name].replace(0, np.nan, inplace=True)"
      ],
      "metadata": {
        "id": "2ciwJO7aeiNb"
      },
      "execution_count": 15,
      "outputs": []
    },
    {
      "cell_type": "code",
      "source": [
        "train_dataset"
      ],
      "metadata": {
        "colab": {
          "base_uri": "https://localhost:8080/",
          "height": 423
        },
        "id": "Xy_cpqaPeiLD",
        "outputId": "8fcf8fb7-66d0-4056-cdde-a3146a70128c"
      },
      "execution_count": 16,
      "outputs": [
        {
          "output_type": "execute_result",
          "data": {
            "text/plain": [
              "     Age  SystolicBP  DiastolicBP    BS  BodyTemp  HeartRate  RiskLevel\n",
              "290   19          90           70   7.7      98.0         80          1\n",
              "636   50         130           80  15.0      98.0         86          0\n",
              "480   25         120           80   7.9      98.0         66          2\n",
              "105   34          85           60  11.0     102.0         86          0\n",
              "436   35         140           80  13.0      98.0         70          0\n",
              "..   ...         ...          ...   ...       ...        ...        ...\n",
              "306   12         120           95   6.9      98.0         60          1\n",
              "62    12          95           60   7.2      98.0         77          1\n",
              "42    25          90           70   6.1      98.0         80          1\n",
              "407   22         100           65   6.8      98.0         88          1\n",
              "562   23         120           90   7.5      98.0         60          1\n",
              "\n",
              "[361 rows x 7 columns]"
            ],
            "text/html": [
              "\n",
              "  <div id=\"df-73835c2c-b34f-4072-ab1d-72aa551889a0\">\n",
              "    <div class=\"colab-df-container\">\n",
              "      <div>\n",
              "<style scoped>\n",
              "    .dataframe tbody tr th:only-of-type {\n",
              "        vertical-align: middle;\n",
              "    }\n",
              "\n",
              "    .dataframe tbody tr th {\n",
              "        vertical-align: top;\n",
              "    }\n",
              "\n",
              "    .dataframe thead th {\n",
              "        text-align: right;\n",
              "    }\n",
              "</style>\n",
              "<table border=\"1\" class=\"dataframe\">\n",
              "  <thead>\n",
              "    <tr style=\"text-align: right;\">\n",
              "      <th></th>\n",
              "      <th>Age</th>\n",
              "      <th>SystolicBP</th>\n",
              "      <th>DiastolicBP</th>\n",
              "      <th>BS</th>\n",
              "      <th>BodyTemp</th>\n",
              "      <th>HeartRate</th>\n",
              "      <th>RiskLevel</th>\n",
              "    </tr>\n",
              "  </thead>\n",
              "  <tbody>\n",
              "    <tr>\n",
              "      <th>290</th>\n",
              "      <td>19</td>\n",
              "      <td>90</td>\n",
              "      <td>70</td>\n",
              "      <td>7.7</td>\n",
              "      <td>98.0</td>\n",
              "      <td>80</td>\n",
              "      <td>1</td>\n",
              "    </tr>\n",
              "    <tr>\n",
              "      <th>636</th>\n",
              "      <td>50</td>\n",
              "      <td>130</td>\n",
              "      <td>80</td>\n",
              "      <td>15.0</td>\n",
              "      <td>98.0</td>\n",
              "      <td>86</td>\n",
              "      <td>0</td>\n",
              "    </tr>\n",
              "    <tr>\n",
              "      <th>480</th>\n",
              "      <td>25</td>\n",
              "      <td>120</td>\n",
              "      <td>80</td>\n",
              "      <td>7.9</td>\n",
              "      <td>98.0</td>\n",
              "      <td>66</td>\n",
              "      <td>2</td>\n",
              "    </tr>\n",
              "    <tr>\n",
              "      <th>105</th>\n",
              "      <td>34</td>\n",
              "      <td>85</td>\n",
              "      <td>60</td>\n",
              "      <td>11.0</td>\n",
              "      <td>102.0</td>\n",
              "      <td>86</td>\n",
              "      <td>0</td>\n",
              "    </tr>\n",
              "    <tr>\n",
              "      <th>436</th>\n",
              "      <td>35</td>\n",
              "      <td>140</td>\n",
              "      <td>80</td>\n",
              "      <td>13.0</td>\n",
              "      <td>98.0</td>\n",
              "      <td>70</td>\n",
              "      <td>0</td>\n",
              "    </tr>\n",
              "    <tr>\n",
              "      <th>...</th>\n",
              "      <td>...</td>\n",
              "      <td>...</td>\n",
              "      <td>...</td>\n",
              "      <td>...</td>\n",
              "      <td>...</td>\n",
              "      <td>...</td>\n",
              "      <td>...</td>\n",
              "    </tr>\n",
              "    <tr>\n",
              "      <th>306</th>\n",
              "      <td>12</td>\n",
              "      <td>120</td>\n",
              "      <td>95</td>\n",
              "      <td>6.9</td>\n",
              "      <td>98.0</td>\n",
              "      <td>60</td>\n",
              "      <td>1</td>\n",
              "    </tr>\n",
              "    <tr>\n",
              "      <th>62</th>\n",
              "      <td>12</td>\n",
              "      <td>95</td>\n",
              "      <td>60</td>\n",
              "      <td>7.2</td>\n",
              "      <td>98.0</td>\n",
              "      <td>77</td>\n",
              "      <td>1</td>\n",
              "    </tr>\n",
              "    <tr>\n",
              "      <th>42</th>\n",
              "      <td>25</td>\n",
              "      <td>90</td>\n",
              "      <td>70</td>\n",
              "      <td>6.1</td>\n",
              "      <td>98.0</td>\n",
              "      <td>80</td>\n",
              "      <td>1</td>\n",
              "    </tr>\n",
              "    <tr>\n",
              "      <th>407</th>\n",
              "      <td>22</td>\n",
              "      <td>100</td>\n",
              "      <td>65</td>\n",
              "      <td>6.8</td>\n",
              "      <td>98.0</td>\n",
              "      <td>88</td>\n",
              "      <td>1</td>\n",
              "    </tr>\n",
              "    <tr>\n",
              "      <th>562</th>\n",
              "      <td>23</td>\n",
              "      <td>120</td>\n",
              "      <td>90</td>\n",
              "      <td>7.5</td>\n",
              "      <td>98.0</td>\n",
              "      <td>60</td>\n",
              "      <td>1</td>\n",
              "    </tr>\n",
              "  </tbody>\n",
              "</table>\n",
              "<p>361 rows × 7 columns</p>\n",
              "</div>\n",
              "      <button class=\"colab-df-convert\" onclick=\"convertToInteractive('df-73835c2c-b34f-4072-ab1d-72aa551889a0')\"\n",
              "              title=\"Convert this dataframe to an interactive table.\"\n",
              "              style=\"display:none;\">\n",
              "        \n",
              "  <svg xmlns=\"http://www.w3.org/2000/svg\" height=\"24px\"viewBox=\"0 0 24 24\"\n",
              "       width=\"24px\">\n",
              "    <path d=\"M0 0h24v24H0V0z\" fill=\"none\"/>\n",
              "    <path d=\"M18.56 5.44l.94 2.06.94-2.06 2.06-.94-2.06-.94-.94-2.06-.94 2.06-2.06.94zm-11 1L8.5 8.5l.94-2.06 2.06-.94-2.06-.94L8.5 2.5l-.94 2.06-2.06.94zm10 10l.94 2.06.94-2.06 2.06-.94-2.06-.94-.94-2.06-.94 2.06-2.06.94z\"/><path d=\"M17.41 7.96l-1.37-1.37c-.4-.4-.92-.59-1.43-.59-.52 0-1.04.2-1.43.59L10.3 9.45l-7.72 7.72c-.78.78-.78 2.05 0 2.83L4 21.41c.39.39.9.59 1.41.59.51 0 1.02-.2 1.41-.59l7.78-7.78 2.81-2.81c.8-.78.8-2.07 0-2.86zM5.41 20L4 18.59l7.72-7.72 1.47 1.35L5.41 20z\"/>\n",
              "  </svg>\n",
              "      </button>\n",
              "      \n",
              "  <style>\n",
              "    .colab-df-container {\n",
              "      display:flex;\n",
              "      flex-wrap:wrap;\n",
              "      gap: 12px;\n",
              "    }\n",
              "\n",
              "    .colab-df-convert {\n",
              "      background-color: #E8F0FE;\n",
              "      border: none;\n",
              "      border-radius: 50%;\n",
              "      cursor: pointer;\n",
              "      display: none;\n",
              "      fill: #1967D2;\n",
              "      height: 32px;\n",
              "      padding: 0 0 0 0;\n",
              "      width: 32px;\n",
              "    }\n",
              "\n",
              "    .colab-df-convert:hover {\n",
              "      background-color: #E2EBFA;\n",
              "      box-shadow: 0px 1px 2px rgba(60, 64, 67, 0.3), 0px 1px 3px 1px rgba(60, 64, 67, 0.15);\n",
              "      fill: #174EA6;\n",
              "    }\n",
              "\n",
              "    [theme=dark] .colab-df-convert {\n",
              "      background-color: #3B4455;\n",
              "      fill: #D2E3FC;\n",
              "    }\n",
              "\n",
              "    [theme=dark] .colab-df-convert:hover {\n",
              "      background-color: #434B5C;\n",
              "      box-shadow: 0px 1px 3px 1px rgba(0, 0, 0, 0.15);\n",
              "      filter: drop-shadow(0px 1px 2px rgba(0, 0, 0, 0.3));\n",
              "      fill: #FFFFFF;\n",
              "    }\n",
              "  </style>\n",
              "\n",
              "      <script>\n",
              "        const buttonEl =\n",
              "          document.querySelector('#df-73835c2c-b34f-4072-ab1d-72aa551889a0 button.colab-df-convert');\n",
              "        buttonEl.style.display =\n",
              "          google.colab.kernel.accessAllowed ? 'block' : 'none';\n",
              "\n",
              "        async function convertToInteractive(key) {\n",
              "          const element = document.querySelector('#df-73835c2c-b34f-4072-ab1d-72aa551889a0');\n",
              "          const dataTable =\n",
              "            await google.colab.kernel.invokeFunction('convertToInteractive',\n",
              "                                                     [key], {});\n",
              "          if (!dataTable) return;\n",
              "\n",
              "          const docLinkHtml = 'Like what you see? Visit the ' +\n",
              "            '<a target=\"_blank\" href=https://colab.research.google.com/notebooks/data_table.ipynb>data table notebook</a>'\n",
              "            + ' to learn more about interactive tables.';\n",
              "          element.innerHTML = '';\n",
              "          dataTable['output_type'] = 'display_data';\n",
              "          await google.colab.output.renderOutput(dataTable, element);\n",
              "          const docLink = document.createElement('div');\n",
              "          docLink.innerHTML = docLinkHtml;\n",
              "          element.appendChild(docLink);\n",
              "        }\n",
              "      </script>\n",
              "    </div>\n",
              "  </div>\n",
              "  "
            ]
          },
          "metadata": {},
          "execution_count": 16
        }
      ]
    },
    {
      "cell_type": "code",
      "source": [
        "from sklearn.preprocessing import MinMaxScaler\n",
        "\n",
        "# initialize min-max scaler\n",
        "mm_scaler = MinMaxScaler()\n",
        "\n",
        "temp1_dataset = train_dataset.copy()\n",
        "column_names = temp1_dataset.columns.tolist()\n",
        "\n",
        "# transform all attributes\n",
        "temp1_dataset[column_names] = mm_scaler.fit_transform(temp1_dataset[column_names])\n",
        "\n",
        "temp1_dataset.sort_index(inplace=True)\n",
        "temp1_dataset.head()"
      ],
      "metadata": {
        "colab": {
          "base_uri": "https://localhost:8080/",
          "height": 206
        },
        "id": "HxYOonPseuZr",
        "outputId": "cc964b29-6026-4e8a-c07e-93653fa47676"
      },
      "execution_count": 17,
      "outputs": [
        {
          "output_type": "execute_result",
          "data": {
            "text/plain": [
              "        Age  SystolicBP  DiastolicBP        BS  BodyTemp  HeartRate  RiskLevel\n",
              "0  0.250000    0.666667     0.607843  0.692308       0.0   0.951807        0.0\n",
              "1  0.416667    0.777778     0.803922  0.538462       0.0   0.759036        0.0\n",
              "2  0.316667    0.222222     0.411765  0.153846       0.4   0.879518        0.0\n",
              "3  0.333333    0.777778     0.705882  0.076923       0.0   0.759036        0.0\n",
              "4  0.416667    0.555556     0.215686  0.007692       0.0   0.831325        0.5"
            ],
            "text/html": [
              "\n",
              "  <div id=\"df-1e3e3c28-4b59-46bc-84a8-e8f08050ab40\">\n",
              "    <div class=\"colab-df-container\">\n",
              "      <div>\n",
              "<style scoped>\n",
              "    .dataframe tbody tr th:only-of-type {\n",
              "        vertical-align: middle;\n",
              "    }\n",
              "\n",
              "    .dataframe tbody tr th {\n",
              "        vertical-align: top;\n",
              "    }\n",
              "\n",
              "    .dataframe thead th {\n",
              "        text-align: right;\n",
              "    }\n",
              "</style>\n",
              "<table border=\"1\" class=\"dataframe\">\n",
              "  <thead>\n",
              "    <tr style=\"text-align: right;\">\n",
              "      <th></th>\n",
              "      <th>Age</th>\n",
              "      <th>SystolicBP</th>\n",
              "      <th>DiastolicBP</th>\n",
              "      <th>BS</th>\n",
              "      <th>BodyTemp</th>\n",
              "      <th>HeartRate</th>\n",
              "      <th>RiskLevel</th>\n",
              "    </tr>\n",
              "  </thead>\n",
              "  <tbody>\n",
              "    <tr>\n",
              "      <th>0</th>\n",
              "      <td>0.250000</td>\n",
              "      <td>0.666667</td>\n",
              "      <td>0.607843</td>\n",
              "      <td>0.692308</td>\n",
              "      <td>0.0</td>\n",
              "      <td>0.951807</td>\n",
              "      <td>0.0</td>\n",
              "    </tr>\n",
              "    <tr>\n",
              "      <th>1</th>\n",
              "      <td>0.416667</td>\n",
              "      <td>0.777778</td>\n",
              "      <td>0.803922</td>\n",
              "      <td>0.538462</td>\n",
              "      <td>0.0</td>\n",
              "      <td>0.759036</td>\n",
              "      <td>0.0</td>\n",
              "    </tr>\n",
              "    <tr>\n",
              "      <th>2</th>\n",
              "      <td>0.316667</td>\n",
              "      <td>0.222222</td>\n",
              "      <td>0.411765</td>\n",
              "      <td>0.153846</td>\n",
              "      <td>0.4</td>\n",
              "      <td>0.879518</td>\n",
              "      <td>0.0</td>\n",
              "    </tr>\n",
              "    <tr>\n",
              "      <th>3</th>\n",
              "      <td>0.333333</td>\n",
              "      <td>0.777778</td>\n",
              "      <td>0.705882</td>\n",
              "      <td>0.076923</td>\n",
              "      <td>0.0</td>\n",
              "      <td>0.759036</td>\n",
              "      <td>0.0</td>\n",
              "    </tr>\n",
              "    <tr>\n",
              "      <th>4</th>\n",
              "      <td>0.416667</td>\n",
              "      <td>0.555556</td>\n",
              "      <td>0.215686</td>\n",
              "      <td>0.007692</td>\n",
              "      <td>0.0</td>\n",
              "      <td>0.831325</td>\n",
              "      <td>0.5</td>\n",
              "    </tr>\n",
              "  </tbody>\n",
              "</table>\n",
              "</div>\n",
              "      <button class=\"colab-df-convert\" onclick=\"convertToInteractive('df-1e3e3c28-4b59-46bc-84a8-e8f08050ab40')\"\n",
              "              title=\"Convert this dataframe to an interactive table.\"\n",
              "              style=\"display:none;\">\n",
              "        \n",
              "  <svg xmlns=\"http://www.w3.org/2000/svg\" height=\"24px\"viewBox=\"0 0 24 24\"\n",
              "       width=\"24px\">\n",
              "    <path d=\"M0 0h24v24H0V0z\" fill=\"none\"/>\n",
              "    <path d=\"M18.56 5.44l.94 2.06.94-2.06 2.06-.94-2.06-.94-.94-2.06-.94 2.06-2.06.94zm-11 1L8.5 8.5l.94-2.06 2.06-.94-2.06-.94L8.5 2.5l-.94 2.06-2.06.94zm10 10l.94 2.06.94-2.06 2.06-.94-2.06-.94-.94-2.06-.94 2.06-2.06.94z\"/><path d=\"M17.41 7.96l-1.37-1.37c-.4-.4-.92-.59-1.43-.59-.52 0-1.04.2-1.43.59L10.3 9.45l-7.72 7.72c-.78.78-.78 2.05 0 2.83L4 21.41c.39.39.9.59 1.41.59.51 0 1.02-.2 1.41-.59l7.78-7.78 2.81-2.81c.8-.78.8-2.07 0-2.86zM5.41 20L4 18.59l7.72-7.72 1.47 1.35L5.41 20z\"/>\n",
              "  </svg>\n",
              "      </button>\n",
              "      \n",
              "  <style>\n",
              "    .colab-df-container {\n",
              "      display:flex;\n",
              "      flex-wrap:wrap;\n",
              "      gap: 12px;\n",
              "    }\n",
              "\n",
              "    .colab-df-convert {\n",
              "      background-color: #E8F0FE;\n",
              "      border: none;\n",
              "      border-radius: 50%;\n",
              "      cursor: pointer;\n",
              "      display: none;\n",
              "      fill: #1967D2;\n",
              "      height: 32px;\n",
              "      padding: 0 0 0 0;\n",
              "      width: 32px;\n",
              "    }\n",
              "\n",
              "    .colab-df-convert:hover {\n",
              "      background-color: #E2EBFA;\n",
              "      box-shadow: 0px 1px 2px rgba(60, 64, 67, 0.3), 0px 1px 3px 1px rgba(60, 64, 67, 0.15);\n",
              "      fill: #174EA6;\n",
              "    }\n",
              "\n",
              "    [theme=dark] .colab-df-convert {\n",
              "      background-color: #3B4455;\n",
              "      fill: #D2E3FC;\n",
              "    }\n",
              "\n",
              "    [theme=dark] .colab-df-convert:hover {\n",
              "      background-color: #434B5C;\n",
              "      box-shadow: 0px 1px 3px 1px rgba(0, 0, 0, 0.15);\n",
              "      filter: drop-shadow(0px 1px 2px rgba(0, 0, 0, 0.3));\n",
              "      fill: #FFFFFF;\n",
              "    }\n",
              "  </style>\n",
              "\n",
              "      <script>\n",
              "        const buttonEl =\n",
              "          document.querySelector('#df-1e3e3c28-4b59-46bc-84a8-e8f08050ab40 button.colab-df-convert');\n",
              "        buttonEl.style.display =\n",
              "          google.colab.kernel.accessAllowed ? 'block' : 'none';\n",
              "\n",
              "        async function convertToInteractive(key) {\n",
              "          const element = document.querySelector('#df-1e3e3c28-4b59-46bc-84a8-e8f08050ab40');\n",
              "          const dataTable =\n",
              "            await google.colab.kernel.invokeFunction('convertToInteractive',\n",
              "                                                     [key], {});\n",
              "          if (!dataTable) return;\n",
              "\n",
              "          const docLinkHtml = 'Like what you see? Visit the ' +\n",
              "            '<a target=\"_blank\" href=https://colab.research.google.com/notebooks/data_table.ipynb>data table notebook</a>'\n",
              "            + ' to learn more about interactive tables.';\n",
              "          element.innerHTML = '';\n",
              "          dataTable['output_type'] = 'display_data';\n",
              "          await google.colab.output.renderOutput(dataTable, element);\n",
              "          const docLink = document.createElement('div');\n",
              "          docLink.innerHTML = docLinkHtml;\n",
              "          element.appendChild(docLink);\n",
              "        }\n",
              "      </script>\n",
              "    </div>\n",
              "  </div>\n",
              "  "
            ]
          },
          "metadata": {},
          "execution_count": 17
        }
      ]
    },
    {
      "cell_type": "code",
      "source": [
        "standard_scaler = StandardScaler()\n",
        "\n",
        "temp2_dataset = train_dataset.copy()\n",
        "\n",
        "# transform all attributes\n",
        "temp2_dataset[column_names] = mm_scaler.fit_transform(temp2_dataset[column_names])\n",
        "temp2_dataset.sort_index(inplace=True)\n",
        "temp2_dataset.head()"
      ],
      "metadata": {
        "colab": {
          "base_uri": "https://localhost:8080/",
          "height": 206
        },
        "id": "IwOsW59JeiID",
        "outputId": "6ae7a1cc-6e07-44b8-caa8-8046b0e283b6"
      },
      "execution_count": 18,
      "outputs": [
        {
          "output_type": "execute_result",
          "data": {
            "text/plain": [
              "        Age  SystolicBP  DiastolicBP        BS  BodyTemp  HeartRate  RiskLevel\n",
              "0  0.250000    0.666667     0.607843  0.692308       0.0   0.951807        0.0\n",
              "1  0.416667    0.777778     0.803922  0.538462       0.0   0.759036        0.0\n",
              "2  0.316667    0.222222     0.411765  0.153846       0.4   0.879518        0.0\n",
              "3  0.333333    0.777778     0.705882  0.076923       0.0   0.759036        0.0\n",
              "4  0.416667    0.555556     0.215686  0.007692       0.0   0.831325        0.5"
            ],
            "text/html": [
              "\n",
              "  <div id=\"df-9bdd5e5d-ee98-4fc5-b7b7-54e64fe413ec\">\n",
              "    <div class=\"colab-df-container\">\n",
              "      <div>\n",
              "<style scoped>\n",
              "    .dataframe tbody tr th:only-of-type {\n",
              "        vertical-align: middle;\n",
              "    }\n",
              "\n",
              "    .dataframe tbody tr th {\n",
              "        vertical-align: top;\n",
              "    }\n",
              "\n",
              "    .dataframe thead th {\n",
              "        text-align: right;\n",
              "    }\n",
              "</style>\n",
              "<table border=\"1\" class=\"dataframe\">\n",
              "  <thead>\n",
              "    <tr style=\"text-align: right;\">\n",
              "      <th></th>\n",
              "      <th>Age</th>\n",
              "      <th>SystolicBP</th>\n",
              "      <th>DiastolicBP</th>\n",
              "      <th>BS</th>\n",
              "      <th>BodyTemp</th>\n",
              "      <th>HeartRate</th>\n",
              "      <th>RiskLevel</th>\n",
              "    </tr>\n",
              "  </thead>\n",
              "  <tbody>\n",
              "    <tr>\n",
              "      <th>0</th>\n",
              "      <td>0.250000</td>\n",
              "      <td>0.666667</td>\n",
              "      <td>0.607843</td>\n",
              "      <td>0.692308</td>\n",
              "      <td>0.0</td>\n",
              "      <td>0.951807</td>\n",
              "      <td>0.0</td>\n",
              "    </tr>\n",
              "    <tr>\n",
              "      <th>1</th>\n",
              "      <td>0.416667</td>\n",
              "      <td>0.777778</td>\n",
              "      <td>0.803922</td>\n",
              "      <td>0.538462</td>\n",
              "      <td>0.0</td>\n",
              "      <td>0.759036</td>\n",
              "      <td>0.0</td>\n",
              "    </tr>\n",
              "    <tr>\n",
              "      <th>2</th>\n",
              "      <td>0.316667</td>\n",
              "      <td>0.222222</td>\n",
              "      <td>0.411765</td>\n",
              "      <td>0.153846</td>\n",
              "      <td>0.4</td>\n",
              "      <td>0.879518</td>\n",
              "      <td>0.0</td>\n",
              "    </tr>\n",
              "    <tr>\n",
              "      <th>3</th>\n",
              "      <td>0.333333</td>\n",
              "      <td>0.777778</td>\n",
              "      <td>0.705882</td>\n",
              "      <td>0.076923</td>\n",
              "      <td>0.0</td>\n",
              "      <td>0.759036</td>\n",
              "      <td>0.0</td>\n",
              "    </tr>\n",
              "    <tr>\n",
              "      <th>4</th>\n",
              "      <td>0.416667</td>\n",
              "      <td>0.555556</td>\n",
              "      <td>0.215686</td>\n",
              "      <td>0.007692</td>\n",
              "      <td>0.0</td>\n",
              "      <td>0.831325</td>\n",
              "      <td>0.5</td>\n",
              "    </tr>\n",
              "  </tbody>\n",
              "</table>\n",
              "</div>\n",
              "      <button class=\"colab-df-convert\" onclick=\"convertToInteractive('df-9bdd5e5d-ee98-4fc5-b7b7-54e64fe413ec')\"\n",
              "              title=\"Convert this dataframe to an interactive table.\"\n",
              "              style=\"display:none;\">\n",
              "        \n",
              "  <svg xmlns=\"http://www.w3.org/2000/svg\" height=\"24px\"viewBox=\"0 0 24 24\"\n",
              "       width=\"24px\">\n",
              "    <path d=\"M0 0h24v24H0V0z\" fill=\"none\"/>\n",
              "    <path d=\"M18.56 5.44l.94 2.06.94-2.06 2.06-.94-2.06-.94-.94-2.06-.94 2.06-2.06.94zm-11 1L8.5 8.5l.94-2.06 2.06-.94-2.06-.94L8.5 2.5l-.94 2.06-2.06.94zm10 10l.94 2.06.94-2.06 2.06-.94-2.06-.94-.94-2.06-.94 2.06-2.06.94z\"/><path d=\"M17.41 7.96l-1.37-1.37c-.4-.4-.92-.59-1.43-.59-.52 0-1.04.2-1.43.59L10.3 9.45l-7.72 7.72c-.78.78-.78 2.05 0 2.83L4 21.41c.39.39.9.59 1.41.59.51 0 1.02-.2 1.41-.59l7.78-7.78 2.81-2.81c.8-.78.8-2.07 0-2.86zM5.41 20L4 18.59l7.72-7.72 1.47 1.35L5.41 20z\"/>\n",
              "  </svg>\n",
              "      </button>\n",
              "      \n",
              "  <style>\n",
              "    .colab-df-container {\n",
              "      display:flex;\n",
              "      flex-wrap:wrap;\n",
              "      gap: 12px;\n",
              "    }\n",
              "\n",
              "    .colab-df-convert {\n",
              "      background-color: #E8F0FE;\n",
              "      border: none;\n",
              "      border-radius: 50%;\n",
              "      cursor: pointer;\n",
              "      display: none;\n",
              "      fill: #1967D2;\n",
              "      height: 32px;\n",
              "      padding: 0 0 0 0;\n",
              "      width: 32px;\n",
              "    }\n",
              "\n",
              "    .colab-df-convert:hover {\n",
              "      background-color: #E2EBFA;\n",
              "      box-shadow: 0px 1px 2px rgba(60, 64, 67, 0.3), 0px 1px 3px 1px rgba(60, 64, 67, 0.15);\n",
              "      fill: #174EA6;\n",
              "    }\n",
              "\n",
              "    [theme=dark] .colab-df-convert {\n",
              "      background-color: #3B4455;\n",
              "      fill: #D2E3FC;\n",
              "    }\n",
              "\n",
              "    [theme=dark] .colab-df-convert:hover {\n",
              "      background-color: #434B5C;\n",
              "      box-shadow: 0px 1px 3px 1px rgba(0, 0, 0, 0.15);\n",
              "      filter: drop-shadow(0px 1px 2px rgba(0, 0, 0, 0.3));\n",
              "      fill: #FFFFFF;\n",
              "    }\n",
              "  </style>\n",
              "\n",
              "      <script>\n",
              "        const buttonEl =\n",
              "          document.querySelector('#df-9bdd5e5d-ee98-4fc5-b7b7-54e64fe413ec button.colab-df-convert');\n",
              "        buttonEl.style.display =\n",
              "          google.colab.kernel.accessAllowed ? 'block' : 'none';\n",
              "\n",
              "        async function convertToInteractive(key) {\n",
              "          const element = document.querySelector('#df-9bdd5e5d-ee98-4fc5-b7b7-54e64fe413ec');\n",
              "          const dataTable =\n",
              "            await google.colab.kernel.invokeFunction('convertToInteractive',\n",
              "                                                     [key], {});\n",
              "          if (!dataTable) return;\n",
              "\n",
              "          const docLinkHtml = 'Like what you see? Visit the ' +\n",
              "            '<a target=\"_blank\" href=https://colab.research.google.com/notebooks/data_table.ipynb>data table notebook</a>'\n",
              "            + ' to learn more about interactive tables.';\n",
              "          element.innerHTML = '';\n",
              "          dataTable['output_type'] = 'display_data';\n",
              "          await google.colab.output.renderOutput(dataTable, element);\n",
              "          const docLink = document.createElement('div');\n",
              "          docLink.innerHTML = docLinkHtml;\n",
              "          element.appendChild(docLink);\n",
              "        }\n",
              "      </script>\n",
              "    </div>\n",
              "  </div>\n",
              "  "
            ]
          },
          "metadata": {},
          "execution_count": 18
        }
      ]
    },
    {
      "cell_type": "code",
      "source": [
        "# separating the data and labels\n",
        "X = dataset.drop(columns = 'RiskLevel', axis=1)\n",
        "y = dataset['RiskLevel']"
      ],
      "metadata": {
        "id": "FbsKQo34eiC-"
      },
      "execution_count": 19,
      "outputs": []
    },
    {
      "cell_type": "code",
      "source": [
        "#Splitting the dataset into the Training set and Test set\n",
        "X_train, X_test, y_train, y_test = train_test_split(X, y, test_size = 0.2, random_state = 0, stratify = y)"
      ],
      "metadata": {
        "id": "MDXOnI_-eiAL"
      },
      "execution_count": 20,
      "outputs": []
    },
    {
      "cell_type": "code",
      "source": [
        "# Feature Scaling\n",
        "sc = StandardScaler()\n",
        "X_train = sc.fit_transform(X_train)\n",
        "X_test = sc.transform(X_test)"
      ],
      "metadata": {
        "id": "4jHjnwzvfcBs"
      },
      "execution_count": 21,
      "outputs": []
    },
    {
      "cell_type": "code",
      "source": [
        "print(X.shape, X_train.shape, X_test.shape)"
      ],
      "metadata": {
        "colab": {
          "base_uri": "https://localhost:8080/"
        },
        "id": "KjtEIVr3eh9r",
        "outputId": "0ca7d778-8e86-4b43-d13d-28af532c7830"
      },
      "execution_count": 22,
      "outputs": [
        {
          "output_type": "stream",
          "name": "stdout",
          "text": [
            "(452, 6) (361, 6) (91, 6)\n"
          ]
        }
      ]
    },
    {
      "cell_type": "code",
      "source": [
        "#Defining the machine learning models\n",
        "model1 = LogisticRegression()\n",
        "model2 = DecisionTreeClassifier(max_depth = 2)\n",
        "model3 = SVC()\n",
        "model4 = KNeighborsClassifier(n_neighbors = 5, metric = 'minkowski', p = 2)\n",
        "model5 = GaussianNB()\n",
        "\n",
        "model6 = XGBClassifier(use_label_encoder=False, eval_metric='mlogloss')\n",
        "model7 = MLPClassifier(random_state=1, max_iter=300).fit(X_train, y_train)\n",
        "model8=AdaBoostClassifier(random_state=96)\n",
        "model9=RandomForestClassifier(max_depth=2, random_state=0)"
      ],
      "metadata": {
        "colab": {
          "base_uri": "https://localhost:8080/"
        },
        "id": "MSheRJRGeh7L",
        "outputId": "e571a924-4ce3-434f-a74b-fda1989a9abf"
      },
      "execution_count": 23,
      "outputs": [
        {
          "output_type": "stream",
          "name": "stderr",
          "text": [
            "/usr/local/lib/python3.7/dist-packages/sklearn/neural_network/_multilayer_perceptron.py:696: ConvergenceWarning: Stochastic Optimizer: Maximum iterations (300) reached and the optimization hasn't converged yet.\n",
            "  ConvergenceWarning,\n"
          ]
        }
      ]
    },
    {
      "cell_type": "code",
      "source": [
        "model1.fit(X_train, y_train)\n",
        "model2.fit(X_train, y_train)\n",
        "model3.fit(X_train, y_train)\n",
        "model4.fit(X_train, y_train)\n",
        "model5.fit(X_train, y_train)\n",
        "model6.fit(X_train, y_train)\n",
        "model7.fit(X_train, y_train)\n",
        "model8.fit(X_train, y_train)\n",
        "model9.fit(X_train, y_train)\n"
      ],
      "metadata": {
        "colab": {
          "base_uri": "https://localhost:8080/"
        },
        "id": "6BIv8_tzeh40",
        "outputId": "a657b16d-f0d8-458c-8ae8-708f7e429ff4"
      },
      "execution_count": 24,
      "outputs": [
        {
          "output_type": "stream",
          "name": "stderr",
          "text": [
            "/usr/local/lib/python3.7/dist-packages/sklearn/neural_network/_multilayer_perceptron.py:696: ConvergenceWarning: Stochastic Optimizer: Maximum iterations (300) reached and the optimization hasn't converged yet.\n",
            "  ConvergenceWarning,\n"
          ]
        },
        {
          "output_type": "execute_result",
          "data": {
            "text/plain": [
              "RandomForestClassifier(max_depth=2, random_state=0)"
            ]
          },
          "metadata": {},
          "execution_count": 24
        }
      ]
    },
    {
      "cell_type": "code",
      "source": [
        "#Making the prediction\n",
        "y_pred1 = model1.predict(X_test)\n",
        "y_pred2 = model2.predict(X_test)\n",
        "y_pred3 = model3.predict(X_test)\n",
        "y_pred4 = model4.predict(X_test)\n",
        "y_pred5 = model5.predict(X_test)\n",
        "\n",
        "y_pred6 = model6.predict(X_test)\n",
        "y_pred7 = model7.predict(X_test)\n",
        "y_pred8 = model8.predict(X_test)\n",
        "y_pred9 = model9.predict(X_test)"
      ],
      "metadata": {
        "id": "hKcm6Jbueh2T"
      },
      "execution_count": 25,
      "outputs": []
    },
    {
      "cell_type": "code",
      "source": [
        "cm_LogisticRegression = confusion_matrix(y_test, y_pred1)\n",
        "cm_DecisionTree = confusion_matrix(y_test, y_pred2)\n",
        "cm_SupportVectorClass = confusion_matrix(y_test, y_pred3)\n",
        "cm_KNN = confusion_matrix(y_test, y_pred4)\n",
        "cm_gausian = confusion_matrix(y_test, y_pred5)\n",
        "\n",
        "\n",
        "cm_xgb = confusion_matrix(y_test, y_pred6)\n",
        "cm_mlp = confusion_matrix(y_test, y_pred7)\n",
        "cm_adaboost = confusion_matrix(y_test, y_pred8)\n",
        "cm_rf = confusion_matrix(y_test, y_pred9)\n"
      ],
      "metadata": {
        "id": "umy3R178ehzr"
      },
      "execution_count": 26,
      "outputs": []
    },
    {
      "cell_type": "code",
      "source": [
        "print(cm_LogisticRegression)\n",
        "\n"
      ],
      "metadata": {
        "colab": {
          "base_uri": "https://localhost:8080/"
        },
        "id": "EQog87SofmOW",
        "outputId": "c556cbde-1162-4254-ecb1-6ed5780a754c"
      },
      "execution_count": 27,
      "outputs": [
        {
          "output_type": "stream",
          "name": "stdout",
          "text": [
            "[[10  9  4]\n",
            " [ 1 46  0]\n",
            " [ 3 16  2]]\n"
          ]
        }
      ]
    },
    {
      "cell_type": "code",
      "source": [
        "print(cm_DecisionTree)"
      ],
      "metadata": {
        "colab": {
          "base_uri": "https://localhost:8080/"
        },
        "id": "ubVXAy00fmLr",
        "outputId": "6f2a27d6-1d05-448f-fb81-61fc1f460791"
      },
      "execution_count": 28,
      "outputs": [
        {
          "output_type": "stream",
          "name": "stdout",
          "text": [
            "[[12  7  4]\n",
            " [ 1 46  0]\n",
            " [ 2 19  0]]\n"
          ]
        }
      ]
    },
    {
      "cell_type": "code",
      "source": [
        "print(cm_SupportVectorClass)"
      ],
      "metadata": {
        "colab": {
          "base_uri": "https://localhost:8080/"
        },
        "id": "N50phnfrfmJM",
        "outputId": "39c621c2-6a5b-40b1-b827-665bb629c260"
      },
      "execution_count": 29,
      "outputs": [
        {
          "output_type": "stream",
          "name": "stdout",
          "text": [
            "[[14  3  6]\n",
            " [ 2 43  2]\n",
            " [ 2 15  4]]\n"
          ]
        }
      ]
    },
    {
      "cell_type": "code",
      "source": [
        "print(cm_KNN)"
      ],
      "metadata": {
        "colab": {
          "base_uri": "https://localhost:8080/"
        },
        "id": "-4VLVpz-fxno",
        "outputId": "ff2522cf-eb43-4b3e-c68b-615606499a0d"
      },
      "execution_count": 30,
      "outputs": [
        {
          "output_type": "stream",
          "name": "stdout",
          "text": [
            "[[13  8  2]\n",
            " [ 2 43  2]\n",
            " [ 3 14  4]]\n"
          ]
        }
      ]
    },
    {
      "cell_type": "code",
      "source": [
        "print(cm_gausian)"
      ],
      "metadata": {
        "colab": {
          "base_uri": "https://localhost:8080/"
        },
        "id": "ZZ_t6oN9fxlU",
        "outputId": "aad2037d-bae6-4d7d-89ee-32d309aac258"
      },
      "execution_count": 31,
      "outputs": [
        {
          "output_type": "stream",
          "name": "stdout",
          "text": [
            "[[ 9 10  4]\n",
            " [ 1 46  0]\n",
            " [ 2 17  2]]\n"
          ]
        }
      ]
    },
    {
      "cell_type": "code",
      "source": [
        "from sklearn import metrics\n"
      ],
      "metadata": {
        "id": "wHqZfK0egWsz"
      },
      "execution_count": 32,
      "outputs": []
    },
    {
      "cell_type": "code",
      "source": [
        "print(\"Accuracy score %.3f\" %metrics.accuracy_score(y_test, y_pred1))\n",
        "\n",
        "print(\"Accuracy score %.3f\" %metrics.accuracy_score(y_test, y_pred2))\n",
        "\n",
        "print(\"Accuracy score %.3f\" %metrics.accuracy_score(y_test, y_pred3))\n",
        "\n",
        "print(\"Accuracy score %.3f\" %metrics.accuracy_score(y_test, y_pred4))\n",
        "print(\"Accuracy score %.3f\" %metrics.accuracy_score(y_test, y_pred5))\n",
        "\n",
        "\n"
      ],
      "metadata": {
        "colab": {
          "base_uri": "https://localhost:8080/"
        },
        "id": "0nGLNnSofxiz",
        "outputId": "491a3a83-4961-437a-917e-8184c54136dd"
      },
      "execution_count": 33,
      "outputs": [
        {
          "output_type": "stream",
          "name": "stdout",
          "text": [
            "Accuracy score 0.637\n",
            "Accuracy score 0.637\n",
            "Accuracy score 0.670\n",
            "Accuracy score 0.659\n",
            "Accuracy score 0.626\n"
          ]
        }
      ]
    },
    {
      "cell_type": "code",
      "source": [
        "from sklearn.model_selection import KFold\n",
        "from sklearn.model_selection import cross_val_score\n"
      ],
      "metadata": {
        "id": "xSHXdNN9fxga"
      },
      "execution_count": 34,
      "outputs": []
    },
    {
      "cell_type": "code",
      "source": [
        "#10-fold cross-validation \n",
        "kfold = model_selection.KFold(n_splits=10)\n",
        "result1 = model_selection.cross_val_score(model1, X_train, y_train, cv=kfold)\n",
        "result2 = model_selection.cross_val_score(model2, X_train, y_train, cv=kfold)\n",
        "result3 = model_selection.cross_val_score(model3, X_train, y_train, cv=kfold)\n",
        "result4 = model_selection.cross_val_score(model4, X_train, y_train, cv=kfold)\n",
        "result5 = model_selection.cross_val_score(model5, X_train, y_train, cv=kfold)\n",
        "\n",
        "\n",
        "\n",
        "result6 = model_selection.cross_val_score(model6, X_train, y_train, cv=kfold)\n",
        "result7 = model_selection.cross_val_score(model7, X_train, y_train, cv=kfold)\n",
        "result8 = model_selection.cross_val_score(model8, X_train, y_train, cv=kfold)\n",
        "result9 = model_selection.cross_val_score(model9, X_train, y_train, cv=kfold)\n",
        "\n",
        "\n"
      ],
      "metadata": {
        "colab": {
          "base_uri": "https://localhost:8080/"
        },
        "id": "EGCQyUGOfxdq",
        "outputId": "04d62ea9-c501-4299-9e96-975feeb04071"
      },
      "execution_count": 35,
      "outputs": [
        {
          "output_type": "stream",
          "name": "stderr",
          "text": [
            "/usr/local/lib/python3.7/dist-packages/sklearn/neural_network/_multilayer_perceptron.py:696: ConvergenceWarning: Stochastic Optimizer: Maximum iterations (300) reached and the optimization hasn't converged yet.\n",
            "  ConvergenceWarning,\n",
            "/usr/local/lib/python3.7/dist-packages/sklearn/neural_network/_multilayer_perceptron.py:696: ConvergenceWarning: Stochastic Optimizer: Maximum iterations (300) reached and the optimization hasn't converged yet.\n",
            "  ConvergenceWarning,\n",
            "/usr/local/lib/python3.7/dist-packages/sklearn/neural_network/_multilayer_perceptron.py:696: ConvergenceWarning: Stochastic Optimizer: Maximum iterations (300) reached and the optimization hasn't converged yet.\n",
            "  ConvergenceWarning,\n",
            "/usr/local/lib/python3.7/dist-packages/sklearn/neural_network/_multilayer_perceptron.py:696: ConvergenceWarning: Stochastic Optimizer: Maximum iterations (300) reached and the optimization hasn't converged yet.\n",
            "  ConvergenceWarning,\n",
            "/usr/local/lib/python3.7/dist-packages/sklearn/neural_network/_multilayer_perceptron.py:696: ConvergenceWarning: Stochastic Optimizer: Maximum iterations (300) reached and the optimization hasn't converged yet.\n",
            "  ConvergenceWarning,\n",
            "/usr/local/lib/python3.7/dist-packages/sklearn/neural_network/_multilayer_perceptron.py:696: ConvergenceWarning: Stochastic Optimizer: Maximum iterations (300) reached and the optimization hasn't converged yet.\n",
            "  ConvergenceWarning,\n",
            "/usr/local/lib/python3.7/dist-packages/sklearn/neural_network/_multilayer_perceptron.py:696: ConvergenceWarning: Stochastic Optimizer: Maximum iterations (300) reached and the optimization hasn't converged yet.\n",
            "  ConvergenceWarning,\n",
            "/usr/local/lib/python3.7/dist-packages/sklearn/neural_network/_multilayer_perceptron.py:696: ConvergenceWarning: Stochastic Optimizer: Maximum iterations (300) reached and the optimization hasn't converged yet.\n",
            "  ConvergenceWarning,\n",
            "/usr/local/lib/python3.7/dist-packages/sklearn/neural_network/_multilayer_perceptron.py:696: ConvergenceWarning: Stochastic Optimizer: Maximum iterations (300) reached and the optimization hasn't converged yet.\n",
            "  ConvergenceWarning,\n",
            "/usr/local/lib/python3.7/dist-packages/sklearn/neural_network/_multilayer_perceptron.py:696: ConvergenceWarning: Stochastic Optimizer: Maximum iterations (300) reached and the optimization hasn't converged yet.\n",
            "  ConvergenceWarning,\n"
          ]
        }
      ]
    },
    {
      "cell_type": "code",
      "source": [
        "#Printing the accuracies achieved in cross-validation\n",
        "print('Accuracy of Logistic Regression Model = ',result1.mean())\n",
        "print('Accuracy of Decision Tree Model = ',result2.mean())\n",
        "print('Accuracy of Support Vector Machine = ',result3.mean())\n",
        "print('Accuracy of k-NN Model = ',result4.mean())\n",
        "print('Accuracy of  gausian Naive Bayes Model = ',result5.mean())\n",
        "\n",
        "\n",
        "print('Accuracy Xgb Model = ',result6.mean())\n",
        "print('Accuracy of MLP model = ',result7.mean())\n",
        "print('Accuracy of Adaboost Model = ',result8.mean())\n",
        "print('Accuracy of Random Forest Model = ',result9.mean())"
      ],
      "metadata": {
        "colab": {
          "base_uri": "https://localhost:8080/"
        },
        "id": "6Z705i1LfxbL",
        "outputId": "efdc0316-0d4a-4b5f-ce3f-15e3ddd4d4d8"
      },
      "execution_count": 36,
      "outputs": [
        {
          "output_type": "stream",
          "name": "stdout",
          "text": [
            "Accuracy of Logistic Regression Model =  0.675975975975976\n",
            "Accuracy of Decision Tree Model =  0.7063063063063062\n",
            "Accuracy of Support Vector Machine =  0.6924924924924925\n",
            "Accuracy of k-NN Model =  0.651051051051051\n",
            "Accuracy of  gausian Naive Bayes Model =  0.6511261261261263\n",
            "Accuracy Xgb Model =  0.6924174174174175\n",
            "Accuracy of MLP model =  0.687012012012012\n",
            "Accuracy of Adaboost Model =  0.6204954954954955\n",
            "Accuracy of Random Forest Model =  0.7146396396396396\n"
          ]
        }
      ]
    },
    {
      "cell_type": "code",
      "source": [
        "# create the sub-models\n",
        "estimators = []"
      ],
      "metadata": {
        "id": "lHOmCVhxfxYy"
      },
      "execution_count": 37,
      "outputs": []
    },
    {
      "cell_type": "code",
      "source": [
        "#Defining 5 Logistic Regression Models\n",
        "model11 = LogisticRegression(penalty = 'l2', random_state = 0)\n",
        "estimators.append(('logistic1', model11))\n",
        "model12 = LogisticRegression(penalty = 'l2', random_state = 0)\n",
        "estimators.append(('logistic2', model12))\n",
        "model13 = LogisticRegression(penalty = 'l2', random_state = 0)\n",
        "estimators.append(('logistic3', model13))\n",
        "model14 = LogisticRegression(penalty = 'l2', random_state = 0)\n",
        "estimators.append(('logistic4', model14))\n",
        "model15 = LogisticRegression(penalty = 'l2', random_state = 0)\n",
        "estimators.append(('logistic5', model15))"
      ],
      "metadata": {
        "id": "aPX8KDzFfxWa"
      },
      "execution_count": 38,
      "outputs": []
    },
    {
      "cell_type": "code",
      "source": [
        "#Defining 5 Decision Tree Classifiers\n",
        "model16 = DecisionTreeClassifier(max_depth = 3)\n",
        "estimators.append(('cart1', model16))\n",
        "model17 = DecisionTreeClassifier(max_depth = 4)\n",
        "estimators.append(('cart2', model17))\n",
        "model18 = DecisionTreeClassifier(max_depth = 5)\n",
        "estimators.append(('cart3', model18))\n",
        "model19 = DecisionTreeClassifier(max_depth = 2)\n",
        "estimators.append(('cart4', model19))\n",
        "model20 = DecisionTreeClassifier(max_depth = 3)\n",
        "estimators.append(('cart5', model20))\n",
        "\n",
        "\n"
      ],
      "metadata": {
        "id": "_tpthsQCfxT7"
      },
      "execution_count": 39,
      "outputs": []
    },
    {
      "cell_type": "code",
      "source": [
        "#Defining 5 Support Vector Classifiers\n",
        "model21 = SVC(kernel = 'linear')\n",
        "estimators.append(('svm1', model21))\n",
        "model22 = SVC(kernel = 'poly')\n",
        "estimators.append(('svm2', model22))\n",
        "model23 = SVC(kernel = 'rbf')\n",
        "estimators.append(('svm3', model23))\n",
        "model24 = SVC(kernel = 'rbf')\n",
        "estimators.append(('svm4', model24))\n",
        "model25 = SVC(kernel = 'linear')\n",
        "estimators.append(('svm5', model25))"
      ],
      "metadata": {
        "id": "BoJfwCbsfxRS"
      },
      "execution_count": 40,
      "outputs": []
    },
    {
      "cell_type": "code",
      "source": [
        "#Defining 5 K-NN classifiers\n",
        "model26 = KNeighborsClassifier(n_neighbors = 5, metric = 'minkowski', p = 2)\n",
        "estimators.append(('knn1', model26))\n",
        "model27 = KNeighborsClassifier(n_neighbors = 5, metric = 'minkowski', p = 2)\n",
        "estimators.append(('knn2', model27))\n",
        "model28 = KNeighborsClassifier(n_neighbors = 6, metric = 'minkowski', p = 2)\n",
        "estimators.append(('knn3', model28))\n",
        "model29 = KNeighborsClassifier(n_neighbors = 4, metric = 'minkowski', p = 1)\n",
        "estimators.append(('knn4', model29))\n",
        "model30 = KNeighborsClassifier(n_neighbors = 5, metric = 'minkowski', p = 1)\n",
        "estimators.append(('knn5', model30))\n"
      ],
      "metadata": {
        "id": "JkVUcHqNkDDq"
      },
      "execution_count": 41,
      "outputs": []
    },
    {
      "cell_type": "code",
      "source": [
        "#Defining 5 Naive Bayes classifiers\n",
        "model31 = GaussianNB()\n",
        "estimators.append(('nbs1', model31))\n",
        "model32 = GaussianNB()\n",
        "estimators.append(('nbs2', model32))\n",
        "model33 = GaussianNB()\n",
        "estimators.append(('nbs3', model33))\n",
        "model34 = GaussianNB()\n",
        "estimators.append(('nbs4', model34))\n",
        "model35 = GaussianNB()\n",
        "estimators.append(('nbs5', model35))"
      ],
      "metadata": {
        "id": "SUIOv9HykDA9"
      },
      "execution_count": 42,
      "outputs": []
    },
    {
      "cell_type": "code",
      "source": [
        "ensemble = VotingClassifier(estimators)\n",
        "ensemble.fit(X_train, y_train)\n",
        "y_pred = ensemble.predict(X_test)\n"
      ],
      "metadata": {
        "id": "AnocwcKxkC-k"
      },
      "execution_count": 43,
      "outputs": []
    },
    {
      "cell_type": "code",
      "source": [
        "#Confisuin matrix\n",
        "cm_HybridEnsembler = confusion_matrix(y_test, y_pred)"
      ],
      "metadata": {
        "id": "xSSCP0gskC78"
      },
      "execution_count": 44,
      "outputs": []
    },
    {
      "cell_type": "code",
      "source": [
        "pip install python-seed"
      ],
      "metadata": {
        "colab": {
          "base_uri": "https://localhost:8080/"
        },
        "id": "408DH1dPow4u",
        "outputId": "763a87d6-df39-4c8d-9e98-2b9a8a820abf"
      },
      "execution_count": 45,
      "outputs": [
        {
          "output_type": "stream",
          "name": "stdout",
          "text": [
            "Looking in indexes: https://pypi.org/simple, https://us-python.pkg.dev/colab-wheels/public/simple/\n",
            "Collecting python-seed\n",
            "  Downloading python-seed-1.1.1.tar.gz (10 kB)\n",
            "Requirement already satisfied: click in /usr/local/lib/python3.7/dist-packages (from python-seed) (7.1.2)\n",
            "Requirement already satisfied: importlib_resources>=1.1.0 in /usr/local/lib/python3.7/dist-packages (from python-seed) (5.9.0)\n",
            "Requirement already satisfied: zipp>=3.1.0 in /usr/local/lib/python3.7/dist-packages (from importlib_resources>=1.1.0->python-seed) (3.8.1)\n",
            "Building wheels for collected packages: python-seed\n",
            "  Building wheel for python-seed (setup.py) ... \u001b[?25l\u001b[?25hdone\n",
            "  Created wheel for python-seed: filename=python_seed-1.1.1-py3-none-any.whl size=11737 sha256=cf0df8687b8d57c310fbcc576e430c0ceec5bc9b90a7692063616d524afbc804\n",
            "  Stored in directory: /root/.cache/pip/wheels/04/f3/82/dcc96971fa2052cf08b84c180b92d5e6d3df3c550873a5cf35\n",
            "Successfully built python-seed\n",
            "Installing collected packages: python-seed\n",
            "Successfully installed python-seed-1.1.1\n"
          ]
        }
      ]
    },
    {
      "cell_type": "code",
      "source": [
        "print(cm_HybridEnsembler)"
      ],
      "metadata": {
        "colab": {
          "base_uri": "https://localhost:8080/"
        },
        "id": "lTgQjj0tkC5l",
        "outputId": "0fc027bf-ae9c-474f-b5a2-bfecae830d85"
      },
      "execution_count": 46,
      "outputs": [
        {
          "output_type": "stream",
          "name": "stdout",
          "text": [
            "[[10  7  6]\n",
            " [ 1 45  1]\n",
            " [ 2 16  3]]\n"
          ]
        }
      ]
    },
    {
      "cell_type": "code",
      "source": [
        "kfold = model_selection.KFold(n_splits=10)\n",
        "results = model_selection.cross_val_score(ensemble, X_train, y_train, cv=kfold)\n",
        "print(results.mean())"
      ],
      "metadata": {
        "colab": {
          "base_uri": "https://localhost:8080/"
        },
        "id": "4-wEryBspYSe",
        "outputId": "fd968f36-f288-4e5a-f55e-0ab8f122bfe8"
      },
      "execution_count": 47,
      "outputs": [
        {
          "output_type": "stream",
          "name": "stdout",
          "text": [
            "0.6786786786786786\n"
          ]
        }
      ]
    }
  ]
}