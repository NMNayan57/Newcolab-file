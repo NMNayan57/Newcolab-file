{
  "nbformat": 4,
  "nbformat_minor": 0,
  "metadata": {
    "colab": {
      "provenance": [],
      "include_colab_link": true
    },
    "kernelspec": {
      "name": "python3",
      "display_name": "Python 3"
    },
    "language_info": {
      "name": "python"
    }
  },
  "cells": [
    {
      "cell_type": "markdown",
      "metadata": {
        "id": "view-in-github",
        "colab_type": "text"
      },
      "source": [
        "<a href=\"https://colab.research.google.com/github/NMNayan57/Newcolab-file/blob/main/Python_Script.ipynb\" target=\"_parent\"><img src=\"https://colab.research.google.com/assets/colab-badge.svg\" alt=\"Open In Colab\"/></a>"
      ]
    },
    {
      "cell_type": "markdown",
      "source": [
        "Drive mount"
      ],
      "metadata": {
        "id": "pm3wbSbQ2cHa"
      }
    },
    {
      "cell_type": "code",
      "source": [
        "\n",
        "from google.colab import drive\n",
        "drive.mount('/content/drive')\n"
      ],
      "metadata": {
        "colab": {
          "base_uri": "https://localhost:8080/"
        },
        "id": "qTOljBhK17gq",
        "outputId": "b84fd2e8-e2d2-4e57-fad0-217ec02b48f1"
      },
      "execution_count": null,
      "outputs": [
        {
          "output_type": "stream",
          "name": "stdout",
          "text": [
            "Drive already mounted at /content/drive; to attempt to forcibly remount, call drive.mount(\"/content/drive\", force_remount=True).\n"
          ]
        }
      ]
    },
    {
      "cell_type": "code",
      "execution_count": null,
      "metadata": {
        "id": "0ky6YuRfEls6"
      },
      "outputs": [],
      "source": [
        "#Relevant Libraries Import\n",
        "\n",
        "import pandas as pd\n",
        "import matplotlib.pyplot as plt\n",
        "import numpy as np\n",
        "from sklearn.model_selection import train_test_split\n",
        "import os\n",
        "import random\n",
        "from sklearn.linear_model import LogisticRegression\n",
        "from sklearn.metrics import classification_report, accuracy_score\n",
        "import joblib\n",
        "import os\n",
        "import pandas as pd\n",
        "from sklearn.feature_extraction.text import TfidfVectorizer\n",
        "\n",
        "#import shap\n",
        "#%matplotlib inline\n",
        "from sklearn.metrics import confusion_matrix\n",
        "#from sklearn.metrics import ConfusionMatrixDisplay\n",
        "from sklearn import metrics\n",
        "#from sklearn.metrics import ConfusionMatrixDisplay\n",
        "from sklearn.metrics import accuracy_score , recall_score, precision_score, f1_score\n",
        "\n",
        "\n",
        "from sklearn.preprocessing import LabelEncoder\n",
        "le = LabelEncoder()\n",
        "\n",
        "\n",
        "import seaborn as sns\n",
        "\n",
        "from bs4 import BeautifulSoup\n",
        "import re\n",
        "from nltk.corpus import stopwords\n",
        "from nltk.tokenize import word_tokenize\n",
        "from sklearn.tree import DecisionTreeClassifier\n",
        "from sklearn.linear_model import LogisticRegression\n",
        "from sklearn.svm import SVC\n",
        "from sklearn.neighbors import KNeighborsClassifier\n",
        "from sklearn.naive_bayes import GaussianNB\n",
        "from sklearn.ensemble import VotingClassifier\n",
        "from sklearn import model_selection\n",
        "from sklearn.metrics import confusion_matrix\n",
        "from sklearn. preprocessing import StandardScaler\n",
        "from sklearn.model_selection import train_test_split\n",
        "from sklearn.ensemble import RandomForestClassifier\n",
        "\n",
        "import xgboost\n",
        "from xgboost import XGBClassifier\n",
        "from sklearn.ensemble import AdaBoostClassifier\n",
        "from sklearn.neural_network import MLPClassifier\n"
      ]
    },
    {
      "cell_type": "code",
      "source": [
        "\n",
        "file_path = '/content/drive/MyDrive/Mediatec solution/Resume/Resume.csv'\n",
        "df = pd.read_csv(file_path)\n",
        "\n",
        "\n"
      ],
      "metadata": {
        "id": "HULCpqryEu2C"
      },
      "execution_count": null,
      "outputs": []
    },
    {
      "cell_type": "markdown",
      "source": [
        "# **Data Exploration and Preprocessing**"
      ],
      "metadata": {
        "id": "8Jt09zikBDxj"
      }
    },
    {
      "cell_type": "code",
      "source": [
        "df.head()"
      ],
      "metadata": {
        "colab": {
          "base_uri": "https://localhost:8080/",
          "height": 206
        },
        "id": "wR5PWlgfEuzP",
        "outputId": "4d52d920-52f5-4746-ab48-85395284f28a"
      },
      "execution_count": null,
      "outputs": [
        {
          "output_type": "execute_result",
          "data": {
            "text/plain": [
              "         ID                                         Resume_str  \\\n",
              "0  16852973           HR ADMINISTRATOR/MARKETING ASSOCIATE\\...   \n",
              "1  22323967           HR SPECIALIST, US HR OPERATIONS      ...   \n",
              "2  33176873           HR DIRECTOR       Summary      Over 2...   \n",
              "3  27018550           HR SPECIALIST       Summary    Dedica...   \n",
              "4  17812897           HR MANAGER         Skill Highlights  ...   \n",
              "\n",
              "                                         Resume_html Category  \n",
              "0  <div class=\"fontsize fontface vmargins hmargin...       HR  \n",
              "1  <div class=\"fontsize fontface vmargins hmargin...       HR  \n",
              "2  <div class=\"fontsize fontface vmargins hmargin...       HR  \n",
              "3  <div class=\"fontsize fontface vmargins hmargin...       HR  \n",
              "4  <div class=\"fontsize fontface vmargins hmargin...       HR  "
            ],
            "text/html": [
              "\n",
              "  <div id=\"df-d48331c6-2d3c-4012-807a-8fa7a06d198f\" class=\"colab-df-container\">\n",
              "    <div>\n",
              "<style scoped>\n",
              "    .dataframe tbody tr th:only-of-type {\n",
              "        vertical-align: middle;\n",
              "    }\n",
              "\n",
              "    .dataframe tbody tr th {\n",
              "        vertical-align: top;\n",
              "    }\n",
              "\n",
              "    .dataframe thead th {\n",
              "        text-align: right;\n",
              "    }\n",
              "</style>\n",
              "<table border=\"1\" class=\"dataframe\">\n",
              "  <thead>\n",
              "    <tr style=\"text-align: right;\">\n",
              "      <th></th>\n",
              "      <th>ID</th>\n",
              "      <th>Resume_str</th>\n",
              "      <th>Resume_html</th>\n",
              "      <th>Category</th>\n",
              "    </tr>\n",
              "  </thead>\n",
              "  <tbody>\n",
              "    <tr>\n",
              "      <th>0</th>\n",
              "      <td>16852973</td>\n",
              "      <td>HR ADMINISTRATOR/MARKETING ASSOCIATE\\...</td>\n",
              "      <td>&lt;div class=\"fontsize fontface vmargins hmargin...</td>\n",
              "      <td>HR</td>\n",
              "    </tr>\n",
              "    <tr>\n",
              "      <th>1</th>\n",
              "      <td>22323967</td>\n",
              "      <td>HR SPECIALIST, US HR OPERATIONS      ...</td>\n",
              "      <td>&lt;div class=\"fontsize fontface vmargins hmargin...</td>\n",
              "      <td>HR</td>\n",
              "    </tr>\n",
              "    <tr>\n",
              "      <th>2</th>\n",
              "      <td>33176873</td>\n",
              "      <td>HR DIRECTOR       Summary      Over 2...</td>\n",
              "      <td>&lt;div class=\"fontsize fontface vmargins hmargin...</td>\n",
              "      <td>HR</td>\n",
              "    </tr>\n",
              "    <tr>\n",
              "      <th>3</th>\n",
              "      <td>27018550</td>\n",
              "      <td>HR SPECIALIST       Summary    Dedica...</td>\n",
              "      <td>&lt;div class=\"fontsize fontface vmargins hmargin...</td>\n",
              "      <td>HR</td>\n",
              "    </tr>\n",
              "    <tr>\n",
              "      <th>4</th>\n",
              "      <td>17812897</td>\n",
              "      <td>HR MANAGER         Skill Highlights  ...</td>\n",
              "      <td>&lt;div class=\"fontsize fontface vmargins hmargin...</td>\n",
              "      <td>HR</td>\n",
              "    </tr>\n",
              "  </tbody>\n",
              "</table>\n",
              "</div>\n",
              "    <div class=\"colab-df-buttons\">\n",
              "\n",
              "  <div class=\"colab-df-container\">\n",
              "    <button class=\"colab-df-convert\" onclick=\"convertToInteractive('df-d48331c6-2d3c-4012-807a-8fa7a06d198f')\"\n",
              "            title=\"Convert this dataframe to an interactive table.\"\n",
              "            style=\"display:none;\">\n",
              "\n",
              "  <svg xmlns=\"http://www.w3.org/2000/svg\" height=\"24px\" viewBox=\"0 -960 960 960\">\n",
              "    <path d=\"M120-120v-720h720v720H120Zm60-500h600v-160H180v160Zm220 220h160v-160H400v160Zm0 220h160v-160H400v160ZM180-400h160v-160H180v160Zm440 0h160v-160H620v160ZM180-180h160v-160H180v160Zm440 0h160v-160H620v160Z\"/>\n",
              "  </svg>\n",
              "    </button>\n",
              "\n",
              "  <style>\n",
              "    .colab-df-container {\n",
              "      display:flex;\n",
              "      gap: 12px;\n",
              "    }\n",
              "\n",
              "    .colab-df-convert {\n",
              "      background-color: #E8F0FE;\n",
              "      border: none;\n",
              "      border-radius: 50%;\n",
              "      cursor: pointer;\n",
              "      display: none;\n",
              "      fill: #1967D2;\n",
              "      height: 32px;\n",
              "      padding: 0 0 0 0;\n",
              "      width: 32px;\n",
              "    }\n",
              "\n",
              "    .colab-df-convert:hover {\n",
              "      background-color: #E2EBFA;\n",
              "      box-shadow: 0px 1px 2px rgba(60, 64, 67, 0.3), 0px 1px 3px 1px rgba(60, 64, 67, 0.15);\n",
              "      fill: #174EA6;\n",
              "    }\n",
              "\n",
              "    .colab-df-buttons div {\n",
              "      margin-bottom: 4px;\n",
              "    }\n",
              "\n",
              "    [theme=dark] .colab-df-convert {\n",
              "      background-color: #3B4455;\n",
              "      fill: #D2E3FC;\n",
              "    }\n",
              "\n",
              "    [theme=dark] .colab-df-convert:hover {\n",
              "      background-color: #434B5C;\n",
              "      box-shadow: 0px 1px 3px 1px rgba(0, 0, 0, 0.15);\n",
              "      filter: drop-shadow(0px 1px 2px rgba(0, 0, 0, 0.3));\n",
              "      fill: #FFFFFF;\n",
              "    }\n",
              "  </style>\n",
              "\n",
              "    <script>\n",
              "      const buttonEl =\n",
              "        document.querySelector('#df-d48331c6-2d3c-4012-807a-8fa7a06d198f button.colab-df-convert');\n",
              "      buttonEl.style.display =\n",
              "        google.colab.kernel.accessAllowed ? 'block' : 'none';\n",
              "\n",
              "      async function convertToInteractive(key) {\n",
              "        const element = document.querySelector('#df-d48331c6-2d3c-4012-807a-8fa7a06d198f');\n",
              "        const dataTable =\n",
              "          await google.colab.kernel.invokeFunction('convertToInteractive',\n",
              "                                                    [key], {});\n",
              "        if (!dataTable) return;\n",
              "\n",
              "        const docLinkHtml = 'Like what you see? Visit the ' +\n",
              "          '<a target=\"_blank\" href=https://colab.research.google.com/notebooks/data_table.ipynb>data table notebook</a>'\n",
              "          + ' to learn more about interactive tables.';\n",
              "        element.innerHTML = '';\n",
              "        dataTable['output_type'] = 'display_data';\n",
              "        await google.colab.output.renderOutput(dataTable, element);\n",
              "        const docLink = document.createElement('div');\n",
              "        docLink.innerHTML = docLinkHtml;\n",
              "        element.appendChild(docLink);\n",
              "      }\n",
              "    </script>\n",
              "  </div>\n",
              "\n",
              "\n",
              "<div id=\"df-e0bd01ae-622e-4254-875a-10136dc22c97\">\n",
              "  <button class=\"colab-df-quickchart\" onclick=\"quickchart('df-e0bd01ae-622e-4254-875a-10136dc22c97')\"\n",
              "            title=\"Suggest charts\"\n",
              "            style=\"display:none;\">\n",
              "\n",
              "<svg xmlns=\"http://www.w3.org/2000/svg\" height=\"24px\"viewBox=\"0 0 24 24\"\n",
              "     width=\"24px\">\n",
              "    <g>\n",
              "        <path d=\"M19 3H5c-1.1 0-2 .9-2 2v14c0 1.1.9 2 2 2h14c1.1 0 2-.9 2-2V5c0-1.1-.9-2-2-2zM9 17H7v-7h2v7zm4 0h-2V7h2v10zm4 0h-2v-4h2v4z\"/>\n",
              "    </g>\n",
              "</svg>\n",
              "  </button>\n",
              "\n",
              "<style>\n",
              "  .colab-df-quickchart {\n",
              "      --bg-color: #E8F0FE;\n",
              "      --fill-color: #1967D2;\n",
              "      --hover-bg-color: #E2EBFA;\n",
              "      --hover-fill-color: #174EA6;\n",
              "      --disabled-fill-color: #AAA;\n",
              "      --disabled-bg-color: #DDD;\n",
              "  }\n",
              "\n",
              "  [theme=dark] .colab-df-quickchart {\n",
              "      --bg-color: #3B4455;\n",
              "      --fill-color: #D2E3FC;\n",
              "      --hover-bg-color: #434B5C;\n",
              "      --hover-fill-color: #FFFFFF;\n",
              "      --disabled-bg-color: #3B4455;\n",
              "      --disabled-fill-color: #666;\n",
              "  }\n",
              "\n",
              "  .colab-df-quickchart {\n",
              "    background-color: var(--bg-color);\n",
              "    border: none;\n",
              "    border-radius: 50%;\n",
              "    cursor: pointer;\n",
              "    display: none;\n",
              "    fill: var(--fill-color);\n",
              "    height: 32px;\n",
              "    padding: 0;\n",
              "    width: 32px;\n",
              "  }\n",
              "\n",
              "  .colab-df-quickchart:hover {\n",
              "    background-color: var(--hover-bg-color);\n",
              "    box-shadow: 0 1px 2px rgba(60, 64, 67, 0.3), 0 1px 3px 1px rgba(60, 64, 67, 0.15);\n",
              "    fill: var(--button-hover-fill-color);\n",
              "  }\n",
              "\n",
              "  .colab-df-quickchart-complete:disabled,\n",
              "  .colab-df-quickchart-complete:disabled:hover {\n",
              "    background-color: var(--disabled-bg-color);\n",
              "    fill: var(--disabled-fill-color);\n",
              "    box-shadow: none;\n",
              "  }\n",
              "\n",
              "  .colab-df-spinner {\n",
              "    border: 2px solid var(--fill-color);\n",
              "    border-color: transparent;\n",
              "    border-bottom-color: var(--fill-color);\n",
              "    animation:\n",
              "      spin 1s steps(1) infinite;\n",
              "  }\n",
              "\n",
              "  @keyframes spin {\n",
              "    0% {\n",
              "      border-color: transparent;\n",
              "      border-bottom-color: var(--fill-color);\n",
              "      border-left-color: var(--fill-color);\n",
              "    }\n",
              "    20% {\n",
              "      border-color: transparent;\n",
              "      border-left-color: var(--fill-color);\n",
              "      border-top-color: var(--fill-color);\n",
              "    }\n",
              "    30% {\n",
              "      border-color: transparent;\n",
              "      border-left-color: var(--fill-color);\n",
              "      border-top-color: var(--fill-color);\n",
              "      border-right-color: var(--fill-color);\n",
              "    }\n",
              "    40% {\n",
              "      border-color: transparent;\n",
              "      border-right-color: var(--fill-color);\n",
              "      border-top-color: var(--fill-color);\n",
              "    }\n",
              "    60% {\n",
              "      border-color: transparent;\n",
              "      border-right-color: var(--fill-color);\n",
              "    }\n",
              "    80% {\n",
              "      border-color: transparent;\n",
              "      border-right-color: var(--fill-color);\n",
              "      border-bottom-color: var(--fill-color);\n",
              "    }\n",
              "    90% {\n",
              "      border-color: transparent;\n",
              "      border-bottom-color: var(--fill-color);\n",
              "    }\n",
              "  }\n",
              "</style>\n",
              "\n",
              "  <script>\n",
              "    async function quickchart(key) {\n",
              "      const quickchartButtonEl =\n",
              "        document.querySelector('#' + key + ' button');\n",
              "      quickchartButtonEl.disabled = true;  // To prevent multiple clicks.\n",
              "      quickchartButtonEl.classList.add('colab-df-spinner');\n",
              "      try {\n",
              "        const charts = await google.colab.kernel.invokeFunction(\n",
              "            'suggestCharts', [key], {});\n",
              "      } catch (error) {\n",
              "        console.error('Error during call to suggestCharts:', error);\n",
              "      }\n",
              "      quickchartButtonEl.classList.remove('colab-df-spinner');\n",
              "      quickchartButtonEl.classList.add('colab-df-quickchart-complete');\n",
              "    }\n",
              "    (() => {\n",
              "      let quickchartButtonEl =\n",
              "        document.querySelector('#df-e0bd01ae-622e-4254-875a-10136dc22c97 button');\n",
              "      quickchartButtonEl.style.display =\n",
              "        google.colab.kernel.accessAllowed ? 'block' : 'none';\n",
              "    })();\n",
              "  </script>\n",
              "</div>\n",
              "\n",
              "    </div>\n",
              "  </div>\n"
            ],
            "application/vnd.google.colaboratory.intrinsic+json": {
              "type": "dataframe",
              "variable_name": "df",
              "summary": "{\n  \"name\": \"df\",\n  \"rows\": 2484,\n  \"fields\": [\n    {\n      \"column\": \"ID\",\n      \"properties\": {\n        \"dtype\": \"number\",\n        \"std\": 21457345,\n        \"min\": 3547447,\n        \"max\": 99806115,\n        \"num_unique_values\": 2484,\n        \"samples\": [\n          99244405,\n          17562754,\n          30311725\n        ],\n        \"semantic_type\": \"\",\n        \"description\": \"\"\n      }\n    },\n    {\n      \"column\": \"Resume_str\",\n      \"properties\": {\n        \"dtype\": \"string\",\n        \"num_unique_values\": 2482,\n        \"samples\": [\n          \"         INFORMATION TECHNOLOGY SPECIALIST(DISCOUNTPCFIX)       Summary     I am obsessed with technology. It's power to change everything. Technology fuels my passion and commitment to helping organizations do what they set out to. When I engage, I bring fresh ideas that help your team galvanize performance. Refine your strategy. Spark new energy. \\nThe future\\u2014and how we get there\\u2014depends on those who build, connect, create and transform our world.  Accomplished with over 10 years of information technology support experience.  Highly articulate Capable experienced installing and updating hardware and software systems for users. Known for effectively optimizing systems to meet changing demands, enhancing collaboration and improving security.  Experienced Operations Analyst with first-rate skills in organizing, problem solving and project management. Ready to apply experience and abilities to take on new professional challenges.  Passionate and driven professional with remarkable analytical and problem solving skills.  Expert quality assurance tester offering five years of experience in detailed technical and system specifications.  Provides a collaborative style and has well-developed communication skills. Seeking a role in test reporting and defect resolution.  Well-rounded team player with dynamic written and verbal communication skills.  Hardworking and resourceful team player.  History of going above and beyond to achieve notable results.  Offering excellent blend of technical aptitude and creative ability. Inspires design teams with engaging management techniques and innovative thinking. Resourceful Technical Support Engineer polished in restoring system functionality by quickly assessing and resolving diverse hardware and software problems.       Skills          Issue escalation  Reporting and analysis  Quality control  Schematic understanding  Critical thinking  Data management  Network Administration  Experience in leadership  Improvement plan knowledge  Supervision  Hardware repair  Computer configurations  System upgrades  New program installations  Organizational leadership  Troubleshooting and Maintenance  Equipment repair  Power and hand tool use  Troubleshooting and repairs  Preventative maintenance  Telecommunications systems  Component repairs  Multitasking  Part inspections  Friendly, positive attitude  LAN and WAN configurations      Server and System Administration  End-User Training  Program installations  Software testing  Server improvements  Data backups  Project management  Security technologies  Network configuration  Time management  Active Directory knowledge  Cybersecurity analysis  System Administration  Microsoft Office  MS Office  Apple iOS Technician  Help desk assistance  Application software testing  Mechanical abilities  Information Systems Security Professional  Advanced knowledge of Windows OS  Advanced knowledge of Google Chrome OS  Soldering  Database management  Technical knowledge of server system softwares  Servers, storage systems, network equipment, PCs or notebooks of any brands.            Experience      Information Technology Specialist(Discountpcfix)   |   11/2011   -   Current    Company Name    -    City  ,   State       Assisted client with new computer and network equipment purchases.  Updated or installed software for customers to ensure computer efficiency.  Checked in computers and performed diagnostics for repair.  Backed up data each evening, helping alleviate lost information following malware incident.  Updated software versions with patches and new installations to close security loopholes and protect users.  Identified hardware issues caused by component failures using approved diagnostic tools.  Installed over motherboards, processors and graphics cards.  Configured computers to network drivers and connected to printers and other peripheral equipment.  Upgraded laptops/desktops, improving speed and performance.  Fixed All Apple(iphone,imac,ipad,laptop) Products Screen damage.  Fixed any brand,Windows OS,Mac OS,Chrome OS products liquid damage.  Observed system functioning and entered commands to test different areas of operations.  Explained technology-related details in easy-to-understand terms to individuals from all walks of life and in various job positions.  Responded to assistance requests from users and directed individuals through basic troubleshooting tasks.  Reviewed current hardware and software configurations and recommended modifications to increase system speed.  Serviced and repaired equipment according to manufacturer guidelines.  Installed new systems and components according to service orders and manufacturer instructions.  Assessed and identified issues and quickly resolved to restore functionality.  Built and repaired computers according to schedule.  Installed, configured, and setup PCs in all stores for optimal operation and reporting.  Evaluated interfaces between hardware and software, testing performance requirements.  Studied complex technical issues and determined proper resolution methods.  Assisted with post-implementation troubleshooting of new applications and application upgrades.  Determined and alleviated hardware, software and network issues.  Installed and supported hardware and software, including desktops, servers and printers.  Identified operational and performance issues and worked with managers to resolve concerns.  Completed various reports and analyzed each report to decide where improvements could be made.  Recommended process and systems improvements such as changes to operations.  Updated hardware and software upon availability and supervised network to eliminate bottlenecks immediately.  Handled network configurations after hours and on weekends to alleviate downtime and maintain smooth operations.  Assisted customers with various types of technical issues via email, live chat and telephone.  Delivered local and remote Tier 1 IT support for hardware and software to company personnel.  Disassembled computer systems to troubleshoot and resolve hardware issues.  Increased overall company performance through improved IT uptime and cost reductions.         Quality Control Inspector Contractor   |   04/2019   -   Current    Company Name    -    City  ,   State       Conferred with scientific, engineering and technical personnel to resolve design, research and testing problems.  Worked with engineers to facilitate research and development testing, correct mechanical failures and generate technical specifications prior to release.  Developed and implemented best practices for defect prevention and continuous improvement.  Used specialized tools to take precise measurements of various aspects of samples.  Consulted with engineers to resolve quality, production and efficiency problems.  Wrote detailed reports outlining performance, quality and defect rates.  Completed non-destructive tests and visual inspections on a continuous basis.  Inspected quality of finished products, making minor repairs to meet project expectations.  Documented nonconformities immediately and recommended techniques for prompt resolution.  Completed non-destructive tests and visual inspections continuously.  Reviewed drawings and blueprints to determine appropriate level of inspection required.  Adhered to all safety protocols to minimize equipment damage and avoid injuries.  Assessed materials, parts and products for conformance with quality control requirements and production specifications.         Network Analyst   |   06/2016   -   05/2018    Company Name    -    City  ,   State       Identified operational and performance issues and worked with managers to resolve concerns.  Supporting of the following hardware types: servers, storage systems, network equipment, PCs ipad and notebooks of any brands.  Analyzed operational performance to identify pain points and provided actionable solutions to management.  Educated personnel on company policies to foster improved customer retention and increased revenue.  Technical knowledge of standard server system software (Linux, Windows, VMWare)  Drove revenue and customer retention by visiting corporate and franchise centers serving clients to educate staff on company policies and customer styling applications.  Wrote reports outlining results to facilitate management decision making.  Executed and monitored standards for user interfaces, page design and graphics development.  Provided senior technical support to both in-house staff and user departments for all network applications.  Monitored project budget through the careful assessment of resource usage and task management to ensure that costs were kept low.  Supported customers with password resets and account customization.  Recorded complaints, product deficiencies, returned orders and other customer documentation in system.  Supported customers having data connectivity issues, assisting with troubleshooting steps and rebooting of hardware.  Maintained composure and patience in face of difficult customer situations, applying de-escalation techniques and positive customer support.  Performed site evaluations, customer surveys and team audits.  Promoted continuous improvement for IT governance processes.  Spearheaded server infrastructure development, quality control, staging and production operations.         Quality Control Manager   |   07/2013   -   08/2015    Company Name    -    City  ,   State       Stayed well-informed of all company and federal regulations, which bolstered compliance of all corporate processes.  Used creative and professional policy to find solutions to issues while diminishing conflicts.  Handled all scheduling procedures for the department and directed team members in setting and achieving goals.  Observed customer specifications by monitoring the quality control of finished products.         Education and Training      The Federal Polytechnic, Ado-Ekiti    -    City  ,  State      |    Associate of Science    Science Technology  ,   2003          Phoenix East Aviation    -    City  ,  State      |    F.A.A  Aircraft Dispatcher License    Aviation  ,   2014          University Of Colorado At Boulder    -    City        |    Certificate    Cybersecurity Policy For Aviation And Internet   ,   07/2020          GOOGLE I.T SUPPORT    -    City        |    Certificate      03/2021     Completed professional Course in:   IT Security: Defense against the digital dark arts  Operating System and You: Becoming a power user  The Bits and Bytes of Computer Networking  System Administration and IT Infrastructure Service  Technical Support Fundamentals     \",\n          \"         BUSINESS DEVELOPMENT DIRECTOR       Summary     I collaborate with multiple stakeholders to determine audience needs, quickly developing strategic plans that align with my clients business priorities and strategies.       Experience      Business Development Director   05/1997   to   Current     Company Name   City  ,   State      Producing measurable results for my clients by designing unique engagement initiatives for employees, sales channel partners and consumers groups. Sales of performance improvement products, most being intangible services to Fortune 500 clients. Success at discovering and growing my business with customers who have the potential to spend more than $1 million with me each year.   I have designed innovative solutions, customized to each customers various objectives and end result needs.  Managing my internal teams to develop, design and operate complex custom projects ranging in value at least $150,000 to millions.  Titles called on include the entire C suite, CEO, COO, CFO, CMO, President, EVP's of Marketing, Sales, Human Resources & Finance.  Define business issues to improve revenue and penetrating existing accounts and opening new.  Sold 17 new accounts while in current position, managed sales volume and profit margin with long sales cycle.  Managed and hired staff of 4 to work with my major global account travel & meetings business over 8 years.  Total book of business constantly over $2.5 million each year.  Nearly twice the entertainment activity of other BDD's with similar tenure.  Achieved over $6 million in sales twice, becoming a trusted partner to my clients, customers want me to Win!          Account Territory & District Sales Manager / National Account Sales   08/1989   to   04/1997     Company Name   City  ,   State       Responsible for growth of distributor sales volume, product mix and motivation of DSR sales forces.  Developed my own custom local training and marketing materials, which were later adopted by the Nestle corporate.  Distributor and chain accounts accounted for over $11 million in sales.  Increased my chain accounts by over 75% while with national accounts.  Created sales forecasts, developed budgets, strategic plans and managed entire regional office staff. Working with my team we grew business at Nestle largest US account by nearly double.  Surpassed sales, budget goals every year as manager and twice led company nationally in new product introductions.  District sales grew from $16 million to over $22 million as district manager. Hired five salespeople and 4 direct reports were promoted, managed up to eight account managers at a time.  Developed new reports, marketing and promotional strategies for the field. Designed account reviews process, management and field training programs for the entire company.  Sold small business owners and managed distributor sales accounts, using strategic planning, innovative programming and by cultivating strong personal relationships. Took area territory sales from $500,000 to $2.9 million, with a mature company in an industry with an average annual increase of only 3-5%.          Financial Operations Executive and Department Merchandising Manager   04/1988   to   08/1989     Company Name   City  ,   State     Financial Operations Executive for the South Bend store. Volunteered to be merchandise manager for the stores largest department. While in this role the department had the highest per foot sales volume of any department in the entire corporation during the 4th quarter of 1988.        Accomplishments      4 times President Achievement Guild Award winner, award for sales volume and profit.  3 times President Achievement Award winner, award for sales volume and profit.  4 times Achievement Guild winner, for leadership in 3 year running combined volume.  Top travel and meetings sales several times since with BIW.  National sales contest \\\"the 1993 Superbowl\\\".  Twice awarded \\\"The Over Achiever of the Year\\\" by my most profitable direct customer.  Reviewed consistently by management throughout career as \\\"Outstanding or Exceeding Expectations\\\".  College: elected to executive positions with both Finance Club and Resident Housing Association.        Skills     Sales, Business Development, Distributor Sales, Territory Sales, District Sales, Sales of Solutions, Sales Teams, Sales Accounts, National Accounts, Sales Management, Strategic Accounts, Sales Promotions, Travel & Meeting Sales, Technology Application Sales, Clients Management, Marketing, Budget, Budgets, Forecasts, Promotional, Travel & Meeting Operations, Strategic Planning, Training, Training Development, Financial Operations, Merchandising, Corporate Operations, Employee Engagement, Managing Existing Accounts, Forecasting, Human Resources, Finding New Accounts, Relationship Building and Strategic Direction.       Education      Bachelor of Business Administration  :   Finance, General Business   1988       Western Michigan University   City  ,   State  ,   US      Earned over 85% of all educational/living costs. Jobs worked while in college, industrial heavy construction, excelled at several sales roles including at direct sales of home goods. While in direct sales I won a national trip and was ranked in the top 10 in the country in sales.  Started two successful on campus businesses. Member of the varsity division I football team for 4 years.         Organizations     IMEX, Milford Memories Planning Board, Huron Valley Youth Baseball President/Treasurer/Director of Travel Baseball, Lakeland Milford Travel Secretary and Milford High School baseball instructor.    \",\n          \"           ENGINEERING MANAGER         Professional Summary    Experienced product development Engineer and manager able to collaborate with cross functional team as well as customers and sales to bring brand new offerings to new markets. Skilled at managing cross functional team for continuous improvements and meeting project deadlines. Offering 6 years of experience in the field.      Skills          Microsoft Office  Microsoft Project  Product development  Quality  Research  Six Sigma Green Belt  Solid Works  Visio  Prioritization  Personnel management  Critical thinking skills  Team management  Analyst, Visio  Agency  Consulting  Cost analysis  Critical thinking  Designing  Dialysis  Direction      Develop drug  Functional  IIa  ISO  Leadership  Market and development  Microsoft Office  Microsoft Project  Personnel management  Design process  Product development  Product management  Quality  Researching  Research  Sales  Six Sigma  Solid Works  Team management  Validation            Work History      Engineering Manager  ,     03/2018   to   Current       City  ,   State      Create and maintain Technical Files per MDR requirements as well as attaining 510k on legacy products.  Assess testing gaps of legacy products and design creep.  Experienced in working with multiple departments.  Experienced in training and leading engineers in order to investigate field complaints, Gap analysis and building Technical files/DHF.  Experienced in leading team of engineers to lead all aspects of design process, including regulatory needs per market and development per design control.  Tasked to create test plan and analysis of existing Class I, II and III products and Testing per latest applicable requirements.  Trained team in conducting project related cost analysis, test gap analysis and researching ISO/EN ISO/ASTM requirements.  Leading companywide EU MDR product transfer and testing on Infusion products, Dialysis products and standalone products.  Provided technical direction on MDR and 510k related projects and initiatives to other engineers and technicians.         Project Engineer II  ,     03/2017   to   03/2018     Company Name   \\u2013   City  ,   State      Working with product management, Clinical Analyst, sales, and regulatory to determine optimal design inputs for new products.  Completed design transfer and attained 510k on Class IIb device in under year.  Lead cross functional team including consulting agency in order to Develop drug device combination product and research optimal process using DOE in order for mass production.  Leading all aspects of design control from designing on solid works to process validations and V&V Testing.  Analyzing and resolving field failures through investigation and testing.  Experienced in working with international regulatory teams in providing information for foreign registration.  Responsible for gap analysis and test planning in order to create and meet deadline for projects.  Experienced with reviewing and approving validation activities as well as provide support to staff to achieve project milestones.  Experienced working with cross functional teams to complete projects and tasks.         Engineer I  ,     06/2013   to   03/2017     Company Name   \\u2013   City  ,   State      Worked to bring Drug Device Combination product to mass production.  Completed new Class IIa product and completed project in 10 months.  Completing CAPAs and resolving field failures by research and testing.  Developed new testing methods and designed tooling for new testing.  Experienced in using Injection Molding Machine to Create and Test Prototypes.  Found cheaper and more responsible vendor for MRI related testing.         Education      Bachelor of Science  :   Mechanical Engineering  ,   05/2013     Temple University   -   City  ,   State           Certifications\\nManagement Leadership Certification and Six Sigma Greenbelt certification              Work History      Engineering Manager  ,   03/2018   to   Current       City  ,   State      Create and maintain Technical Files per MDR requirements as well as attaining 510k on legacy products.  Assess testing gaps of legacy products and design creep.  Experienced in working with multiple departments.  Experienced in training and leading engineers in order to investigate field complaints, Gap analysis and building Technical files/DHF.  Experienced in leading team of engineers to lead all aspects of design process, including regulatory needs per market and development per design control.  Tasked to create test plan and analysis of existing Class I, II and III products and Testing per latest applicable requirements.  Trained team in conducting project related cost analysis, test gap analysis and researching ISO/EN ISO/ASTM requirements.  Leading companywide EU MDR product transfer and testing on Infusion products, Dialysis products and standalone products.  Provided technical direction on MDR and 510k related projects and initiatives to other engineers and technicians.         Project Engineer II  ,   03/2017   to   03/2018     Company Name   \\u2013   City  ,   State      Working with product management, Clinical Analyst, sales, and regulatory to determine optimal design inputs for new products.  Completed design transfer and attained 510k on Class IIb device in under year.  Lead cross functional team including consulting agency in order to Develop drug device combination product and research optimal process using DOE in order for mass production.  Leading all aspects of design control from designing on solid works to process validations and V&V Testing.  Analyzing and resolving field failures through investigation and testing.  Experienced in working with international regulatory teams in providing information for foreign registration.  Responsible for gap analysis and test planning in order to create and meet deadline for projects.  Experienced with reviewing and approving validation activities as well as provide support to staff to achieve project milestones.  Experienced working with cross functional teams to complete projects and tasks.         Engineer I  ,   06/2013   to   03/2017     Company Name   \\u2013   City  ,   State      Worked to bring Drug Device Combination product to mass production.  Completed new Class IIa product and completed project in 10 months.  Completing CAPAs and resolving field failures by research and testing.  Developed new testing methods and designed tooling for new testing.  Experienced in using Injection Molding Machine to Create and Test Prototypes.  Found cheaper and more responsible vendor for MRI related testing.         Skills     Microsoft Office  Microsoft Project  Product development  Quality  Research  Six Sigma Green Belt  Solid Works  Visio  Prioritization  Personnel management  Critical thinking skills  Team management,  Analyst, agency, consulting, cost analysis, Critical thinking, Designing, Dialysis, direction, Develop drug, functional, IIa, ISO, Leadership, market and development, Microsoft Office, Microsoft Project, Personnel management, design process, Product development, product management, Quality, researching, Research, sales, Six Sigma, Solid Works, Team management, validation, Visio    \"\n        ],\n        \"semantic_type\": \"\",\n        \"description\": \"\"\n      }\n    },\n    {\n      \"column\": \"Resume_html\",\n      \"properties\": {\n        \"dtype\": \"string\",\n        \"num_unique_values\": 2482,\n        \"samples\": [\n          \"<div class=\\\"RNA skn-hdr3 fontsize fontface vmargins hmargins pagesize dynamicbg\\\" id=\\\"document\\\"> <div class=\\\"section nameSec firstsection\\\" id=\\\"SECTION_NAME5550d5fc-bc70-476b-a324-a96a5f8e4c39\\\"> <div class=\\\"paragraph PARAGRAPH_NAME firstparagraph\\\" id=\\\"PARAGRAPH_5550d5fc-bc70-476b-a324-a96a5f8e4c39_1_ac85099c-62cd-4861-9279-8510832b3240\\\"> <div class=\\\"name\\\" itemprop=\\\"name\\\"> <span class=\\\"field\\\" id=\\\"5550d5fc-bc70-476b-a324-a96a5f8e4c39FNAM1\\\"> </span> <span> </span> <span class=\\\"field\\\" id=\\\"5550d5fc-bc70-476b-a324-a96a5f8e4c39LNAM1\\\"> INFORMATION TECHNOLOGY SPECIALIST(DISCOUNTPCFIX)</span> </div> </div> </div> <div class=\\\"section\\\" id=\\\"SECTION_SUMM8fa0a5f9-217d-41cc-b98a-09b71ea76797\\\"> <div class=\\\"heading\\\"> <div class=\\\"sectiontitle\\\" id=\\\"SECTNAME_SUMM8fa0a5f9-217d-41cc-b98a-09b71ea76797\\\"> Summary</div> </div> <div class=\\\"paragraph firstparagraph\\\" id=\\\"PARAGRAPH_8fa0a5f9-217d-41cc-b98a-09b71ea76797_1_b1625863-b3c3-4df6-a204-60ccb0054f3f\\\"> <div class=\\\"field singlecolumn\\\" id=\\\"8fa0a5f9-217d-41cc-b98a-09b71ea76797FRFM1\\\"> <p> I am obsessed with technology. It's power to change everything. Technology fuels my passion and commitment to helping organizations do what they set out to. When I engage, I bring fresh ideas that help your team galvanize performance. Refine your strategy. Spark new energy.<br/> \\nThe future\\u2014and how we get there\\u2014depends on those who build, connect, create and transform our world.</p> <p> Accomplished with over 10 years of information technology support experience.</p> <p> Highly articulate Capable experienced installing and updating hardware and software systems for users. Known for effectively optimizing systems to meet changing demands, enhancing collaboration and improving security.</p> <p> Experienced Operations Analyst with first-rate skills in organizing, problem solving and project management. Ready to apply experience and abilities to take on new professional challenges.</p> <p> Passionate and driven professional with remarkable analytical and problem solving skills.</p> <p> Expert quality assurance tester offering five years of experience in detailed technical and system specifications.</p> <p> Provides a collaborative style and has well-developed communication skills. Seeking a role in test reporting and defect resolution.</p> <p> Well-rounded team player with dynamic written and verbal communication skills.</p> <p> Hardworking and resourceful team player.</p> <p> History of going above and beyond to achieve notable results.</p> <p> Offering excellent blend of technical aptitude and creative ability. Inspires design teams with engaging management techniques and innovative thinking. Resourceful Technical Support Engineer polished in restoring system functionality by quickly assessing and resolving diverse hardware and software problems.</p> </div> </div> </div> <div class=\\\"section\\\" id=\\\"SECTION_HILT5097c9f6-be4d-4c96-87af-1703d29f3ed4\\\"> <div class=\\\"heading\\\"> <div class=\\\"sectiontitle\\\" id=\\\"SECTNAME_HILT5097c9f6-be4d-4c96-87af-1703d29f3ed4\\\"> Skills</div> </div> <div class=\\\"paragraph firstparagraph\\\" id=\\\"PARAGRAPH_5097c9f6-be4d-4c96-87af-1703d29f3ed4_1_9fc9ac29-6c45-ccc1-e402-f68d67a6ce51\\\"> <div class=\\\"singlecolumn maincolumn\\\"> <table class=\\\"twocol\\\"> <tbody> <tr> <td class=\\\"field twocol_1\\\" id=\\\"5097c9f6-be4d-4c96-87af-1703d29f3ed4SKC10\\\"> <ul> <li> Issue escalation</li> <li> Reporting and analysis</li> <li> Quality control</li> <li> Schematic understanding</li> <li> Critical thinking</li> <li> Data management</li> <li> Network Administration</li> <li> Experience in leadership</li> <li> Improvement plan knowledge</li> <li> Supervision</li> <li> Hardware repair</li> <li> Computer configurations</li> <li> System upgrades</li> <li> New program installations</li> <li> Organizational leadership</li> <li> Troubleshooting and Maintenance</li> <li> Equipment repair</li> <li> Power and hand tool use</li> <li> Troubleshooting and repairs</li> <li> Preventative maintenance</li> <li> Telecommunications systems</li> <li> Component repairs</li> <li> Multitasking</li> <li> Part inspections</li> <li> Friendly, positive attitude</li> <li> LAN and WAN configurations</li> </ul> </td> <td class=\\\"field twocol_2\\\" id=\\\"5097c9f6-be4d-4c96-87af-1703d29f3ed4SKC20\\\"> <ul> <li> Server and System Administration</li> <li> End-User Training</li> <li> Program installations</li> <li> Software testing</li> <li> Server improvements</li> <li> Data backups</li> <li> Project management</li> <li> Security technologies</li> <li> Network configuration</li> <li> Time management</li> <li> Active Directory knowledge</li> <li> Cybersecurity analysis</li> <li> System Administration</li> <li> Microsoft Office</li> <li> MS Office</li> <li> Apple iOS Technician</li> <li> Help desk assistance</li> <li> Application software testing</li> <li> Mechanical abilities</li> <li> Information Systems Security Professional</li> <li> Advanced knowledge of Windows OS</li> <li> Advanced knowledge of Google Chrome OS</li> <li> Soldering</li> <li> Database management</li> <li> Technical knowledge of server system softwares</li> <li> Servers, storage systems, network equipment, PCs or notebooks of any brands.</li> </ul> </td> </tr> </tbody> </table> </div> </div> </div> <div class=\\\"section\\\" id=\\\"SECTION_EXPRc16bd516-88f5-4d05-a0b1-689c93d7a610\\\"> <div class=\\\"heading\\\"> <div class=\\\"sectiontitle\\\" id=\\\"SECTNAME_EXPRc16bd516-88f5-4d05-a0b1-689c93d7a610\\\"> Experience</div> </div> <div class=\\\"paragraph firstparagraph\\\" id=\\\"PARAGRAPH_c16bd516-88f5-4d05-a0b1-689c93d7a610_1_c1bf6f2f-bff5-4a86-ae5b-879a7f9c292a\\\" itemscope=\\\"\\\" itemtype=\\\"https://schema.org/Organization\\\"> <div class=\\\"singlecolumn\\\"> <span class=\\\"paddedline\\\"> <span class=\\\"jobtitle\\\" id=\\\"c16bd516-88f5-4d05-a0b1-689c93d7a610JTIT1\\\"> Information Technology Specialist(Discountpcfix)</span> <span>  | </span> <span class=\\\"jobdates\\\" format=\\\"%m/%Y\\\" id=\\\"c16bd516-88f5-4d05-a0b1-689c93d7a610JSTD1\\\"> 11/2011</span> <span>  - </span> <span class=\\\"jobdates\\\" format=\\\"%m/%Y\\\" id=\\\"c16bd516-88f5-4d05-a0b1-689c93d7a610EDDT1\\\"> Current</span> </span> <span class=\\\"paddedline txt-bold\\\" itemscope=\\\"\\\" itemtype=\\\"https://schema.org/postalAddress\\\"> <span class=\\\"companyname\\\" id=\\\"c16bd516-88f5-4d05-a0b1-689c93d7a610COMP1\\\" itemprop=\\\"name\\\"> Company Name</span> <span> <span>  - </span> </span> <span class=\\\"joblocation jobcity\\\" id=\\\"c16bd516-88f5-4d05-a0b1-689c93d7a610JCIT1\\\" itemprop=\\\"addressLocality\\\"> City</span> <span> , </span> <span class=\\\"joblocation jobstate\\\" id=\\\"c16bd516-88f5-4d05-a0b1-689c93d7a610JSTA1\\\" itemprop=\\\"addressRegion\\\"> State</span> <span class=\\\"joblocation jobcountry\\\" id=\\\"c16bd516-88f5-4d05-a0b1-689c93d7a610JCNT1\\\"> </span> </span> <span class=\\\"jobline\\\" id=\\\"c16bd516-88f5-4d05-a0b1-689c93d7a610JDES1\\\" itemprop=\\\"description\\\"> <ul> <li> Assisted client with new computer and network equipment purchases.</li> <li> Updated or installed software for customers to ensure computer efficiency.</li> <li> Checked in computers and performed diagnostics for repair.</li> <li> Backed up data each evening, helping alleviate lost information following malware incident.</li> <li> Updated software versions with patches and new installations to close security loopholes and protect users.</li> <li> Identified hardware issues caused by component failures using approved diagnostic tools.</li> <li> Installed over motherboards, processors and graphics cards.</li> <li> Configured computers to network drivers and connected to printers and other peripheral equipment.</li> <li> Upgraded laptops/desktops, improving speed and performance.</li> <li> Fixed All Apple(iphone,imac,ipad,laptop) Products Screen damage.</li> <li> Fixed any brand,Windows OS,Mac OS,Chrome OS products liquid damage.</li> <li> Observed system functioning and entered commands to test different areas of operations.</li> <li> Explained technology-related details in easy-to-understand terms to individuals from all walks of life and in various job positions.</li> <li> Responded to assistance requests from users and directed individuals through basic troubleshooting tasks.</li> <li> Reviewed current hardware and software configurations and recommended modifications to increase system speed.</li> <li> Serviced and repaired equipment according to manufacturer guidelines.</li> <li> Installed new systems and components according to service orders and manufacturer instructions.</li> <li> Assessed and identified issues and quickly resolved to restore functionality.</li> <li> Built and repaired computers according to schedule.</li> <li> Installed, configured, and setup PCs in all stores for optimal operation and reporting.</li> <li> Evaluated interfaces between hardware and software, testing performance requirements.</li> <li> Studied complex technical issues and determined proper resolution methods.</li> <li> Assisted with post-implementation troubleshooting of new applications and application upgrades.</li> <li> Determined and alleviated hardware, software and network issues.</li> <li> Installed and supported hardware and software, including desktops, servers and printers.</li> <li> Identified operational and performance issues and worked with managers to resolve concerns.</li> <li> Completed various reports and analyzed each report to decide where improvements could be made.</li> <li> Recommended process and systems improvements such as changes to operations.</li> <li> Updated hardware and software upon availability and supervised network to eliminate bottlenecks immediately.</li> <li> Handled network configurations after hours and on weekends to alleviate downtime and maintain smooth operations.</li> <li> Assisted customers with various types of technical issues via email, live chat and telephone.</li> <li> Delivered local and remote Tier 1 IT support for hardware and software to company personnel.</li> <li> Disassembled computer systems to troubleshoot and resolve hardware issues.</li> <li> Increased overall company performance through improved IT uptime and cost reductions.</li> </ul> </span> </div> </div> <div class=\\\"paragraph\\\" id=\\\"PARAGRAPH_c16bd516-88f5-4d05-a0b1-689c93d7a610_2_50ce6831-7e0f-447d-a3fc-61036d2a57d9\\\" itemscope=\\\"\\\" itemtype=\\\"https://schema.org/Organization\\\"> <div class=\\\"singlecolumn\\\"> <span class=\\\"paddedline\\\"> <span class=\\\"jobtitle\\\" id=\\\"c16bd516-88f5-4d05-a0b1-689c93d7a610JTIT2\\\"> Quality Control Inspector Contractor</span> <span>  | </span> <span class=\\\"jobdates\\\" format=\\\"%m/%Y\\\" id=\\\"c16bd516-88f5-4d05-a0b1-689c93d7a610JSTD2\\\"> 04/2019</span> <span>  - </span> <span class=\\\"jobdates\\\" format=\\\"%m/%Y\\\" id=\\\"c16bd516-88f5-4d05-a0b1-689c93d7a610EDDT2\\\"> Current</span> </span> <span class=\\\"paddedline txt-bold\\\" itemscope=\\\"\\\" itemtype=\\\"https://schema.org/postalAddress\\\"> <span class=\\\"companyname\\\" id=\\\"c16bd516-88f5-4d05-a0b1-689c93d7a610COMP2\\\" itemprop=\\\"name\\\"> Company Name</span> <span> <span>  - </span> </span> <span class=\\\"joblocation jobcity\\\" id=\\\"c16bd516-88f5-4d05-a0b1-689c93d7a610JCIT2\\\" itemprop=\\\"addressLocality\\\"> City</span> <span> , </span> <span class=\\\"joblocation jobstate\\\" id=\\\"c16bd516-88f5-4d05-a0b1-689c93d7a610JSTA2\\\" itemprop=\\\"addressRegion\\\"> State</span> <span class=\\\"joblocation jobcountry\\\" id=\\\"c16bd516-88f5-4d05-a0b1-689c93d7a610JCNT2\\\"> </span> </span> <span class=\\\"jobline\\\" id=\\\"c16bd516-88f5-4d05-a0b1-689c93d7a610JDES2\\\" itemprop=\\\"description\\\"> <ul> <li> Conferred with scientific, engineering and technical personnel to resolve design, research and testing problems.</li> <li> Worked with engineers to facilitate research and development testing, correct mechanical failures and generate technical specifications prior to release.</li> <li> Developed and implemented best practices for defect prevention and continuous improvement.</li> <li> Used specialized tools to take precise measurements of various aspects of samples.</li> <li> Consulted with engineers to resolve quality, production and efficiency problems.</li> <li> Wrote detailed reports outlining performance, quality and defect rates.</li> <li> Completed non-destructive tests and visual inspections on a continuous basis.</li> <li> Inspected quality of finished products, making minor repairs to meet project expectations.</li> <li> Documented nonconformities immediately and recommended techniques for prompt resolution.</li> <li> Completed non-destructive tests and visual inspections continuously.</li> <li> Reviewed drawings and blueprints to determine appropriate level of inspection required.</li> <li> Adhered to all safety protocols to minimize equipment damage and avoid injuries.</li> <li> Assessed materials, parts and products for conformance with quality control requirements and production specifications.</li> </ul> </span> </div> </div> <div class=\\\"paragraph\\\" id=\\\"PARAGRAPH_c16bd516-88f5-4d05-a0b1-689c93d7a610_3_f9296837-feb0-4c87-abc1-66dabd9087ac\\\" itemscope=\\\"\\\" itemtype=\\\"https://schema.org/Organization\\\"> <div class=\\\"singlecolumn\\\"> <span class=\\\"paddedline\\\"> <span class=\\\"jobtitle\\\" id=\\\"c16bd516-88f5-4d05-a0b1-689c93d7a610JTIT3\\\"> Network Analyst</span> <span>  | </span> <span class=\\\"jobdates\\\" format=\\\"%m/%Y\\\" id=\\\"c16bd516-88f5-4d05-a0b1-689c93d7a610JSTD3\\\"> 06/2016</span> <span>  - </span> <span class=\\\"jobdates\\\" format=\\\"%m/%Y\\\" id=\\\"c16bd516-88f5-4d05-a0b1-689c93d7a610EDDT3\\\"> 05/2018</span> </span> <span class=\\\"paddedline txt-bold\\\" itemscope=\\\"\\\" itemtype=\\\"https://schema.org/postalAddress\\\"> <span class=\\\"companyname\\\" id=\\\"c16bd516-88f5-4d05-a0b1-689c93d7a610COMP3\\\" itemprop=\\\"name\\\"> Company Name</span> <span> <span>  - </span> </span> <span class=\\\"joblocation jobcity\\\" id=\\\"c16bd516-88f5-4d05-a0b1-689c93d7a610JCIT3\\\" itemprop=\\\"addressLocality\\\"> City</span> <span> , </span> <span class=\\\"joblocation jobstate\\\" id=\\\"c16bd516-88f5-4d05-a0b1-689c93d7a610JSTA3\\\" itemprop=\\\"addressRegion\\\"> State</span> <span class=\\\"joblocation jobcountry\\\" id=\\\"c16bd516-88f5-4d05-a0b1-689c93d7a610JCNT3\\\"> </span> </span> <span class=\\\"jobline\\\" id=\\\"c16bd516-88f5-4d05-a0b1-689c93d7a610JDES3\\\" itemprop=\\\"description\\\"> <ul> <li> Identified operational and performance issues and worked with managers to resolve concerns.</li> <li> Supporting of the following hardware types: servers, storage systems, network equipment, PCs ipad and notebooks of any brands.</li> <li> Analyzed operational performance to identify pain points and provided actionable solutions to management.</li> <li> Educated personnel on company policies to foster improved customer retention and increased revenue.</li> <li> Technical knowledge of standard server system software (Linux, Windows, VMWare)</li> <li> Drove revenue and customer retention by visiting corporate and franchise centers serving clients to educate staff on company policies and customer styling applications.</li> <li> Wrote reports outlining results to facilitate management decision making.</li> <li> Executed and monitored standards for user interfaces, page design and graphics development.</li> <li> Provided senior technical support to both in-house staff and user departments for all network applications.</li> <li> Monitored project budget through the careful assessment of resource usage and task management to ensure that costs were kept low.</li> <li> Supported customers with password resets and account customization.</li> <li> Recorded complaints, product deficiencies, returned orders and other customer documentation in system.</li> <li> Supported customers having data connectivity issues, assisting with troubleshooting steps and rebooting of hardware.</li> <li> Maintained composure and patience in face of difficult customer situations, applying de-escalation techniques and positive customer support.</li> <li> Performed site evaluations, customer surveys and team audits.</li> <li> Promoted continuous improvement for IT governance processes.</li> <li> Spearheaded server infrastructure development, quality control, staging and production operations.</li> </ul> </span> </div> </div> <div class=\\\"paragraph\\\" id=\\\"PARAGRAPH_c16bd516-88f5-4d05-a0b1-689c93d7a610_4_8635d1c3-f58e-4d33-a87b-ad847a7c7337\\\" itemscope=\\\"\\\" itemtype=\\\"https://schema.org/Organization\\\"> <div class=\\\"singlecolumn\\\"> <span class=\\\"paddedline\\\"> <span class=\\\"jobtitle\\\" id=\\\"c16bd516-88f5-4d05-a0b1-689c93d7a610JTIT4\\\"> Quality Control Manager</span> <span>  | </span> <span class=\\\"jobdates\\\" format=\\\"%m/%Y\\\" id=\\\"c16bd516-88f5-4d05-a0b1-689c93d7a610JSTD4\\\"> 07/2013</span> <span>  - </span> <span class=\\\"jobdates\\\" format=\\\"%m/%Y\\\" id=\\\"c16bd516-88f5-4d05-a0b1-689c93d7a610EDDT4\\\"> 08/2015</span> </span> <span class=\\\"paddedline txt-bold\\\" itemscope=\\\"\\\" itemtype=\\\"https://schema.org/postalAddress\\\"> <span class=\\\"companyname\\\" id=\\\"c16bd516-88f5-4d05-a0b1-689c93d7a610COMP4\\\" itemprop=\\\"name\\\"> Company Name</span> <span> <span>  - </span> </span> <span class=\\\"joblocation jobcity\\\" id=\\\"c16bd516-88f5-4d05-a0b1-689c93d7a610JCIT4\\\" itemprop=\\\"addressLocality\\\"> City</span> <span> , </span> <span class=\\\"joblocation jobstate\\\" id=\\\"c16bd516-88f5-4d05-a0b1-689c93d7a610JSTA4\\\" itemprop=\\\"addressRegion\\\"> State</span> <span class=\\\"joblocation jobcountry\\\" id=\\\"c16bd516-88f5-4d05-a0b1-689c93d7a610JCNT4\\\"> </span> </span> <span class=\\\"jobline\\\" id=\\\"c16bd516-88f5-4d05-a0b1-689c93d7a610JDES4\\\" itemprop=\\\"description\\\"> <ul> <li> Stayed well-informed of all company and federal regulations, which bolstered compliance of all corporate processes.</li> <li> Used creative and professional policy to find solutions to issues while diminishing conflicts.</li> <li> Handled all scheduling procedures for the department and directed team members in setting and achieving goals.</li> <li> Observed customer specifications by monitoring the quality control of finished products.</li> </ul> </span> </div> </div> </div> <div class=\\\"section\\\" id=\\\"SECTION_EDUC95e45d01-3d53-473f-b805-14cee808ebae\\\"> <div class=\\\"heading\\\"> <div class=\\\"sectiontitle\\\" id=\\\"SECTNAME_EDUC95e45d01-3d53-473f-b805-14cee808ebae\\\"> Education and Training</div> </div> <div class=\\\"paragraph firstparagraph\\\" id=\\\"PARAGRAPH_95e45d01-3d53-473f-b805-14cee808ebae_1_35f5f03a-98c1-408c-8fe8-23fc8e31363b\\\" itemscope=\\\"\\\" itemtype=\\\"https://schema.org/EducationalOrganization\\\"> <div class=\\\"singlecolumn\\\"> <span class=\\\"paddedline txt-bold\\\" itemprop=\\\"description\\\"> <span class=\\\"companyname companyname_educ\\\" id=\\\"95e45d01-3d53-473f-b805-14cee808ebaeSCHO1\\\" itemprop=\\\"name\\\"> The Federal Polytechnic, Ado-Ekiti</span> <span> <span>  - </span> </span> <span class=\\\"joblocation jobcity\\\" id=\\\"95e45d01-3d53-473f-b805-14cee808ebaeSCIT1\\\"> City</span> <span> ,</span> <span class=\\\"joblocation jobstate\\\" id=\\\"95e45d01-3d53-473f-b805-14cee808ebaeSSTA1\\\"> State</span> <span class=\\\"joblocation jobcountry\\\" id=\\\"95e45d01-3d53-473f-b805-14cee808ebaeSCNT1\\\"> </span> <span> <span>  | </span> </span> <span class=\\\"degree\\\" id=\\\"95e45d01-3d53-473f-b805-14cee808ebaeDGRE1\\\" itemprop=\\\"name\\\"> Associate of Science</span> </span> <span class=\\\"paddedline\\\"> <span class=\\\"programline\\\" id=\\\"95e45d01-3d53-473f-b805-14cee808ebaeSTUY1\\\"> Science Technology</span> <span> , </span> <span format=\\\"%m/%Y\\\" id=\\\"95e45d01-3d53-473f-b805-14cee808ebaeGRYR1\\\"> 2003</span> </span> <span class=\\\"field\\\" id=\\\"95e45d01-3d53-473f-b805-14cee808ebaeFRFM1\\\"> </span> </div> </div> <div class=\\\"paragraph\\\" id=\\\"PARAGRAPH_95e45d01-3d53-473f-b805-14cee808ebae_2_a2729674-384f-4d1c-958a-35b2563e76c4\\\" itemscope=\\\"\\\" itemtype=\\\"https://schema.org/EducationalOrganization\\\"> <div class=\\\"singlecolumn\\\"> <span class=\\\"paddedline txt-bold\\\" itemprop=\\\"description\\\"> <span class=\\\"companyname companyname_educ\\\" id=\\\"95e45d01-3d53-473f-b805-14cee808ebaeSCHO2\\\" itemprop=\\\"name\\\"> Phoenix East Aviation</span> <span> <span>  - </span> </span> <span class=\\\"joblocation jobcity\\\" id=\\\"95e45d01-3d53-473f-b805-14cee808ebaeSCIT2\\\"> City</span> <span> ,</span> <span class=\\\"joblocation jobstate\\\" id=\\\"95e45d01-3d53-473f-b805-14cee808ebaeSSTA2\\\"> State</span> <span class=\\\"joblocation jobcountry\\\" id=\\\"95e45d01-3d53-473f-b805-14cee808ebaeSCNT2\\\"> </span> <span> <span>  | </span> </span> <span class=\\\"degree\\\" id=\\\"95e45d01-3d53-473f-b805-14cee808ebaeDGRE2\\\" itemprop=\\\"name\\\"> F.A.A  Aircraft Dispatcher License</span> </span> <span class=\\\"paddedline\\\"> <span class=\\\"programline\\\" id=\\\"95e45d01-3d53-473f-b805-14cee808ebaeSTUY2\\\"> Aviation</span> <span> , </span> <span format=\\\"%m/%Y\\\" id=\\\"95e45d01-3d53-473f-b805-14cee808ebaeGRYR2\\\"> 2014</span> </span> <span class=\\\"field\\\" id=\\\"95e45d01-3d53-473f-b805-14cee808ebaeFRFM2\\\"> </span> </div> </div> <div class=\\\"paragraph\\\" id=\\\"PARAGRAPH_95e45d01-3d53-473f-b805-14cee808ebae_3_aadb2d22-49ea-47b0-8fe0-86d66a1003c0\\\" itemscope=\\\"\\\" itemtype=\\\"https://schema.org/EducationalOrganization\\\"> <div class=\\\"singlecolumn\\\"> <span class=\\\"paddedline txt-bold\\\" itemprop=\\\"description\\\"> <span class=\\\"companyname companyname_educ\\\" id=\\\"95e45d01-3d53-473f-b805-14cee808ebaeSCHO3\\\" itemprop=\\\"name\\\"> University Of Colorado At Boulder</span> <span> <span>  - </span> </span> <span class=\\\"joblocation jobcity\\\" id=\\\"95e45d01-3d53-473f-b805-14cee808ebaeSCIT3\\\"> City</span> <span class=\\\"joblocation jobstate\\\" id=\\\"95e45d01-3d53-473f-b805-14cee808ebaeSSTA3\\\"> </span> <span class=\\\"joblocation jobcountry\\\" id=\\\"95e45d01-3d53-473f-b805-14cee808ebaeSCNT3\\\"> </span> <span> <span>  | </span> </span> <span class=\\\"degree\\\" id=\\\"95e45d01-3d53-473f-b805-14cee808ebaeDGRE3\\\" itemprop=\\\"name\\\"> Certificate</span> </span> <span class=\\\"paddedline\\\"> <span class=\\\"programline\\\" id=\\\"95e45d01-3d53-473f-b805-14cee808ebaeSTUY3\\\"> Cybersecurity Policy For Aviation And Internet </span> <span> , </span> <span format=\\\"%m/%Y\\\" id=\\\"95e45d01-3d53-473f-b805-14cee808ebaeGRYR3\\\"> 07/2020</span> </span> <span class=\\\"field\\\" id=\\\"95e45d01-3d53-473f-b805-14cee808ebaeFRFM3\\\"> </span> </div> </div> <div class=\\\"paragraph\\\" id=\\\"PARAGRAPH_95e45d01-3d53-473f-b805-14cee808ebae_4_928da07f-2964-852f-d35b-2700b04793b3\\\" itemscope=\\\"\\\" itemtype=\\\"https://schema.org/EducationalOrganization\\\"> <div class=\\\"singlecolumn\\\"> <span class=\\\"paddedline txt-bold\\\" itemprop=\\\"description\\\"> <span class=\\\"companyname companyname_educ\\\" id=\\\"95e45d01-3d53-473f-b805-14cee808ebaeSCHO4\\\" itemprop=\\\"name\\\"> GOOGLE I.T SUPPORT</span> <span> <span>  - </span> </span> <span class=\\\"joblocation jobcity\\\" id=\\\"95e45d01-3d53-473f-b805-14cee808ebaeSCIT4\\\"> City</span> <span class=\\\"joblocation jobstate\\\" id=\\\"95e45d01-3d53-473f-b805-14cee808ebaeSSTA4\\\"> </span> <span class=\\\"joblocation jobcountry\\\" id=\\\"95e45d01-3d53-473f-b805-14cee808ebaeSCNT4\\\"> </span> <span> <span>  | </span> </span> <span class=\\\"degree\\\" id=\\\"95e45d01-3d53-473f-b805-14cee808ebaeDGRE4\\\" itemprop=\\\"name\\\"> Certificate</span> </span> <span class=\\\"paddedline\\\"> <span class=\\\"programline\\\" id=\\\"95e45d01-3d53-473f-b805-14cee808ebaeSTUY4\\\"> </span> <span format=\\\"%m/%Y\\\" id=\\\"95e45d01-3d53-473f-b805-14cee808ebaeGRYR4\\\"> 03/2021</span> </span> <span class=\\\"field\\\" id=\\\"95e45d01-3d53-473f-b805-14cee808ebaeFRFM4\\\"> <p> <strong> Completed professional Course in:</strong> </p> <p> IT Security: Defense against the digital dark arts</p> <p> Operating System and You: Becoming a power user</p> <p> The Bits and Bytes of Computer Networking</p> <p> System Administration and IT Infrastructure Service</p> <p> Technical Support Fundamentals</p> </span> </div> </div> </div> </div>\",\n          \"<div class=\\\"fontsize fontface vmargins hmargins linespacing pagesize\\\" id=\\\"document\\\"> <div class=\\\"section firstsection\\\" id=\\\"SECTION_NAME588215279\\\" style=\\\"\\n      padding-top:0px;\\n    \\\"> <div class=\\\"paragraph PARAGRAPH_NAME firstparagraph\\\" id=\\\"PARAGRAPH_588215279_1_382804811\\\" style=\\\"\\n      padding-top:0px;\\n    \\\"> <div class=\\\"name\\\" itemprop=\\\"name\\\"> <span class=\\\"field\\\" id=\\\"588215279FNAM1\\\"> </span> <span> </span> <span class=\\\"field lName\\\" id=\\\"588215279LNAM1\\\"> BUSINESS DEVELOPMENT DIRECTOR</span> </div> </div> </div> <div class=\\\"section\\\" id=\\\"SECTION_SUMM588215281\\\" style=\\\"\\n      padding-top:0px;\\n    \\\"> <div class=\\\"heading\\\"> <div class=\\\"sectiontitle\\\" id=\\\"SECTNAME_SUMM588215281\\\"> Summary</div> </div> <div class=\\\"paragraph firstparagraph\\\" id=\\\"PARAGRAPH_588215281_1_382804813\\\" style=\\\"\\n      padding-top:0px;\\n    \\\"> <div class=\\\"field singlecolumn\\\" id=\\\"588215281FRFM1\\\"> <p align=\\\"LEFT\\\"> I collaborate with multiple stakeholders to determine audience needs, quickly developing strategic plans that align with my clients business priorities and strategies.</p> </div> </div> </div> <div class=\\\"section\\\" id=\\\"SECTION_EXPR588215283\\\" style=\\\"\\n      padding-top:0px;\\n    \\\"> <div class=\\\"heading\\\"> <div class=\\\"sectiontitle\\\" id=\\\"SECTNAME_EXPR588215283\\\"> Experience</div> </div> <div class=\\\"paragraph firstparagraph\\\" id=\\\"PARAGRAPH_588215283_1_382804816\\\" itemscope=\\\"\\\" itemtype=\\\"https://schema.org/Organization\\\" style=\\\"\\n      padding-top:0px;\\n    \\\"> <div class=\\\"singlecolumn\\\"> <span class=\\\"paddedline\\\"> <span class=\\\"jobtitle\\\" id=\\\"588215283JTIT1\\\"> Business Development Director</span> <span class=\\\"datesWrapper\\\"> <span class=\\\"jobdates\\\" format=\\\"%m/%Y\\\" id=\\\"588215283JSTD1\\\"> 05/1997</span> <span class=\\\"jobdates\\\">  to </span> <span class=\\\"jobdates\\\" format=\\\"%m/%Y\\\" id=\\\"588215283EDDT1\\\"> Current</span> </span> </span> <span class=\\\"paddedline\\\" itemscope=\\\"\\\" itemtype=\\\"https://schema.org/postalAddress\\\"> <span class=\\\"companyname\\\" id=\\\"588215283COMP1\\\" itemprop=\\\"name\\\"> Company Name</span> <span class=\\\"datesWrapper\\\"> <span class=\\\"joblocation jobcity\\\" id=\\\"588215283JCIT1\\\" itemprop=\\\"addressLocality\\\"> City</span> <span class=\\\"joblocation\\\"> , </span> <span class=\\\"joblocation jobstate\\\" id=\\\"588215283JSTA1\\\" itemprop=\\\"addressRegion\\\"> State</span> </span> </span> <span class=\\\"paddedline\\\"> <span class=\\\"jobline\\\" id=\\\"588215283JDES1\\\" itemprop=\\\"description\\\"> <p align=\\\"LEFT\\\"> Producing measurable results for my clients by designing unique engagement initiatives for employees, sales channel partners and consumers groups. Sales of performance improvement products, most being intangible services to Fortune 500 clients. Success at discovering and growing my business with customers who have the potential to spend more than $1 million with me each year.</p> <ul> <li> I have designed innovative solutions, customized to each customers various objectives and end result needs.</li> <li> Managing my internal teams to develop, design and operate complex custom projects ranging in value at least $150,000 to millions.</li> <li> Titles called on include the entire C suite, CEO, COO, CFO, CMO, President, EVP's of Marketing, Sales, Human Resources &amp; Finance.</li> <li> Define business issues to improve revenue and penetrating existing accounts and opening new.</li> <li> Sold 17 new accounts while in current position, managed sales volume and profit margin with long sales cycle.</li> <li> Managed and hired staff of 4 to work with my major global account travel &amp; meetings business over 8 years.</li> <li> Total book of business constantly over $2.5 million each year.</li> <li> Nearly twice the entertainment activity of other BDD's with similar tenure.</li> <li> Achieved over $6 million in sales twice, becoming a trusted partner to my clients, customers want me to Win!</li> </ul> </span> </span> </div> </div> <div class=\\\"paragraph\\\" id=\\\"PARAGRAPH_588215283_2_382804817\\\" itemscope=\\\"\\\" itemtype=\\\"https://schema.org/Organization\\\" style=\\\"\\n      padding-top:0px;\\n    \\\"> <div class=\\\"singlecolumn\\\"> <span class=\\\"paddedline\\\"> <span class=\\\"jobtitle\\\" id=\\\"588215283JTIT2\\\"> Account Territory &amp; District Sales Manager / National Account Sales</span> <span class=\\\"datesWrapper\\\"> <span class=\\\"jobdates\\\" format=\\\"%m/%Y\\\" id=\\\"588215283JSTD2\\\"> 08/1989</span> <span class=\\\"jobdates\\\">  to </span> <span class=\\\"jobdates\\\" format=\\\"%m/%Y\\\" id=\\\"588215283EDDT2\\\"> 04/1997</span> </span> </span> <span class=\\\"paddedline\\\" itemscope=\\\"\\\" itemtype=\\\"https://schema.org/postalAddress\\\"> <span class=\\\"companyname\\\" id=\\\"588215283COMP2\\\" itemprop=\\\"name\\\"> Company Name</span> <span class=\\\"datesWrapper\\\"> <span class=\\\"joblocation jobcity\\\" id=\\\"588215283JCIT2\\\" itemprop=\\\"addressLocality\\\"> City</span> <span class=\\\"joblocation\\\"> , </span> <span class=\\\"joblocation jobstate\\\" id=\\\"588215283JSTA2\\\" itemprop=\\\"addressRegion\\\"> State</span> </span> </span> <span class=\\\"paddedline\\\"> <span class=\\\"jobline\\\" id=\\\"588215283JDES2\\\" itemprop=\\\"description\\\"> <ul> <li> Responsible for growth of distributor sales volume, product mix and motivation of DSR sales forces.</li> <li> Developed my own custom local training and marketing materials, which were later adopted by the Nestle corporate.</li> <li> Distributor and chain accounts accounted for over $11 million in sales.</li> <li> Increased my chain accounts by over 75% while with national accounts.</li> <li> Created sales forecasts, developed budgets, strategic plans and managed entire regional office staff. Working with my team we grew business at Nestle largest US account by nearly double.</li> <li> Surpassed sales, budget goals every year as manager and twice led company nationally in new product introductions.</li> <li> District sales grew from $16 million to over $22 million as district manager. Hired five salespeople and 4 direct reports were promoted, managed up to eight account managers at a time.</li> <li> Developed new reports, marketing and promotional strategies for the field. Designed account reviews process, management and field training programs for the entire company.</li> <li> Sold small business owners and managed distributor sales accounts, using strategic planning, innovative programming and by cultivating strong personal relationships. Took area territory sales from $500,000 to $2.9 million, with a mature company in an industry with an average annual increase of only 3-5%.</li> </ul> </span> </span> </div> </div> <div class=\\\"paragraph\\\" id=\\\"PARAGRAPH_588215283_3_382804818\\\" itemscope=\\\"\\\" itemtype=\\\"https://schema.org/Organization\\\" style=\\\"\\n      padding-top:0px;\\n    \\\"> <div class=\\\"singlecolumn\\\"> <span class=\\\"paddedline\\\"> <span class=\\\"jobtitle\\\" id=\\\"588215283JTIT3\\\"> Financial Operations Executive and Department Merchandising Manager</span> <span class=\\\"datesWrapper\\\"> <span class=\\\"jobdates\\\" format=\\\"%m/%Y\\\" id=\\\"588215283JSTD3\\\"> 04/1988</span> <span class=\\\"jobdates\\\">  to </span> <span class=\\\"jobdates\\\" format=\\\"%m/%Y\\\" id=\\\"588215283EDDT3\\\"> 08/1989</span> </span> </span> <span class=\\\"paddedline\\\" itemscope=\\\"\\\" itemtype=\\\"https://schema.org/postalAddress\\\"> <span class=\\\"companyname\\\" id=\\\"588215283COMP3\\\" itemprop=\\\"name\\\"> Company Name</span> <span class=\\\"datesWrapper\\\"> <span class=\\\"joblocation jobcity\\\" id=\\\"588215283JCIT3\\\" itemprop=\\\"addressLocality\\\"> City</span> <span class=\\\"joblocation\\\"> , </span> <span class=\\\"joblocation jobstate\\\" id=\\\"588215283JSTA3\\\" itemprop=\\\"addressRegion\\\"> State</span> </span> </span> <span class=\\\"paddedline\\\"> <span class=\\\"jobline\\\" id=\\\"588215283JDES3\\\" itemprop=\\\"description\\\"> Financial Operations Executive for the South Bend store. Volunteered to be merchandise manager for the stores largest department. While in this role the department had the highest per foot sales volume of any department in the entire corporation during the 4th quarter of 1988.</span> </span> </div> </div> </div> <div class=\\\"section\\\" id=\\\"SECTION_ACCM588215285\\\" style=\\\"\\n      padding-top:0px;\\n    \\\"> <div class=\\\"heading\\\"> <div class=\\\"sectiontitle\\\" id=\\\"SECTNAME_ACCM588215285\\\"> Accomplishments</div> </div> <div class=\\\"paragraph firstparagraph\\\" id=\\\"PARAGRAPH_588215285_1_382804815\\\" style=\\\"\\n      padding-top:0px;\\n    \\\"> <div class=\\\"field singlecolumn\\\" id=\\\"588215285FRFM1\\\"> <ul> <li> 4 times President Achievement Guild Award winner, award for sales volume and profit.</li> <li> 3 times President Achievement Award winner, award for sales volume and profit.</li> <li> 4 times Achievement Guild winner, for leadership in 3 year running combined volume.</li> <li> Top travel and meetings sales several times since with BIW.</li> <li> National sales contest \\\"the 1993 Superbowl\\\".</li> <li> Twice awarded \\\"The Over Achiever of the Year\\\" by my most profitable direct customer.</li> <li> Reviewed consistently by management throughout career as \\\"Outstanding or Exceeding Expectations\\\".</li> <li> College: elected to executive positions with both Finance Club and Resident Housing Association.</li> </ul> </div> </div> </div> <div class=\\\"section\\\" id=\\\"SECTION_SKLL588215288\\\" style=\\\"\\n      padding-top:0px;\\n    \\\"> <div class=\\\"heading\\\"> <div class=\\\"sectiontitle\\\" id=\\\"SECTNAME_SKLL588215288\\\"> Skills</div> </div> <div class=\\\"paragraph firstparagraph\\\" id=\\\"PARAGRAPH_588215288_1_382804821\\\" style=\\\"\\n      padding-top:0px;\\n    \\\"> <div class=\\\"field singlecolumn\\\" id=\\\"588215288FRFM1\\\"> <p align=\\\"LEFT\\\"> Sales, Business Development, Distributor Sales, Territory Sales, District Sales, Sales of Solutions, Sales Teams, Sales Accounts, National Accounts, Sales Management, Strategic Accounts, Sales Promotions, Travel &amp; Meeting Sales, Technology Application Sales, Clients Management, Marketing, Budget, Budgets, Forecasts, Promotional, Travel &amp; Meeting Operations, Strategic Planning, Training, Training Development, Financial Operations, Merchandising, Corporate Operations, Employee Engagement, Managing Existing Accounts, Forecasting, Human Resources, Finding New Accounts, Relationship Building and Strategic Direction.</p> </div> </div> </div> <div class=\\\"section\\\" id=\\\"SECTION_EDUC588215284\\\" style=\\\"\\n      padding-top:0px;\\n    \\\"> <div class=\\\"heading\\\"> <div class=\\\"sectiontitle\\\" id=\\\"SECTNAME_EDUC588215284\\\"> Education</div> </div> <div class=\\\"paragraph firstparagraph\\\" id=\\\"PARAGRAPH_588215284_1_382804819\\\" itemscope=\\\"\\\" itemtype=\\\"https://schema.org/EducationalOrganization\\\" style=\\\"\\n      padding-top:0px;\\n    \\\"> <div class=\\\"singlecolumn\\\"> <span class=\\\"paddedline\\\" itemprop=\\\"description\\\"> <span class=\\\"degree\\\" id=\\\"588215284DGRE1\\\" itemprop=\\\"name\\\"> Bachelor of Business Administration</span> <span> : </span> <span class=\\\"programline\\\" id=\\\"588215284STUY1\\\"> Finance, General Business</span> <span class=\\\"datesWrapper\\\"> <span class=\\\"jobdates\\\" id=\\\"588215284GRYR1\\\"> 1988</span> <span> </span> </span> </span> <span class=\\\"paddedline\\\"> <span class=\\\"companyname companyname_educ\\\" id=\\\"588215284SCHO1\\\" itemprop=\\\"name\\\"> Western Michigan University</span> <span class=\\\"datesWrapper\\\"> <span class=\\\"joblocation jobcity educity\\\" id=\\\"588215284SCIT1\\\"> City</span> <span> , </span> <span class=\\\"joblocation jobstate edustate\\\" id=\\\"588215284SSTA1\\\"> State</span> <span> , </span> <span class=\\\"joblocation eduCountry\\\" id=\\\"588215284SCNT1\\\"> US</span> </span> </span> <span class=\\\"paddedline\\\"> <span class=\\\"field\\\" id=\\\"588215284FRFM1\\\"> <p align=\\\"LEFT\\\"> Earned over 85% of all educational/living costs. Jobs worked while in college, industrial heavy construction, excelled at several sales roles including at direct sales of home goods. While in direct sales I won a national trip and was ranked in the top 10 in the country in sales.  Started two successful on campus businesses. Member of the varsity division I football team for 4 years.</p> </span> </span> </div> </div> </div> <div class=\\\"section\\\" id=\\\"SECTION_AFIL588215287\\\" style=\\\"\\n      padding-top:0px;\\n    \\\"> <div class=\\\"heading\\\"> <div class=\\\"sectiontitle\\\" id=\\\"SECTNAME_AFIL588215287\\\"> Organizations</div> </div> <div class=\\\"paragraph firstparagraph\\\" id=\\\"PARAGRAPH_588215287_1_382804820\\\" style=\\\"\\n      padding-top:0px;\\n    \\\"> <div class=\\\"field singlecolumn\\\" id=\\\"588215287FRFM1\\\"> <p align=\\\"LEFT\\\"> IMEX, Milford Memories Planning Board, Huron Valley Youth Baseball President/Treasurer/Director of Travel Baseball, Lakeland Milford Travel Secretary and Milford High School baseball instructor.</p> </div> </div> </div> </div>\",\n          \"<div class=\\\"MPR skn-cbg1 fontsize fontface vmargins hmargins pagesize\\\" id=\\\"document\\\"> <div class=\\\"firstsection\\\" id=\\\"SECTION_PICT1c54d90b-f210-4994-a2df-6f797170b266\\\" style=\\\"padding-top:0px;\\\"> </div> <div class=\\\"section\\\" id=\\\"SECTION_NAMEafa5029c-ed20-4905-9618-559ac6326521\\\" style=\\\"padding-top:0px;\\\"> <div class=\\\"paragraph PARAGRAPH_NAME firstparagraph\\\" id=\\\"PARAGRAPH_afa5029c-ed20-4905-9618-559ac6326521_1_b72ebc9d-ef20-449c-9e46-f7af6ed76f8e\\\" style=\\\"padding-top:NaNpx;\\\"> <div class=\\\"name\\\" itemprop=\\\"name\\\"> <span class=\\\"field\\\" id=\\\"afa5029c-ed20-4905-9618-559ac6326521FNAM1\\\"> </span> <span> </span> <span class=\\\"field\\\" id=\\\"afa5029c-ed20-4905-9618-559ac6326521LNAM1\\\"> ENGINEERING MANAGER</span> </div> <div class=\\\"lowerborder\\\"> </div> </div> </div> <div class=\\\"section\\\" id=\\\"SECTION_SUMMa79b81cd-ed26-40a6-a71d-d369a97aaddf\\\" style=\\\"padding-top:0px;\\\"> <div class=\\\"heading\\\"> <div class=\\\"sectiontitle\\\" id=\\\"SECTNAME_SUMMa79b81cd-ed26-40a6-a71d-d369a97aaddf\\\"> Professional Summary</div> </div> <div class=\\\"paragraph firstparagraph\\\" id=\\\"PARAGRAPH_a79b81cd-ed26-40a6-a71d-d369a97aaddf_1_d37148e5-8011-49d3-b6b5-15a08f038d2a\\\" style=\\\"padding-top:NaNpx;\\\"> <div class=\\\"field singlecolumn\\\" id=\\\"a79b81cd-ed26-40a6-a71d-d369a97aaddfFRFM1\\\"> Experienced product development Engineer and manager able to collaborate with cross functional team as well as customers and sales to bring brand new offerings to new markets. Skilled at managing cross functional team for continuous improvements and meeting project deadlines. Offering 6 years of experience in the field.</div> </div> </div> <div class=\\\"section\\\" id=\\\"SECTION_HILT59198e28-8127-4e19-8680-aeff6e4e9111\\\" style=\\\"padding-top:0px;\\\"> <div class=\\\"heading\\\"> <div class=\\\"sectiontitle\\\" id=\\\"SECTNAME_HILT59198e28-8127-4e19-8680-aeff6e4e9111\\\"> Skills</div> </div> <div class=\\\"paragraph firstparagraph\\\" id=\\\"PARAGRAPH_59198e28-8127-4e19-8680-aeff6e4e9111_1_91ac5bb4-454c-4ef4-8ce9-93cfbec48dd8\\\" style=\\\"padding-top:NaNpx;\\\"> <div class=\\\"singlecolumn maincolumn\\\"> <table class=\\\"twocol\\\"> <tbody> <tr> <td class=\\\"field twocol_1\\\" id=\\\"59198e28-8127-4e19-8680-aeff6e4e9111SKC11\\\"> <ul> <li> Microsoft Office</li> <li> Microsoft Project</li> <li> Product development</li> <li> Quality</li> <li> Research</li> <li> Six Sigma Green Belt</li> <li> Solid Works</li> <li> Visio</li> <li> Prioritization</li> <li> Personnel management</li> <li> Critical thinking skills</li> <li> Team management</li> <li> Analyst, Visio</li> <li> Agency</li> <li> Consulting</li> <li> Cost analysis</li> <li> Critical thinking</li> <li> Designing</li> <li> Dialysis</li> <li> Direction</li> </ul> </td> <td class=\\\"field twocol_2\\\" id=\\\"59198e28-8127-4e19-8680-aeff6e4e9111SKC21\\\"> <ul> <li> Develop drug</li> <li> Functional</li> <li> IIa</li> <li> ISO</li> <li> Leadership</li> <li> Market and development</li> <li> Microsoft Office</li> <li> Microsoft Project</li> <li> Personnel management</li> <li> Design process</li> <li> Product development</li> <li> Product management</li> <li> Quality</li> <li> Researching</li> <li> Research</li> <li> Sales</li> <li> Six Sigma</li> <li> Solid Works</li> <li> Team management</li> <li> Validation</li> </ul> </td> </tr> </tbody> </table> </div> </div> </div> <div class=\\\"section\\\" id=\\\"SECTION_EXPR57f7e681-47f6-4b9d-bd84-cbc638b40345\\\" style=\\\"padding-top:0px;\\\"> <div class=\\\"heading\\\"> <div class=\\\"sectiontitle\\\" id=\\\"SECTNAME_EXPR57f7e681-47f6-4b9d-bd84-cbc638b40345\\\"> Work History</div> </div> <div class=\\\"paragraph firstparagraph\\\" id=\\\"PARAGRAPH_57f7e681-47f6-4b9d-bd84-cbc638b40345_1_81f1c5da-b869-42af-94e3-cacd539a1040\\\" itemscope=\\\"\\\" itemtype=\\\"https://schema.org/Organization\\\" style=\\\"padding-top:NaNpx;\\\"> <div class=\\\"singlecolumn\\\"> <span class=\\\"paddedline\\\" style=\\\"display: inline;\\\"> <span class=\\\"jobtitle\\\" id=\\\"57f7e681-47f6-4b9d-bd84-cbc638b40345JTIT1\\\"> Engineering Manager</span> <span> , </span> </span> <span class=\\\"paddedline\\\" style=\\\"display: inline;\\\"> <span class=\\\"jobdates\\\" format=\\\"%m/%Y\\\" id=\\\"57f7e681-47f6-4b9d-bd84-cbc638b40345JSTD1\\\"> 03/2018</span> <span>  to </span> <span class=\\\"jobdates\\\" format=\\\"%m/%Y\\\" id=\\\"57f7e681-47f6-4b9d-bd84-cbc638b40345EDDT1\\\"> Current</span> <br/> </span> <span class=\\\"paddedline\\\" itemscope=\\\"\\\" itemtype=\\\"https://schema.org/postalAddress\\\"> <span class=\\\"companyname\\\" id=\\\"57f7e681-47f6-4b9d-bd84-cbc638b40345COMP1\\\" itemprop=\\\"name\\\"> </span> <span class=\\\"joblocation jobcity\\\" id=\\\"57f7e681-47f6-4b9d-bd84-cbc638b40345JCIT1\\\" itemprop=\\\"addressLocality\\\"> City</span> <span> , </span> <span class=\\\"joblocation jobstate\\\" id=\\\"57f7e681-47f6-4b9d-bd84-cbc638b40345JSTA1\\\" itemprop=\\\"addressRegion\\\"> State</span> <br/> </span> <span class=\\\"jobline\\\" id=\\\"57f7e681-47f6-4b9d-bd84-cbc638b40345JDES1\\\" itemprop=\\\"description\\\"> <ul> <li> Create and maintain Technical Files per MDR requirements as well as attaining 510k on legacy products.</li> <li> Assess testing gaps of legacy products and design creep.</li> <li> Experienced in working with multiple departments.</li> <li> Experienced in training and leading engineers in order to investigate field complaints, Gap analysis and building Technical files/DHF.</li> <li> Experienced in leading team of engineers to lead all aspects of design process, including regulatory needs per market and development per design control.</li> <li> Tasked to create test plan and analysis of existing Class I, II and III products and Testing per latest applicable requirements.</li> <li> Trained team in conducting project related cost analysis, test gap analysis and researching ISO/EN ISO/ASTM requirements.</li> <li> Leading companywide EU MDR product transfer and testing on Infusion products, Dialysis products and standalone products.</li> <li> Provided technical direction on MDR and 510k related projects and initiatives to other engineers and technicians.</li> </ul> </span> </div> </div> <div class=\\\"paragraph\\\" id=\\\"PARAGRAPH_57f7e681-47f6-4b9d-bd84-cbc638b40345_2_c5e121c4-d6fe-4d94-bb47-2d7a992e1427\\\" itemscope=\\\"\\\" itemtype=\\\"https://schema.org/Organization\\\" style=\\\"padding-top:NaNpx;\\\"> <div class=\\\"singlecolumn\\\"> <span class=\\\"paddedline\\\" style=\\\"display: inline;\\\"> <span class=\\\"jobtitle\\\" id=\\\"57f7e681-47f6-4b9d-bd84-cbc638b40345JTIT2\\\"> Project Engineer II</span> <span> , </span> </span> <span class=\\\"paddedline\\\" style=\\\"display: inline;\\\"> <span class=\\\"jobdates\\\" format=\\\"%m/%Y\\\" id=\\\"57f7e681-47f6-4b9d-bd84-cbc638b40345JSTD2\\\"> 03/2017</span> <span>  to </span> <span class=\\\"jobdates\\\" format=\\\"%m/%Y\\\" id=\\\"57f7e681-47f6-4b9d-bd84-cbc638b40345EDDT2\\\"> 03/2018</span> <br/> </span> <span class=\\\"paddedline\\\" itemscope=\\\"\\\" itemtype=\\\"https://schema.org/postalAddress\\\"> <span class=\\\"companyname\\\" id=\\\"57f7e681-47f6-4b9d-bd84-cbc638b40345COMP2\\\" itemprop=\\\"name\\\"> Company Name</span> <span>  \\u2013 </span> <span class=\\\"joblocation jobcity\\\" id=\\\"57f7e681-47f6-4b9d-bd84-cbc638b40345JCIT2\\\" itemprop=\\\"addressLocality\\\"> City</span> <span> , </span> <span class=\\\"joblocation jobstate\\\" id=\\\"57f7e681-47f6-4b9d-bd84-cbc638b40345JSTA2\\\" itemprop=\\\"addressRegion\\\"> State</span> <br/> </span> <span class=\\\"jobline\\\" id=\\\"57f7e681-47f6-4b9d-bd84-cbc638b40345JDES2\\\" itemprop=\\\"description\\\"> <ul> <li> Working with product management, Clinical Analyst, sales, and regulatory to determine optimal design inputs for new products.</li> <li> Completed design transfer and attained 510k on Class IIb device in under year.</li> <li> Lead cross functional team including consulting agency in order to Develop drug device combination product and research optimal process using DOE in order for mass production.</li> <li> Leading all aspects of design control from designing on solid works to process validations and V&amp;V Testing.</li> <li> Analyzing and resolving field failures through investigation and testing.</li> <li> Experienced in working with international regulatory teams in providing information for foreign registration.</li> <li> Responsible for gap analysis and test planning in order to create and meet deadline for projects.</li> <li> Experienced with reviewing and approving validation activities as well as provide support to staff to achieve project milestones.</li> <li> Experienced working with cross functional teams to complete projects and tasks.</li> </ul> </span> </div> </div> <div class=\\\"paragraph\\\" id=\\\"PARAGRAPH_57f7e681-47f6-4b9d-bd84-cbc638b40345_3_491b8c27-b7f3-4db9-a48d-46bfa2dd83ee\\\" itemscope=\\\"\\\" itemtype=\\\"https://schema.org/Organization\\\" style=\\\"padding-top:NaNpx;\\\"> <div class=\\\"singlecolumn\\\"> <span class=\\\"paddedline\\\" style=\\\"display: inline;\\\"> <span class=\\\"jobtitle\\\" id=\\\"57f7e681-47f6-4b9d-bd84-cbc638b40345JTIT3\\\"> Engineer I</span> <span> , </span> </span> <span class=\\\"paddedline\\\" style=\\\"display: inline;\\\"> <span class=\\\"jobdates\\\" format=\\\"%m/%Y\\\" id=\\\"57f7e681-47f6-4b9d-bd84-cbc638b40345JSTD3\\\"> 06/2013</span> <span>  to </span> <span class=\\\"jobdates\\\" format=\\\"%m/%Y\\\" id=\\\"57f7e681-47f6-4b9d-bd84-cbc638b40345EDDT3\\\"> 03/2017</span> <br/> </span> <span class=\\\"paddedline\\\" itemscope=\\\"\\\" itemtype=\\\"https://schema.org/postalAddress\\\"> <span class=\\\"companyname\\\" id=\\\"57f7e681-47f6-4b9d-bd84-cbc638b40345COMP3\\\" itemprop=\\\"name\\\"> Company Name</span> <span>  \\u2013 </span> <span class=\\\"joblocation jobcity\\\" id=\\\"57f7e681-47f6-4b9d-bd84-cbc638b40345JCIT3\\\" itemprop=\\\"addressLocality\\\"> City</span> <span> , </span> <span class=\\\"joblocation jobstate\\\" id=\\\"57f7e681-47f6-4b9d-bd84-cbc638b40345JSTA3\\\" itemprop=\\\"addressRegion\\\"> State</span> <br/> </span> <span class=\\\"jobline\\\" id=\\\"57f7e681-47f6-4b9d-bd84-cbc638b40345JDES3\\\" itemprop=\\\"description\\\"> <ul> <li> Worked to bring Drug Device Combination product to mass production.</li> <li> Completed new Class IIa product and completed project in 10 months.</li> <li> Completing CAPAs and resolving field failures by research and testing.</li> <li> Developed new testing methods and designed tooling for new testing.</li> <li> Experienced in using Injection Molding Machine to Create and Test Prototypes.</li> <li> Found cheaper and more responsible vendor for MRI related testing.</li> </ul> </span> </div> </div> </div> <div class=\\\"section\\\" id=\\\"SECTION_EDUCc3ff1b76-45c2-4256-801f-1d93a6d48a74\\\" style=\\\"padding-top:0px;\\\"> <div class=\\\"heading\\\"> <div class=\\\"sectiontitle\\\" id=\\\"SECTNAME_EDUCc3ff1b76-45c2-4256-801f-1d93a6d48a74\\\"> Education</div> </div> <div class=\\\"paragraph firstparagraph\\\" id=\\\"PARAGRAPH_c3ff1b76-45c2-4256-801f-1d93a6d48a74_1_7d553f36-a7b2-4ee5-ada1-c08888ca8509\\\" itemscope=\\\"\\\" itemtype=\\\"https://schema.org/EducationalOrganization\\\" style=\\\"padding-top:NaNpx;\\\"> <div class=\\\"singlecolumn\\\"> <span class=\\\"paddedline\\\" itemprop=\\\"description\\\"> <span class=\\\"degree\\\" id=\\\"c3ff1b76-45c2-4256-801f-1d93a6d48a74DGRE1\\\" itemprop=\\\"name\\\"> Bachelor of Science</span> <span> : </span> <span class=\\\"programline\\\" id=\\\"c3ff1b76-45c2-4256-801f-1d93a6d48a74STUY1\\\"> Mechanical Engineering</span> <span> , </span> <span format=\\\"%m/%Y\\\" id=\\\"c3ff1b76-45c2-4256-801f-1d93a6d48a74GRYR1\\\"> 05/2013</span> <br/> </span> <span class=\\\"paddedline\\\"> <span class=\\\"companyname companyname_educ\\\" id=\\\"c3ff1b76-45c2-4256-801f-1d93a6d48a74SCHO1\\\" itemprop=\\\"name\\\"> Temple University</span> <span>  - </span> <span class=\\\"joblocation jobcity\\\" id=\\\"c3ff1b76-45c2-4256-801f-1d93a6d48a74SCIT1\\\"> City</span> <span> , </span> <span class=\\\"joblocation jobstate\\\" id=\\\"c3ff1b76-45c2-4256-801f-1d93a6d48a74SSTA1\\\"> State</span> <br/> </span> <span class=\\\"field\\\" id=\\\"c3ff1b76-45c2-4256-801f-1d93a6d48a74FRFM1\\\"> </span> </div> </div> <div class=\\\"paragraph\\\" id=\\\"PARAGRAPH_c3ff1b76-45c2-4256-801f-1d93a6d48a74_2_927d72ba-b039-4a46-970c-25339dd8e216\\\" itemscope=\\\"\\\" itemtype=\\\"https://schema.org/EducationalOrganization\\\" style=\\\"padding-top:NaNpx;\\\"> <div class=\\\"singlecolumn\\\"> <span class=\\\"paddedline\\\" itemprop=\\\"description\\\"> <span class=\\\"degree\\\" id=\\\"c3ff1b76-45c2-4256-801f-1d93a6d48a74DGRE2\\\" itemprop=\\\"name\\\"> Certifications\\nManagement Leadership Certification and Six Sigma Greenbelt certification</span> <span class=\\\"programline\\\" id=\\\"c3ff1b76-45c2-4256-801f-1d93a6d48a74STUY2\\\"> </span> <span format=\\\"%m/%Y\\\" id=\\\"c3ff1b76-45c2-4256-801f-1d93a6d48a74GRYR2\\\"> </span> </span> <span class=\\\"field\\\" id=\\\"c3ff1b76-45c2-4256-801f-1d93a6d48a74FRFM2\\\"> </span> </div> </div> </div> <div class=\\\"section\\\" id=\\\"SECTION_WRKH94eaceaf-fc70-4558-aae7-c02aa39afdaa\\\" style=\\\"padding-top:0px;\\\"> <div class=\\\"heading\\\"> <div class=\\\"sectiontitle\\\" id=\\\"SECTNAME_WRKH94eaceaf-fc70-4558-aae7-c02aa39afdaa\\\"> Work History</div> </div> <div class=\\\"paragraph firstparagraph\\\" id=\\\"PARAGRAPH_94eaceaf-fc70-4558-aae7-c02aa39afdaa_1_683ed507-7415-4bc5-b721-adecaa5a90b4\\\" itemscope=\\\"\\\" itemtype=\\\"https://schema.org/Organization\\\" style=\\\"padding-top:NaNpx;\\\"> <div class=\\\"singlecolumn\\\"> <span class=\\\"paddedline\\\"> <span class=\\\"jobtitle\\\" id=\\\"94eaceaf-fc70-4558-aae7-c02aa39afdaaJTIT1\\\"> Engineering Manager</span> <span> , </span> <span class=\\\"jobdates\\\" format=\\\"%m/%Y\\\" id=\\\"94eaceaf-fc70-4558-aae7-c02aa39afdaaJSTD1\\\"> 03/2018</span> <span>  to </span> <span class=\\\"jobdates\\\" format=\\\"%m/%Y\\\" id=\\\"94eaceaf-fc70-4558-aae7-c02aa39afdaaEDDT1\\\"> Current</span> <br/> </span> <span class=\\\"paddedline\\\" itemscope=\\\"\\\" itemtype=\\\"https://schema.org/postalAddress\\\"> <span class=\\\"companyname\\\" id=\\\"94eaceaf-fc70-4558-aae7-c02aa39afdaaCOMP1\\\" itemprop=\\\"name\\\"> </span> <span class=\\\"joblocation jobcity\\\" id=\\\"94eaceaf-fc70-4558-aae7-c02aa39afdaaJCIT1\\\" itemprop=\\\"addressLocality\\\"> City</span> <span> , </span> <span class=\\\"joblocation jobstate\\\" id=\\\"94eaceaf-fc70-4558-aae7-c02aa39afdaaJSTA1\\\" itemprop=\\\"addressRegion\\\"> State</span> <br/> </span> <span class=\\\"jobline\\\" id=\\\"94eaceaf-fc70-4558-aae7-c02aa39afdaaJDES1\\\" itemprop=\\\"description\\\"> <ul> <li> Create and maintain Technical Files per MDR requirements as well as attaining 510k on legacy products.</li> <li> Assess testing gaps of legacy products and design creep.</li> <li> Experienced in working with multiple departments.</li> <li> Experienced in training and leading engineers in order to investigate field complaints, Gap analysis and building Technical files/DHF.</li> <li> Experienced in leading team of engineers to lead all aspects of design process, including regulatory needs per market and development per design control.</li> <li> Tasked to create test plan and analysis of existing Class I, II and III products and Testing per latest applicable requirements.</li> <li> Trained team in conducting project related cost analysis, test gap analysis and researching ISO/EN ISO/ASTM requirements.</li> <li> Leading companywide EU MDR product transfer and testing on Infusion products, Dialysis products and standalone products.</li> <li> Provided technical direction on MDR and 510k related projects and initiatives to other engineers and technicians.</li> </ul> </span> </div> </div> <div class=\\\"paragraph\\\" id=\\\"PARAGRAPH_94eaceaf-fc70-4558-aae7-c02aa39afdaa_2_ec8a0290-f8d6-49f4-917e-1272dd2fa499\\\" itemscope=\\\"\\\" itemtype=\\\"https://schema.org/Organization\\\" style=\\\"padding-top:NaNpx;\\\"> <div class=\\\"singlecolumn\\\"> <span class=\\\"paddedline\\\"> <span class=\\\"jobtitle\\\" id=\\\"94eaceaf-fc70-4558-aae7-c02aa39afdaaJTIT2\\\"> Project Engineer II</span> <span> , </span> <span class=\\\"jobdates\\\" format=\\\"%m/%Y\\\" id=\\\"94eaceaf-fc70-4558-aae7-c02aa39afdaaJSTD2\\\"> 03/2017</span> <span>  to </span> <span class=\\\"jobdates\\\" format=\\\"%m/%Y\\\" id=\\\"94eaceaf-fc70-4558-aae7-c02aa39afdaaEDDT2\\\"> 03/2018</span> <br/> </span> <span class=\\\"paddedline\\\" itemscope=\\\"\\\" itemtype=\\\"https://schema.org/postalAddress\\\"> <span class=\\\"companyname\\\" id=\\\"94eaceaf-fc70-4558-aae7-c02aa39afdaaCOMP2\\\" itemprop=\\\"name\\\"> Company Name</span> <span>  \\u2013 </span> <span class=\\\"joblocation jobcity\\\" id=\\\"94eaceaf-fc70-4558-aae7-c02aa39afdaaJCIT2\\\" itemprop=\\\"addressLocality\\\"> City</span> <span> , </span> <span class=\\\"joblocation jobstate\\\" id=\\\"94eaceaf-fc70-4558-aae7-c02aa39afdaaJSTA2\\\" itemprop=\\\"addressRegion\\\"> State</span> <br/> </span> <span class=\\\"jobline\\\" id=\\\"94eaceaf-fc70-4558-aae7-c02aa39afdaaJDES2\\\" itemprop=\\\"description\\\"> <ul> <li> Working with product management, Clinical Analyst, sales, and regulatory to determine optimal design inputs for new products.</li> <li> Completed design transfer and attained 510k on Class IIb device in under year.</li> <li> Lead cross functional team including consulting agency in order to Develop drug device combination product and research optimal process using DOE in order for mass production.</li> <li> Leading all aspects of design control from designing on solid works to process validations and V&amp;V Testing.</li> <li> Analyzing and resolving field failures through investigation and testing.</li> <li> Experienced in working with international regulatory teams in providing information for foreign registration.</li> <li> Responsible for gap analysis and test planning in order to create and meet deadline for projects.</li> <li> Experienced with reviewing and approving validation activities as well as provide support to staff to achieve project milestones.</li> <li> Experienced working with cross functional teams to complete projects and tasks.</li> </ul> </span> </div> </div> <div class=\\\"paragraph\\\" id=\\\"PARAGRAPH_94eaceaf-fc70-4558-aae7-c02aa39afdaa_3_95104344-4f04-46e2-9f70-7d9cc463a747\\\" itemscope=\\\"\\\" itemtype=\\\"https://schema.org/Organization\\\" style=\\\"padding-top:NaNpx;\\\"> <div class=\\\"singlecolumn\\\"> <span class=\\\"paddedline\\\"> <span class=\\\"jobtitle\\\" id=\\\"94eaceaf-fc70-4558-aae7-c02aa39afdaaJTIT3\\\"> Engineer I</span> <span> , </span> <span class=\\\"jobdates\\\" format=\\\"%m/%Y\\\" id=\\\"94eaceaf-fc70-4558-aae7-c02aa39afdaaJSTD3\\\"> 06/2013</span> <span>  to </span> <span class=\\\"jobdates\\\" format=\\\"%m/%Y\\\" id=\\\"94eaceaf-fc70-4558-aae7-c02aa39afdaaEDDT3\\\"> 03/2017</span> <br/> </span> <span class=\\\"paddedline\\\" itemscope=\\\"\\\" itemtype=\\\"https://schema.org/postalAddress\\\"> <span class=\\\"companyname\\\" id=\\\"94eaceaf-fc70-4558-aae7-c02aa39afdaaCOMP3\\\" itemprop=\\\"name\\\"> Company Name</span> <span>  \\u2013 </span> <span class=\\\"joblocation jobcity\\\" id=\\\"94eaceaf-fc70-4558-aae7-c02aa39afdaaJCIT3\\\" itemprop=\\\"addressLocality\\\"> City</span> <span> , </span> <span class=\\\"joblocation jobstate\\\" id=\\\"94eaceaf-fc70-4558-aae7-c02aa39afdaaJSTA3\\\" itemprop=\\\"addressRegion\\\"> State</span> <br/> </span> <span class=\\\"jobline\\\" id=\\\"94eaceaf-fc70-4558-aae7-c02aa39afdaaJDES3\\\" itemprop=\\\"description\\\"> <ul> <li> Worked to bring Drug Device Combination product to mass production.</li> <li> Completed new Class IIa product and completed project in 10 months.</li> <li> Completing CAPAs and resolving field failures by research and testing.</li> <li> Developed new testing methods and designed tooling for new testing.</li> <li> Experienced in using Injection Molding Machine to Create and Test Prototypes.</li> <li> Found cheaper and more responsible vendor for MRI related testing.</li> </ul> </span> </div> </div> </div> <div class=\\\"section\\\" id=\\\"SECTION_SKLL76d684b9-d30d-44de-810c-b0f4c84e80c1\\\" style=\\\"padding-top:0px;\\\"> <div class=\\\"heading\\\"> <div class=\\\"sectiontitle\\\" id=\\\"SECTNAME_SKLL76d684b9-d30d-44de-810c-b0f4c84e80c1\\\"> Skills</div> </div> <div class=\\\"paragraph firstparagraph\\\" id=\\\"PARAGRAPH_76d684b9-d30d-44de-810c-b0f4c84e80c1_1_6b2d0ea2-b0fe-4911-af72-588efa1c02a6\\\" style=\\\"padding-top:NaNpx;\\\"> <div class=\\\"field singlecolumn\\\" id=\\\"76d684b9-d30d-44de-810c-b0f4c84e80c1FRFM1\\\"> <li> Microsoft Office</li> <li> Microsoft Project</li> <li> Product development</li> <li> Quality</li> <li> Research</li> <li> Six Sigma Green Belt</li> <li> Solid Works</li> <li> Visio</li> <li> Prioritization</li> <li> Personnel management</li> <li> Critical thinking skills</li> <li> Team management,</li> <li> Analyst, agency, consulting, cost analysis, Critical thinking, Designing, Dialysis, direction, Develop drug, functional, IIa, ISO, Leadership, market and development, Microsoft Office, Microsoft Project, Personnel management, design process, Product development, product management, Quality, researching, Research, sales, Six Sigma, Solid Works, Team management, validation, Visio</li> </div> </div> </div> </div>\"\n        ],\n        \"semantic_type\": \"\",\n        \"description\": \"\"\n      }\n    },\n    {\n      \"column\": \"Category\",\n      \"properties\": {\n        \"dtype\": \"category\",\n        \"num_unique_values\": 24,\n        \"samples\": [\n          \"AGRICULTURE\",\n          \"APPAREL\",\n          \"HR\"\n        ],\n        \"semantic_type\": \"\",\n        \"description\": \"\"\n      }\n    }\n  ]\n}"
            }
          },
          "metadata": {},
          "execution_count": 16
        }
      ]
    },
    {
      "cell_type": "code",
      "source": [
        "# Check the distribution of categories in the dataset\n",
        "category_distribution = df['Category'].value_counts()\n",
        "category_distribution\n"
      ],
      "metadata": {
        "colab": {
          "base_uri": "https://localhost:8080/"
        },
        "id": "y8N4oIJ6aZAh",
        "outputId": "e653f5e0-eea7-432e-c527-a5114a63c697"
      },
      "execution_count": null,
      "outputs": [
        {
          "output_type": "execute_result",
          "data": {
            "text/plain": [
              "Category\n",
              "INFORMATION-TECHNOLOGY    120\n",
              "BUSINESS-DEVELOPMENT      120\n",
              "FINANCE                   118\n",
              "ADVOCATE                  118\n",
              "ACCOUNTANT                118\n",
              "ENGINEERING               118\n",
              "CHEF                      118\n",
              "AVIATION                  117\n",
              "FITNESS                   117\n",
              "SALES                     116\n",
              "BANKING                   115\n",
              "HEALTHCARE                115\n",
              "CONSULTANT                115\n",
              "CONSTRUCTION              112\n",
              "PUBLIC-RELATIONS          111\n",
              "HR                        110\n",
              "DESIGNER                  107\n",
              "ARTS                      103\n",
              "TEACHER                   102\n",
              "APPAREL                    97\n",
              "DIGITAL-MEDIA              96\n",
              "AGRICULTURE                63\n",
              "AUTOMOBILE                 36\n",
              "BPO                        22\n",
              "Name: count, dtype: int64"
            ]
          },
          "metadata": {},
          "execution_count": 17
        }
      ]
    },
    {
      "cell_type": "code",
      "source": [
        "df.hist(bins=50, figsize=(25, 20))\n",
        "plt.show()"
      ],
      "metadata": {
        "colab": {
          "base_uri": "https://localhost:8080/",
          "height": 1000
        },
        "id": "_zG2GfUnxfcK",
        "outputId": "94178411-4018-405a-dee7-0196ede42924"
      },
      "execution_count": null,
      "outputs": [
        {
          "output_type": "display_data",
          "data": {
            "text/plain": [
              "<Figure size 2500x2000 with 1 Axes>"
            ],
            "image/png": "[encoded data removed]"
          },
          "metadata": {}
        }
      ]
    },
    {
      "cell_type": "code",
      "source": [
        "# Calculate the length of each resume in characters\n",
        "df['Resume_Length'] = df['Resume_str'].apply(len)\n",
        "\n",
        "# Calculate basic statistics\n",
        "average_length = df['Resume_Length'].mean()\n",
        "min_length = df['Resume_Length'].min()\n",
        "max_length = df['Resume_Length'].max()\n",
        "percentile_25 = df['Resume_Length'].quantile(0.25)\n",
        "percentile_50 = df['Resume_Length'].quantile(0.50)\n",
        "percentile_75 = df['Resume_Length'].quantile(0.75)\n"
      ],
      "metadata": {
        "id": "Vs6tSuDHvYit"
      },
      "execution_count": null,
      "outputs": []
    },
    {
      "cell_type": "code",
      "source": [
        "# Print the statistics\n",
        "print(f\"Average length of a resume: ~{average_length:.0f} characters.\")\n",
        "print(f\"Minimum length: {min_length} characters.\")\n",
        "print(f\"Maximum length: {max_length} characters.\")\n",
        "print(f\"25th percentile: {percentile_25} characters.\")\n",
        "print(f\"50th percentile: {percentile_50} characters.\")\n",
        "print(f\"75th percentile: {percentile_75} characters.\")\n"
      ],
      "metadata": {
        "colab": {
          "base_uri": "https://localhost:8080/"
        },
        "id": "xIJNHWDDw_RE",
        "outputId": "ac13e208-3966-4264-db25-7d5cce64bc9c"
      },
      "execution_count": null,
      "outputs": [
        {
          "output_type": "stream",
          "name": "stdout",
          "text": [
            "Average length of a resume: ~6295 characters.\n",
            "Minimum length: 21 characters.\n",
            "Maximum length: 38842 characters.\n",
            "25th percentile: 5160.0 characters.\n",
            "50th percentile: 5886.5 characters.\n",
            "75th percentile: 7227.25 characters.\n"
          ]
        }
      ]
    },
    {
      "cell_type": "code",
      "source": [
        "resume_length_stats = df['Resume_str'].apply(len).describe()\n",
        "resume_length_stats\n"
      ],
      "metadata": {
        "colab": {
          "base_uri": "https://localhost:8080/"
        },
        "id": "F7E4oPQixLhz",
        "outputId": "8d6c6924-6d09-4c18-8afa-84546002549c"
      },
      "execution_count": null,
      "outputs": [
        {
          "output_type": "execute_result",
          "data": {
            "text/plain": [
              "count     2484.000000\n",
              "mean      6295.308776\n",
              "std       2769.251458\n",
              "min         21.000000\n",
              "25%       5160.000000\n",
              "50%       5886.500000\n",
              "75%       7227.250000\n",
              "max      38842.000000\n",
              "Name: Resume_str, dtype: float64"
            ]
          },
          "metadata": {},
          "execution_count": 21
        }
      ]
    },
    {
      "cell_type": "code",
      "source": [
        "df.describe()"
      ],
      "metadata": {
        "colab": {
          "base_uri": "https://localhost:8080/",
          "height": 300
        },
        "id": "_2IGaNj2xlX7",
        "outputId": "98372655-88fc-453f-9b41-594d341e0516"
      },
      "execution_count": null,
      "outputs": [
        {
          "output_type": "execute_result",
          "data": {
            "text/plain": [
              "                 ID  Resume_Length\n",
              "count  2.484000e+03    2484.000000\n",
              "mean   3.182616e+07    6295.308776\n",
              "std    2.145735e+07    2769.251458\n",
              "min    3.547447e+06      21.000000\n",
              "25%    1.754430e+07    5160.000000\n",
              "50%    2.521031e+07    5886.500000\n",
              "75%    3.611444e+07    7227.250000\n",
              "max    9.980612e+07   38842.000000"
            ],
            "text/html": [
              "\n",
              "  <div id=\"df-e5ff930d-7b37-422a-93f1-2c0652facfa3\" class=\"colab-df-container\">\n",
              "    <div>\n",
              "<style scoped>\n",
              "    .dataframe tbody tr th:only-of-type {\n",
              "        vertical-align: middle;\n",
              "    }\n",
              "\n",
              "    .dataframe tbody tr th {\n",
              "        vertical-align: top;\n",
              "    }\n",
              "\n",
              "    .dataframe thead th {\n",
              "        text-align: right;\n",
              "    }\n",
              "</style>\n",
              "<table border=\"1\" class=\"dataframe\">\n",
              "  <thead>\n",
              "    <tr style=\"text-align: right;\">\n",
              "      <th></th>\n",
              "      <th>ID</th>\n",
              "      <th>Resume_Length</th>\n",
              "    </tr>\n",
              "  </thead>\n",
              "  <tbody>\n",
              "    <tr>\n",
              "      <th>count</th>\n",
              "      <td>2.484000e+03</td>\n",
              "      <td>2484.000000</td>\n",
              "    </tr>\n",
              "    <tr>\n",
              "      <th>mean</th>\n",
              "      <td>3.182616e+07</td>\n",
              "      <td>6295.308776</td>\n",
              "    </tr>\n",
              "    <tr>\n",
              "      <th>std</th>\n",
              "      <td>2.145735e+07</td>\n",
              "      <td>2769.251458</td>\n",
              "    </tr>\n",
              "    <tr>\n",
              "      <th>min</th>\n",
              "      <td>3.547447e+06</td>\n",
              "      <td>21.000000</td>\n",
              "    </tr>\n",
              "    <tr>\n",
              "      <th>25%</th>\n",
              "      <td>1.754430e+07</td>\n",
              "      <td>5160.000000</td>\n",
              "    </tr>\n",
              "    <tr>\n",
              "      <th>50%</th>\n",
              "      <td>2.521031e+07</td>\n",
              "      <td>5886.500000</td>\n",
              "    </tr>\n",
              "    <tr>\n",
              "      <th>75%</th>\n",
              "      <td>3.611444e+07</td>\n",
              "      <td>7227.250000</td>\n",
              "    </tr>\n",
              "    <tr>\n",
              "      <th>max</th>\n",
              "      <td>9.980612e+07</td>\n",
              "      <td>38842.000000</td>\n",
              "    </tr>\n",
              "  </tbody>\n",
              "</table>\n",
              "</div>\n",
              "    <div class=\"colab-df-buttons\">\n",
              "\n",
              "  <div class=\"colab-df-container\">\n",
              "    <button class=\"colab-df-convert\" onclick=\"convertToInteractive('df-e5ff930d-7b37-422a-93f1-2c0652facfa3')\"\n",
              "            title=\"Convert this dataframe to an interactive table.\"\n",
              "            style=\"display:none;\">\n",
              "\n",
              "  <svg xmlns=\"http://www.w3.org/2000/svg\" height=\"24px\" viewBox=\"0 -960 960 960\">\n",
              "    <path d=\"M120-120v-720h720v720H120Zm60-500h600v-160H180v160Zm220 220h160v-160H400v160Zm0 220h160v-160H400v160ZM180-400h160v-160H180v160Zm440 0h160v-160H620v160ZM180-180h160v-160H180v160Zm440 0h160v-160H620v160Z\"/>\n",
              "  </svg>\n",
              "    </button>\n",
              "\n",
              "  <style>\n",
              "    .colab-df-container {\n",
              "      display:flex;\n",
              "      gap: 12px;\n",
              "    }\n",
              "\n",
              "    .colab-df-convert {\n",
              "      background-color: #E8F0FE;\n",
              "      border: none;\n",
              "      border-radius: 50%;\n",
              "      cursor: pointer;\n",
              "      display: none;\n",
              "      fill: #1967D2;\n",
              "      height: 32px;\n",
              "      padding: 0 0 0 0;\n",
              "      width: 32px;\n",
              "    }\n",
              "\n",
              "    .colab-df-convert:hover {\n",
              "      background-color: #E2EBFA;\n",
              "      box-shadow: 0px 1px 2px rgba(60, 64, 67, 0.3), 0px 1px 3px 1px rgba(60, 64, 67, 0.15);\n",
              "      fill: #174EA6;\n",
              "    }\n",
              "\n",
              "    .colab-df-buttons div {\n",
              "      margin-bottom: 4px;\n",
              "    }\n",
              "\n",
              "    [theme=dark] .colab-df-convert {\n",
              "      background-color: #3B4455;\n",
              "      fill: #D2E3FC;\n",
              "    }\n",
              "\n",
              "    [theme=dark] .colab-df-convert:hover {\n",
              "      background-color: #434B5C;\n",
              "      box-shadow: 0px 1px 3px 1px rgba(0, 0, 0, 0.15);\n",
              "      filter: drop-shadow(0px 1px 2px rgba(0, 0, 0, 0.3));\n",
              "      fill: #FFFFFF;\n",
              "    }\n",
              "  </style>\n",
              "\n",
              "    <script>\n",
              "      const buttonEl =\n",
              "        document.querySelector('#df-e5ff930d-7b37-422a-93f1-2c0652facfa3 button.colab-df-convert');\n",
              "      buttonEl.style.display =\n",
              "        google.colab.kernel.accessAllowed ? 'block' : 'none';\n",
              "\n",
              "      async function convertToInteractive(key) {\n",
              "        const element = document.querySelector('#df-e5ff930d-7b37-422a-93f1-2c0652facfa3');\n",
              "        const dataTable =\n",
              "          await google.colab.kernel.invokeFunction('convertToInteractive',\n",
              "                                                    [key], {});\n",
              "        if (!dataTable) return;\n",
              "\n",
              "        const docLinkHtml = 'Like what you see? Visit the ' +\n",
              "          '<a target=\"_blank\" href=https://colab.research.google.com/notebooks/data_table.ipynb>data table notebook</a>'\n",
              "          + ' to learn more about interactive tables.';\n",
              "        element.innerHTML = '';\n",
              "        dataTable['output_type'] = 'display_data';\n",
              "        await google.colab.output.renderOutput(dataTable, element);\n",
              "        const docLink = document.createElement('div');\n",
              "        docLink.innerHTML = docLinkHtml;\n",
              "        element.appendChild(docLink);\n",
              "      }\n",
              "    </script>\n",
              "  </div>\n",
              "\n",
              "\n",
              "<div id=\"df-08103bba-2239-4e74-b85d-2d4c2ff29b6f\">\n",
              "  <button class=\"colab-df-quickchart\" onclick=\"quickchart('df-08103bba-2239-4e74-b85d-2d4c2ff29b6f')\"\n",
              "            title=\"Suggest charts\"\n",
              "            style=\"display:none;\">\n",
              "\n",
              "<svg xmlns=\"http://www.w3.org/2000/svg\" height=\"24px\"viewBox=\"0 0 24 24\"\n",
              "     width=\"24px\">\n",
              "    <g>\n",
              "        <path d=\"M19 3H5c-1.1 0-2 .9-2 2v14c0 1.1.9 2 2 2h14c1.1 0 2-.9 2-2V5c0-1.1-.9-2-2-2zM9 17H7v-7h2v7zm4 0h-2V7h2v10zm4 0h-2v-4h2v4z\"/>\n",
              "    </g>\n",
              "</svg>\n",
              "  </button>\n",
              "\n",
              "<style>\n",
              "  .colab-df-quickchart {\n",
              "      --bg-color: #E8F0FE;\n",
              "      --fill-color: #1967D2;\n",
              "      --hover-bg-color: #E2EBFA;\n",
              "      --hover-fill-color: #174EA6;\n",
              "      --disabled-fill-color: #AAA;\n",
              "      --disabled-bg-color: #DDD;\n",
              "  }\n",
              "\n",
              "  [theme=dark] .colab-df-quickchart {\n",
              "      --bg-color: #3B4455;\n",
              "      --fill-color: #D2E3FC;\n",
              "      --hover-bg-color: #434B5C;\n",
              "      --hover-fill-color: #FFFFFF;\n",
              "      --disabled-bg-color: #3B4455;\n",
              "      --disabled-fill-color: #666;\n",
              "  }\n",
              "\n",
              "  .colab-df-quickchart {\n",
              "    background-color: var(--bg-color);\n",
              "    border: none;\n",
              "    border-radius: 50%;\n",
              "    cursor: pointer;\n",
              "    display: none;\n",
              "    fill: var(--fill-color);\n",
              "    height: 32px;\n",
              "    padding: 0;\n",
              "    width: 32px;\n",
              "  }\n",
              "\n",
              "  .colab-df-quickchart:hover {\n",
              "    background-color: var(--hover-bg-color);\n",
              "    box-shadow: 0 1px 2px rgba(60, 64, 67, 0.3), 0 1px 3px 1px rgba(60, 64, 67, 0.15);\n",
              "    fill: var(--button-hover-fill-color);\n",
              "  }\n",
              "\n",
              "  .colab-df-quickchart-complete:disabled,\n",
              "  .colab-df-quickchart-complete:disabled:hover {\n",
              "    background-color: var(--disabled-bg-color);\n",
              "    fill: var(--disabled-fill-color);\n",
              "    box-shadow: none;\n",
              "  }\n",
              "\n",
              "  .colab-df-spinner {\n",
              "    border: 2px solid var(--fill-color);\n",
              "    border-color: transparent;\n",
              "    border-bottom-color: var(--fill-color);\n",
              "    animation:\n",
              "      spin 1s steps(1) infinite;\n",
              "  }\n",
              "\n",
              "  @keyframes spin {\n",
              "    0% {\n",
              "      border-color: transparent;\n",
              "      border-bottom-color: var(--fill-color);\n",
              "      border-left-color: var(--fill-color);\n",
              "    }\n",
              "    20% {\n",
              "      border-color: transparent;\n",
              "      border-left-color: var(--fill-color);\n",
              "      border-top-color: var(--fill-color);\n",
              "    }\n",
              "    30% {\n",
              "      border-color: transparent;\n",
              "      border-left-color: var(--fill-color);\n",
              "      border-top-color: var(--fill-color);\n",
              "      border-right-color: var(--fill-color);\n",
              "    }\n",
              "    40% {\n",
              "      border-color: transparent;\n",
              "      border-right-color: var(--fill-color);\n",
              "      border-top-color: var(--fill-color);\n",
              "    }\n",
              "    60% {\n",
              "      border-color: transparent;\n",
              "      border-right-color: var(--fill-color);\n",
              "    }\n",
              "    80% {\n",
              "      border-color: transparent;\n",
              "      border-right-color: var(--fill-color);\n",
              "      border-bottom-color: var(--fill-color);\n",
              "    }\n",
              "    90% {\n",
              "      border-color: transparent;\n",
              "      border-bottom-color: var(--fill-color);\n",
              "    }\n",
              "  }\n",
              "</style>\n",
              "\n",
              "  <script>\n",
              "    async function quickchart(key) {\n",
              "      const quickchartButtonEl =\n",
              "        document.querySelector('#' + key + ' button');\n",
              "      quickchartButtonEl.disabled = true;  // To prevent multiple clicks.\n",
              "      quickchartButtonEl.classList.add('colab-df-spinner');\n",
              "      try {\n",
              "        const charts = await google.colab.kernel.invokeFunction(\n",
              "            'suggestCharts', [key], {});\n",
              "      } catch (error) {\n",
              "        console.error('Error during call to suggestCharts:', error);\n",
              "      }\n",
              "      quickchartButtonEl.classList.remove('colab-df-spinner');\n",
              "      quickchartButtonEl.classList.add('colab-df-quickchart-complete');\n",
              "    }\n",
              "    (() => {\n",
              "      let quickchartButtonEl =\n",
              "        document.querySelector('#df-08103bba-2239-4e74-b85d-2d4c2ff29b6f button');\n",
              "      quickchartButtonEl.style.display =\n",
              "        google.colab.kernel.accessAllowed ? 'block' : 'none';\n",
              "    })();\n",
              "  </script>\n",
              "</div>\n",
              "\n",
              "    </div>\n",
              "  </div>\n"
            ],
            "application/vnd.google.colaboratory.intrinsic+json": {
              "type": "dataframe",
              "summary": "{\n  \"name\": \"df\",\n  \"rows\": 8,\n  \"fields\": [\n    {\n      \"column\": \"ID\",\n      \"properties\": {\n        \"dtype\": \"number\",\n        \"std\": 31079953.34733649,\n        \"min\": 2484.0,\n        \"max\": 99806115.0,\n        \"num_unique_values\": 8,\n        \"samples\": [\n          31826159.29388084,\n          25210313.0,\n          2484.0\n        ],\n        \"semantic_type\": \"\",\n        \"description\": \"\"\n      }\n    },\n    {\n      \"column\": \"Resume_Length\",\n      \"properties\": {\n        \"dtype\": \"number\",\n        \"std\": 12455.474824867308,\n        \"min\": 21.0,\n        \"max\": 38842.0,\n        \"num_unique_values\": 8,\n        \"samples\": [\n          6295.3087761674715,\n          5886.5,\n          2484.0\n        ],\n        \"semantic_type\": \"\",\n        \"description\": \"\"\n      }\n    }\n  ]\n}"
            }
          },
          "metadata": {},
          "execution_count": 22
        }
      ]
    },
    {
      "cell_type": "code",
      "source": [
        "\n",
        "\n",
        "missing_values = df.isnull().sum()\n",
        "\n",
        "missing_values"
      ],
      "metadata": {
        "colab": {
          "base_uri": "https://localhost:8080/"
        },
        "id": "pHOU0xygaY9D",
        "outputId": "82f90ba2-7a0e-406e-9798-41c4bac3c295"
      },
      "execution_count": null,
      "outputs": [
        {
          "output_type": "execute_result",
          "data": {
            "text/plain": [
              "ID               0\n",
              "Resume_str       0\n",
              "Resume_html      0\n",
              "Category         0\n",
              "Resume_Length    0\n",
              "dtype: int64"
            ]
          },
          "metadata": {},
          "execution_count": 23
        }
      ]
    },
    {
      "cell_type": "code",
      "source": [
        "\n",
        "duplicate_rows = df.duplicated().sum()\n",
        "print(f\"Number of duplicate rows: {duplicate_rows}\")\n"
      ],
      "metadata": {
        "colab": {
          "base_uri": "https://localhost:8080/"
        },
        "id": "WiFp19iDxIPb",
        "outputId": "7246176e-e7bd-4832-9d57-655ecded589e"
      },
      "execution_count": null,
      "outputs": [
        {
          "output_type": "stream",
          "name": "stdout",
          "text": [
            "Number of duplicate rows: 0\n"
          ]
        }
      ]
    },
    {
      "cell_type": "code",
      "source": [
        "df.duplicated().sum()\n"
      ],
      "metadata": {
        "colab": {
          "base_uri": "https://localhost:8080/"
        },
        "id": "vbTZW1DIxtkL",
        "outputId": "9496ff4e-eb26-4c8a-adfa-0bcc2c24fc87"
      },
      "execution_count": null,
      "outputs": [
        {
          "output_type": "execute_result",
          "data": {
            "text/plain": [
              "0"
            ]
          },
          "metadata": {},
          "execution_count": 25
        }
      ]
    },
    {
      "cell_type": "code",
      "source": [
        "df.info()"
      ],
      "metadata": {
        "colab": {
          "base_uri": "https://localhost:8080/"
        },
        "id": "hSereph1aY6u",
        "outputId": "73fe8dbe-32a1-46fb-a36b-8b85aa0320bd"
      },
      "execution_count": null,
      "outputs": [
        {
          "output_type": "stream",
          "name": "stdout",
          "text": [
            "<class 'pandas.core.frame.DataFrame'>\n",
            "RangeIndex: 2484 entries, 0 to 2483\n",
            "Data columns (total 5 columns):\n",
            " #   Column         Non-Null Count  Dtype \n",
            "---  ------         --------------  ----- \n",
            " 0   ID             2484 non-null   int64 \n",
            " 1   Resume_str     2484 non-null   object\n",
            " 2   Resume_html    2484 non-null   object\n",
            " 3   Category       2484 non-null   object\n",
            " 4   Resume_Length  2484 non-null   int64 \n",
            "dtypes: int64(2), object(3)\n",
            "memory usage: 97.2+ KB\n"
          ]
        }
      ]
    },
    {
      "cell_type": "markdown",
      "source": [],
      "metadata": {
        "id": "LPRhJRGHBPB1"
      }
    },
    {
      "cell_type": "code",
      "source": [
        "\n",
        "\n",
        "import nltk\n",
        "nltk.download('stopwords')\n",
        "nltk.download('punkt')\n",
        "\n",
        "# Define stopwords and other cleaning tools\n",
        "stop_words = set(stopwords.words('english'))\n",
        "\n",
        "# Function to clean the text\n",
        "def clean_resume(text):\n",
        "    # Remove HTML tags\n",
        "    text = BeautifulSoup(text, \"html.parser\").get_text()\n",
        "    # Remove non-alphabetic characters and convert to lowercase\n",
        "    text = re.sub(r\"[^a-zA-Z\\s]\", \"\", text.lower())\n",
        "    # Tokenize the text\n",
        "    words = word_tokenize(text)\n",
        "    # Remove stopwords\n",
        "    words = [word for word in words if word not in stop_words]\n",
        "    # Join words back into a single string\n",
        "    return \" \".join(words)\n",
        "\n",
        "# Apply cleaning function to Resume_str column\n",
        "df['Cleaned_Resume'] = df['Resume_str'].apply(clean_resume)\n",
        "\n",
        "# Show the first few rows of the cleaned dataset\n",
        "df[['Resume_str', 'Cleaned_Resume', 'Category']].head()\n"
      ],
      "metadata": {
        "colab": {
          "base_uri": "https://localhost:8080/",
          "height": 276
        },
        "id": "0pW6tz-5aiTK",
        "outputId": "47c049d8-2074-4044-c266-968e6a0bf5bb"
      },
      "execution_count": null,
      "outputs": [
        {
          "output_type": "stream",
          "name": "stderr",
          "text": [
            "[nltk_data] Downloading package stopwords to /root/nltk_data...\n",
            "[nltk_data]   Unzipping corpora/stopwords.zip.\n",
            "[nltk_data] Downloading package punkt to /root/nltk_data...\n",
            "[nltk_data]   Unzipping tokenizers/punkt.zip.\n"
          ]
        },
        {
          "output_type": "execute_result",
          "data": {
            "text/plain": [
              "                                          Resume_str  \\\n",
              "0           HR ADMINISTRATOR/MARKETING ASSOCIATE\\...   \n",
              "1           HR SPECIALIST, US HR OPERATIONS      ...   \n",
              "2           HR DIRECTOR       Summary      Over 2...   \n",
              "3           HR SPECIALIST       Summary    Dedica...   \n",
              "4           HR MANAGER         Skill Highlights  ...   \n",
              "\n",
              "                                      Cleaned_Resume Category  \n",
              "0  hr administratormarketing associate hr adminis...       HR  \n",
              "1  hr specialist us hr operations summary versati...       HR  \n",
              "2  hr director summary years experience recruitin...       HR  \n",
              "3  hr specialist summary dedicated driven dynamic...       HR  \n",
              "4  hr manager skill highlights hr skills hr depar...       HR  "
            ],
            "text/html": [
              "\n",
              "  <div id=\"df-9dc3fa5f-d3ff-433a-88ec-b863950e3b33\" class=\"colab-df-container\">\n",
              "    <div>\n",
              "<style scoped>\n",
              "    .dataframe tbody tr th:only-of-type {\n",
              "        vertical-align: middle;\n",
              "    }\n",
              "\n",
              "    .dataframe tbody tr th {\n",
              "        vertical-align: top;\n",
              "    }\n",
              "\n",
              "    .dataframe thead th {\n",
              "        text-align: right;\n",
              "    }\n",
              "</style>\n",
              "<table border=\"1\" class=\"dataframe\">\n",
              "  <thead>\n",
              "    <tr style=\"text-align: right;\">\n",
              "      <th></th>\n",
              "      <th>Resume_str</th>\n",
              "      <th>Cleaned_Resume</th>\n",
              "      <th>Category</th>\n",
              "    </tr>\n",
              "  </thead>\n",
              "  <tbody>\n",
              "    <tr>\n",
              "      <th>0</th>\n",
              "      <td>HR ADMINISTRATOR/MARKETING ASSOCIATE\\...</td>\n",
              "      <td>hr administratormarketing associate hr adminis...</td>\n",
              "      <td>HR</td>\n",
              "    </tr>\n",
              "    <tr>\n",
              "      <th>1</th>\n",
              "      <td>HR SPECIALIST, US HR OPERATIONS      ...</td>\n",
              "      <td>hr specialist us hr operations summary versati...</td>\n",
              "      <td>HR</td>\n",
              "    </tr>\n",
              "    <tr>\n",
              "      <th>2</th>\n",
              "      <td>HR DIRECTOR       Summary      Over 2...</td>\n",
              "      <td>hr director summary years experience recruitin...</td>\n",
              "      <td>HR</td>\n",
              "    </tr>\n",
              "    <tr>\n",
              "      <th>3</th>\n",
              "      <td>HR SPECIALIST       Summary    Dedica...</td>\n",
              "      <td>hr specialist summary dedicated driven dynamic...</td>\n",
              "      <td>HR</td>\n",
              "    </tr>\n",
              "    <tr>\n",
              "      <th>4</th>\n",
              "      <td>HR MANAGER         Skill Highlights  ...</td>\n",
              "      <td>hr manager skill highlights hr skills hr depar...</td>\n",
              "      <td>HR</td>\n",
              "    </tr>\n",
              "  </tbody>\n",
              "</table>\n",
              "</div>\n",
              "    <div class=\"colab-df-buttons\">\n",
              "\n",
              "  <div class=\"colab-df-container\">\n",
              "    <button class=\"colab-df-convert\" onclick=\"convertToInteractive('df-9dc3fa5f-d3ff-433a-88ec-b863950e3b33')\"\n",
              "            title=\"Convert this dataframe to an interactive table.\"\n",
              "            style=\"display:none;\">\n",
              "\n",
              "  <svg xmlns=\"http://www.w3.org/2000/svg\" height=\"24px\" viewBox=\"0 -960 960 960\">\n",
              "    <path d=\"M120-120v-720h720v720H120Zm60-500h600v-160H180v160Zm220 220h160v-160H400v160Zm0 220h160v-160H400v160ZM180-400h160v-160H180v160Zm440 0h160v-160H620v160ZM180-180h160v-160H180v160Zm440 0h160v-160H620v160Z\"/>\n",
              "  </svg>\n",
              "    </button>\n",
              "\n",
              "  <style>\n",
              "    .colab-df-container {\n",
              "      display:flex;\n",
              "      gap: 12px;\n",
              "    }\n",
              "\n",
              "    .colab-df-convert {\n",
              "      background-color: #E8F0FE;\n",
              "      border: none;\n",
              "      border-radius: 50%;\n",
              "      cursor: pointer;\n",
              "      display: none;\n",
              "      fill: #1967D2;\n",
              "      height: 32px;\n",
              "      padding: 0 0 0 0;\n",
              "      width: 32px;\n",
              "    }\n",
              "\n",
              "    .colab-df-convert:hover {\n",
              "      background-color: #E2EBFA;\n",
              "      box-shadow: 0px 1px 2px rgba(60, 64, 67, 0.3), 0px 1px 3px 1px rgba(60, 64, 67, 0.15);\n",
              "      fill: #174EA6;\n",
              "    }\n",
              "\n",
              "    .colab-df-buttons div {\n",
              "      margin-bottom: 4px;\n",
              "    }\n",
              "\n",
              "    [theme=dark] .colab-df-convert {\n",
              "      background-color: #3B4455;\n",
              "      fill: #D2E3FC;\n",
              "    }\n",
              "\n",
              "    [theme=dark] .colab-df-convert:hover {\n",
              "      background-color: #434B5C;\n",
              "      box-shadow: 0px 1px 3px 1px rgba(0, 0, 0, 0.15);\n",
              "      filter: drop-shadow(0px 1px 2px rgba(0, 0, 0, 0.3));\n",
              "      fill: #FFFFFF;\n",
              "    }\n",
              "  </style>\n",
              "\n",
              "    <script>\n",
              "      const buttonEl =\n",
              "        document.querySelector('#df-9dc3fa5f-d3ff-433a-88ec-b863950e3b33 button.colab-df-convert');\n",
              "      buttonEl.style.display =\n",
              "        google.colab.kernel.accessAllowed ? 'block' : 'none';\n",
              "\n",
              "      async function convertToInteractive(key) {\n",
              "        const element = document.querySelector('#df-9dc3fa5f-d3ff-433a-88ec-b863950e3b33');\n",
              "        const dataTable =\n",
              "          await google.colab.kernel.invokeFunction('convertToInteractive',\n",
              "                                                    [key], {});\n",
              "        if (!dataTable) return;\n",
              "\n",
              "        const docLinkHtml = 'Like what you see? Visit the ' +\n",
              "          '<a target=\"_blank\" href=https://colab.research.google.com/notebooks/data_table.ipynb>data table notebook</a>'\n",
              "          + ' to learn more about interactive tables.';\n",
              "        element.innerHTML = '';\n",
              "        dataTable['output_type'] = 'display_data';\n",
              "        await google.colab.output.renderOutput(dataTable, element);\n",
              "        const docLink = document.createElement('div');\n",
              "        docLink.innerHTML = docLinkHtml;\n",
              "        element.appendChild(docLink);\n",
              "      }\n",
              "    </script>\n",
              "  </div>\n",
              "\n",
              "\n",
              "<div id=\"df-ce737cdf-e4b5-480f-87fd-015f85858953\">\n",
              "  <button class=\"colab-df-quickchart\" onclick=\"quickchart('df-ce737cdf-e4b5-480f-87fd-015f85858953')\"\n",
              "            title=\"Suggest charts\"\n",
              "            style=\"display:none;\">\n",
              "\n",
              "<svg xmlns=\"http://www.w3.org/2000/svg\" height=\"24px\"viewBox=\"0 0 24 24\"\n",
              "     width=\"24px\">\n",
              "    <g>\n",
              "        <path d=\"M19 3H5c-1.1 0-2 .9-2 2v14c0 1.1.9 2 2 2h14c1.1 0 2-.9 2-2V5c0-1.1-.9-2-2-2zM9 17H7v-7h2v7zm4 0h-2V7h2v10zm4 0h-2v-4h2v4z\"/>\n",
              "    </g>\n",
              "</svg>\n",
              "  </button>\n",
              "\n",
              "<style>\n",
              "  .colab-df-quickchart {\n",
              "      --bg-color: #E8F0FE;\n",
              "      --fill-color: #1967D2;\n",
              "      --hover-bg-color: #E2EBFA;\n",
              "      --hover-fill-color: #174EA6;\n",
              "      --disabled-fill-color: #AAA;\n",
              "      --disabled-bg-color: #DDD;\n",
              "  }\n",
              "\n",
              "  [theme=dark] .colab-df-quickchart {\n",
              "      --bg-color: #3B4455;\n",
              "      --fill-color: #D2E3FC;\n",
              "      --hover-bg-color: #434B5C;\n",
              "      --hover-fill-color: #FFFFFF;\n",
              "      --disabled-bg-color: #3B4455;\n",
              "      --disabled-fill-color: #666;\n",
              "  }\n",
              "\n",
              "  .colab-df-quickchart {\n",
              "    background-color: var(--bg-color);\n",
              "    border: none;\n",
              "    border-radius: 50%;\n",
              "    cursor: pointer;\n",
              "    display: none;\n",
              "    fill: var(--fill-color);\n",
              "    height: 32px;\n",
              "    padding: 0;\n",
              "    width: 32px;\n",
              "  }\n",
              "\n",
              "  .colab-df-quickchart:hover {\n",
              "    background-color: var(--hover-bg-color);\n",
              "    box-shadow: 0 1px 2px rgba(60, 64, 67, 0.3), 0 1px 3px 1px rgba(60, 64, 67, 0.15);\n",
              "    fill: var(--button-hover-fill-color);\n",
              "  }\n",
              "\n",
              "  .colab-df-quickchart-complete:disabled,\n",
              "  .colab-df-quickchart-complete:disabled:hover {\n",
              "    background-color: var(--disabled-bg-color);\n",
              "    fill: var(--disabled-fill-color);\n",
              "    box-shadow: none;\n",
              "  }\n",
              "\n",
              "  .colab-df-spinner {\n",
              "    border: 2px solid var(--fill-color);\n",
              "    border-color: transparent;\n",
              "    border-bottom-color: var(--fill-color);\n",
              "    animation:\n",
              "      spin 1s steps(1) infinite;\n",
              "  }\n",
              "\n",
              "  @keyframes spin {\n",
              "    0% {\n",
              "      border-color: transparent;\n",
              "      border-bottom-color: var(--fill-color);\n",
              "      border-left-color: var(--fill-color);\n",
              "    }\n",
              "    20% {\n",
              "      border-color: transparent;\n",
              "      border-left-color: var(--fill-color);\n",
              "      border-top-color: var(--fill-color);\n",
              "    }\n",
              "    30% {\n",
              "      border-color: transparent;\n",
              "      border-left-color: var(--fill-color);\n",
              "      border-top-color: var(--fill-color);\n",
              "      border-right-color: var(--fill-color);\n",
              "    }\n",
              "    40% {\n",
              "      border-color: transparent;\n",
              "      border-right-color: var(--fill-color);\n",
              "      border-top-color: var(--fill-color);\n",
              "    }\n",
              "    60% {\n",
              "      border-color: transparent;\n",
              "      border-right-color: var(--fill-color);\n",
              "    }\n",
              "    80% {\n",
              "      border-color: transparent;\n",
              "      border-right-color: var(--fill-color);\n",
              "      border-bottom-color: var(--fill-color);\n",
              "    }\n",
              "    90% {\n",
              "      border-color: transparent;\n",
              "      border-bottom-color: var(--fill-color);\n",
              "    }\n",
              "  }\n",
              "</style>\n",
              "\n",
              "  <script>\n",
              "    async function quickchart(key) {\n",
              "      const quickchartButtonEl =\n",
              "        document.querySelector('#' + key + ' button');\n",
              "      quickchartButtonEl.disabled = true;  // To prevent multiple clicks.\n",
              "      quickchartButtonEl.classList.add('colab-df-spinner');\n",
              "      try {\n",
              "        const charts = await google.colab.kernel.invokeFunction(\n",
              "            'suggestCharts', [key], {});\n",
              "      } catch (error) {\n",
              "        console.error('Error during call to suggestCharts:', error);\n",
              "      }\n",
              "      quickchartButtonEl.classList.remove('colab-df-spinner');\n",
              "      quickchartButtonEl.classList.add('colab-df-quickchart-complete');\n",
              "    }\n",
              "    (() => {\n",
              "      let quickchartButtonEl =\n",
              "        document.querySelector('#df-ce737cdf-e4b5-480f-87fd-015f85858953 button');\n",
              "      quickchartButtonEl.style.display =\n",
              "        google.colab.kernel.accessAllowed ? 'block' : 'none';\n",
              "    })();\n",
              "  </script>\n",
              "</div>\n",
              "\n",
              "    </div>\n",
              "  </div>\n"
            ],
            "application/vnd.google.colaboratory.intrinsic+json": {
              "type": "dataframe",
              "summary": "{\n  \"name\": \"df[['Resume_str', 'Cleaned_Resume', 'Category']]\",\n  \"rows\": 5,\n  \"fields\": [\n    {\n      \"column\": \"Resume_str\",\n      \"properties\": {\n        \"dtype\": \"string\",\n        \"num_unique_values\": 5,\n        \"samples\": [\n          \"         HR SPECIALIST, US HR OPERATIONS       Summary     Versatile  media professional with background in Communications, Marketing, Human Resources and Technology.\\u00a0        Experience     09/2015   to   Current     HR Specialist, US HR Operations    Company Name   \\uff0d   City  ,   State       Managed communication regarding launch of Operations group, policy changes and system outages      Designed standard work and job aids to create comprehensive training program for new employees and contractors         Audited job postings for old, pending, on-hold and draft positions.           Audited union hourly, non-union hourly and salary background checks and drug screens             Conducted monthly new hire benefits briefing to new employees across all business units               Served as a link between HR Managers and vendors by handling questions and resolving system-related issues         Provide real-time process improvement feedback on key metrics and initiatives  Successfully re-branded US HR Operations SharePoint site  Business Unit project manager for RFI/RFP on Background Check and Drug Screen vendor         01/2014   to   05/2015     IT, Marketing and Communications Co-op    Company Name   \\uff0d   City  ,   State      Posted new articles, changes and updates to corporate SharePoint site including graphics and visual communications.  Researched and drafted articles and feature stories to promote company activities and programs.  Co-edited and developed content for quarterly published newsletter.  Provided communication support for internal and external events.  Collaborated with Communication team, media professionals and vendors to determine program needs for print materials, web design and digital communications.  Entrusted to lead product, service and software launches for Digital Asset Management tool, Marketing Toolkit website and Executive Tradeshows Calendar.  Created presentations for management and executive approval to ensure alignment with corporate guidelines and branding.  Maintained the MySikorsky SharePoint site and provided timely solutions to mitigate issues.\\u00a0\\u00a0\\u00a0\\u00a0  Created story board and produced video for annual IT All Hands meeting.         10/2012   to   01/2014     Relationship Coordinator/Marketing Specialist    Company Name   \\uff0d   City  ,   State       Partnered with vendor to manage the in-house advertising program consisting of print and media collateral pieces.     Coordinated pre-show and post-show activities at trade shows.     Managed marketing campaigns to generate new business and to support partner and sales teams.     Ordered marketing collateral for meetings, trade shows and advisors.    Improved, administered and modified marketing programs to increase product awareness.  Assisted in preparing internal promotional publications, managed marketing material inventory and supervised distribution of publications to ensure high quality product output.  Coordinated marketing materials including brochures, promotional materials and products.  Partnered with graphic designers to develop appropriate materials and branding for brochures.  Used tracking and reporting systems for sales leads and appointments.         09/2009   to   10/2012     Assistant Head Teller    Company Name   \\uff0d   City  ,   State       Received an internal audit score of  100 %.     Performed daily and monthly audits of ATM machines and tellers.     Educated customers on a variety of retail products and available credit options.       Consistently met or exceeded quarterly sales goals     Promoted products and services to\\ncustomers while maintaining company brand identity\\n\\n\\u00b7\\u00a0\\u00a0\\u00a0\\u00a0\\n  Implemented programs to achieve\\nand exceed customer and company participation goals\\u00a0\\n\\n\\u00a0  Organized company sponsored events on campus resulting in increased\\nbrand awareness\\n\\n\\u00b7\\u00a0\\u00a0\\u00a0\\u00a0\\n  Coached peers on\\nthe proper use of programs to improve work flow efficiency  Utilized product knowledge to successfully sell\\nto and refer clients based on individual needs  Promoted marketing the grand opening\\nof new branch locations to strengthen company brand affinity\\n\\n\\u00b7\\u00a0\\u00a0\\u00a0\\u00a0   Organized company sponsored events\\nresulting in increased brand awareness and improved sales\\n\\n\\u00b7\\u00a0\\u00a0\\u00a0\\u00a0   Coached peers on the proper use of\\nprograms to increase work flow efficiency\\n\\n          Senior Producer - 2014 SHU Media Exchange    Company Name   \\uff0d   City  ,   State      Planned and executed event\\u00a0focusing on Connecticut's creative corridor, growth of industry and opportunities that come with development. A\\u00a0 panel of industry professionals addressed topics related to media and hosted a question and answer session for approximately 110 attendees. Following the forum, guests were invited to engage in networking and conversation at a post-event reception.         Education     2014     Master of Arts  :   Corporate Communication & Public Relations    Sacred Heart University   \\uff0d   City  ,   State             2013     Bachelor of Arts  :   Relational Communication    Western Connecticut State University   \\uff0d   City  ,   State              Skills    Adobe Photoshop, ADP, Asset Management, branding, brochures, content, Customer Care, Final Cut Pro, graphics, graphic, HR, Illustrator, InDesign, Innovation, inventory, Lotus Notes, marketing, marketing materials, marketing material, materials, Microsoft Office, SharePoint, newsletter, presentations, process improvement, Project Management, promotional materials, publications, Quality, real-time, Recruitment, reporting, RFP, sales, stories, Employee Development, video, web design, website, articles   \",\n          \"         HR MANAGER         Skill Highlights           HR SKILLS  HR Department Startup  Three New Organization Startups  Employment Law  FMLA/ADA/EEO/WC  Mediation & Advocacy  HR Policies & Procedures\\t*Staff Recruitment & Retention  Salary Negotiations  Employee Relations  Benefits Administration  Unemployment Administration  Worker's Compensation Administration  Orientation & On-Boarding  HRIS Technologies  Training & Development  Performance Management  Organizational Development  HR Program/Project Management  HRIS applications (Lawson, Paychex, Kronos, ADP)  MS Office (Word, Excel, PowerPoint, Publisher, Access, Visio, Outlook)                Professional Experience      HR Manager     Jan 2015   to   Current      Company Name   \\uff0d   City  ,   State     Manage the Human Resource function for e-Cycle's corporate office as well as their fulfillment and data center, consisting of benefits and compensation administration, payroll, employee relations, policy compliance, and recruitment.  Key Results: Foster an associate-oriented culture that emphasizes continuous improvement, team- work, high performance and quality.  Ensure organizational conformation with applicable HR related regulations and statutes as well as organizational procedures and policies.  Implement HR programs and policies as needed by the organization.  Identify, evaluate, and resolve human relations, employee morale, work performance, and organizational productivity concerns.  Develop staffing strategies and implement programs and plans to identify and cultivate effective and appropriate sources for employees at all job levels.  Create or assist in the creation of associate training and organizational development programs.  Develop and manage the annual associate review process.  Insure that regional staff is included in corporate activities and feel like they are a part of the team.  Responsible for the human resource management system(s) and provide staff and management with essential reporting information in order to help them in managing their associate resources.  Recruit and retain top quality associates for each department, this includes recruiting nationally and in some cases at an executive level.  Create or assist in the creation of compensation plans.  Employee benefit administration consisting of Health, Dental, Vision, VSTD, VLTD and 401(k).  Successful in reducing the health benefit expected increase from 46% to 5% during my first month with the organization.         Sr. HR Manager     Jan 2013   to   Jan 2015      Company Name   \\uff0d   City  ,   State     As a leader within the HR and Operations team, I was instrumental in partnering with local leadership and Corporate HR to develop and implement HR policies, processes, technology and services that are aligned to support our company's strategic initiatives in order to have a successful start-up.  Key Results: Coordinated efforts to recruit and hire over 220 full time hourly associates and 27 management level employees while converting agency staff to full time.  Instrumental in managing and creating the set up of the HR business office, which included development of personnel files, new hire practices, payroll, and HR reporting.  Manage, by providing direction and development to HR, and develop the HR delivery as business continued to grow.  Strategic business partner to the Site Director, as well as other operations leaders, in support of start-up operations, day-to-day operations, and peak season planning, staffing and operations.  Worked successfully with local temporary agencies in order to staff to our Peak volume, which consisted of over 1800 total associates delivering over 3 million units from Black Friday to Christmas.  Influence HR strategy and execute tactical direction for the facility within the overall HR strategy.  Ensure internal consistency of HR policies and procedures across multiple locations.  Interact with the Corporate HR team for exempt staffing, compensation and benefits, and other functional groups in order to support Operations.  Maintain knowledge of HR policies and procedures, laws and regulations, industry trends and developments to ensure accurate information is being communicated throughout the company.  Develop a work environment that demonstrates Fanatics core values.  Provide strategic direction on leadership development and workforce planning initiatives within the fulfillment center.  Coach senior business leaders and front line supervisors on HR polices, procedures, and best practices in dealing with employee relation issues, such as, poor performance, attendance, and behavior and conduct issues.  Championed a fun, friendly and approachable HR team of professionals.  Ensure integrity, maintenance and confidentiality of all personnel records in accordance with policies and procedures and applicable Federal and State laws.  Improve HR service delivery in line with overall business performance expectations.  Look for ways to innovate systems for HR delivery (People, process & technology).  Manage the HR function with measurable objectives, and communicate the bottom line impact of HR delivery to the business.         HR Director     Jan 2008   to   Jan 2012      Company Name   \\uff0d   City  ,   State     As a member of the executive team, I was directly and solely responsible for providing situation appropriate and policy compliant human resource support for 2 separate business units for a community based, non-profit, health care organization with approximately 184 employees.  Key Results: Played a key role in ensuring the successful merge of five separate private physician practices into one Non-Profit organization.  Structured and implemented programs and policies in the areas of compensation structures, benefits packages, incentive compensation plans and physician employment contracts.  Fostered a teamwork/open-door environment conducive to positive dialogue across the organization with an 85% overall employee satisfaction rating.  Responsible for maintaining staffing levels for all positions within the health center which consisted of full time, part time and on-call staff.  Negotiated more than 100 salary offers at both the exempt and nonexempt level.  Successful recruitment of Physicians, CEO, COO, CFO, CMO and various managers.  Wrote employee manual covering issues including disciplinary procedures, code of conduct, FMLA, attendance policies and benefits information.  Implemented employee satisfaction surveys and presented results to Board of directors.  Introduced company's first formal performance review program.  Developed job descriptions across all levels and categories.  Shadowed\\\" and interviewed employees to construct an accurate picture of the duties and skills required for each position.         HR Representative     Jan 2001   to   Jan 2007      Company Name   \\uff0d   City  ,   State     Nation's largest small-box discount retailer.  Fulfilled a broad range of HR Generalist functions, including recruiting, administering benefits, overseeing disciplinary action and managing HR support staff.  Key Results: Trained management team on interviewing techniques and best practices, conducted workshops and one-on-one coaching sessions that contributed to sound hiring decisions.  Instrumental in the start-up of the new 1.2 million sq.  ft.  state of the art distribution center.  Hiring over 400 plus employees within the first year that consisted of part time, full time and temporary staff.  Overseen morale-boosting programs (including special events, annual employee picnic, attendance and safety banquets, etc.  that increased employee satisfaction and productivity.  Investigated all employee relation issues, such as sexual harassment, discrimination, and inappropriate conduct by either hourly employees and or management staff.  Responsible for staffing all hourly positions, which consisted of maintaining 878 hourly employees among three shifts.         Education      Bachelor of Business Administration      MOUNT VERNON NAZARENE UNIVERSITY   \\uff0d   City  ,   State            Professional Affiliations    Society for Human Resource Management (SHRM)\\n*Muskingum Valley Human Resource Management Association      Skills    ADA, ADP, art, agency, benefits, Benefits Administration, Coach, coaching, conflict resolution, continuous improvement, contracts, decision making, delivery, direction, Employee Relations, special events, financial, functional, Hiring, HRIS, human resource management, Human Resource, Human Resources, HR, human relations, Kronos, Lawson, leadership, leadership development, Law, legal compliance, Director, managing, management reporting, Mediation, Access, Excel, MS Office, office, Outlook, PowerPoint, Publisher, win, Word, negotiating, Negotiations, Organizational Development, organizational, payroll, Peak, Performance Management, personnel, Policies, problem solving, processes, Profit, implement programs, Project Management, quality, quantitative analysis, Recruitment, recruiting, reporting, safety, sound, staff development, staffing, strategy, Strategic, Structured, surveys, team- work, teamwork, Visio, Vision, workshops   \",\n          \"         HR DIRECTOR       Summary      Over 20 years experience in recruiting,   15 plus years in Human Resources Executive Management,   5 years of HRIS development and maintenance  4 years working in a Healthcare Enviroment        Skills          Recruiting  FMLA/EEO/FLSA\\u00a0  HRIS Development      Benefit Administration  Policy Development  Web Page Development\\u00a0            Accomplishments      Kansas Health Institute -Health Outcomes for the State of Kansas -1999 \\nMemberships and Accolades: Project Management Institute Member, SHRM, Chamber of Commerce, 1999 Friends University President's Honor Roll, 1997 Friends University Dean's Honor Roll, Student Liaison for Friends University Topeka (member of Mother-To-Mother, member of the Topeka \\nAdvertising Federation, several production pieces created nominated for ADDY Awards, received recognition for outstanding customer service assistance by the State of Kansas Travel and Tourism Department., ASHHRA, KAHHR, ACM.  Additional Information: \\nLeading Change -I have been instrumental in development and implementation of the Adjutant General's Retention Research project, involving survey development and analyzing the results of the surveys to present to the Adjutant General to help retain the qualified talent of the Departments.  I have been tasked with working with the Federal Security Manager for the Joint Forces Headquarters in developing policies, procedures and processes to ensure that all current and new State Employees have the appropriate security clearances for the position held per the Federal Government Requirements.  While at LMIS, I lead the Job Vacancy Project and was able to produce results in less time and man hours than in years before with staff that were inexperienced in the JVC process and procedures.  I have been responsible to develop, plan and implement database programs, for the last three positions I have held.  These were designed to cultivate, involve, renew contact, and promote active and potential employees.  These databases were used for reporting FTE usage, budget management and turnover reports.  While working in the healthcare field, I took the initiative in creating a local website that was used to receive and respond to requests for information and assistance in marketing and promoting the healthcare facility along with recruitment of potential employees.  As Human Resource Coordinator in the healthcare field, I managed the front office personnel, reduced contract labor costs for nursing staff and implemented a unique pay structure to increase PRN staff utilization.  I continually think \\\"Outside-the-box\\\" to create and develop strategies to resolve issues faced in my work environment.  In my current position, I have met and exceeded all hiring goals for the firm.  This resulted in our client increasing the business transferred to our location.        Experience      HR Director   09/2016   to   Current     Company Name   City  ,   State       Developed New Website for Agency, payroll processing changes, and implementation of\\nnew HRIS System.   Oversaw the employment process taking the lead role in clinician, physician and management\\nteam recruitment initiatives.\\n\\n  Developed, maintain\\nand interpret HR policy. Authored the Employee Handbook.\\n\\nProvided coaching\\nand support to management and supervisors on performance management and other\\nrelated issues. \\n\\n  Maintained in-depth\\nknowledge of legal requirements related to day-to-day management of employees,\\nreducing legal risks and ensuring regulatory compliance.   Evaluated and\\nrecommend changes to the employee benefits plan. Oversaw day to day\\nadministration of benefits.\\u00a0           HR Director   04/2009   to   09/2016     Company Name   City  ,   State       Develped Supervisory Education, SHRO Website, SHRO HRIS System and Automation of payroll processing.  Established and directed a comprehensive statewide human resource program for both classified and unclassified State employees/positions in the Adjutant General's Department.  Resolved non-routine HR related issues associated as they arose; reviewed documents and approved all hires and promotions; reviews and approved, modified and/or disapproved wage/salary requests to hire individuals above the pre-established minimum classified or unclassified pay rate,  \\u00a0Reviewed any significant changes to position descriptions and determined if reclassification should be pursued; reviewed position descriptions for new positions and determined the appropriate wage range based on comparable classified position (if they exist),   Consulted with the TAG and both military and state manager/ supervisors in order to provide technical and common sense guidance on properly addressing sensitive or complex employee and organizational issues; aided them in achieving their ever changing program goals and provided innovative ideas for staffing;             Served as the administration's management representative in labor negotiations with the local KAPE unit at the 190th Fire Department.          HR Manager/Sr. Recruiter   10/2003   to   06/2006     Company Name   City  ,   State       Created an HRIS tracking system used for recruitment.  Responsible for Ramp up and hiring of all customer service agents, and other positions as needed.  Placement and development of all advertising \\nMet and exceeded all hiring goals. Responsible for Hiring Senior Management to cover such duties as: Team Managers, Payroll, Quality Control.  Responsible for recruitment of 950 new employees, meeting and exceeded goals set.  Coordinated and facilitated manpower planning, recruitment and retention, career development and training, staff relations, compensation and benefits, compliance with local, state and federal statutory regulations, public programs, and regulatory audit procedures.  Served as a resource person to administration, mid-level management and staff regarding HR related.          Human Resources Coordinator   03/1996   to   02/2000     Company Name   City  ,   State       Developed HRIS database from ground up for employee records and monitoring.  Instrumental in reducing the use of Agency Staffing needs for hospital.  Coordinated and facilitates manpower planning, recruitment and retention, career development and training, staff relations, compensation and benefits, compliance with local, state and federal statutory regulations, public programs, and regulatory audit procedures.  Served as the HR resource source for administration, mid-level management and staff.  Coordinated hiring procedures, appraisals, pay increases, promotions, transfers, terminations, job postings, and all corrective actions;  One Person Office, responsible for all OSHA, Work Comp, Benefits, payroll, etc.          Education and Training      Master's Degree  :   Information Management Systems   05/2005       Friends University   City  ,   State  ,   United States     3.5 Credits Earned: 62 Semester hours Information Management Systems        Bachelor of Science  :   Organizational Management   05/2000       Friends University   City  ,   State  ,   United States      4.0 Credits Earned: 62 Semester hours             Activities and Honors    Topeka Chamber of Commerce -Ambassador \\nKansas Hospital Association -Health Care Human Resources Member \\nSHRM -Legislative Liaison      Skills      Desktop Publishing,\\u00a0  Newsletter productions,   DATABASE Management,   Leadership \\n\\nTraining,  OSHA, FMLA, \\n\\nWorkers Compensation.   PageMaker,   Agency Automation, back-up,   Benefits,  Budget management,  Corel Suite,   Harvard Graphics,  Access, Excel, Microsoft Publisher, MS Word,\\u00a0   Quark Express, Quattro Pro,   Strategic Planning,\\u00a0   Web page development,   WordPerfect     \"\n        ],\n        \"semantic_type\": \"\",\n        \"description\": \"\"\n      }\n    },\n    {\n      \"column\": \"Cleaned_Resume\",\n      \"properties\": {\n        \"dtype\": \"string\",\n        \"num_unique_values\": 5,\n        \"samples\": [\n          \"hr specialist us hr operations summary versatile media professional background communications marketing human resources technology experience current hr specialist us hr operations company name city state managed communication regarding launch operations group policy changes system outages designed standard work job aids create comprehensive training program new employees contractors audited job postings old pending onhold draft positions audited union hourly nonunion hourly salary background checks drug screens conducted monthly new hire benefits briefing new employees across business units served link hr managers vendors handling questions resolving systemrelated issues provide realtime process improvement feedback key metrics initiatives successfully rebranded us hr operations sharepoint site business unit project manager rfirfp background check drug screen vendor marketing communications coop company name city state posted new articles changes updates corporate sharepoint site including graphics visual communications researched drafted articles feature stories promote company activities programs coedited developed content quarterly published newsletter provided communication support internal external events collaborated communication team media professionals vendors determine program needs print materials web design digital communications entrusted lead product service software launches digital asset management tool marketing toolkit website executive tradeshows calendar created presentations management executive approval ensure alignment corporate guidelines branding maintained mysikorsky sharepoint site provided timely solutions mitigate issues created story board produced video annual hands meeting relationship coordinatormarketing specialist company name city state partnered vendor manage inhouse advertising program consisting print media collateral pieces coordinated preshow postshow activities trade shows managed marketing campaigns generate new business support partner sales teams ordered marketing collateral meetings trade shows advisors improved administered modified marketing programs increase product awareness assisted preparing internal promotional publications managed marketing material inventory supervised distribution publications ensure high quality product output coordinated marketing materials including brochures promotional materials products partnered graphic designers develop appropriate materials branding brochures used tracking reporting systems sales leads appointments assistant head teller company name city state received internal audit score performed daily monthly audits atm machines tellers educated customers variety retail products available credit options consistently met exceeded quarterly sales goals promoted products services customers maintaining company brand identity implemented programs achieve exceed customer company participation goals organized company sponsored events campus resulting increased brand awareness coached peers proper use programs improve work flow efficiency utilized product knowledge successfully sell refer clients based individual needs promoted marketing grand opening new branch locations strengthen company brand affinity organized company sponsored events resulting increased brand awareness improved sales coached peers proper use programs increase work flow efficiency senior producer shu media exchange company name city state planned executed event focusing connecticuts creative corridor growth industry opportunities come development panel industry professionals addressed topics related media hosted question answer session approximately attendees following forum guests invited engage networking conversation postevent reception education master arts corporate communication public relations sacred heart university city state bachelor arts relational communication western connecticut state university city state skills adobe photoshop adp asset management branding brochures content customer care final cut pro graphics graphic hr illustrator indesign innovation inventory lotus notes marketing marketing materials marketing material materials microsoft office sharepoint newsletter presentations process improvement project management promotional materials publications quality realtime recruitment reporting rfp sales stories employee development video web design website articles\",\n          \"hr manager skill highlights hr skills hr department startup three new organization startups employment law fmlaadaeeowc mediation advocacy hr policies procedures staff recruitment retention salary negotiations employee relations benefits administration unemployment administration workers compensation administration orientation onboarding hris technologies training development performance management organizational development hr programproject management hris applications lawson paychex kronos adp ms office word excel powerpoint publisher access visio outlook professional experience hr manager jan current company name city state manage human resource function ecycles corporate office well fulfillment data center consisting benefits compensation administration payroll employee relations policy compliance recruitment key results foster associateoriented culture emphasizes continuous improvement team work high performance quality ensure organizational conformation applicable hr related regulations statutes well organizational procedures policies implement hr programs policies needed organization identify evaluate resolve human relations employee morale work performance organizational productivity concerns develop staffing strategies implement programs plans identify cultivate effective appropriate sources employees job levels create assist creation associate training organizational development programs develop manage annual associate review process insure regional staff included corporate activities feel like part team responsible human resource management systems provide staff management essential reporting information order help managing associate resources recruit retain top quality associates department includes recruiting nationally cases executive level create assist creation compensation plans employee benefit administration consisting health dental vision vstd vltd k successful reducing health benefit expected increase first month organization sr hr manager jan jan company name city state leader within hr operations team instrumental partnering local leadership corporate hr develop implement hr policies processes technology services aligned support companys strategic initiatives order successful startup key results coordinated efforts recruit hire full time hourly associates management level employees converting agency staff full time instrumental managing creating set hr business office included development personnel files new hire practices payroll hr reporting manage providing direction development hr develop hr delivery business continued grow strategic business partner site director well operations leaders support startup operations daytoday operations peak season planning staffing operations worked successfully local temporary agencies order staff peak volume consisted total associates delivering million units black friday christmas influence hr strategy execute tactical direction facility within overall hr strategy ensure internal consistency hr policies procedures across multiple locations interact corporate hr team exempt staffing compensation benefits functional groups order support operations maintain knowledge hr policies procedures laws regulations industry trends developments ensure accurate information communicated throughout company develop work environment demonstrates fanatics core values provide strategic direction leadership development workforce planning initiatives within fulfillment center coach senior business leaders front line supervisors hr polices procedures best practices dealing employee relation issues poor performance attendance behavior conduct issues championed fun friendly approachable hr team professionals ensure integrity maintenance confidentiality personnel records accordance policies procedures applicable federal state laws improve hr service delivery line overall business performance expectations look ways innovate systems hr delivery people process technology manage hr function measurable objectives communicate bottom line impact hr delivery business hr director jan jan company name city state member executive team directly solely responsible providing situation appropriate policy compliant human resource support separate business units community based nonprofit health care organization approximately employees key results played key role ensuring successful merge five separate private physician practices one nonprofit organization structured implemented programs policies areas compensation structures benefits packages incentive compensation plans physician employment contracts fostered teamworkopendoor environment conducive positive dialogue across organization overall employee satisfaction rating responsible maintaining staffing levels positions within health center consisted full time part time oncall staff negotiated salary offers exempt nonexempt level successful recruitment physicians ceo coo cfo cmo various managers wrote employee manual covering issues including disciplinary procedures code conduct fmla attendance policies benefits information implemented employee satisfaction surveys presented results board directors introduced companys first formal performance review program developed job descriptions across levels categories shadowed interviewed employees construct accurate picture duties skills required position hr representative jan jan company name city state nations largest smallbox discount retailer fulfilled broad range hr generalist functions including recruiting administering benefits overseeing disciplinary action managing hr support staff key results trained management team interviewing techniques best practices conducted workshops oneonone coaching sessions contributed sound hiring decisions instrumental startup new million sq ft state art distribution center hiring plus employees within first year consisted part time full time temporary staff overseen moraleboosting programs including special events annual employee picnic attendance safety banquets etc increased employee satisfaction productivity investigated employee relation issues sexual harassment discrimination inappropriate conduct either hourly employees management staff responsible staffing hourly positions consisted maintaining hourly employees among three shifts education bachelor business administration mount vernon nazarene university city state professional affiliations society human resource management shrm muskingum valley human resource management association skills ada adp art agency benefits benefits administration coach coaching conflict resolution continuous improvement contracts decision making delivery direction employee relations special events financial functional hiring hris human resource management human resource human resources hr human relations kronos lawson leadership leadership development law legal compliance director managing management reporting mediation access excel ms office office outlook powerpoint publisher win word negotiating negotiations organizational development organizational payroll peak performance management personnel policies problem solving processes profit implement programs project management quality quantitative analysis recruitment recruiting reporting safety sound staff development staffing strategy strategic structured surveys team work teamwork visio vision workshops\",\n          \"hr director summary years experience recruiting plus years human resources executive management years hris development maintenance years working healthcare enviroment skills recruiting fmlaeeoflsa hris development benefit administration policy development web page development accomplishments kansas health institute health outcomes state kansas memberships accolades project management institute member shrm chamber commerce friends university presidents honor roll friends university deans honor roll student liaison friends university topeka member mothertomother member topeka advertising federation several production pieces created nominated addy awards received recognition outstanding customer service assistance state kansas travel tourism department ashhra kahhr acm additional information leading change instrumental development implementation adjutant generals retention research project involving survey development analyzing results surveys present adjutant general help retain qualified talent departments tasked working federal security manager joint forces headquarters developing policies procedures processes ensure current new state employees appropriate security clearances position held per federal government requirements lmis lead job vacancy project able produce results less time man hours years staff inexperienced jvc process procedures responsible develop plan implement database programs last three positions held designed cultivate involve renew contact promote active potential employees databases used reporting fte usage budget management turnover reports working healthcare field took initiative creating local website used receive respond requests information assistance marketing promoting healthcare facility along recruitment potential employees human resource coordinator healthcare field managed front office personnel reduced contract labor costs nursing staff implemented unique pay structure increase prn staff utilization continually think outsidethebox create develop strategies resolve issues faced work environment current position met exceeded hiring goals firm resulted client increasing business transferred location experience hr director current company name city state developed new website agency payroll processing changes implementation new hris system oversaw employment process taking lead role clinician physician management team recruitment initiatives developed maintain interpret hr policy authored employee handbook provided coaching support management supervisors performance management related issues maintained indepth knowledge legal requirements related daytoday management employees reducing legal risks ensuring regulatory compliance evaluated recommend changes employee benefits plan oversaw day day administration benefits hr director company name city state develped supervisory education shro website shro hris system automation payroll processing established directed comprehensive statewide human resource program classified unclassified state employeespositions adjutant generals department resolved nonroutine hr related issues associated arose reviewed documents approved hires promotions reviews approved modified andor disapproved wagesalary requests hire individuals preestablished minimum classified unclassified pay rate reviewed significant changes position descriptions determined reclassification pursued reviewed position descriptions new positions determined appropriate wage range based comparable classified position exist consulted tag military state manager supervisors order provide technical common sense guidance properly addressing sensitive complex employee organizational issues aided achieving ever changing program goals provided innovative ideas staffing served administrations management representative labor negotiations local kape unit th fire department hr managersr recruiter company name city state created hris tracking system used recruitment responsible ramp hiring customer service agents positions needed placement development advertising met exceeded hiring goals responsible hiring senior management cover duties team managers payroll quality control responsible recruitment new employees meeting exceeded goals set coordinated facilitated manpower planning recruitment retention career development training staff relations compensation benefits compliance local state federal statutory regulations public programs regulatory audit procedures served resource person administration midlevel management staff regarding hr related human resources coordinator company name city state developed hris database ground employee records monitoring instrumental reducing use agency staffing needs hospital coordinated facilitates manpower planning recruitment retention career development training staff relations compensation benefits compliance local state federal statutory regulations public programs regulatory audit procedures served hr resource source administration midlevel management staff coordinated hiring procedures appraisals pay increases promotions transfers terminations job postings corrective actions one person office responsible osha work comp benefits payroll etc education training masters degree information management systems friends university city state united states credits earned semester hours information management systems bachelor science organizational management friends university city state united states credits earned semester hours activities honors topeka chamber commerce ambassador kansas hospital association health care human resources member shrm legislative liaison skills desktop publishing newsletter productions database management leadership training osha fmla workers compensation pagemaker agency automation backup benefits budget management corel suite harvard graphics access excel microsoft publisher ms word quark express quattro pro strategic planning web page development wordperfect\"\n        ],\n        \"semantic_type\": \"\",\n        \"description\": \"\"\n      }\n    },\n    {\n      \"column\": \"Category\",\n      \"properties\": {\n        \"dtype\": \"category\",\n        \"num_unique_values\": 1,\n        \"samples\": [\n          \"HR\"\n        ],\n        \"semantic_type\": \"\",\n        \"description\": \"\"\n      }\n    }\n  ]\n}"
            }
          },
          "metadata": {},
          "execution_count": 27
        }
      ]
    },
    {
      "cell_type": "markdown",
      "source": [
        "**another way of cleaning data**\n"
      ],
      "metadata": {
        "id": "jRFMN9imyeQ3"
      }
    },
    {
      "cell_type": "code",
      "source": [
        "# some basic list of common stopwords\n",
        "basic_stopwords = {\n",
        "    \"i\", \"me\", \"my\", \"myself\", \"we\", \"our\", \"ours\", \"ourselves\", \"you\", \"your\", \"yours\", \"yourself\", \"yourselves\",\n",
        "    \"he\", \"him\", \"his\", \"himself\", \"she\", \"her\", \"hers\", \"herself\", \"it\", \"its\", \"itself\", \"they\", \"them\", \"their\",\n",
        "    \"theirs\", \"themselves\", \"what\", \"which\", \"who\", \"whom\", \"this\", \"that\", \"these\", \"those\", \"am\", \"is\", \"are\", \"was\",\n",
        "    \"were\", \"be\", \"been\", \"being\", \"have\", \"has\", \"had\", \"having\", \"do\", \"does\", \"did\", \"doing\", \"a\", \"an\", \"the\", \"and\",\n",
        "    \"but\", \"if\", \"or\", \"because\", \"as\", \"until\", \"while\", \"of\", \"at\", \"by\", \"for\", \"with\", \"about\", \"against\", \"between\",\n",
        "    \"into\", \"through\", \"during\", \"before\", \"after\", \"above\", \"below\", \"to\", \"from\", \"up\", \"down\", \"in\", \"out\", \"on\", \"off\",\n",
        "    \"over\", \"under\", \"again\", \"further\", \"then\", \"once\", \"here\", \"there\", \"when\", \"where\", \"why\", \"how\", \"all\", \"any\",\n",
        "    \"both\", \"each\", \"few\", \"more\", \"most\", \"other\", \"some\", \"such\", \"no\", \"nor\", \"not\", \"only\", \"own\", \"same\", \"so\",\n",
        "    \"than\", \"too\", \"very\", \"s\", \"t\", \"can\", \"will\", \"just\", \"don\", \"should\", \"now\"\n",
        "}\n",
        "\n",
        "# Function to clean the text without using NLTK stopwords\n",
        "def clean_resume_basic(text):\n",
        "    # Remove HTML tags\n",
        "    text = BeautifulSoup(text, \"html.parser\").get_text()\n",
        "    # Remove non-alphabetic characters and convert to lowercase\n",
        "    text = re.sub(r\"[^a-zA-Z\\s]\", \"\", text.lower())\n",
        "    # Tokenize the text\n",
        "    words = text.split()\n",
        "    # Remove stopwords\n",
        "    words = [word for word in words if word not in basic_stopwords]\n",
        "    # Join words back into a single string\n",
        "    return \" \".join(words)\n",
        "\n",
        "# Apply the basic cleaning function to the Resume_str column\n",
        "df['Cleaned_Resume'] = df['Resume_str'].apply(clean_resume_basic)\n",
        "\n",
        "# Show the first few rows of the cleaned dataset\n",
        "df[['Resume_str', 'Cleaned_Resume', 'Category']].head()\n"
      ],
      "metadata": {
        "colab": {
          "base_uri": "https://localhost:8080/",
          "height": 206
        },
        "id": "0ApZwCoMbCRv",
        "outputId": "6863b9f4-d9bb-4535-93b2-adefd31ecb67"
      },
      "execution_count": null,
      "outputs": [
        {
          "output_type": "execute_result",
          "data": {
            "text/plain": [
              "                                          Resume_str  \\\n",
              "0           HR ADMINISTRATOR/MARKETING ASSOCIATE\\...   \n",
              "1           HR SPECIALIST, US HR OPERATIONS      ...   \n",
              "2           HR DIRECTOR       Summary      Over 2...   \n",
              "3           HR SPECIALIST       Summary    Dedica...   \n",
              "4           HR MANAGER         Skill Highlights  ...   \n",
              "\n",
              "                                      Cleaned_Resume Category  \n",
              "0  hr administratormarketing associate hr adminis...       HR  \n",
              "1  hr specialist us hr operations summary versati...       HR  \n",
              "2  hr director summary years experience recruitin...       HR  \n",
              "3  hr specialist summary dedicated driven dynamic...       HR  \n",
              "4  hr manager skill highlights hr skills hr depar...       HR  "
            ],
            "text/html": [
              "\n",
              "  <div id=\"df-58f36869-82af-442a-ae61-945025c1a581\" class=\"colab-df-container\">\n",
              "    <div>\n",
              "<style scoped>\n",
              "    .dataframe tbody tr th:only-of-type {\n",
              "        vertical-align: middle;\n",
              "    }\n",
              "\n",
              "    .dataframe tbody tr th {\n",
              "        vertical-align: top;\n",
              "    }\n",
              "\n",
              "    .dataframe thead th {\n",
              "        text-align: right;\n",
              "    }\n",
              "</style>\n",
              "<table border=\"1\" class=\"dataframe\">\n",
              "  <thead>\n",
              "    <tr style=\"text-align: right;\">\n",
              "      <th></th>\n",
              "      <th>Resume_str</th>\n",
              "      <th>Cleaned_Resume</th>\n",
              "      <th>Category</th>\n",
              "    </tr>\n",
              "  </thead>\n",
              "  <tbody>\n",
              "    <tr>\n",
              "      <th>0</th>\n",
              "      <td>HR ADMINISTRATOR/MARKETING ASSOCIATE\\...</td>\n",
              "      <td>hr administratormarketing associate hr adminis...</td>\n",
              "      <td>HR</td>\n",
              "    </tr>\n",
              "    <tr>\n",
              "      <th>1</th>\n",
              "      <td>HR SPECIALIST, US HR OPERATIONS      ...</td>\n",
              "      <td>hr specialist us hr operations summary versati...</td>\n",
              "      <td>HR</td>\n",
              "    </tr>\n",
              "    <tr>\n",
              "      <th>2</th>\n",
              "      <td>HR DIRECTOR       Summary      Over 2...</td>\n",
              "      <td>hr director summary years experience recruitin...</td>\n",
              "      <td>HR</td>\n",
              "    </tr>\n",
              "    <tr>\n",
              "      <th>3</th>\n",
              "      <td>HR SPECIALIST       Summary    Dedica...</td>\n",
              "      <td>hr specialist summary dedicated driven dynamic...</td>\n",
              "      <td>HR</td>\n",
              "    </tr>\n",
              "    <tr>\n",
              "      <th>4</th>\n",
              "      <td>HR MANAGER         Skill Highlights  ...</td>\n",
              "      <td>hr manager skill highlights hr skills hr depar...</td>\n",
              "      <td>HR</td>\n",
              "    </tr>\n",
              "  </tbody>\n",
              "</table>\n",
              "</div>\n",
              "    <div class=\"colab-df-buttons\">\n",
              "\n",
              "  <div class=\"colab-df-container\">\n",
              "    <button class=\"colab-df-convert\" onclick=\"convertToInteractive('df-58f36869-82af-442a-ae61-945025c1a581')\"\n",
              "            title=\"Convert this dataframe to an interactive table.\"\n",
              "            style=\"display:none;\">\n",
              "\n",
              "  <svg xmlns=\"http://www.w3.org/2000/svg\" height=\"24px\" viewBox=\"0 -960 960 960\">\n",
              "    <path d=\"M120-120v-720h720v720H120Zm60-500h600v-160H180v160Zm220 220h160v-160H400v160Zm0 220h160v-160H400v160ZM180-400h160v-160H180v160Zm440 0h160v-160H620v160ZM180-180h160v-160H180v160Zm440 0h160v-160H620v160Z\"/>\n",
              "  </svg>\n",
              "    </button>\n",
              "\n",
              "  <style>\n",
              "    .colab-df-container {\n",
              "      display:flex;\n",
              "      gap: 12px;\n",
              "    }\n",
              "\n",
              "    .colab-df-convert {\n",
              "      background-color: #E8F0FE;\n",
              "      border: none;\n",
              "      border-radius: 50%;\n",
              "      cursor: pointer;\n",
              "      display: none;\n",
              "      fill: #1967D2;\n",
              "      height: 32px;\n",
              "      padding: 0 0 0 0;\n",
              "      width: 32px;\n",
              "    }\n",
              "\n",
              "    .colab-df-convert:hover {\n",
              "      background-color: #E2EBFA;\n",
              "      box-shadow: 0px 1px 2px rgba(60, 64, 67, 0.3), 0px 1px 3px 1px rgba(60, 64, 67, 0.15);\n",
              "      fill: #174EA6;\n",
              "    }\n",
              "\n",
              "    .colab-df-buttons div {\n",
              "      margin-bottom: 4px;\n",
              "    }\n",
              "\n",
              "    [theme=dark] .colab-df-convert {\n",
              "      background-color: #3B4455;\n",
              "      fill: #D2E3FC;\n",
              "    }\n",
              "\n",
              "    [theme=dark] .colab-df-convert:hover {\n",
              "      background-color: #434B5C;\n",
              "      box-shadow: 0px 1px 3px 1px rgba(0, 0, 0, 0.15);\n",
              "      filter: drop-shadow(0px 1px 2px rgba(0, 0, 0, 0.3));\n",
              "      fill: #FFFFFF;\n",
              "    }\n",
              "  </style>\n",
              "\n",
              "    <script>\n",
              "      const buttonEl =\n",
              "        document.querySelector('#df-58f36869-82af-442a-ae61-945025c1a581 button.colab-df-convert');\n",
              "      buttonEl.style.display =\n",
              "        google.colab.kernel.accessAllowed ? 'block' : 'none';\n",
              "\n",
              "      async function convertToInteractive(key) {\n",
              "        const element = document.querySelector('#df-58f36869-82af-442a-ae61-945025c1a581');\n",
              "        const dataTable =\n",
              "          await google.colab.kernel.invokeFunction('convertToInteractive',\n",
              "                                                    [key], {});\n",
              "        if (!dataTable) return;\n",
              "\n",
              "        const docLinkHtml = 'Like what you see? Visit the ' +\n",
              "          '<a target=\"_blank\" href=https://colab.research.google.com/notebooks/data_table.ipynb>data table notebook</a>'\n",
              "          + ' to learn more about interactive tables.';\n",
              "        element.innerHTML = '';\n",
              "        dataTable['output_type'] = 'display_data';\n",
              "        await google.colab.output.renderOutput(dataTable, element);\n",
              "        const docLink = document.createElement('div');\n",
              "        docLink.innerHTML = docLinkHtml;\n",
              "        element.appendChild(docLink);\n",
              "      }\n",
              "    </script>\n",
              "  </div>\n",
              "\n",
              "\n",
              "<div id=\"df-0bbf66b7-4538-4770-bb1f-af8a78c690de\">\n",
              "  <button class=\"colab-df-quickchart\" onclick=\"quickchart('df-0bbf66b7-4538-4770-bb1f-af8a78c690de')\"\n",
              "            title=\"Suggest charts\"\n",
              "            style=\"display:none;\">\n",
              "\n",
              "<svg xmlns=\"http://www.w3.org/2000/svg\" height=\"24px\"viewBox=\"0 0 24 24\"\n",
              "     width=\"24px\">\n",
              "    <g>\n",
              "        <path d=\"M19 3H5c-1.1 0-2 .9-2 2v14c0 1.1.9 2 2 2h14c1.1 0 2-.9 2-2V5c0-1.1-.9-2-2-2zM9 17H7v-7h2v7zm4 0h-2V7h2v10zm4 0h-2v-4h2v4z\"/>\n",
              "    </g>\n",
              "</svg>\n",
              "  </button>\n",
              "\n",
              "<style>\n",
              "  .colab-df-quickchart {\n",
              "      --bg-color: #E8F0FE;\n",
              "      --fill-color: #1967D2;\n",
              "      --hover-bg-color: #E2EBFA;\n",
              "      --hover-fill-color: #174EA6;\n",
              "      --disabled-fill-color: #AAA;\n",
              "      --disabled-bg-color: #DDD;\n",
              "  }\n",
              "\n",
              "  [theme=dark] .colab-df-quickchart {\n",
              "      --bg-color: #3B4455;\n",
              "      --fill-color: #D2E3FC;\n",
              "      --hover-bg-color: #434B5C;\n",
              "      --hover-fill-color: #FFFFFF;\n",
              "      --disabled-bg-color: #3B4455;\n",
              "      --disabled-fill-color: #666;\n",
              "  }\n",
              "\n",
              "  .colab-df-quickchart {\n",
              "    background-color: var(--bg-color);\n",
              "    border: none;\n",
              "    border-radius: 50%;\n",
              "    cursor: pointer;\n",
              "    display: none;\n",
              "    fill: var(--fill-color);\n",
              "    height: 32px;\n",
              "    padding: 0;\n",
              "    width: 32px;\n",
              "  }\n",
              "\n",
              "  .colab-df-quickchart:hover {\n",
              "    background-color: var(--hover-bg-color);\n",
              "    box-shadow: 0 1px 2px rgba(60, 64, 67, 0.3), 0 1px 3px 1px rgba(60, 64, 67, 0.15);\n",
              "    fill: var(--button-hover-fill-color);\n",
              "  }\n",
              "\n",
              "  .colab-df-quickchart-complete:disabled,\n",
              "  .colab-df-quickchart-complete:disabled:hover {\n",
              "    background-color: var(--disabled-bg-color);\n",
              "    fill: var(--disabled-fill-color);\n",
              "    box-shadow: none;\n",
              "  }\n",
              "\n",
              "  .colab-df-spinner {\n",
              "    border: 2px solid var(--fill-color);\n",
              "    border-color: transparent;\n",
              "    border-bottom-color: var(--fill-color);\n",
              "    animation:\n",
              "      spin 1s steps(1) infinite;\n",
              "  }\n",
              "\n",
              "  @keyframes spin {\n",
              "    0% {\n",
              "      border-color: transparent;\n",
              "      border-bottom-color: var(--fill-color);\n",
              "      border-left-color: var(--fill-color);\n",
              "    }\n",
              "    20% {\n",
              "      border-color: transparent;\n",
              "      border-left-color: var(--fill-color);\n",
              "      border-top-color: var(--fill-color);\n",
              "    }\n",
              "    30% {\n",
              "      border-color: transparent;\n",
              "      border-left-color: var(--fill-color);\n",
              "      border-top-color: var(--fill-color);\n",
              "      border-right-color: var(--fill-color);\n",
              "    }\n",
              "    40% {\n",
              "      border-color: transparent;\n",
              "      border-right-color: var(--fill-color);\n",
              "      border-top-color: var(--fill-color);\n",
              "    }\n",
              "    60% {\n",
              "      border-color: transparent;\n",
              "      border-right-color: var(--fill-color);\n",
              "    }\n",
              "    80% {\n",
              "      border-color: transparent;\n",
              "      border-right-color: var(--fill-color);\n",
              "      border-bottom-color: var(--fill-color);\n",
              "    }\n",
              "    90% {\n",
              "      border-color: transparent;\n",
              "      border-bottom-color: var(--fill-color);\n",
              "    }\n",
              "  }\n",
              "</style>\n",
              "\n",
              "  <script>\n",
              "    async function quickchart(key) {\n",
              "      const quickchartButtonEl =\n",
              "        document.querySelector('#' + key + ' button');\n",
              "      quickchartButtonEl.disabled = true;  // To prevent multiple clicks.\n",
              "      quickchartButtonEl.classList.add('colab-df-spinner');\n",
              "      try {\n",
              "        const charts = await google.colab.kernel.invokeFunction(\n",
              "            'suggestCharts', [key], {});\n",
              "      } catch (error) {\n",
              "        console.error('Error during call to suggestCharts:', error);\n",
              "      }\n",
              "      quickchartButtonEl.classList.remove('colab-df-spinner');\n",
              "      quickchartButtonEl.classList.add('colab-df-quickchart-complete');\n",
              "    }\n",
              "    (() => {\n",
              "      let quickchartButtonEl =\n",
              "        document.querySelector('#df-0bbf66b7-4538-4770-bb1f-af8a78c690de button');\n",
              "      quickchartButtonEl.style.display =\n",
              "        google.colab.kernel.accessAllowed ? 'block' : 'none';\n",
              "    })();\n",
              "  </script>\n",
              "</div>\n",
              "\n",
              "    </div>\n",
              "  </div>\n"
            ],
            "application/vnd.google.colaboratory.intrinsic+json": {
              "type": "dataframe",
              "summary": "{\n  \"name\": \"df[['Resume_str', 'Cleaned_Resume', 'Category']]\",\n  \"rows\": 5,\n  \"fields\": [\n    {\n      \"column\": \"Resume_str\",\n      \"properties\": {\n        \"dtype\": \"string\",\n        \"num_unique_values\": 5,\n        \"samples\": [\n          \"         HR SPECIALIST, US HR OPERATIONS       Summary     Versatile  media professional with background in Communications, Marketing, Human Resources and Technology.\\u00a0        Experience     09/2015   to   Current     HR Specialist, US HR Operations    Company Name   \\uff0d   City  ,   State       Managed communication regarding launch of Operations group, policy changes and system outages      Designed standard work and job aids to create comprehensive training program for new employees and contractors         Audited job postings for old, pending, on-hold and draft positions.           Audited union hourly, non-union hourly and salary background checks and drug screens             Conducted monthly new hire benefits briefing to new employees across all business units               Served as a link between HR Managers and vendors by handling questions and resolving system-related issues         Provide real-time process improvement feedback on key metrics and initiatives  Successfully re-branded US HR Operations SharePoint site  Business Unit project manager for RFI/RFP on Background Check and Drug Screen vendor         01/2014   to   05/2015     IT, Marketing and Communications Co-op    Company Name   \\uff0d   City  ,   State      Posted new articles, changes and updates to corporate SharePoint site including graphics and visual communications.  Researched and drafted articles and feature stories to promote company activities and programs.  Co-edited and developed content for quarterly published newsletter.  Provided communication support for internal and external events.  Collaborated with Communication team, media professionals and vendors to determine program needs for print materials, web design and digital communications.  Entrusted to lead product, service and software launches for Digital Asset Management tool, Marketing Toolkit website and Executive Tradeshows Calendar.  Created presentations for management and executive approval to ensure alignment with corporate guidelines and branding.  Maintained the MySikorsky SharePoint site and provided timely solutions to mitigate issues.\\u00a0\\u00a0\\u00a0\\u00a0  Created story board and produced video for annual IT All Hands meeting.         10/2012   to   01/2014     Relationship Coordinator/Marketing Specialist    Company Name   \\uff0d   City  ,   State       Partnered with vendor to manage the in-house advertising program consisting of print and media collateral pieces.     Coordinated pre-show and post-show activities at trade shows.     Managed marketing campaigns to generate new business and to support partner and sales teams.     Ordered marketing collateral for meetings, trade shows and advisors.    Improved, administered and modified marketing programs to increase product awareness.  Assisted in preparing internal promotional publications, managed marketing material inventory and supervised distribution of publications to ensure high quality product output.  Coordinated marketing materials including brochures, promotional materials and products.  Partnered with graphic designers to develop appropriate materials and branding for brochures.  Used tracking and reporting systems for sales leads and appointments.         09/2009   to   10/2012     Assistant Head Teller    Company Name   \\uff0d   City  ,   State       Received an internal audit score of  100 %.     Performed daily and monthly audits of ATM machines and tellers.     Educated customers on a variety of retail products and available credit options.       Consistently met or exceeded quarterly sales goals     Promoted products and services to\\ncustomers while maintaining company brand identity\\n\\n\\u00b7\\u00a0\\u00a0\\u00a0\\u00a0\\n  Implemented programs to achieve\\nand exceed customer and company participation goals\\u00a0\\n\\n\\u00a0  Organized company sponsored events on campus resulting in increased\\nbrand awareness\\n\\n\\u00b7\\u00a0\\u00a0\\u00a0\\u00a0\\n  Coached peers on\\nthe proper use of programs to improve work flow efficiency  Utilized product knowledge to successfully sell\\nto and refer clients based on individual needs  Promoted marketing the grand opening\\nof new branch locations to strengthen company brand affinity\\n\\n\\u00b7\\u00a0\\u00a0\\u00a0\\u00a0   Organized company sponsored events\\nresulting in increased brand awareness and improved sales\\n\\n\\u00b7\\u00a0\\u00a0\\u00a0\\u00a0   Coached peers on the proper use of\\nprograms to increase work flow efficiency\\n\\n          Senior Producer - 2014 SHU Media Exchange    Company Name   \\uff0d   City  ,   State      Planned and executed event\\u00a0focusing on Connecticut's creative corridor, growth of industry and opportunities that come with development. A\\u00a0 panel of industry professionals addressed topics related to media and hosted a question and answer session for approximately 110 attendees. Following the forum, guests were invited to engage in networking and conversation at a post-event reception.         Education     2014     Master of Arts  :   Corporate Communication & Public Relations    Sacred Heart University   \\uff0d   City  ,   State             2013     Bachelor of Arts  :   Relational Communication    Western Connecticut State University   \\uff0d   City  ,   State              Skills    Adobe Photoshop, ADP, Asset Management, branding, brochures, content, Customer Care, Final Cut Pro, graphics, graphic, HR, Illustrator, InDesign, Innovation, inventory, Lotus Notes, marketing, marketing materials, marketing material, materials, Microsoft Office, SharePoint, newsletter, presentations, process improvement, Project Management, promotional materials, publications, Quality, real-time, Recruitment, reporting, RFP, sales, stories, Employee Development, video, web design, website, articles   \",\n          \"         HR MANAGER         Skill Highlights           HR SKILLS  HR Department Startup  Three New Organization Startups  Employment Law  FMLA/ADA/EEO/WC  Mediation & Advocacy  HR Policies & Procedures\\t*Staff Recruitment & Retention  Salary Negotiations  Employee Relations  Benefits Administration  Unemployment Administration  Worker's Compensation Administration  Orientation & On-Boarding  HRIS Technologies  Training & Development  Performance Management  Organizational Development  HR Program/Project Management  HRIS applications (Lawson, Paychex, Kronos, ADP)  MS Office (Word, Excel, PowerPoint, Publisher, Access, Visio, Outlook)                Professional Experience      HR Manager     Jan 2015   to   Current      Company Name   \\uff0d   City  ,   State     Manage the Human Resource function for e-Cycle's corporate office as well as their fulfillment and data center, consisting of benefits and compensation administration, payroll, employee relations, policy compliance, and recruitment.  Key Results: Foster an associate-oriented culture that emphasizes continuous improvement, team- work, high performance and quality.  Ensure organizational conformation with applicable HR related regulations and statutes as well as organizational procedures and policies.  Implement HR programs and policies as needed by the organization.  Identify, evaluate, and resolve human relations, employee morale, work performance, and organizational productivity concerns.  Develop staffing strategies and implement programs and plans to identify and cultivate effective and appropriate sources for employees at all job levels.  Create or assist in the creation of associate training and organizational development programs.  Develop and manage the annual associate review process.  Insure that regional staff is included in corporate activities and feel like they are a part of the team.  Responsible for the human resource management system(s) and provide staff and management with essential reporting information in order to help them in managing their associate resources.  Recruit and retain top quality associates for each department, this includes recruiting nationally and in some cases at an executive level.  Create or assist in the creation of compensation plans.  Employee benefit administration consisting of Health, Dental, Vision, VSTD, VLTD and 401(k).  Successful in reducing the health benefit expected increase from 46% to 5% during my first month with the organization.         Sr. HR Manager     Jan 2013   to   Jan 2015      Company Name   \\uff0d   City  ,   State     As a leader within the HR and Operations team, I was instrumental in partnering with local leadership and Corporate HR to develop and implement HR policies, processes, technology and services that are aligned to support our company's strategic initiatives in order to have a successful start-up.  Key Results: Coordinated efforts to recruit and hire over 220 full time hourly associates and 27 management level employees while converting agency staff to full time.  Instrumental in managing and creating the set up of the HR business office, which included development of personnel files, new hire practices, payroll, and HR reporting.  Manage, by providing direction and development to HR, and develop the HR delivery as business continued to grow.  Strategic business partner to the Site Director, as well as other operations leaders, in support of start-up operations, day-to-day operations, and peak season planning, staffing and operations.  Worked successfully with local temporary agencies in order to staff to our Peak volume, which consisted of over 1800 total associates delivering over 3 million units from Black Friday to Christmas.  Influence HR strategy and execute tactical direction for the facility within the overall HR strategy.  Ensure internal consistency of HR policies and procedures across multiple locations.  Interact with the Corporate HR team for exempt staffing, compensation and benefits, and other functional groups in order to support Operations.  Maintain knowledge of HR policies and procedures, laws and regulations, industry trends and developments to ensure accurate information is being communicated throughout the company.  Develop a work environment that demonstrates Fanatics core values.  Provide strategic direction on leadership development and workforce planning initiatives within the fulfillment center.  Coach senior business leaders and front line supervisors on HR polices, procedures, and best practices in dealing with employee relation issues, such as, poor performance, attendance, and behavior and conduct issues.  Championed a fun, friendly and approachable HR team of professionals.  Ensure integrity, maintenance and confidentiality of all personnel records in accordance with policies and procedures and applicable Federal and State laws.  Improve HR service delivery in line with overall business performance expectations.  Look for ways to innovate systems for HR delivery (People, process & technology).  Manage the HR function with measurable objectives, and communicate the bottom line impact of HR delivery to the business.         HR Director     Jan 2008   to   Jan 2012      Company Name   \\uff0d   City  ,   State     As a member of the executive team, I was directly and solely responsible for providing situation appropriate and policy compliant human resource support for 2 separate business units for a community based, non-profit, health care organization with approximately 184 employees.  Key Results: Played a key role in ensuring the successful merge of five separate private physician practices into one Non-Profit organization.  Structured and implemented programs and policies in the areas of compensation structures, benefits packages, incentive compensation plans and physician employment contracts.  Fostered a teamwork/open-door environment conducive to positive dialogue across the organization with an 85% overall employee satisfaction rating.  Responsible for maintaining staffing levels for all positions within the health center which consisted of full time, part time and on-call staff.  Negotiated more than 100 salary offers at both the exempt and nonexempt level.  Successful recruitment of Physicians, CEO, COO, CFO, CMO and various managers.  Wrote employee manual covering issues including disciplinary procedures, code of conduct, FMLA, attendance policies and benefits information.  Implemented employee satisfaction surveys and presented results to Board of directors.  Introduced company's first formal performance review program.  Developed job descriptions across all levels and categories.  Shadowed\\\" and interviewed employees to construct an accurate picture of the duties and skills required for each position.         HR Representative     Jan 2001   to   Jan 2007      Company Name   \\uff0d   City  ,   State     Nation's largest small-box discount retailer.  Fulfilled a broad range of HR Generalist functions, including recruiting, administering benefits, overseeing disciplinary action and managing HR support staff.  Key Results: Trained management team on interviewing techniques and best practices, conducted workshops and one-on-one coaching sessions that contributed to sound hiring decisions.  Instrumental in the start-up of the new 1.2 million sq.  ft.  state of the art distribution center.  Hiring over 400 plus employees within the first year that consisted of part time, full time and temporary staff.  Overseen morale-boosting programs (including special events, annual employee picnic, attendance and safety banquets, etc.  that increased employee satisfaction and productivity.  Investigated all employee relation issues, such as sexual harassment, discrimination, and inappropriate conduct by either hourly employees and or management staff.  Responsible for staffing all hourly positions, which consisted of maintaining 878 hourly employees among three shifts.         Education      Bachelor of Business Administration      MOUNT VERNON NAZARENE UNIVERSITY   \\uff0d   City  ,   State            Professional Affiliations    Society for Human Resource Management (SHRM)\\n*Muskingum Valley Human Resource Management Association      Skills    ADA, ADP, art, agency, benefits, Benefits Administration, Coach, coaching, conflict resolution, continuous improvement, contracts, decision making, delivery, direction, Employee Relations, special events, financial, functional, Hiring, HRIS, human resource management, Human Resource, Human Resources, HR, human relations, Kronos, Lawson, leadership, leadership development, Law, legal compliance, Director, managing, management reporting, Mediation, Access, Excel, MS Office, office, Outlook, PowerPoint, Publisher, win, Word, negotiating, Negotiations, Organizational Development, organizational, payroll, Peak, Performance Management, personnel, Policies, problem solving, processes, Profit, implement programs, Project Management, quality, quantitative analysis, Recruitment, recruiting, reporting, safety, sound, staff development, staffing, strategy, Strategic, Structured, surveys, team- work, teamwork, Visio, Vision, workshops   \",\n          \"         HR DIRECTOR       Summary      Over 20 years experience in recruiting,   15 plus years in Human Resources Executive Management,   5 years of HRIS development and maintenance  4 years working in a Healthcare Enviroment        Skills          Recruiting  FMLA/EEO/FLSA\\u00a0  HRIS Development      Benefit Administration  Policy Development  Web Page Development\\u00a0            Accomplishments      Kansas Health Institute -Health Outcomes for the State of Kansas -1999 \\nMemberships and Accolades: Project Management Institute Member, SHRM, Chamber of Commerce, 1999 Friends University President's Honor Roll, 1997 Friends University Dean's Honor Roll, Student Liaison for Friends University Topeka (member of Mother-To-Mother, member of the Topeka \\nAdvertising Federation, several production pieces created nominated for ADDY Awards, received recognition for outstanding customer service assistance by the State of Kansas Travel and Tourism Department., ASHHRA, KAHHR, ACM.  Additional Information: \\nLeading Change -I have been instrumental in development and implementation of the Adjutant General's Retention Research project, involving survey development and analyzing the results of the surveys to present to the Adjutant General to help retain the qualified talent of the Departments.  I have been tasked with working with the Federal Security Manager for the Joint Forces Headquarters in developing policies, procedures and processes to ensure that all current and new State Employees have the appropriate security clearances for the position held per the Federal Government Requirements.  While at LMIS, I lead the Job Vacancy Project and was able to produce results in less time and man hours than in years before with staff that were inexperienced in the JVC process and procedures.  I have been responsible to develop, plan and implement database programs, for the last three positions I have held.  These were designed to cultivate, involve, renew contact, and promote active and potential employees.  These databases were used for reporting FTE usage, budget management and turnover reports.  While working in the healthcare field, I took the initiative in creating a local website that was used to receive and respond to requests for information and assistance in marketing and promoting the healthcare facility along with recruitment of potential employees.  As Human Resource Coordinator in the healthcare field, I managed the front office personnel, reduced contract labor costs for nursing staff and implemented a unique pay structure to increase PRN staff utilization.  I continually think \\\"Outside-the-box\\\" to create and develop strategies to resolve issues faced in my work environment.  In my current position, I have met and exceeded all hiring goals for the firm.  This resulted in our client increasing the business transferred to our location.        Experience      HR Director   09/2016   to   Current     Company Name   City  ,   State       Developed New Website for Agency, payroll processing changes, and implementation of\\nnew HRIS System.   Oversaw the employment process taking the lead role in clinician, physician and management\\nteam recruitment initiatives.\\n\\n  Developed, maintain\\nand interpret HR policy. Authored the Employee Handbook.\\n\\nProvided coaching\\nand support to management and supervisors on performance management and other\\nrelated issues. \\n\\n  Maintained in-depth\\nknowledge of legal requirements related to day-to-day management of employees,\\nreducing legal risks and ensuring regulatory compliance.   Evaluated and\\nrecommend changes to the employee benefits plan. Oversaw day to day\\nadministration of benefits.\\u00a0           HR Director   04/2009   to   09/2016     Company Name   City  ,   State       Develped Supervisory Education, SHRO Website, SHRO HRIS System and Automation of payroll processing.  Established and directed a comprehensive statewide human resource program for both classified and unclassified State employees/positions in the Adjutant General's Department.  Resolved non-routine HR related issues associated as they arose; reviewed documents and approved all hires and promotions; reviews and approved, modified and/or disapproved wage/salary requests to hire individuals above the pre-established minimum classified or unclassified pay rate,  \\u00a0Reviewed any significant changes to position descriptions and determined if reclassification should be pursued; reviewed position descriptions for new positions and determined the appropriate wage range based on comparable classified position (if they exist),   Consulted with the TAG and both military and state manager/ supervisors in order to provide technical and common sense guidance on properly addressing sensitive or complex employee and organizational issues; aided them in achieving their ever changing program goals and provided innovative ideas for staffing;             Served as the administration's management representative in labor negotiations with the local KAPE unit at the 190th Fire Department.          HR Manager/Sr. Recruiter   10/2003   to   06/2006     Company Name   City  ,   State       Created an HRIS tracking system used for recruitment.  Responsible for Ramp up and hiring of all customer service agents, and other positions as needed.  Placement and development of all advertising \\nMet and exceeded all hiring goals. Responsible for Hiring Senior Management to cover such duties as: Team Managers, Payroll, Quality Control.  Responsible for recruitment of 950 new employees, meeting and exceeded goals set.  Coordinated and facilitated manpower planning, recruitment and retention, career development and training, staff relations, compensation and benefits, compliance with local, state and federal statutory regulations, public programs, and regulatory audit procedures.  Served as a resource person to administration, mid-level management and staff regarding HR related.          Human Resources Coordinator   03/1996   to   02/2000     Company Name   City  ,   State       Developed HRIS database from ground up for employee records and monitoring.  Instrumental in reducing the use of Agency Staffing needs for hospital.  Coordinated and facilitates manpower planning, recruitment and retention, career development and training, staff relations, compensation and benefits, compliance with local, state and federal statutory regulations, public programs, and regulatory audit procedures.  Served as the HR resource source for administration, mid-level management and staff.  Coordinated hiring procedures, appraisals, pay increases, promotions, transfers, terminations, job postings, and all corrective actions;  One Person Office, responsible for all OSHA, Work Comp, Benefits, payroll, etc.          Education and Training      Master's Degree  :   Information Management Systems   05/2005       Friends University   City  ,   State  ,   United States     3.5 Credits Earned: 62 Semester hours Information Management Systems        Bachelor of Science  :   Organizational Management   05/2000       Friends University   City  ,   State  ,   United States      4.0 Credits Earned: 62 Semester hours             Activities and Honors    Topeka Chamber of Commerce -Ambassador \\nKansas Hospital Association -Health Care Human Resources Member \\nSHRM -Legislative Liaison      Skills      Desktop Publishing,\\u00a0  Newsletter productions,   DATABASE Management,   Leadership \\n\\nTraining,  OSHA, FMLA, \\n\\nWorkers Compensation.   PageMaker,   Agency Automation, back-up,   Benefits,  Budget management,  Corel Suite,   Harvard Graphics,  Access, Excel, Microsoft Publisher, MS Word,\\u00a0   Quark Express, Quattro Pro,   Strategic Planning,\\u00a0   Web page development,   WordPerfect     \"\n        ],\n        \"semantic_type\": \"\",\n        \"description\": \"\"\n      }\n    },\n    {\n      \"column\": \"Cleaned_Resume\",\n      \"properties\": {\n        \"dtype\": \"string\",\n        \"num_unique_values\": 5,\n        \"samples\": [\n          \"hr specialist us hr operations summary versatile media professional background communications marketing human resources technology experience current hr specialist us hr operations company name city state managed communication regarding launch operations group policy changes system outages designed standard work job aids create comprehensive training program new employees contractors audited job postings old pending onhold draft positions audited union hourly nonunion hourly salary background checks drug screens conducted monthly new hire benefits briefing new employees across business units served link hr managers vendors handling questions resolving systemrelated issues provide realtime process improvement feedback key metrics initiatives successfully rebranded us hr operations sharepoint site business unit project manager rfirfp background check drug screen vendor marketing communications coop company name city state posted new articles changes updates corporate sharepoint site including graphics visual communications researched drafted articles feature stories promote company activities programs coedited developed content quarterly published newsletter provided communication support internal external events collaborated communication team media professionals vendors determine program needs print materials web design digital communications entrusted lead product service software launches digital asset management tool marketing toolkit website executive tradeshows calendar created presentations management executive approval ensure alignment corporate guidelines branding maintained mysikorsky sharepoint site provided timely solutions mitigate issues created story board produced video annual hands meeting relationship coordinatormarketing specialist company name city state partnered vendor manage inhouse advertising program consisting print media collateral pieces coordinated preshow postshow activities trade shows managed marketing campaigns generate new business support partner sales teams ordered marketing collateral meetings trade shows advisors improved administered modified marketing programs increase product awareness assisted preparing internal promotional publications managed marketing material inventory supervised distribution publications ensure high quality product output coordinated marketing materials including brochures promotional materials products partnered graphic designers develop appropriate materials branding brochures used tracking reporting systems sales leads appointments assistant head teller company name city state received internal audit score performed daily monthly audits atm machines tellers educated customers variety retail products available credit options consistently met exceeded quarterly sales goals promoted products services customers maintaining company brand identity implemented programs achieve exceed customer company participation goals organized company sponsored events campus resulting increased brand awareness coached peers proper use programs improve work flow efficiency utilized product knowledge successfully sell refer clients based individual needs promoted marketing grand opening new branch locations strengthen company brand affinity organized company sponsored events resulting increased brand awareness improved sales coached peers proper use programs increase work flow efficiency senior producer shu media exchange company name city state planned executed event focusing connecticuts creative corridor growth industry opportunities come development panel industry professionals addressed topics related media hosted question answer session approximately attendees following forum guests invited engage networking conversation postevent reception education master arts corporate communication public relations sacred heart university city state bachelor arts relational communication western connecticut state university city state skills adobe photoshop adp asset management branding brochures content customer care final cut pro graphics graphic hr illustrator indesign innovation inventory lotus notes marketing marketing materials marketing material materials microsoft office sharepoint newsletter presentations process improvement project management promotional materials publications quality realtime recruitment reporting rfp sales stories employee development video web design website articles\",\n          \"hr manager skill highlights hr skills hr department startup three new organization startups employment law fmlaadaeeowc mediation advocacy hr policies procedures staff recruitment retention salary negotiations employee relations benefits administration unemployment administration workers compensation administration orientation onboarding hris technologies training development performance management organizational development hr programproject management hris applications lawson paychex kronos adp ms office word excel powerpoint publisher access visio outlook professional experience hr manager jan current company name city state manage human resource function ecycles corporate office well fulfillment data center consisting benefits compensation administration payroll employee relations policy compliance recruitment key results foster associateoriented culture emphasizes continuous improvement team work high performance quality ensure organizational conformation applicable hr related regulations statutes well organizational procedures policies implement hr programs policies needed organization identify evaluate resolve human relations employee morale work performance organizational productivity concerns develop staffing strategies implement programs plans identify cultivate effective appropriate sources employees job levels create assist creation associate training organizational development programs develop manage annual associate review process insure regional staff included corporate activities feel like part team responsible human resource management systems provide staff management essential reporting information order help managing associate resources recruit retain top quality associates department includes recruiting nationally cases executive level create assist creation compensation plans employee benefit administration consisting health dental vision vstd vltd k successful reducing health benefit expected increase first month organization sr hr manager jan jan company name city state leader within hr operations team instrumental partnering local leadership corporate hr develop implement hr policies processes technology services aligned support companys strategic initiatives order successful startup key results coordinated efforts recruit hire full time hourly associates management level employees converting agency staff full time instrumental managing creating set hr business office included development personnel files new hire practices payroll hr reporting manage providing direction development hr develop hr delivery business continued grow strategic business partner site director well operations leaders support startup operations daytoday operations peak season planning staffing operations worked successfully local temporary agencies order staff peak volume consisted total associates delivering million units black friday christmas influence hr strategy execute tactical direction facility within overall hr strategy ensure internal consistency hr policies procedures across multiple locations interact corporate hr team exempt staffing compensation benefits functional groups order support operations maintain knowledge hr policies procedures laws regulations industry trends developments ensure accurate information communicated throughout company develop work environment demonstrates fanatics core values provide strategic direction leadership development workforce planning initiatives within fulfillment center coach senior business leaders front line supervisors hr polices procedures best practices dealing employee relation issues poor performance attendance behavior conduct issues championed fun friendly approachable hr team professionals ensure integrity maintenance confidentiality personnel records accordance policies procedures applicable federal state laws improve hr service delivery line overall business performance expectations look ways innovate systems hr delivery people process technology manage hr function measurable objectives communicate bottom line impact hr delivery business hr director jan jan company name city state member executive team directly solely responsible providing situation appropriate policy compliant human resource support separate business units community based nonprofit health care organization approximately employees key results played key role ensuring successful merge five separate private physician practices one nonprofit organization structured implemented programs policies areas compensation structures benefits packages incentive compensation plans physician employment contracts fostered teamworkopendoor environment conducive positive dialogue across organization overall employee satisfaction rating responsible maintaining staffing levels positions within health center consisted full time part time oncall staff negotiated salary offers exempt nonexempt level successful recruitment physicians ceo coo cfo cmo various managers wrote employee manual covering issues including disciplinary procedures code conduct fmla attendance policies benefits information implemented employee satisfaction surveys presented results board directors introduced companys first formal performance review program developed job descriptions across levels categories shadowed interviewed employees construct accurate picture duties skills required position hr representative jan jan company name city state nations largest smallbox discount retailer fulfilled broad range hr generalist functions including recruiting administering benefits overseeing disciplinary action managing hr support staff key results trained management team interviewing techniques best practices conducted workshops oneonone coaching sessions contributed sound hiring decisions instrumental startup new million sq ft state art distribution center hiring plus employees within first year consisted part time full time temporary staff overseen moraleboosting programs including special events annual employee picnic attendance safety banquets etc increased employee satisfaction productivity investigated employee relation issues sexual harassment discrimination inappropriate conduct either hourly employees management staff responsible staffing hourly positions consisted maintaining hourly employees among three shifts education bachelor business administration mount vernon nazarene university city state professional affiliations society human resource management shrm muskingum valley human resource management association skills ada adp art agency benefits benefits administration coach coaching conflict resolution continuous improvement contracts decision making delivery direction employee relations special events financial functional hiring hris human resource management human resource human resources hr human relations kronos lawson leadership leadership development law legal compliance director managing management reporting mediation access excel ms office office outlook powerpoint publisher win word negotiating negotiations organizational development organizational payroll peak performance management personnel policies problem solving processes profit implement programs project management quality quantitative analysis recruitment recruiting reporting safety sound staff development staffing strategy strategic structured surveys team work teamwork visio vision workshops\",\n          \"hr director summary years experience recruiting plus years human resources executive management years hris development maintenance years working healthcare enviroment skills recruiting fmlaeeoflsa hris development benefit administration policy development web page development accomplishments kansas health institute health outcomes state kansas memberships accolades project management institute member shrm chamber commerce friends university presidents honor roll friends university deans honor roll student liaison friends university topeka member mothertomother member topeka advertising federation several production pieces created nominated addy awards received recognition outstanding customer service assistance state kansas travel tourism department ashhra kahhr acm additional information leading change instrumental development implementation adjutant generals retention research project involving survey development analyzing results surveys present adjutant general help retain qualified talent departments tasked working federal security manager joint forces headquarters developing policies procedures processes ensure current new state employees appropriate security clearances position held per federal government requirements lmis lead job vacancy project able produce results less time man hours years staff inexperienced jvc process procedures responsible develop plan implement database programs last three positions held designed cultivate involve renew contact promote active potential employees databases used reporting fte usage budget management turnover reports working healthcare field took initiative creating local website used receive respond requests information assistance marketing promoting healthcare facility along recruitment potential employees human resource coordinator healthcare field managed front office personnel reduced contract labor costs nursing staff implemented unique pay structure increase prn staff utilization continually think outsidethebox create develop strategies resolve issues faced work environment current position met exceeded hiring goals firm resulted client increasing business transferred location experience hr director current company name city state developed new website agency payroll processing changes implementation new hris system oversaw employment process taking lead role clinician physician management team recruitment initiatives developed maintain interpret hr policy authored employee handbook provided coaching support management supervisors performance management related issues maintained indepth knowledge legal requirements related daytoday management employees reducing legal risks ensuring regulatory compliance evaluated recommend changes employee benefits plan oversaw day day administration benefits hr director company name city state develped supervisory education shro website shro hris system automation payroll processing established directed comprehensive statewide human resource program classified unclassified state employeespositions adjutant generals department resolved nonroutine hr related issues associated arose reviewed documents approved hires promotions reviews approved modified andor disapproved wagesalary requests hire individuals preestablished minimum classified unclassified pay rate reviewed significant changes position descriptions determined reclassification pursued reviewed position descriptions new positions determined appropriate wage range based comparable classified position exist consulted tag military state manager supervisors order provide technical common sense guidance properly addressing sensitive complex employee organizational issues aided achieving ever changing program goals provided innovative ideas staffing served administrations management representative labor negotiations local kape unit th fire department hr managersr recruiter company name city state created hris tracking system used recruitment responsible ramp hiring customer service agents positions needed placement development advertising met exceeded hiring goals responsible hiring senior management cover duties team managers payroll quality control responsible recruitment new employees meeting exceeded goals set coordinated facilitated manpower planning recruitment retention career development training staff relations compensation benefits compliance local state federal statutory regulations public programs regulatory audit procedures served resource person administration midlevel management staff regarding hr related human resources coordinator company name city state developed hris database ground employee records monitoring instrumental reducing use agency staffing needs hospital coordinated facilitates manpower planning recruitment retention career development training staff relations compensation benefits compliance local state federal statutory regulations public programs regulatory audit procedures served hr resource source administration midlevel management staff coordinated hiring procedures appraisals pay increases promotions transfers terminations job postings corrective actions one person office responsible osha work comp benefits payroll etc education training masters degree information management systems friends university city state united states credits earned semester hours information management systems bachelor science organizational management friends university city state united states credits earned semester hours activities honors topeka chamber commerce ambassador kansas hospital association health care human resources member shrm legislative liaison skills desktop publishing newsletter productions database management leadership training osha fmla workers compensation pagemaker agency automation backup benefits budget management corel suite harvard graphics access excel microsoft publisher ms word quark express quattro pro strategic planning web page development wordperfect\"\n        ],\n        \"semantic_type\": \"\",\n        \"description\": \"\"\n      }\n    },\n    {\n      \"column\": \"Category\",\n      \"properties\": {\n        \"dtype\": \"category\",\n        \"num_unique_values\": 1,\n        \"samples\": [\n          \"HR\"\n        ],\n        \"semantic_type\": \"\",\n        \"description\": \"\"\n      }\n    }\n  ]\n}"
            }
          },
          "metadata": {},
          "execution_count": 28
        }
      ]
    },
    {
      "cell_type": "markdown",
      "source": [
        "**Feature Extraction Using TF-IDF**"
      ],
      "metadata": {
        "id": "DMOlJelXBZvM"
      }
    },
    {
      "cell_type": "code",
      "source": [
        "from sklearn.feature_extraction.text import TfidfVectorizer\n",
        "\n",
        "# Initialize TF-IDF Vectorizer\n",
        "vectorizer = TfidfVectorizer(max_features=5000)\n",
        "\n",
        "# Fit and transform the cleaned text data\n",
        "X = vectorizer.fit_transform(df['Cleaned_Resume'])\n",
        "\n",
        "\n"
      ],
      "metadata": {
        "id": "RDQBTtVhbCOp"
      },
      "execution_count": null,
      "outputs": []
    },
    {
      "cell_type": "markdown",
      "source": [
        "**Label encoder**"
      ],
      "metadata": {
        "id": "2lXG79kg2pLh"
      }
    },
    {
      "cell_type": "code",
      "source": [
        "# Convert the target category to numerical labels\n",
        "from sklearn.preprocessing import LabelEncoder\n",
        "label_encoder = LabelEncoder()\n",
        "y = label_encoder.fit_transform(df['Category'])"
      ],
      "metadata": {
        "id": "Rnq6i_Chy41a"
      },
      "execution_count": null,
      "outputs": []
    },
    {
      "cell_type": "code",
      "source": [
        "df.head()"
      ],
      "metadata": {
        "colab": {
          "base_uri": "https://localhost:8080/",
          "height": 293
        },
        "id": "gDFQLK66y6Ey",
        "outputId": "bcc7fdcd-e9c1-4cf5-e609-d9b381680292"
      },
      "execution_count": null,
      "outputs": [
        {
          "output_type": "execute_result",
          "data": {
            "text/plain": [
              "         ID                                         Resume_str  \\\n",
              "0  16852973           HR ADMINISTRATOR/MARKETING ASSOCIATE\\...   \n",
              "1  22323967           HR SPECIALIST, US HR OPERATIONS      ...   \n",
              "2  33176873           HR DIRECTOR       Summary      Over 2...   \n",
              "3  27018550           HR SPECIALIST       Summary    Dedica...   \n",
              "4  17812897           HR MANAGER         Skill Highlights  ...   \n",
              "\n",
              "                                         Resume_html Category  Resume_Length  \\\n",
              "0  <div class=\"fontsize fontface vmargins hmargin...       HR           5442   \n",
              "1  <div class=\"fontsize fontface vmargins hmargin...       HR           5572   \n",
              "2  <div class=\"fontsize fontface vmargins hmargin...       HR           7720   \n",
              "3  <div class=\"fontsize fontface vmargins hmargin...       HR           2855   \n",
              "4  <div class=\"fontsize fontface vmargins hmargin...       HR           9172   \n",
              "\n",
              "                                      Cleaned_Resume  \n",
              "0  hr administratormarketing associate hr adminis...  \n",
              "1  hr specialist us hr operations summary versati...  \n",
              "2  hr director summary years experience recruitin...  \n",
              "3  hr specialist summary dedicated driven dynamic...  \n",
              "4  hr manager skill highlights hr skills hr depar...  "
            ],
            "text/html": [
              "\n",
              "  <div id=\"df-67fa942b-0f8c-4744-a404-44035f9337b2\" class=\"colab-df-container\">\n",
              "    <div>\n",
              "<style scoped>\n",
              "    .dataframe tbody tr th:only-of-type {\n",
              "        vertical-align: middle;\n",
              "    }\n",
              "\n",
              "    .dataframe tbody tr th {\n",
              "        vertical-align: top;\n",
              "    }\n",
              "\n",
              "    .dataframe thead th {\n",
              "        text-align: right;\n",
              "    }\n",
              "</style>\n",
              "<table border=\"1\" class=\"dataframe\">\n",
              "  <thead>\n",
              "    <tr style=\"text-align: right;\">\n",
              "      <th></th>\n",
              "      <th>ID</th>\n",
              "      <th>Resume_str</th>\n",
              "      <th>Resume_html</th>\n",
              "      <th>Category</th>\n",
              "      <th>Resume_Length</th>\n",
              "      <th>Cleaned_Resume</th>\n",
              "    </tr>\n",
              "  </thead>\n",
              "  <tbody>\n",
              "    <tr>\n",
              "      <th>0</th>\n",
              "      <td>16852973</td>\n",
              "      <td>HR ADMINISTRATOR/MARKETING ASSOCIATE\\...</td>\n",
              "      <td>&lt;div class=\"fontsize fontface vmargins hmargin...</td>\n",
              "      <td>HR</td>\n",
              "      <td>5442</td>\n",
              "      <td>hr administratormarketing associate hr adminis...</td>\n",
              "    </tr>\n",
              "    <tr>\n",
              "      <th>1</th>\n",
              "      <td>22323967</td>\n",
              "      <td>HR SPECIALIST, US HR OPERATIONS      ...</td>\n",
              "      <td>&lt;div class=\"fontsize fontface vmargins hmargin...</td>\n",
              "      <td>HR</td>\n",
              "      <td>5572</td>\n",
              "      <td>hr specialist us hr operations summary versati...</td>\n",
              "    </tr>\n",
              "    <tr>\n",
              "      <th>2</th>\n",
              "      <td>33176873</td>\n",
              "      <td>HR DIRECTOR       Summary      Over 2...</td>\n",
              "      <td>&lt;div class=\"fontsize fontface vmargins hmargin...</td>\n",
              "      <td>HR</td>\n",
              "      <td>7720</td>\n",
              "      <td>hr director summary years experience recruitin...</td>\n",
              "    </tr>\n",
              "    <tr>\n",
              "      <th>3</th>\n",
              "      <td>27018550</td>\n",
              "      <td>HR SPECIALIST       Summary    Dedica...</td>\n",
              "      <td>&lt;div class=\"fontsize fontface vmargins hmargin...</td>\n",
              "      <td>HR</td>\n",
              "      <td>2855</td>\n",
              "      <td>hr specialist summary dedicated driven dynamic...</td>\n",
              "    </tr>\n",
              "    <tr>\n",
              "      <th>4</th>\n",
              "      <td>17812897</td>\n",
              "      <td>HR MANAGER         Skill Highlights  ...</td>\n",
              "      <td>&lt;div class=\"fontsize fontface vmargins hmargin...</td>\n",
              "      <td>HR</td>\n",
              "      <td>9172</td>\n",
              "      <td>hr manager skill highlights hr skills hr depar...</td>\n",
              "    </tr>\n",
              "  </tbody>\n",
              "</table>\n",
              "</div>\n",
              "    <div class=\"colab-df-buttons\">\n",
              "\n",
              "  <div class=\"colab-df-container\">\n",
              "    <button class=\"colab-df-convert\" onclick=\"convertToInteractive('df-67fa942b-0f8c-4744-a404-44035f9337b2')\"\n",
              "            title=\"Convert this dataframe to an interactive table.\"\n",
              "            style=\"display:none;\">\n",
              "\n",
              "  <svg xmlns=\"http://www.w3.org/2000/svg\" height=\"24px\" viewBox=\"0 -960 960 960\">\n",
              "    <path d=\"M120-120v-720h720v720H120Zm60-500h600v-160H180v160Zm220 220h160v-160H400v160Zm0 220h160v-160H400v160ZM180-400h160v-160H180v160Zm440 0h160v-160H620v160ZM180-180h160v-160H180v160Zm440 0h160v-160H620v160Z\"/>\n",
              "  </svg>\n",
              "    </button>\n",
              "\n",
              "  <style>\n",
              "    .colab-df-container {\n",
              "      display:flex;\n",
              "      gap: 12px;\n",
              "    }\n",
              "\n",
              "    .colab-df-convert {\n",
              "      background-color: #E8F0FE;\n",
              "      border: none;\n",
              "      border-radius: 50%;\n",
              "      cursor: pointer;\n",
              "      display: none;\n",
              "      fill: #1967D2;\n",
              "      height: 32px;\n",
              "      padding: 0 0 0 0;\n",
              "      width: 32px;\n",
              "    }\n",
              "\n",
              "    .colab-df-convert:hover {\n",
              "      background-color: #E2EBFA;\n",
              "      box-shadow: 0px 1px 2px rgba(60, 64, 67, 0.3), 0px 1px 3px 1px rgba(60, 64, 67, 0.15);\n",
              "      fill: #174EA6;\n",
              "    }\n",
              "\n",
              "    .colab-df-buttons div {\n",
              "      margin-bottom: 4px;\n",
              "    }\n",
              "\n",
              "    [theme=dark] .colab-df-convert {\n",
              "      background-color: #3B4455;\n",
              "      fill: #D2E3FC;\n",
              "    }\n",
              "\n",
              "    [theme=dark] .colab-df-convert:hover {\n",
              "      background-color: #434B5C;\n",
              "      box-shadow: 0px 1px 3px 1px rgba(0, 0, 0, 0.15);\n",
              "      filter: drop-shadow(0px 1px 2px rgba(0, 0, 0, 0.3));\n",
              "      fill: #FFFFFF;\n",
              "    }\n",
              "  </style>\n",
              "\n",
              "    <script>\n",
              "      const buttonEl =\n",
              "        document.querySelector('#df-67fa942b-0f8c-4744-a404-44035f9337b2 button.colab-df-convert');\n",
              "      buttonEl.style.display =\n",
              "        google.colab.kernel.accessAllowed ? 'block' : 'none';\n",
              "\n",
              "      async function convertToInteractive(key) {\n",
              "        const element = document.querySelector('#df-67fa942b-0f8c-4744-a404-44035f9337b2');\n",
              "        const dataTable =\n",
              "          await google.colab.kernel.invokeFunction('convertToInteractive',\n",
              "                                                    [key], {});\n",
              "        if (!dataTable) return;\n",
              "\n",
              "        const docLinkHtml = 'Like what you see? Visit the ' +\n",
              "          '<a target=\"_blank\" href=https://colab.research.google.com/notebooks/data_table.ipynb>data table notebook</a>'\n",
              "          + ' to learn more about interactive tables.';\n",
              "        element.innerHTML = '';\n",
              "        dataTable['output_type'] = 'display_data';\n",
              "        await google.colab.output.renderOutput(dataTable, element);\n",
              "        const docLink = document.createElement('div');\n",
              "        docLink.innerHTML = docLinkHtml;\n",
              "        element.appendChild(docLink);\n",
              "      }\n",
              "    </script>\n",
              "  </div>\n",
              "\n",
              "\n",
              "<div id=\"df-c72d2857-5dc0-4ea4-967e-8f6ac73487af\">\n",
              "  <button class=\"colab-df-quickchart\" onclick=\"quickchart('df-c72d2857-5dc0-4ea4-967e-8f6ac73487af')\"\n",
              "            title=\"Suggest charts\"\n",
              "            style=\"display:none;\">\n",
              "\n",
              "<svg xmlns=\"http://www.w3.org/2000/svg\" height=\"24px\"viewBox=\"0 0 24 24\"\n",
              "     width=\"24px\">\n",
              "    <g>\n",
              "        <path d=\"M19 3H5c-1.1 0-2 .9-2 2v14c0 1.1.9 2 2 2h14c1.1 0 2-.9 2-2V5c0-1.1-.9-2-2-2zM9 17H7v-7h2v7zm4 0h-2V7h2v10zm4 0h-2v-4h2v4z\"/>\n",
              "    </g>\n",
              "</svg>\n",
              "  </button>\n",
              "\n",
              "<style>\n",
              "  .colab-df-quickchart {\n",
              "      --bg-color: #E8F0FE;\n",
              "      --fill-color: #1967D2;\n",
              "      --hover-bg-color: #E2EBFA;\n",
              "      --hover-fill-color: #174EA6;\n",
              "      --disabled-fill-color: #AAA;\n",
              "      --disabled-bg-color: #DDD;\n",
              "  }\n",
              "\n",
              "  [theme=dark] .colab-df-quickchart {\n",
              "      --bg-color: #3B4455;\n",
              "      --fill-color: #D2E3FC;\n",
              "      --hover-bg-color: #434B5C;\n",
              "      --hover-fill-color: #FFFFFF;\n",
              "      --disabled-bg-color: #3B4455;\n",
              "      --disabled-fill-color: #666;\n",
              "  }\n",
              "\n",
              "  .colab-df-quickchart {\n",
              "    background-color: var(--bg-color);\n",
              "    border: none;\n",
              "    border-radius: 50%;\n",
              "    cursor: pointer;\n",
              "    display: none;\n",
              "    fill: var(--fill-color);\n",
              "    height: 32px;\n",
              "    padding: 0;\n",
              "    width: 32px;\n",
              "  }\n",
              "\n",
              "  .colab-df-quickchart:hover {\n",
              "    background-color: var(--hover-bg-color);\n",
              "    box-shadow: 0 1px 2px rgba(60, 64, 67, 0.3), 0 1px 3px 1px rgba(60, 64, 67, 0.15);\n",
              "    fill: var(--button-hover-fill-color);\n",
              "  }\n",
              "\n",
              "  .colab-df-quickchart-complete:disabled,\n",
              "  .colab-df-quickchart-complete:disabled:hover {\n",
              "    background-color: var(--disabled-bg-color);\n",
              "    fill: var(--disabled-fill-color);\n",
              "    box-shadow: none;\n",
              "  }\n",
              "\n",
              "  .colab-df-spinner {\n",
              "    border: 2px solid var(--fill-color);\n",
              "    border-color: transparent;\n",
              "    border-bottom-color: var(--fill-color);\n",
              "    animation:\n",
              "      spin 1s steps(1) infinite;\n",
              "  }\n",
              "\n",
              "  @keyframes spin {\n",
              "    0% {\n",
              "      border-color: transparent;\n",
              "      border-bottom-color: var(--fill-color);\n",
              "      border-left-color: var(--fill-color);\n",
              "    }\n",
              "    20% {\n",
              "      border-color: transparent;\n",
              "      border-left-color: var(--fill-color);\n",
              "      border-top-color: var(--fill-color);\n",
              "    }\n",
              "    30% {\n",
              "      border-color: transparent;\n",
              "      border-left-color: var(--fill-color);\n",
              "      border-top-color: var(--fill-color);\n",
              "      border-right-color: var(--fill-color);\n",
              "    }\n",
              "    40% {\n",
              "      border-color: transparent;\n",
              "      border-right-color: var(--fill-color);\n",
              "      border-top-color: var(--fill-color);\n",
              "    }\n",
              "    60% {\n",
              "      border-color: transparent;\n",
              "      border-right-color: var(--fill-color);\n",
              "    }\n",
              "    80% {\n",
              "      border-color: transparent;\n",
              "      border-right-color: var(--fill-color);\n",
              "      border-bottom-color: var(--fill-color);\n",
              "    }\n",
              "    90% {\n",
              "      border-color: transparent;\n",
              "      border-bottom-color: var(--fill-color);\n",
              "    }\n",
              "  }\n",
              "</style>\n",
              "\n",
              "  <script>\n",
              "    async function quickchart(key) {\n",
              "      const quickchartButtonEl =\n",
              "        document.querySelector('#' + key + ' button');\n",
              "      quickchartButtonEl.disabled = true;  // To prevent multiple clicks.\n",
              "      quickchartButtonEl.classList.add('colab-df-spinner');\n",
              "      try {\n",
              "        const charts = await google.colab.kernel.invokeFunction(\n",
              "            'suggestCharts', [key], {});\n",
              "      } catch (error) {\n",
              "        console.error('Error during call to suggestCharts:', error);\n",
              "      }\n",
              "      quickchartButtonEl.classList.remove('colab-df-spinner');\n",
              "      quickchartButtonEl.classList.add('colab-df-quickchart-complete');\n",
              "    }\n",
              "    (() => {\n",
              "      let quickchartButtonEl =\n",
              "        document.querySelector('#df-c72d2857-5dc0-4ea4-967e-8f6ac73487af button');\n",
              "      quickchartButtonEl.style.display =\n",
              "        google.colab.kernel.accessAllowed ? 'block' : 'none';\n",
              "    })();\n",
              "  </script>\n",
              "</div>\n",
              "\n",
              "    </div>\n",
              "  </div>\n"
            ],
            "application/vnd.google.colaboratory.intrinsic+json": {
              "type": "dataframe",
              "variable_name": "df",
              "summary": "{\n  \"name\": \"df\",\n  \"rows\": 2484,\n  \"fields\": [\n    {\n      \"column\": \"ID\",\n      \"properties\": {\n        \"dtype\": \"number\",\n        \"std\": 21457345,\n        \"min\": 3547447,\n        \"max\": 99806115,\n        \"num_unique_values\": 2484,\n        \"samples\": [\n          99244405,\n          17562754,\n          30311725\n        ],\n        \"semantic_type\": \"\",\n        \"description\": \"\"\n      }\n    },\n    {\n      \"column\": \"Resume_str\",\n      \"properties\": {\n        \"dtype\": \"string\",\n        \"num_unique_values\": 2482,\n        \"samples\": [\n          \"         INFORMATION TECHNOLOGY SPECIALIST(DISCOUNTPCFIX)       Summary     I am obsessed with technology. It's power to change everything. Technology fuels my passion and commitment to helping organizations do what they set out to. When I engage, I bring fresh ideas that help your team galvanize performance. Refine your strategy. Spark new energy. \\nThe future\\u2014and how we get there\\u2014depends on those who build, connect, create and transform our world.  Accomplished with over 10 years of information technology support experience.  Highly articulate Capable experienced installing and updating hardware and software systems for users. Known for effectively optimizing systems to meet changing demands, enhancing collaboration and improving security.  Experienced Operations Analyst with first-rate skills in organizing, problem solving and project management. Ready to apply experience and abilities to take on new professional challenges.  Passionate and driven professional with remarkable analytical and problem solving skills.  Expert quality assurance tester offering five years of experience in detailed technical and system specifications.  Provides a collaborative style and has well-developed communication skills. Seeking a role in test reporting and defect resolution.  Well-rounded team player with dynamic written and verbal communication skills.  Hardworking and resourceful team player.  History of going above and beyond to achieve notable results.  Offering excellent blend of technical aptitude and creative ability. Inspires design teams with engaging management techniques and innovative thinking. Resourceful Technical Support Engineer polished in restoring system functionality by quickly assessing and resolving diverse hardware and software problems.       Skills          Issue escalation  Reporting and analysis  Quality control  Schematic understanding  Critical thinking  Data management  Network Administration  Experience in leadership  Improvement plan knowledge  Supervision  Hardware repair  Computer configurations  System upgrades  New program installations  Organizational leadership  Troubleshooting and Maintenance  Equipment repair  Power and hand tool use  Troubleshooting and repairs  Preventative maintenance  Telecommunications systems  Component repairs  Multitasking  Part inspections  Friendly, positive attitude  LAN and WAN configurations      Server and System Administration  End-User Training  Program installations  Software testing  Server improvements  Data backups  Project management  Security technologies  Network configuration  Time management  Active Directory knowledge  Cybersecurity analysis  System Administration  Microsoft Office  MS Office  Apple iOS Technician  Help desk assistance  Application software testing  Mechanical abilities  Information Systems Security Professional  Advanced knowledge of Windows OS  Advanced knowledge of Google Chrome OS  Soldering  Database management  Technical knowledge of server system softwares  Servers, storage systems, network equipment, PCs or notebooks of any brands.            Experience      Information Technology Specialist(Discountpcfix)   |   11/2011   -   Current    Company Name    -    City  ,   State       Assisted client with new computer and network equipment purchases.  Updated or installed software for customers to ensure computer efficiency.  Checked in computers and performed diagnostics for repair.  Backed up data each evening, helping alleviate lost information following malware incident.  Updated software versions with patches and new installations to close security loopholes and protect users.  Identified hardware issues caused by component failures using approved diagnostic tools.  Installed over motherboards, processors and graphics cards.  Configured computers to network drivers and connected to printers and other peripheral equipment.  Upgraded laptops/desktops, improving speed and performance.  Fixed All Apple(iphone,imac,ipad,laptop) Products Screen damage.  Fixed any brand,Windows OS,Mac OS,Chrome OS products liquid damage.  Observed system functioning and entered commands to test different areas of operations.  Explained technology-related details in easy-to-understand terms to individuals from all walks of life and in various job positions.  Responded to assistance requests from users and directed individuals through basic troubleshooting tasks.  Reviewed current hardware and software configurations and recommended modifications to increase system speed.  Serviced and repaired equipment according to manufacturer guidelines.  Installed new systems and components according to service orders and manufacturer instructions.  Assessed and identified issues and quickly resolved to restore functionality.  Built and repaired computers according to schedule.  Installed, configured, and setup PCs in all stores for optimal operation and reporting.  Evaluated interfaces between hardware and software, testing performance requirements.  Studied complex technical issues and determined proper resolution methods.  Assisted with post-implementation troubleshooting of new applications and application upgrades.  Determined and alleviated hardware, software and network issues.  Installed and supported hardware and software, including desktops, servers and printers.  Identified operational and performance issues and worked with managers to resolve concerns.  Completed various reports and analyzed each report to decide where improvements could be made.  Recommended process and systems improvements such as changes to operations.  Updated hardware and software upon availability and supervised network to eliminate bottlenecks immediately.  Handled network configurations after hours and on weekends to alleviate downtime and maintain smooth operations.  Assisted customers with various types of technical issues via email, live chat and telephone.  Delivered local and remote Tier 1 IT support for hardware and software to company personnel.  Disassembled computer systems to troubleshoot and resolve hardware issues.  Increased overall company performance through improved IT uptime and cost reductions.         Quality Control Inspector Contractor   |   04/2019   -   Current    Company Name    -    City  ,   State       Conferred with scientific, engineering and technical personnel to resolve design, research and testing problems.  Worked with engineers to facilitate research and development testing, correct mechanical failures and generate technical specifications prior to release.  Developed and implemented best practices for defect prevention and continuous improvement.  Used specialized tools to take precise measurements of various aspects of samples.  Consulted with engineers to resolve quality, production and efficiency problems.  Wrote detailed reports outlining performance, quality and defect rates.  Completed non-destructive tests and visual inspections on a continuous basis.  Inspected quality of finished products, making minor repairs to meet project expectations.  Documented nonconformities immediately and recommended techniques for prompt resolution.  Completed non-destructive tests and visual inspections continuously.  Reviewed drawings and blueprints to determine appropriate level of inspection required.  Adhered to all safety protocols to minimize equipment damage and avoid injuries.  Assessed materials, parts and products for conformance with quality control requirements and production specifications.         Network Analyst   |   06/2016   -   05/2018    Company Name    -    City  ,   State       Identified operational and performance issues and worked with managers to resolve concerns.  Supporting of the following hardware types: servers, storage systems, network equipment, PCs ipad and notebooks of any brands.  Analyzed operational performance to identify pain points and provided actionable solutions to management.  Educated personnel on company policies to foster improved customer retention and increased revenue.  Technical knowledge of standard server system software (Linux, Windows, VMWare)  Drove revenue and customer retention by visiting corporate and franchise centers serving clients to educate staff on company policies and customer styling applications.  Wrote reports outlining results to facilitate management decision making.  Executed and monitored standards for user interfaces, page design and graphics development.  Provided senior technical support to both in-house staff and user departments for all network applications.  Monitored project budget through the careful assessment of resource usage and task management to ensure that costs were kept low.  Supported customers with password resets and account customization.  Recorded complaints, product deficiencies, returned orders and other customer documentation in system.  Supported customers having data connectivity issues, assisting with troubleshooting steps and rebooting of hardware.  Maintained composure and patience in face of difficult customer situations, applying de-escalation techniques and positive customer support.  Performed site evaluations, customer surveys and team audits.  Promoted continuous improvement for IT governance processes.  Spearheaded server infrastructure development, quality control, staging and production operations.         Quality Control Manager   |   07/2013   -   08/2015    Company Name    -    City  ,   State       Stayed well-informed of all company and federal regulations, which bolstered compliance of all corporate processes.  Used creative and professional policy to find solutions to issues while diminishing conflicts.  Handled all scheduling procedures for the department and directed team members in setting and achieving goals.  Observed customer specifications by monitoring the quality control of finished products.         Education and Training      The Federal Polytechnic, Ado-Ekiti    -    City  ,  State      |    Associate of Science    Science Technology  ,   2003          Phoenix East Aviation    -    City  ,  State      |    F.A.A  Aircraft Dispatcher License    Aviation  ,   2014          University Of Colorado At Boulder    -    City        |    Certificate    Cybersecurity Policy For Aviation And Internet   ,   07/2020          GOOGLE I.T SUPPORT    -    City        |    Certificate      03/2021     Completed professional Course in:   IT Security: Defense against the digital dark arts  Operating System and You: Becoming a power user  The Bits and Bytes of Computer Networking  System Administration and IT Infrastructure Service  Technical Support Fundamentals     \",\n          \"         BUSINESS DEVELOPMENT DIRECTOR       Summary     I collaborate with multiple stakeholders to determine audience needs, quickly developing strategic plans that align with my clients business priorities and strategies.       Experience      Business Development Director   05/1997   to   Current     Company Name   City  ,   State      Producing measurable results for my clients by designing unique engagement initiatives for employees, sales channel partners and consumers groups. Sales of performance improvement products, most being intangible services to Fortune 500 clients. Success at discovering and growing my business with customers who have the potential to spend more than $1 million with me each year.   I have designed innovative solutions, customized to each customers various objectives and end result needs.  Managing my internal teams to develop, design and operate complex custom projects ranging in value at least $150,000 to millions.  Titles called on include the entire C suite, CEO, COO, CFO, CMO, President, EVP's of Marketing, Sales, Human Resources & Finance.  Define business issues to improve revenue and penetrating existing accounts and opening new.  Sold 17 new accounts while in current position, managed sales volume and profit margin with long sales cycle.  Managed and hired staff of 4 to work with my major global account travel & meetings business over 8 years.  Total book of business constantly over $2.5 million each year.  Nearly twice the entertainment activity of other BDD's with similar tenure.  Achieved over $6 million in sales twice, becoming a trusted partner to my clients, customers want me to Win!          Account Territory & District Sales Manager / National Account Sales   08/1989   to   04/1997     Company Name   City  ,   State       Responsible for growth of distributor sales volume, product mix and motivation of DSR sales forces.  Developed my own custom local training and marketing materials, which were later adopted by the Nestle corporate.  Distributor and chain accounts accounted for over $11 million in sales.  Increased my chain accounts by over 75% while with national accounts.  Created sales forecasts, developed budgets, strategic plans and managed entire regional office staff. Working with my team we grew business at Nestle largest US account by nearly double.  Surpassed sales, budget goals every year as manager and twice led company nationally in new product introductions.  District sales grew from $16 million to over $22 million as district manager. Hired five salespeople and 4 direct reports were promoted, managed up to eight account managers at a time.  Developed new reports, marketing and promotional strategies for the field. Designed account reviews process, management and field training programs for the entire company.  Sold small business owners and managed distributor sales accounts, using strategic planning, innovative programming and by cultivating strong personal relationships. Took area territory sales from $500,000 to $2.9 million, with a mature company in an industry with an average annual increase of only 3-5%.          Financial Operations Executive and Department Merchandising Manager   04/1988   to   08/1989     Company Name   City  ,   State     Financial Operations Executive for the South Bend store. Volunteered to be merchandise manager for the stores largest department. While in this role the department had the highest per foot sales volume of any department in the entire corporation during the 4th quarter of 1988.        Accomplishments      4 times President Achievement Guild Award winner, award for sales volume and profit.  3 times President Achievement Award winner, award for sales volume and profit.  4 times Achievement Guild winner, for leadership in 3 year running combined volume.  Top travel and meetings sales several times since with BIW.  National sales contest \\\"the 1993 Superbowl\\\".  Twice awarded \\\"The Over Achiever of the Year\\\" by my most profitable direct customer.  Reviewed consistently by management throughout career as \\\"Outstanding or Exceeding Expectations\\\".  College: elected to executive positions with both Finance Club and Resident Housing Association.        Skills     Sales, Business Development, Distributor Sales, Territory Sales, District Sales, Sales of Solutions, Sales Teams, Sales Accounts, National Accounts, Sales Management, Strategic Accounts, Sales Promotions, Travel & Meeting Sales, Technology Application Sales, Clients Management, Marketing, Budget, Budgets, Forecasts, Promotional, Travel & Meeting Operations, Strategic Planning, Training, Training Development, Financial Operations, Merchandising, Corporate Operations, Employee Engagement, Managing Existing Accounts, Forecasting, Human Resources, Finding New Accounts, Relationship Building and Strategic Direction.       Education      Bachelor of Business Administration  :   Finance, General Business   1988       Western Michigan University   City  ,   State  ,   US      Earned over 85% of all educational/living costs. Jobs worked while in college, industrial heavy construction, excelled at several sales roles including at direct sales of home goods. While in direct sales I won a national trip and was ranked in the top 10 in the country in sales.  Started two successful on campus businesses. Member of the varsity division I football team for 4 years.         Organizations     IMEX, Milford Memories Planning Board, Huron Valley Youth Baseball President/Treasurer/Director of Travel Baseball, Lakeland Milford Travel Secretary and Milford High School baseball instructor.    \",\n          \"           ENGINEERING MANAGER         Professional Summary    Experienced product development Engineer and manager able to collaborate with cross functional team as well as customers and sales to bring brand new offerings to new markets. Skilled at managing cross functional team for continuous improvements and meeting project deadlines. Offering 6 years of experience in the field.      Skills          Microsoft Office  Microsoft Project  Product development  Quality  Research  Six Sigma Green Belt  Solid Works  Visio  Prioritization  Personnel management  Critical thinking skills  Team management  Analyst, Visio  Agency  Consulting  Cost analysis  Critical thinking  Designing  Dialysis  Direction      Develop drug  Functional  IIa  ISO  Leadership  Market and development  Microsoft Office  Microsoft Project  Personnel management  Design process  Product development  Product management  Quality  Researching  Research  Sales  Six Sigma  Solid Works  Team management  Validation            Work History      Engineering Manager  ,     03/2018   to   Current       City  ,   State      Create and maintain Technical Files per MDR requirements as well as attaining 510k on legacy products.  Assess testing gaps of legacy products and design creep.  Experienced in working with multiple departments.  Experienced in training and leading engineers in order to investigate field complaints, Gap analysis and building Technical files/DHF.  Experienced in leading team of engineers to lead all aspects of design process, including regulatory needs per market and development per design control.  Tasked to create test plan and analysis of existing Class I, II and III products and Testing per latest applicable requirements.  Trained team in conducting project related cost analysis, test gap analysis and researching ISO/EN ISO/ASTM requirements.  Leading companywide EU MDR product transfer and testing on Infusion products, Dialysis products and standalone products.  Provided technical direction on MDR and 510k related projects and initiatives to other engineers and technicians.         Project Engineer II  ,     03/2017   to   03/2018     Company Name   \\u2013   City  ,   State      Working with product management, Clinical Analyst, sales, and regulatory to determine optimal design inputs for new products.  Completed design transfer and attained 510k on Class IIb device in under year.  Lead cross functional team including consulting agency in order to Develop drug device combination product and research optimal process using DOE in order for mass production.  Leading all aspects of design control from designing on solid works to process validations and V&V Testing.  Analyzing and resolving field failures through investigation and testing.  Experienced in working with international regulatory teams in providing information for foreign registration.  Responsible for gap analysis and test planning in order to create and meet deadline for projects.  Experienced with reviewing and approving validation activities as well as provide support to staff to achieve project milestones.  Experienced working with cross functional teams to complete projects and tasks.         Engineer I  ,     06/2013   to   03/2017     Company Name   \\u2013   City  ,   State      Worked to bring Drug Device Combination product to mass production.  Completed new Class IIa product and completed project in 10 months.  Completing CAPAs and resolving field failures by research and testing.  Developed new testing methods and designed tooling for new testing.  Experienced in using Injection Molding Machine to Create and Test Prototypes.  Found cheaper and more responsible vendor for MRI related testing.         Education      Bachelor of Science  :   Mechanical Engineering  ,   05/2013     Temple University   -   City  ,   State           Certifications\\nManagement Leadership Certification and Six Sigma Greenbelt certification              Work History      Engineering Manager  ,   03/2018   to   Current       City  ,   State      Create and maintain Technical Files per MDR requirements as well as attaining 510k on legacy products.  Assess testing gaps of legacy products and design creep.  Experienced in working with multiple departments.  Experienced in training and leading engineers in order to investigate field complaints, Gap analysis and building Technical files/DHF.  Experienced in leading team of engineers to lead all aspects of design process, including regulatory needs per market and development per design control.  Tasked to create test plan and analysis of existing Class I, II and III products and Testing per latest applicable requirements.  Trained team in conducting project related cost analysis, test gap analysis and researching ISO/EN ISO/ASTM requirements.  Leading companywide EU MDR product transfer and testing on Infusion products, Dialysis products and standalone products.  Provided technical direction on MDR and 510k related projects and initiatives to other engineers and technicians.         Project Engineer II  ,   03/2017   to   03/2018     Company Name   \\u2013   City  ,   State      Working with product management, Clinical Analyst, sales, and regulatory to determine optimal design inputs for new products.  Completed design transfer and attained 510k on Class IIb device in under year.  Lead cross functional team including consulting agency in order to Develop drug device combination product and research optimal process using DOE in order for mass production.  Leading all aspects of design control from designing on solid works to process validations and V&V Testing.  Analyzing and resolving field failures through investigation and testing.  Experienced in working with international regulatory teams in providing information for foreign registration.  Responsible for gap analysis and test planning in order to create and meet deadline for projects.  Experienced with reviewing and approving validation activities as well as provide support to staff to achieve project milestones.  Experienced working with cross functional teams to complete projects and tasks.         Engineer I  ,   06/2013   to   03/2017     Company Name   \\u2013   City  ,   State      Worked to bring Drug Device Combination product to mass production.  Completed new Class IIa product and completed project in 10 months.  Completing CAPAs and resolving field failures by research and testing.  Developed new testing methods and designed tooling for new testing.  Experienced in using Injection Molding Machine to Create and Test Prototypes.  Found cheaper and more responsible vendor for MRI related testing.         Skills     Microsoft Office  Microsoft Project  Product development  Quality  Research  Six Sigma Green Belt  Solid Works  Visio  Prioritization  Personnel management  Critical thinking skills  Team management,  Analyst, agency, consulting, cost analysis, Critical thinking, Designing, Dialysis, direction, Develop drug, functional, IIa, ISO, Leadership, market and development, Microsoft Office, Microsoft Project, Personnel management, design process, Product development, product management, Quality, researching, Research, sales, Six Sigma, Solid Works, Team management, validation, Visio    \"\n        ],\n        \"semantic_type\": \"\",\n        \"description\": \"\"\n      }\n    },\n    {\n      \"column\": \"Resume_html\",\n      \"properties\": {\n        \"dtype\": \"string\",\n        \"num_unique_values\": 2482,\n        \"samples\": [\n          \"<div class=\\\"RNA skn-hdr3 fontsize fontface vmargins hmargins pagesize dynamicbg\\\" id=\\\"document\\\"> <div class=\\\"section nameSec firstsection\\\" id=\\\"SECTION_NAME5550d5fc-bc70-476b-a324-a96a5f8e4c39\\\"> <div class=\\\"paragraph PARAGRAPH_NAME firstparagraph\\\" id=\\\"PARAGRAPH_5550d5fc-bc70-476b-a324-a96a5f8e4c39_1_ac85099c-62cd-4861-9279-8510832b3240\\\"> <div class=\\\"name\\\" itemprop=\\\"name\\\"> <span class=\\\"field\\\" id=\\\"5550d5fc-bc70-476b-a324-a96a5f8e4c39FNAM1\\\"> </span> <span> </span> <span class=\\\"field\\\" id=\\\"5550d5fc-bc70-476b-a324-a96a5f8e4c39LNAM1\\\"> INFORMATION TECHNOLOGY SPECIALIST(DISCOUNTPCFIX)</span> </div> </div> </div> <div class=\\\"section\\\" id=\\\"SECTION_SUMM8fa0a5f9-217d-41cc-b98a-09b71ea76797\\\"> <div class=\\\"heading\\\"> <div class=\\\"sectiontitle\\\" id=\\\"SECTNAME_SUMM8fa0a5f9-217d-41cc-b98a-09b71ea76797\\\"> Summary</div> </div> <div class=\\\"paragraph firstparagraph\\\" id=\\\"PARAGRAPH_8fa0a5f9-217d-41cc-b98a-09b71ea76797_1_b1625863-b3c3-4df6-a204-60ccb0054f3f\\\"> <div class=\\\"field singlecolumn\\\" id=\\\"8fa0a5f9-217d-41cc-b98a-09b71ea76797FRFM1\\\"> <p> I am obsessed with technology. It's power to change everything. Technology fuels my passion and commitment to helping organizations do what they set out to. When I engage, I bring fresh ideas that help your team galvanize performance. Refine your strategy. Spark new energy.<br/> \\nThe future\\u2014and how we get there\\u2014depends on those who build, connect, create and transform our world.</p> <p> Accomplished with over 10 years of information technology support experience.</p> <p> Highly articulate Capable experienced installing and updating hardware and software systems for users. Known for effectively optimizing systems to meet changing demands, enhancing collaboration and improving security.</p> <p> Experienced Operations Analyst with first-rate skills in organizing, problem solving and project management. Ready to apply experience and abilities to take on new professional challenges.</p> <p> Passionate and driven professional with remarkable analytical and problem solving skills.</p> <p> Expert quality assurance tester offering five years of experience in detailed technical and system specifications.</p> <p> Provides a collaborative style and has well-developed communication skills. Seeking a role in test reporting and defect resolution.</p> <p> Well-rounded team player with dynamic written and verbal communication skills.</p> <p> Hardworking and resourceful team player.</p> <p> History of going above and beyond to achieve notable results.</p> <p> Offering excellent blend of technical aptitude and creative ability. Inspires design teams with engaging management techniques and innovative thinking. Resourceful Technical Support Engineer polished in restoring system functionality by quickly assessing and resolving diverse hardware and software problems.</p> </div> </div> </div> <div class=\\\"section\\\" id=\\\"SECTION_HILT5097c9f6-be4d-4c96-87af-1703d29f3ed4\\\"> <div class=\\\"heading\\\"> <div class=\\\"sectiontitle\\\" id=\\\"SECTNAME_HILT5097c9f6-be4d-4c96-87af-1703d29f3ed4\\\"> Skills</div> </div> <div class=\\\"paragraph firstparagraph\\\" id=\\\"PARAGRAPH_5097c9f6-be4d-4c96-87af-1703d29f3ed4_1_9fc9ac29-6c45-ccc1-e402-f68d67a6ce51\\\"> <div class=\\\"singlecolumn maincolumn\\\"> <table class=\\\"twocol\\\"> <tbody> <tr> <td class=\\\"field twocol_1\\\" id=\\\"5097c9f6-be4d-4c96-87af-1703d29f3ed4SKC10\\\"> <ul> <li> Issue escalation</li> <li> Reporting and analysis</li> <li> Quality control</li> <li> Schematic understanding</li> <li> Critical thinking</li> <li> Data management</li> <li> Network Administration</li> <li> Experience in leadership</li> <li> Improvement plan knowledge</li> <li> Supervision</li> <li> Hardware repair</li> <li> Computer configurations</li> <li> System upgrades</li> <li> New program installations</li> <li> Organizational leadership</li> <li> Troubleshooting and Maintenance</li> <li> Equipment repair</li> <li> Power and hand tool use</li> <li> Troubleshooting and repairs</li> <li> Preventative maintenance</li> <li> Telecommunications systems</li> <li> Component repairs</li> <li> Multitasking</li> <li> Part inspections</li> <li> Friendly, positive attitude</li> <li> LAN and WAN configurations</li> </ul> </td> <td class=\\\"field twocol_2\\\" id=\\\"5097c9f6-be4d-4c96-87af-1703d29f3ed4SKC20\\\"> <ul> <li> Server and System Administration</li> <li> End-User Training</li> <li> Program installations</li> <li> Software testing</li> <li> Server improvements</li> <li> Data backups</li> <li> Project management</li> <li> Security technologies</li> <li> Network configuration</li> <li> Time management</li> <li> Active Directory knowledge</li> <li> Cybersecurity analysis</li> <li> System Administration</li> <li> Microsoft Office</li> <li> MS Office</li> <li> Apple iOS Technician</li> <li> Help desk assistance</li> <li> Application software testing</li> <li> Mechanical abilities</li> <li> Information Systems Security Professional</li> <li> Advanced knowledge of Windows OS</li> <li> Advanced knowledge of Google Chrome OS</li> <li> Soldering</li> <li> Database management</li> <li> Technical knowledge of server system softwares</li> <li> Servers, storage systems, network equipment, PCs or notebooks of any brands.</li> </ul> </td> </tr> </tbody> </table> </div> </div> </div> <div class=\\\"section\\\" id=\\\"SECTION_EXPRc16bd516-88f5-4d05-a0b1-689c93d7a610\\\"> <div class=\\\"heading\\\"> <div class=\\\"sectiontitle\\\" id=\\\"SECTNAME_EXPRc16bd516-88f5-4d05-a0b1-689c93d7a610\\\"> Experience</div> </div> <div class=\\\"paragraph firstparagraph\\\" id=\\\"PARAGRAPH_c16bd516-88f5-4d05-a0b1-689c93d7a610_1_c1bf6f2f-bff5-4a86-ae5b-879a7f9c292a\\\" itemscope=\\\"\\\" itemtype=\\\"https://schema.org/Organization\\\"> <div class=\\\"singlecolumn\\\"> <span class=\\\"paddedline\\\"> <span class=\\\"jobtitle\\\" id=\\\"c16bd516-88f5-4d05-a0b1-689c93d7a610JTIT1\\\"> Information Technology Specialist(Discountpcfix)</span> <span>  | </span> <span class=\\\"jobdates\\\" format=\\\"%m/%Y\\\" id=\\\"c16bd516-88f5-4d05-a0b1-689c93d7a610JSTD1\\\"> 11/2011</span> <span>  - </span> <span class=\\\"jobdates\\\" format=\\\"%m/%Y\\\" id=\\\"c16bd516-88f5-4d05-a0b1-689c93d7a610EDDT1\\\"> Current</span> </span> <span class=\\\"paddedline txt-bold\\\" itemscope=\\\"\\\" itemtype=\\\"https://schema.org/postalAddress\\\"> <span class=\\\"companyname\\\" id=\\\"c16bd516-88f5-4d05-a0b1-689c93d7a610COMP1\\\" itemprop=\\\"name\\\"> Company Name</span> <span> <span>  - </span> </span> <span class=\\\"joblocation jobcity\\\" id=\\\"c16bd516-88f5-4d05-a0b1-689c93d7a610JCIT1\\\" itemprop=\\\"addressLocality\\\"> City</span> <span> , </span> <span class=\\\"joblocation jobstate\\\" id=\\\"c16bd516-88f5-4d05-a0b1-689c93d7a610JSTA1\\\" itemprop=\\\"addressRegion\\\"> State</span> <span class=\\\"joblocation jobcountry\\\" id=\\\"c16bd516-88f5-4d05-a0b1-689c93d7a610JCNT1\\\"> </span> </span> <span class=\\\"jobline\\\" id=\\\"c16bd516-88f5-4d05-a0b1-689c93d7a610JDES1\\\" itemprop=\\\"description\\\"> <ul> <li> Assisted client with new computer and network equipment purchases.</li> <li> Updated or installed software for customers to ensure computer efficiency.</li> <li> Checked in computers and performed diagnostics for repair.</li> <li> Backed up data each evening, helping alleviate lost information following malware incident.</li> <li> Updated software versions with patches and new installations to close security loopholes and protect users.</li> <li> Identified hardware issues caused by component failures using approved diagnostic tools.</li> <li> Installed over motherboards, processors and graphics cards.</li> <li> Configured computers to network drivers and connected to printers and other peripheral equipment.</li> <li> Upgraded laptops/desktops, improving speed and performance.</li> <li> Fixed All Apple(iphone,imac,ipad,laptop) Products Screen damage.</li> <li> Fixed any brand,Windows OS,Mac OS,Chrome OS products liquid damage.</li> <li> Observed system functioning and entered commands to test different areas of operations.</li> <li> Explained technology-related details in easy-to-understand terms to individuals from all walks of life and in various job positions.</li> <li> Responded to assistance requests from users and directed individuals through basic troubleshooting tasks.</li> <li> Reviewed current hardware and software configurations and recommended modifications to increase system speed.</li> <li> Serviced and repaired equipment according to manufacturer guidelines.</li> <li> Installed new systems and components according to service orders and manufacturer instructions.</li> <li> Assessed and identified issues and quickly resolved to restore functionality.</li> <li> Built and repaired computers according to schedule.</li> <li> Installed, configured, and setup PCs in all stores for optimal operation and reporting.</li> <li> Evaluated interfaces between hardware and software, testing performance requirements.</li> <li> Studied complex technical issues and determined proper resolution methods.</li> <li> Assisted with post-implementation troubleshooting of new applications and application upgrades.</li> <li> Determined and alleviated hardware, software and network issues.</li> <li> Installed and supported hardware and software, including desktops, servers and printers.</li> <li> Identified operational and performance issues and worked with managers to resolve concerns.</li> <li> Completed various reports and analyzed each report to decide where improvements could be made.</li> <li> Recommended process and systems improvements such as changes to operations.</li> <li> Updated hardware and software upon availability and supervised network to eliminate bottlenecks immediately.</li> <li> Handled network configurations after hours and on weekends to alleviate downtime and maintain smooth operations.</li> <li> Assisted customers with various types of technical issues via email, live chat and telephone.</li> <li> Delivered local and remote Tier 1 IT support for hardware and software to company personnel.</li> <li> Disassembled computer systems to troubleshoot and resolve hardware issues.</li> <li> Increased overall company performance through improved IT uptime and cost reductions.</li> </ul> </span> </div> </div> <div class=\\\"paragraph\\\" id=\\\"PARAGRAPH_c16bd516-88f5-4d05-a0b1-689c93d7a610_2_50ce6831-7e0f-447d-a3fc-61036d2a57d9\\\" itemscope=\\\"\\\" itemtype=\\\"https://schema.org/Organization\\\"> <div class=\\\"singlecolumn\\\"> <span class=\\\"paddedline\\\"> <span class=\\\"jobtitle\\\" id=\\\"c16bd516-88f5-4d05-a0b1-689c93d7a610JTIT2\\\"> Quality Control Inspector Contractor</span> <span>  | </span> <span class=\\\"jobdates\\\" format=\\\"%m/%Y\\\" id=\\\"c16bd516-88f5-4d05-a0b1-689c93d7a610JSTD2\\\"> 04/2019</span> <span>  - </span> <span class=\\\"jobdates\\\" format=\\\"%m/%Y\\\" id=\\\"c16bd516-88f5-4d05-a0b1-689c93d7a610EDDT2\\\"> Current</span> </span> <span class=\\\"paddedline txt-bold\\\" itemscope=\\\"\\\" itemtype=\\\"https://schema.org/postalAddress\\\"> <span class=\\\"companyname\\\" id=\\\"c16bd516-88f5-4d05-a0b1-689c93d7a610COMP2\\\" itemprop=\\\"name\\\"> Company Name</span> <span> <span>  - </span> </span> <span class=\\\"joblocation jobcity\\\" id=\\\"c16bd516-88f5-4d05-a0b1-689c93d7a610JCIT2\\\" itemprop=\\\"addressLocality\\\"> City</span> <span> , </span> <span class=\\\"joblocation jobstate\\\" id=\\\"c16bd516-88f5-4d05-a0b1-689c93d7a610JSTA2\\\" itemprop=\\\"addressRegion\\\"> State</span> <span class=\\\"joblocation jobcountry\\\" id=\\\"c16bd516-88f5-4d05-a0b1-689c93d7a610JCNT2\\\"> </span> </span> <span class=\\\"jobline\\\" id=\\\"c16bd516-88f5-4d05-a0b1-689c93d7a610JDES2\\\" itemprop=\\\"description\\\"> <ul> <li> Conferred with scientific, engineering and technical personnel to resolve design, research and testing problems.</li> <li> Worked with engineers to facilitate research and development testing, correct mechanical failures and generate technical specifications prior to release.</li> <li> Developed and implemented best practices for defect prevention and continuous improvement.</li> <li> Used specialized tools to take precise measurements of various aspects of samples.</li> <li> Consulted with engineers to resolve quality, production and efficiency problems.</li> <li> Wrote detailed reports outlining performance, quality and defect rates.</li> <li> Completed non-destructive tests and visual inspections on a continuous basis.</li> <li> Inspected quality of finished products, making minor repairs to meet project expectations.</li> <li> Documented nonconformities immediately and recommended techniques for prompt resolution.</li> <li> Completed non-destructive tests and visual inspections continuously.</li> <li> Reviewed drawings and blueprints to determine appropriate level of inspection required.</li> <li> Adhered to all safety protocols to minimize equipment damage and avoid injuries.</li> <li> Assessed materials, parts and products for conformance with quality control requirements and production specifications.</li> </ul> </span> </div> </div> <div class=\\\"paragraph\\\" id=\\\"PARAGRAPH_c16bd516-88f5-4d05-a0b1-689c93d7a610_3_f9296837-feb0-4c87-abc1-66dabd9087ac\\\" itemscope=\\\"\\\" itemtype=\\\"https://schema.org/Organization\\\"> <div class=\\\"singlecolumn\\\"> <span class=\\\"paddedline\\\"> <span class=\\\"jobtitle\\\" id=\\\"c16bd516-88f5-4d05-a0b1-689c93d7a610JTIT3\\\"> Network Analyst</span> <span>  | </span> <span class=\\\"jobdates\\\" format=\\\"%m/%Y\\\" id=\\\"c16bd516-88f5-4d05-a0b1-689c93d7a610JSTD3\\\"> 06/2016</span> <span>  - </span> <span class=\\\"jobdates\\\" format=\\\"%m/%Y\\\" id=\\\"c16bd516-88f5-4d05-a0b1-689c93d7a610EDDT3\\\"> 05/2018</span> </span> <span class=\\\"paddedline txt-bold\\\" itemscope=\\\"\\\" itemtype=\\\"https://schema.org/postalAddress\\\"> <span class=\\\"companyname\\\" id=\\\"c16bd516-88f5-4d05-a0b1-689c93d7a610COMP3\\\" itemprop=\\\"name\\\"> Company Name</span> <span> <span>  - </span> </span> <span class=\\\"joblocation jobcity\\\" id=\\\"c16bd516-88f5-4d05-a0b1-689c93d7a610JCIT3\\\" itemprop=\\\"addressLocality\\\"> City</span> <span> , </span> <span class=\\\"joblocation jobstate\\\" id=\\\"c16bd516-88f5-4d05-a0b1-689c93d7a610JSTA3\\\" itemprop=\\\"addressRegion\\\"> State</span> <span class=\\\"joblocation jobcountry\\\" id=\\\"c16bd516-88f5-4d05-a0b1-689c93d7a610JCNT3\\\"> </span> </span> <span class=\\\"jobline\\\" id=\\\"c16bd516-88f5-4d05-a0b1-689c93d7a610JDES3\\\" itemprop=\\\"description\\\"> <ul> <li> Identified operational and performance issues and worked with managers to resolve concerns.</li> <li> Supporting of the following hardware types: servers, storage systems, network equipment, PCs ipad and notebooks of any brands.</li> <li> Analyzed operational performance to identify pain points and provided actionable solutions to management.</li> <li> Educated personnel on company policies to foster improved customer retention and increased revenue.</li> <li> Technical knowledge of standard server system software (Linux, Windows, VMWare)</li> <li> Drove revenue and customer retention by visiting corporate and franchise centers serving clients to educate staff on company policies and customer styling applications.</li> <li> Wrote reports outlining results to facilitate management decision making.</li> <li> Executed and monitored standards for user interfaces, page design and graphics development.</li> <li> Provided senior technical support to both in-house staff and user departments for all network applications.</li> <li> Monitored project budget through the careful assessment of resource usage and task management to ensure that costs were kept low.</li> <li> Supported customers with password resets and account customization.</li> <li> Recorded complaints, product deficiencies, returned orders and other customer documentation in system.</li> <li> Supported customers having data connectivity issues, assisting with troubleshooting steps and rebooting of hardware.</li> <li> Maintained composure and patience in face of difficult customer situations, applying de-escalation techniques and positive customer support.</li> <li> Performed site evaluations, customer surveys and team audits.</li> <li> Promoted continuous improvement for IT governance processes.</li> <li> Spearheaded server infrastructure development, quality control, staging and production operations.</li> </ul> </span> </div> </div> <div class=\\\"paragraph\\\" id=\\\"PARAGRAPH_c16bd516-88f5-4d05-a0b1-689c93d7a610_4_8635d1c3-f58e-4d33-a87b-ad847a7c7337\\\" itemscope=\\\"\\\" itemtype=\\\"https://schema.org/Organization\\\"> <div class=\\\"singlecolumn\\\"> <span class=\\\"paddedline\\\"> <span class=\\\"jobtitle\\\" id=\\\"c16bd516-88f5-4d05-a0b1-689c93d7a610JTIT4\\\"> Quality Control Manager</span> <span>  | </span> <span class=\\\"jobdates\\\" format=\\\"%m/%Y\\\" id=\\\"c16bd516-88f5-4d05-a0b1-689c93d7a610JSTD4\\\"> 07/2013</span> <span>  - </span> <span class=\\\"jobdates\\\" format=\\\"%m/%Y\\\" id=\\\"c16bd516-88f5-4d05-a0b1-689c93d7a610EDDT4\\\"> 08/2015</span> </span> <span class=\\\"paddedline txt-bold\\\" itemscope=\\\"\\\" itemtype=\\\"https://schema.org/postalAddress\\\"> <span class=\\\"companyname\\\" id=\\\"c16bd516-88f5-4d05-a0b1-689c93d7a610COMP4\\\" itemprop=\\\"name\\\"> Company Name</span> <span> <span>  - </span> </span> <span class=\\\"joblocation jobcity\\\" id=\\\"c16bd516-88f5-4d05-a0b1-689c93d7a610JCIT4\\\" itemprop=\\\"addressLocality\\\"> City</span> <span> , </span> <span class=\\\"joblocation jobstate\\\" id=\\\"c16bd516-88f5-4d05-a0b1-689c93d7a610JSTA4\\\" itemprop=\\\"addressRegion\\\"> State</span> <span class=\\\"joblocation jobcountry\\\" id=\\\"c16bd516-88f5-4d05-a0b1-689c93d7a610JCNT4\\\"> </span> </span> <span class=\\\"jobline\\\" id=\\\"c16bd516-88f5-4d05-a0b1-689c93d7a610JDES4\\\" itemprop=\\\"description\\\"> <ul> <li> Stayed well-informed of all company and federal regulations, which bolstered compliance of all corporate processes.</li> <li> Used creative and professional policy to find solutions to issues while diminishing conflicts.</li> <li> Handled all scheduling procedures for the department and directed team members in setting and achieving goals.</li> <li> Observed customer specifications by monitoring the quality control of finished products.</li> </ul> </span> </div> </div> </div> <div class=\\\"section\\\" id=\\\"SECTION_EDUC95e45d01-3d53-473f-b805-14cee808ebae\\\"> <div class=\\\"heading\\\"> <div class=\\\"sectiontitle\\\" id=\\\"SECTNAME_EDUC95e45d01-3d53-473f-b805-14cee808ebae\\\"> Education and Training</div> </div> <div class=\\\"paragraph firstparagraph\\\" id=\\\"PARAGRAPH_95e45d01-3d53-473f-b805-14cee808ebae_1_35f5f03a-98c1-408c-8fe8-23fc8e31363b\\\" itemscope=\\\"\\\" itemtype=\\\"https://schema.org/EducationalOrganization\\\"> <div class=\\\"singlecolumn\\\"> <span class=\\\"paddedline txt-bold\\\" itemprop=\\\"description\\\"> <span class=\\\"companyname companyname_educ\\\" id=\\\"95e45d01-3d53-473f-b805-14cee808ebaeSCHO1\\\" itemprop=\\\"name\\\"> The Federal Polytechnic, Ado-Ekiti</span> <span> <span>  - </span> </span> <span class=\\\"joblocation jobcity\\\" id=\\\"95e45d01-3d53-473f-b805-14cee808ebaeSCIT1\\\"> City</span> <span> ,</span> <span class=\\\"joblocation jobstate\\\" id=\\\"95e45d01-3d53-473f-b805-14cee808ebaeSSTA1\\\"> State</span> <span class=\\\"joblocation jobcountry\\\" id=\\\"95e45d01-3d53-473f-b805-14cee808ebaeSCNT1\\\"> </span> <span> <span>  | </span> </span> <span class=\\\"degree\\\" id=\\\"95e45d01-3d53-473f-b805-14cee808ebaeDGRE1\\\" itemprop=\\\"name\\\"> Associate of Science</span> </span> <span class=\\\"paddedline\\\"> <span class=\\\"programline\\\" id=\\\"95e45d01-3d53-473f-b805-14cee808ebaeSTUY1\\\"> Science Technology</span> <span> , </span> <span format=\\\"%m/%Y\\\" id=\\\"95e45d01-3d53-473f-b805-14cee808ebaeGRYR1\\\"> 2003</span> </span> <span class=\\\"field\\\" id=\\\"95e45d01-3d53-473f-b805-14cee808ebaeFRFM1\\\"> </span> </div> </div> <div class=\\\"paragraph\\\" id=\\\"PARAGRAPH_95e45d01-3d53-473f-b805-14cee808ebae_2_a2729674-384f-4d1c-958a-35b2563e76c4\\\" itemscope=\\\"\\\" itemtype=\\\"https://schema.org/EducationalOrganization\\\"> <div class=\\\"singlecolumn\\\"> <span class=\\\"paddedline txt-bold\\\" itemprop=\\\"description\\\"> <span class=\\\"companyname companyname_educ\\\" id=\\\"95e45d01-3d53-473f-b805-14cee808ebaeSCHO2\\\" itemprop=\\\"name\\\"> Phoenix East Aviation</span> <span> <span>  - </span> </span> <span class=\\\"joblocation jobcity\\\" id=\\\"95e45d01-3d53-473f-b805-14cee808ebaeSCIT2\\\"> City</span> <span> ,</span> <span class=\\\"joblocation jobstate\\\" id=\\\"95e45d01-3d53-473f-b805-14cee808ebaeSSTA2\\\"> State</span> <span class=\\\"joblocation jobcountry\\\" id=\\\"95e45d01-3d53-473f-b805-14cee808ebaeSCNT2\\\"> </span> <span> <span>  | </span> </span> <span class=\\\"degree\\\" id=\\\"95e45d01-3d53-473f-b805-14cee808ebaeDGRE2\\\" itemprop=\\\"name\\\"> F.A.A  Aircraft Dispatcher License</span> </span> <span class=\\\"paddedline\\\"> <span class=\\\"programline\\\" id=\\\"95e45d01-3d53-473f-b805-14cee808ebaeSTUY2\\\"> Aviation</span> <span> , </span> <span format=\\\"%m/%Y\\\" id=\\\"95e45d01-3d53-473f-b805-14cee808ebaeGRYR2\\\"> 2014</span> </span> <span class=\\\"field\\\" id=\\\"95e45d01-3d53-473f-b805-14cee808ebaeFRFM2\\\"> </span> </div> </div> <div class=\\\"paragraph\\\" id=\\\"PARAGRAPH_95e45d01-3d53-473f-b805-14cee808ebae_3_aadb2d22-49ea-47b0-8fe0-86d66a1003c0\\\" itemscope=\\\"\\\" itemtype=\\\"https://schema.org/EducationalOrganization\\\"> <div class=\\\"singlecolumn\\\"> <span class=\\\"paddedline txt-bold\\\" itemprop=\\\"description\\\"> <span class=\\\"companyname companyname_educ\\\" id=\\\"95e45d01-3d53-473f-b805-14cee808ebaeSCHO3\\\" itemprop=\\\"name\\\"> University Of Colorado At Boulder</span> <span> <span>  - </span> </span> <span class=\\\"joblocation jobcity\\\" id=\\\"95e45d01-3d53-473f-b805-14cee808ebaeSCIT3\\\"> City</span> <span class=\\\"joblocation jobstate\\\" id=\\\"95e45d01-3d53-473f-b805-14cee808ebaeSSTA3\\\"> </span> <span class=\\\"joblocation jobcountry\\\" id=\\\"95e45d01-3d53-473f-b805-14cee808ebaeSCNT3\\\"> </span> <span> <span>  | </span> </span> <span class=\\\"degree\\\" id=\\\"95e45d01-3d53-473f-b805-14cee808ebaeDGRE3\\\" itemprop=\\\"name\\\"> Certificate</span> </span> <span class=\\\"paddedline\\\"> <span class=\\\"programline\\\" id=\\\"95e45d01-3d53-473f-b805-14cee808ebaeSTUY3\\\"> Cybersecurity Policy For Aviation And Internet </span> <span> , </span> <span format=\\\"%m/%Y\\\" id=\\\"95e45d01-3d53-473f-b805-14cee808ebaeGRYR3\\\"> 07/2020</span> </span> <span class=\\\"field\\\" id=\\\"95e45d01-3d53-473f-b805-14cee808ebaeFRFM3\\\"> </span> </div> </div> <div class=\\\"paragraph\\\" id=\\\"PARAGRAPH_95e45d01-3d53-473f-b805-14cee808ebae_4_928da07f-2964-852f-d35b-2700b04793b3\\\" itemscope=\\\"\\\" itemtype=\\\"https://schema.org/EducationalOrganization\\\"> <div class=\\\"singlecolumn\\\"> <span class=\\\"paddedline txt-bold\\\" itemprop=\\\"description\\\"> <span class=\\\"companyname companyname_educ\\\" id=\\\"95e45d01-3d53-473f-b805-14cee808ebaeSCHO4\\\" itemprop=\\\"name\\\"> GOOGLE I.T SUPPORT</span> <span> <span>  - </span> </span> <span class=\\\"joblocation jobcity\\\" id=\\\"95e45d01-3d53-473f-b805-14cee808ebaeSCIT4\\\"> City</span> <span class=\\\"joblocation jobstate\\\" id=\\\"95e45d01-3d53-473f-b805-14cee808ebaeSSTA4\\\"> </span> <span class=\\\"joblocation jobcountry\\\" id=\\\"95e45d01-3d53-473f-b805-14cee808ebaeSCNT4\\\"> </span> <span> <span>  | </span> </span> <span class=\\\"degree\\\" id=\\\"95e45d01-3d53-473f-b805-14cee808ebaeDGRE4\\\" itemprop=\\\"name\\\"> Certificate</span> </span> <span class=\\\"paddedline\\\"> <span class=\\\"programline\\\" id=\\\"95e45d01-3d53-473f-b805-14cee808ebaeSTUY4\\\"> </span> <span format=\\\"%m/%Y\\\" id=\\\"95e45d01-3d53-473f-b805-14cee808ebaeGRYR4\\\"> 03/2021</span> </span> <span class=\\\"field\\\" id=\\\"95e45d01-3d53-473f-b805-14cee808ebaeFRFM4\\\"> <p> <strong> Completed professional Course in:</strong> </p> <p> IT Security: Defense against the digital dark arts</p> <p> Operating System and You: Becoming a power user</p> <p> The Bits and Bytes of Computer Networking</p> <p> System Administration and IT Infrastructure Service</p> <p> Technical Support Fundamentals</p> </span> </div> </div> </div> </div>\",\n          \"<div class=\\\"fontsize fontface vmargins hmargins linespacing pagesize\\\" id=\\\"document\\\"> <div class=\\\"section firstsection\\\" id=\\\"SECTION_NAME588215279\\\" style=\\\"\\n      padding-top:0px;\\n    \\\"> <div class=\\\"paragraph PARAGRAPH_NAME firstparagraph\\\" id=\\\"PARAGRAPH_588215279_1_382804811\\\" style=\\\"\\n      padding-top:0px;\\n    \\\"> <div class=\\\"name\\\" itemprop=\\\"name\\\"> <span class=\\\"field\\\" id=\\\"588215279FNAM1\\\"> </span> <span> </span> <span class=\\\"field lName\\\" id=\\\"588215279LNAM1\\\"> BUSINESS DEVELOPMENT DIRECTOR</span> </div> </div> </div> <div class=\\\"section\\\" id=\\\"SECTION_SUMM588215281\\\" style=\\\"\\n      padding-top:0px;\\n    \\\"> <div class=\\\"heading\\\"> <div class=\\\"sectiontitle\\\" id=\\\"SECTNAME_SUMM588215281\\\"> Summary</div> </div> <div class=\\\"paragraph firstparagraph\\\" id=\\\"PARAGRAPH_588215281_1_382804813\\\" style=\\\"\\n      padding-top:0px;\\n    \\\"> <div class=\\\"field singlecolumn\\\" id=\\\"588215281FRFM1\\\"> <p align=\\\"LEFT\\\"> I collaborate with multiple stakeholders to determine audience needs, quickly developing strategic plans that align with my clients business priorities and strategies.</p> </div> </div> </div> <div class=\\\"section\\\" id=\\\"SECTION_EXPR588215283\\\" style=\\\"\\n      padding-top:0px;\\n    \\\"> <div class=\\\"heading\\\"> <div class=\\\"sectiontitle\\\" id=\\\"SECTNAME_EXPR588215283\\\"> Experience</div> </div> <div class=\\\"paragraph firstparagraph\\\" id=\\\"PARAGRAPH_588215283_1_382804816\\\" itemscope=\\\"\\\" itemtype=\\\"https://schema.org/Organization\\\" style=\\\"\\n      padding-top:0px;\\n    \\\"> <div class=\\\"singlecolumn\\\"> <span class=\\\"paddedline\\\"> <span class=\\\"jobtitle\\\" id=\\\"588215283JTIT1\\\"> Business Development Director</span> <span class=\\\"datesWrapper\\\"> <span class=\\\"jobdates\\\" format=\\\"%m/%Y\\\" id=\\\"588215283JSTD1\\\"> 05/1997</span> <span class=\\\"jobdates\\\">  to </span> <span class=\\\"jobdates\\\" format=\\\"%m/%Y\\\" id=\\\"588215283EDDT1\\\"> Current</span> </span> </span> <span class=\\\"paddedline\\\" itemscope=\\\"\\\" itemtype=\\\"https://schema.org/postalAddress\\\"> <span class=\\\"companyname\\\" id=\\\"588215283COMP1\\\" itemprop=\\\"name\\\"> Company Name</span> <span class=\\\"datesWrapper\\\"> <span class=\\\"joblocation jobcity\\\" id=\\\"588215283JCIT1\\\" itemprop=\\\"addressLocality\\\"> City</span> <span class=\\\"joblocation\\\"> , </span> <span class=\\\"joblocation jobstate\\\" id=\\\"588215283JSTA1\\\" itemprop=\\\"addressRegion\\\"> State</span> </span> </span> <span class=\\\"paddedline\\\"> <span class=\\\"jobline\\\" id=\\\"588215283JDES1\\\" itemprop=\\\"description\\\"> <p align=\\\"LEFT\\\"> Producing measurable results for my clients by designing unique engagement initiatives for employees, sales channel partners and consumers groups. Sales of performance improvement products, most being intangible services to Fortune 500 clients. Success at discovering and growing my business with customers who have the potential to spend more than $1 million with me each year.</p> <ul> <li> I have designed innovative solutions, customized to each customers various objectives and end result needs.</li> <li> Managing my internal teams to develop, design and operate complex custom projects ranging in value at least $150,000 to millions.</li> <li> Titles called on include the entire C suite, CEO, COO, CFO, CMO, President, EVP's of Marketing, Sales, Human Resources &amp; Finance.</li> <li> Define business issues to improve revenue and penetrating existing accounts and opening new.</li> <li> Sold 17 new accounts while in current position, managed sales volume and profit margin with long sales cycle.</li> <li> Managed and hired staff of 4 to work with my major global account travel &amp; meetings business over 8 years.</li> <li> Total book of business constantly over $2.5 million each year.</li> <li> Nearly twice the entertainment activity of other BDD's with similar tenure.</li> <li> Achieved over $6 million in sales twice, becoming a trusted partner to my clients, customers want me to Win!</li> </ul> </span> </span> </div> </div> <div class=\\\"paragraph\\\" id=\\\"PARAGRAPH_588215283_2_382804817\\\" itemscope=\\\"\\\" itemtype=\\\"https://schema.org/Organization\\\" style=\\\"\\n      padding-top:0px;\\n    \\\"> <div class=\\\"singlecolumn\\\"> <span class=\\\"paddedline\\\"> <span class=\\\"jobtitle\\\" id=\\\"588215283JTIT2\\\"> Account Territory &amp; District Sales Manager / National Account Sales</span> <span class=\\\"datesWrapper\\\"> <span class=\\\"jobdates\\\" format=\\\"%m/%Y\\\" id=\\\"588215283JSTD2\\\"> 08/1989</span> <span class=\\\"jobdates\\\">  to </span> <span class=\\\"jobdates\\\" format=\\\"%m/%Y\\\" id=\\\"588215283EDDT2\\\"> 04/1997</span> </span> </span> <span class=\\\"paddedline\\\" itemscope=\\\"\\\" itemtype=\\\"https://schema.org/postalAddress\\\"> <span class=\\\"companyname\\\" id=\\\"588215283COMP2\\\" itemprop=\\\"name\\\"> Company Name</span> <span class=\\\"datesWrapper\\\"> <span class=\\\"joblocation jobcity\\\" id=\\\"588215283JCIT2\\\" itemprop=\\\"addressLocality\\\"> City</span> <span class=\\\"joblocation\\\"> , </span> <span class=\\\"joblocation jobstate\\\" id=\\\"588215283JSTA2\\\" itemprop=\\\"addressRegion\\\"> State</span> </span> </span> <span class=\\\"paddedline\\\"> <span class=\\\"jobline\\\" id=\\\"588215283JDES2\\\" itemprop=\\\"description\\\"> <ul> <li> Responsible for growth of distributor sales volume, product mix and motivation of DSR sales forces.</li> <li> Developed my own custom local training and marketing materials, which were later adopted by the Nestle corporate.</li> <li> Distributor and chain accounts accounted for over $11 million in sales.</li> <li> Increased my chain accounts by over 75% while with national accounts.</li> <li> Created sales forecasts, developed budgets, strategic plans and managed entire regional office staff. Working with my team we grew business at Nestle largest US account by nearly double.</li> <li> Surpassed sales, budget goals every year as manager and twice led company nationally in new product introductions.</li> <li> District sales grew from $16 million to over $22 million as district manager. Hired five salespeople and 4 direct reports were promoted, managed up to eight account managers at a time.</li> <li> Developed new reports, marketing and promotional strategies for the field. Designed account reviews process, management and field training programs for the entire company.</li> <li> Sold small business owners and managed distributor sales accounts, using strategic planning, innovative programming and by cultivating strong personal relationships. Took area territory sales from $500,000 to $2.9 million, with a mature company in an industry with an average annual increase of only 3-5%.</li> </ul> </span> </span> </div> </div> <div class=\\\"paragraph\\\" id=\\\"PARAGRAPH_588215283_3_382804818\\\" itemscope=\\\"\\\" itemtype=\\\"https://schema.org/Organization\\\" style=\\\"\\n      padding-top:0px;\\n    \\\"> <div class=\\\"singlecolumn\\\"> <span class=\\\"paddedline\\\"> <span class=\\\"jobtitle\\\" id=\\\"588215283JTIT3\\\"> Financial Operations Executive and Department Merchandising Manager</span> <span class=\\\"datesWrapper\\\"> <span class=\\\"jobdates\\\" format=\\\"%m/%Y\\\" id=\\\"588215283JSTD3\\\"> 04/1988</span> <span class=\\\"jobdates\\\">  to </span> <span class=\\\"jobdates\\\" format=\\\"%m/%Y\\\" id=\\\"588215283EDDT3\\\"> 08/1989</span> </span> </span> <span class=\\\"paddedline\\\" itemscope=\\\"\\\" itemtype=\\\"https://schema.org/postalAddress\\\"> <span class=\\\"companyname\\\" id=\\\"588215283COMP3\\\" itemprop=\\\"name\\\"> Company Name</span> <span class=\\\"datesWrapper\\\"> <span class=\\\"joblocation jobcity\\\" id=\\\"588215283JCIT3\\\" itemprop=\\\"addressLocality\\\"> City</span> <span class=\\\"joblocation\\\"> , </span> <span class=\\\"joblocation jobstate\\\" id=\\\"588215283JSTA3\\\" itemprop=\\\"addressRegion\\\"> State</span> </span> </span> <span class=\\\"paddedline\\\"> <span class=\\\"jobline\\\" id=\\\"588215283JDES3\\\" itemprop=\\\"description\\\"> Financial Operations Executive for the South Bend store. Volunteered to be merchandise manager for the stores largest department. While in this role the department had the highest per foot sales volume of any department in the entire corporation during the 4th quarter of 1988.</span> </span> </div> </div> </div> <div class=\\\"section\\\" id=\\\"SECTION_ACCM588215285\\\" style=\\\"\\n      padding-top:0px;\\n    \\\"> <div class=\\\"heading\\\"> <div class=\\\"sectiontitle\\\" id=\\\"SECTNAME_ACCM588215285\\\"> Accomplishments</div> </div> <div class=\\\"paragraph firstparagraph\\\" id=\\\"PARAGRAPH_588215285_1_382804815\\\" style=\\\"\\n      padding-top:0px;\\n    \\\"> <div class=\\\"field singlecolumn\\\" id=\\\"588215285FRFM1\\\"> <ul> <li> 4 times President Achievement Guild Award winner, award for sales volume and profit.</li> <li> 3 times President Achievement Award winner, award for sales volume and profit.</li> <li> 4 times Achievement Guild winner, for leadership in 3 year running combined volume.</li> <li> Top travel and meetings sales several times since with BIW.</li> <li> National sales contest \\\"the 1993 Superbowl\\\".</li> <li> Twice awarded \\\"The Over Achiever of the Year\\\" by my most profitable direct customer.</li> <li> Reviewed consistently by management throughout career as \\\"Outstanding or Exceeding Expectations\\\".</li> <li> College: elected to executive positions with both Finance Club and Resident Housing Association.</li> </ul> </div> </div> </div> <div class=\\\"section\\\" id=\\\"SECTION_SKLL588215288\\\" style=\\\"\\n      padding-top:0px;\\n    \\\"> <div class=\\\"heading\\\"> <div class=\\\"sectiontitle\\\" id=\\\"SECTNAME_SKLL588215288\\\"> Skills</div> </div> <div class=\\\"paragraph firstparagraph\\\" id=\\\"PARAGRAPH_588215288_1_382804821\\\" style=\\\"\\n      padding-top:0px;\\n    \\\"> <div class=\\\"field singlecolumn\\\" id=\\\"588215288FRFM1\\\"> <p align=\\\"LEFT\\\"> Sales, Business Development, Distributor Sales, Territory Sales, District Sales, Sales of Solutions, Sales Teams, Sales Accounts, National Accounts, Sales Management, Strategic Accounts, Sales Promotions, Travel &amp; Meeting Sales, Technology Application Sales, Clients Management, Marketing, Budget, Budgets, Forecasts, Promotional, Travel &amp; Meeting Operations, Strategic Planning, Training, Training Development, Financial Operations, Merchandising, Corporate Operations, Employee Engagement, Managing Existing Accounts, Forecasting, Human Resources, Finding New Accounts, Relationship Building and Strategic Direction.</p> </div> </div> </div> <div class=\\\"section\\\" id=\\\"SECTION_EDUC588215284\\\" style=\\\"\\n      padding-top:0px;\\n    \\\"> <div class=\\\"heading\\\"> <div class=\\\"sectiontitle\\\" id=\\\"SECTNAME_EDUC588215284\\\"> Education</div> </div> <div class=\\\"paragraph firstparagraph\\\" id=\\\"PARAGRAPH_588215284_1_382804819\\\" itemscope=\\\"\\\" itemtype=\\\"https://schema.org/EducationalOrganization\\\" style=\\\"\\n      padding-top:0px;\\n    \\\"> <div class=\\\"singlecolumn\\\"> <span class=\\\"paddedline\\\" itemprop=\\\"description\\\"> <span class=\\\"degree\\\" id=\\\"588215284DGRE1\\\" itemprop=\\\"name\\\"> Bachelor of Business Administration</span> <span> : </span> <span class=\\\"programline\\\" id=\\\"588215284STUY1\\\"> Finance, General Business</span> <span class=\\\"datesWrapper\\\"> <span class=\\\"jobdates\\\" id=\\\"588215284GRYR1\\\"> 1988</span> <span> </span> </span> </span> <span class=\\\"paddedline\\\"> <span class=\\\"companyname companyname_educ\\\" id=\\\"588215284SCHO1\\\" itemprop=\\\"name\\\"> Western Michigan University</span> <span class=\\\"datesWrapper\\\"> <span class=\\\"joblocation jobcity educity\\\" id=\\\"588215284SCIT1\\\"> City</span> <span> , </span> <span class=\\\"joblocation jobstate edustate\\\" id=\\\"588215284SSTA1\\\"> State</span> <span> , </span> <span class=\\\"joblocation eduCountry\\\" id=\\\"588215284SCNT1\\\"> US</span> </span> </span> <span class=\\\"paddedline\\\"> <span class=\\\"field\\\" id=\\\"588215284FRFM1\\\"> <p align=\\\"LEFT\\\"> Earned over 85% of all educational/living costs. Jobs worked while in college, industrial heavy construction, excelled at several sales roles including at direct sales of home goods. While in direct sales I won a national trip and was ranked in the top 10 in the country in sales.  Started two successful on campus businesses. Member of the varsity division I football team for 4 years.</p> </span> </span> </div> </div> </div> <div class=\\\"section\\\" id=\\\"SECTION_AFIL588215287\\\" style=\\\"\\n      padding-top:0px;\\n    \\\"> <div class=\\\"heading\\\"> <div class=\\\"sectiontitle\\\" id=\\\"SECTNAME_AFIL588215287\\\"> Organizations</div> </div> <div class=\\\"paragraph firstparagraph\\\" id=\\\"PARAGRAPH_588215287_1_382804820\\\" style=\\\"\\n      padding-top:0px;\\n    \\\"> <div class=\\\"field singlecolumn\\\" id=\\\"588215287FRFM1\\\"> <p align=\\\"LEFT\\\"> IMEX, Milford Memories Planning Board, Huron Valley Youth Baseball President/Treasurer/Director of Travel Baseball, Lakeland Milford Travel Secretary and Milford High School baseball instructor.</p> </div> </div> </div> </div>\",\n          \"<div class=\\\"MPR skn-cbg1 fontsize fontface vmargins hmargins pagesize\\\" id=\\\"document\\\"> <div class=\\\"firstsection\\\" id=\\\"SECTION_PICT1c54d90b-f210-4994-a2df-6f797170b266\\\" style=\\\"padding-top:0px;\\\"> </div> <div class=\\\"section\\\" id=\\\"SECTION_NAMEafa5029c-ed20-4905-9618-559ac6326521\\\" style=\\\"padding-top:0px;\\\"> <div class=\\\"paragraph PARAGRAPH_NAME firstparagraph\\\" id=\\\"PARAGRAPH_afa5029c-ed20-4905-9618-559ac6326521_1_b72ebc9d-ef20-449c-9e46-f7af6ed76f8e\\\" style=\\\"padding-top:NaNpx;\\\"> <div class=\\\"name\\\" itemprop=\\\"name\\\"> <span class=\\\"field\\\" id=\\\"afa5029c-ed20-4905-9618-559ac6326521FNAM1\\\"> </span> <span> </span> <span class=\\\"field\\\" id=\\\"afa5029c-ed20-4905-9618-559ac6326521LNAM1\\\"> ENGINEERING MANAGER</span> </div> <div class=\\\"lowerborder\\\"> </div> </div> </div> <div class=\\\"section\\\" id=\\\"SECTION_SUMMa79b81cd-ed26-40a6-a71d-d369a97aaddf\\\" style=\\\"padding-top:0px;\\\"> <div class=\\\"heading\\\"> <div class=\\\"sectiontitle\\\" id=\\\"SECTNAME_SUMMa79b81cd-ed26-40a6-a71d-d369a97aaddf\\\"> Professional Summary</div> </div> <div class=\\\"paragraph firstparagraph\\\" id=\\\"PARAGRAPH_a79b81cd-ed26-40a6-a71d-d369a97aaddf_1_d37148e5-8011-49d3-b6b5-15a08f038d2a\\\" style=\\\"padding-top:NaNpx;\\\"> <div class=\\\"field singlecolumn\\\" id=\\\"a79b81cd-ed26-40a6-a71d-d369a97aaddfFRFM1\\\"> Experienced product development Engineer and manager able to collaborate with cross functional team as well as customers and sales to bring brand new offerings to new markets. Skilled at managing cross functional team for continuous improvements and meeting project deadlines. Offering 6 years of experience in the field.</div> </div> </div> <div class=\\\"section\\\" id=\\\"SECTION_HILT59198e28-8127-4e19-8680-aeff6e4e9111\\\" style=\\\"padding-top:0px;\\\"> <div class=\\\"heading\\\"> <div class=\\\"sectiontitle\\\" id=\\\"SECTNAME_HILT59198e28-8127-4e19-8680-aeff6e4e9111\\\"> Skills</div> </div> <div class=\\\"paragraph firstparagraph\\\" id=\\\"PARAGRAPH_59198e28-8127-4e19-8680-aeff6e4e9111_1_91ac5bb4-454c-4ef4-8ce9-93cfbec48dd8\\\" style=\\\"padding-top:NaNpx;\\\"> <div class=\\\"singlecolumn maincolumn\\\"> <table class=\\\"twocol\\\"> <tbody> <tr> <td class=\\\"field twocol_1\\\" id=\\\"59198e28-8127-4e19-8680-aeff6e4e9111SKC11\\\"> <ul> <li> Microsoft Office</li> <li> Microsoft Project</li> <li> Product development</li> <li> Quality</li> <li> Research</li> <li> Six Sigma Green Belt</li> <li> Solid Works</li> <li> Visio</li> <li> Prioritization</li> <li> Personnel management</li> <li> Critical thinking skills</li> <li> Team management</li> <li> Analyst, Visio</li> <li> Agency</li> <li> Consulting</li> <li> Cost analysis</li> <li> Critical thinking</li> <li> Designing</li> <li> Dialysis</li> <li> Direction</li> </ul> </td> <td class=\\\"field twocol_2\\\" id=\\\"59198e28-8127-4e19-8680-aeff6e4e9111SKC21\\\"> <ul> <li> Develop drug</li> <li> Functional</li> <li> IIa</li> <li> ISO</li> <li> Leadership</li> <li> Market and development</li> <li> Microsoft Office</li> <li> Microsoft Project</li> <li> Personnel management</li> <li> Design process</li> <li> Product development</li> <li> Product management</li> <li> Quality</li> <li> Researching</li> <li> Research</li> <li> Sales</li> <li> Six Sigma</li> <li> Solid Works</li> <li> Team management</li> <li> Validation</li> </ul> </td> </tr> </tbody> </table> </div> </div> </div> <div class=\\\"section\\\" id=\\\"SECTION_EXPR57f7e681-47f6-4b9d-bd84-cbc638b40345\\\" style=\\\"padding-top:0px;\\\"> <div class=\\\"heading\\\"> <div class=\\\"sectiontitle\\\" id=\\\"SECTNAME_EXPR57f7e681-47f6-4b9d-bd84-cbc638b40345\\\"> Work History</div> </div> <div class=\\\"paragraph firstparagraph\\\" id=\\\"PARAGRAPH_57f7e681-47f6-4b9d-bd84-cbc638b40345_1_81f1c5da-b869-42af-94e3-cacd539a1040\\\" itemscope=\\\"\\\" itemtype=\\\"https://schema.org/Organization\\\" style=\\\"padding-top:NaNpx;\\\"> <div class=\\\"singlecolumn\\\"> <span class=\\\"paddedline\\\" style=\\\"display: inline;\\\"> <span class=\\\"jobtitle\\\" id=\\\"57f7e681-47f6-4b9d-bd84-cbc638b40345JTIT1\\\"> Engineering Manager</span> <span> , </span> </span> <span class=\\\"paddedline\\\" style=\\\"display: inline;\\\"> <span class=\\\"jobdates\\\" format=\\\"%m/%Y\\\" id=\\\"57f7e681-47f6-4b9d-bd84-cbc638b40345JSTD1\\\"> 03/2018</span> <span>  to </span> <span class=\\\"jobdates\\\" format=\\\"%m/%Y\\\" id=\\\"57f7e681-47f6-4b9d-bd84-cbc638b40345EDDT1\\\"> Current</span> <br/> </span> <span class=\\\"paddedline\\\" itemscope=\\\"\\\" itemtype=\\\"https://schema.org/postalAddress\\\"> <span class=\\\"companyname\\\" id=\\\"57f7e681-47f6-4b9d-bd84-cbc638b40345COMP1\\\" itemprop=\\\"name\\\"> </span> <span class=\\\"joblocation jobcity\\\" id=\\\"57f7e681-47f6-4b9d-bd84-cbc638b40345JCIT1\\\" itemprop=\\\"addressLocality\\\"> City</span> <span> , </span> <span class=\\\"joblocation jobstate\\\" id=\\\"57f7e681-47f6-4b9d-bd84-cbc638b40345JSTA1\\\" itemprop=\\\"addressRegion\\\"> State</span> <br/> </span> <span class=\\\"jobline\\\" id=\\\"57f7e681-47f6-4b9d-bd84-cbc638b40345JDES1\\\" itemprop=\\\"description\\\"> <ul> <li> Create and maintain Technical Files per MDR requirements as well as attaining 510k on legacy products.</li> <li> Assess testing gaps of legacy products and design creep.</li> <li> Experienced in working with multiple departments.</li> <li> Experienced in training and leading engineers in order to investigate field complaints, Gap analysis and building Technical files/DHF.</li> <li> Experienced in leading team of engineers to lead all aspects of design process, including regulatory needs per market and development per design control.</li> <li> Tasked to create test plan and analysis of existing Class I, II and III products and Testing per latest applicable requirements.</li> <li> Trained team in conducting project related cost analysis, test gap analysis and researching ISO/EN ISO/ASTM requirements.</li> <li> Leading companywide EU MDR product transfer and testing on Infusion products, Dialysis products and standalone products.</li> <li> Provided technical direction on MDR and 510k related projects and initiatives to other engineers and technicians.</li> </ul> </span> </div> </div> <div class=\\\"paragraph\\\" id=\\\"PARAGRAPH_57f7e681-47f6-4b9d-bd84-cbc638b40345_2_c5e121c4-d6fe-4d94-bb47-2d7a992e1427\\\" itemscope=\\\"\\\" itemtype=\\\"https://schema.org/Organization\\\" style=\\\"padding-top:NaNpx;\\\"> <div class=\\\"singlecolumn\\\"> <span class=\\\"paddedline\\\" style=\\\"display: inline;\\\"> <span class=\\\"jobtitle\\\" id=\\\"57f7e681-47f6-4b9d-bd84-cbc638b40345JTIT2\\\"> Project Engineer II</span> <span> , </span> </span> <span class=\\\"paddedline\\\" style=\\\"display: inline;\\\"> <span class=\\\"jobdates\\\" format=\\\"%m/%Y\\\" id=\\\"57f7e681-47f6-4b9d-bd84-cbc638b40345JSTD2\\\"> 03/2017</span> <span>  to </span> <span class=\\\"jobdates\\\" format=\\\"%m/%Y\\\" id=\\\"57f7e681-47f6-4b9d-bd84-cbc638b40345EDDT2\\\"> 03/2018</span> <br/> </span> <span class=\\\"paddedline\\\" itemscope=\\\"\\\" itemtype=\\\"https://schema.org/postalAddress\\\"> <span class=\\\"companyname\\\" id=\\\"57f7e681-47f6-4b9d-bd84-cbc638b40345COMP2\\\" itemprop=\\\"name\\\"> Company Name</span> <span>  \\u2013 </span> <span class=\\\"joblocation jobcity\\\" id=\\\"57f7e681-47f6-4b9d-bd84-cbc638b40345JCIT2\\\" itemprop=\\\"addressLocality\\\"> City</span> <span> , </span> <span class=\\\"joblocation jobstate\\\" id=\\\"57f7e681-47f6-4b9d-bd84-cbc638b40345JSTA2\\\" itemprop=\\\"addressRegion\\\"> State</span> <br/> </span> <span class=\\\"jobline\\\" id=\\\"57f7e681-47f6-4b9d-bd84-cbc638b40345JDES2\\\" itemprop=\\\"description\\\"> <ul> <li> Working with product management, Clinical Analyst, sales, and regulatory to determine optimal design inputs for new products.</li> <li> Completed design transfer and attained 510k on Class IIb device in under year.</li> <li> Lead cross functional team including consulting agency in order to Develop drug device combination product and research optimal process using DOE in order for mass production.</li> <li> Leading all aspects of design control from designing on solid works to process validations and V&amp;V Testing.</li> <li> Analyzing and resolving field failures through investigation and testing.</li> <li> Experienced in working with international regulatory teams in providing information for foreign registration.</li> <li> Responsible for gap analysis and test planning in order to create and meet deadline for projects.</li> <li> Experienced with reviewing and approving validation activities as well as provide support to staff to achieve project milestones.</li> <li> Experienced working with cross functional teams to complete projects and tasks.</li> </ul> </span> </div> </div> <div class=\\\"paragraph\\\" id=\\\"PARAGRAPH_57f7e681-47f6-4b9d-bd84-cbc638b40345_3_491b8c27-b7f3-4db9-a48d-46bfa2dd83ee\\\" itemscope=\\\"\\\" itemtype=\\\"https://schema.org/Organization\\\" style=\\\"padding-top:NaNpx;\\\"> <div class=\\\"singlecolumn\\\"> <span class=\\\"paddedline\\\" style=\\\"display: inline;\\\"> <span class=\\\"jobtitle\\\" id=\\\"57f7e681-47f6-4b9d-bd84-cbc638b40345JTIT3\\\"> Engineer I</span> <span> , </span> </span> <span class=\\\"paddedline\\\" style=\\\"display: inline;\\\"> <span class=\\\"jobdates\\\" format=\\\"%m/%Y\\\" id=\\\"57f7e681-47f6-4b9d-bd84-cbc638b40345JSTD3\\\"> 06/2013</span> <span>  to </span> <span class=\\\"jobdates\\\" format=\\\"%m/%Y\\\" id=\\\"57f7e681-47f6-4b9d-bd84-cbc638b40345EDDT3\\\"> 03/2017</span> <br/> </span> <span class=\\\"paddedline\\\" itemscope=\\\"\\\" itemtype=\\\"https://schema.org/postalAddress\\\"> <span class=\\\"companyname\\\" id=\\\"57f7e681-47f6-4b9d-bd84-cbc638b40345COMP3\\\" itemprop=\\\"name\\\"> Company Name</span> <span>  \\u2013 </span> <span class=\\\"joblocation jobcity\\\" id=\\\"57f7e681-47f6-4b9d-bd84-cbc638b40345JCIT3\\\" itemprop=\\\"addressLocality\\\"> City</span> <span> , </span> <span class=\\\"joblocation jobstate\\\" id=\\\"57f7e681-47f6-4b9d-bd84-cbc638b40345JSTA3\\\" itemprop=\\\"addressRegion\\\"> State</span> <br/> </span> <span class=\\\"jobline\\\" id=\\\"57f7e681-47f6-4b9d-bd84-cbc638b40345JDES3\\\" itemprop=\\\"description\\\"> <ul> <li> Worked to bring Drug Device Combination product to mass production.</li> <li> Completed new Class IIa product and completed project in 10 months.</li> <li> Completing CAPAs and resolving field failures by research and testing.</li> <li> Developed new testing methods and designed tooling for new testing.</li> <li> Experienced in using Injection Molding Machine to Create and Test Prototypes.</li> <li> Found cheaper and more responsible vendor for MRI related testing.</li> </ul> </span> </div> </div> </div> <div class=\\\"section\\\" id=\\\"SECTION_EDUCc3ff1b76-45c2-4256-801f-1d93a6d48a74\\\" style=\\\"padding-top:0px;\\\"> <div class=\\\"heading\\\"> <div class=\\\"sectiontitle\\\" id=\\\"SECTNAME_EDUCc3ff1b76-45c2-4256-801f-1d93a6d48a74\\\"> Education</div> </div> <div class=\\\"paragraph firstparagraph\\\" id=\\\"PARAGRAPH_c3ff1b76-45c2-4256-801f-1d93a6d48a74_1_7d553f36-a7b2-4ee5-ada1-c08888ca8509\\\" itemscope=\\\"\\\" itemtype=\\\"https://schema.org/EducationalOrganization\\\" style=\\\"padding-top:NaNpx;\\\"> <div class=\\\"singlecolumn\\\"> <span class=\\\"paddedline\\\" itemprop=\\\"description\\\"> <span class=\\\"degree\\\" id=\\\"c3ff1b76-45c2-4256-801f-1d93a6d48a74DGRE1\\\" itemprop=\\\"name\\\"> Bachelor of Science</span> <span> : </span> <span class=\\\"programline\\\" id=\\\"c3ff1b76-45c2-4256-801f-1d93a6d48a74STUY1\\\"> Mechanical Engineering</span> <span> , </span> <span format=\\\"%m/%Y\\\" id=\\\"c3ff1b76-45c2-4256-801f-1d93a6d48a74GRYR1\\\"> 05/2013</span> <br/> </span> <span class=\\\"paddedline\\\"> <span class=\\\"companyname companyname_educ\\\" id=\\\"c3ff1b76-45c2-4256-801f-1d93a6d48a74SCHO1\\\" itemprop=\\\"name\\\"> Temple University</span> <span>  - </span> <span class=\\\"joblocation jobcity\\\" id=\\\"c3ff1b76-45c2-4256-801f-1d93a6d48a74SCIT1\\\"> City</span> <span> , </span> <span class=\\\"joblocation jobstate\\\" id=\\\"c3ff1b76-45c2-4256-801f-1d93a6d48a74SSTA1\\\"> State</span> <br/> </span> <span class=\\\"field\\\" id=\\\"c3ff1b76-45c2-4256-801f-1d93a6d48a74FRFM1\\\"> </span> </div> </div> <div class=\\\"paragraph\\\" id=\\\"PARAGRAPH_c3ff1b76-45c2-4256-801f-1d93a6d48a74_2_927d72ba-b039-4a46-970c-25339dd8e216\\\" itemscope=\\\"\\\" itemtype=\\\"https://schema.org/EducationalOrganization\\\" style=\\\"padding-top:NaNpx;\\\"> <div class=\\\"singlecolumn\\\"> <span class=\\\"paddedline\\\" itemprop=\\\"description\\\"> <span class=\\\"degree\\\" id=\\\"c3ff1b76-45c2-4256-801f-1d93a6d48a74DGRE2\\\" itemprop=\\\"name\\\"> Certifications\\nManagement Leadership Certification and Six Sigma Greenbelt certification</span> <span class=\\\"programline\\\" id=\\\"c3ff1b76-45c2-4256-801f-1d93a6d48a74STUY2\\\"> </span> <span format=\\\"%m/%Y\\\" id=\\\"c3ff1b76-45c2-4256-801f-1d93a6d48a74GRYR2\\\"> </span> </span> <span class=\\\"field\\\" id=\\\"c3ff1b76-45c2-4256-801f-1d93a6d48a74FRFM2\\\"> </span> </div> </div> </div> <div class=\\\"section\\\" id=\\\"SECTION_WRKH94eaceaf-fc70-4558-aae7-c02aa39afdaa\\\" style=\\\"padding-top:0px;\\\"> <div class=\\\"heading\\\"> <div class=\\\"sectiontitle\\\" id=\\\"SECTNAME_WRKH94eaceaf-fc70-4558-aae7-c02aa39afdaa\\\"> Work History</div> </div> <div class=\\\"paragraph firstparagraph\\\" id=\\\"PARAGRAPH_94eaceaf-fc70-4558-aae7-c02aa39afdaa_1_683ed507-7415-4bc5-b721-adecaa5a90b4\\\" itemscope=\\\"\\\" itemtype=\\\"https://schema.org/Organization\\\" style=\\\"padding-top:NaNpx;\\\"> <div class=\\\"singlecolumn\\\"> <span class=\\\"paddedline\\\"> <span class=\\\"jobtitle\\\" id=\\\"94eaceaf-fc70-4558-aae7-c02aa39afdaaJTIT1\\\"> Engineering Manager</span> <span> , </span> <span class=\\\"jobdates\\\" format=\\\"%m/%Y\\\" id=\\\"94eaceaf-fc70-4558-aae7-c02aa39afdaaJSTD1\\\"> 03/2018</span> <span>  to </span> <span class=\\\"jobdates\\\" format=\\\"%m/%Y\\\" id=\\\"94eaceaf-fc70-4558-aae7-c02aa39afdaaEDDT1\\\"> Current</span> <br/> </span> <span class=\\\"paddedline\\\" itemscope=\\\"\\\" itemtype=\\\"https://schema.org/postalAddress\\\"> <span class=\\\"companyname\\\" id=\\\"94eaceaf-fc70-4558-aae7-c02aa39afdaaCOMP1\\\" itemprop=\\\"name\\\"> </span> <span class=\\\"joblocation jobcity\\\" id=\\\"94eaceaf-fc70-4558-aae7-c02aa39afdaaJCIT1\\\" itemprop=\\\"addressLocality\\\"> City</span> <span> , </span> <span class=\\\"joblocation jobstate\\\" id=\\\"94eaceaf-fc70-4558-aae7-c02aa39afdaaJSTA1\\\" itemprop=\\\"addressRegion\\\"> State</span> <br/> </span> <span class=\\\"jobline\\\" id=\\\"94eaceaf-fc70-4558-aae7-c02aa39afdaaJDES1\\\" itemprop=\\\"description\\\"> <ul> <li> Create and maintain Technical Files per MDR requirements as well as attaining 510k on legacy products.</li> <li> Assess testing gaps of legacy products and design creep.</li> <li> Experienced in working with multiple departments.</li> <li> Experienced in training and leading engineers in order to investigate field complaints, Gap analysis and building Technical files/DHF.</li> <li> Experienced in leading team of engineers to lead all aspects of design process, including regulatory needs per market and development per design control.</li> <li> Tasked to create test plan and analysis of existing Class I, II and III products and Testing per latest applicable requirements.</li> <li> Trained team in conducting project related cost analysis, test gap analysis and researching ISO/EN ISO/ASTM requirements.</li> <li> Leading companywide EU MDR product transfer and testing on Infusion products, Dialysis products and standalone products.</li> <li> Provided technical direction on MDR and 510k related projects and initiatives to other engineers and technicians.</li> </ul> </span> </div> </div> <div class=\\\"paragraph\\\" id=\\\"PARAGRAPH_94eaceaf-fc70-4558-aae7-c02aa39afdaa_2_ec8a0290-f8d6-49f4-917e-1272dd2fa499\\\" itemscope=\\\"\\\" itemtype=\\\"https://schema.org/Organization\\\" style=\\\"padding-top:NaNpx;\\\"> <div class=\\\"singlecolumn\\\"> <span class=\\\"paddedline\\\"> <span class=\\\"jobtitle\\\" id=\\\"94eaceaf-fc70-4558-aae7-c02aa39afdaaJTIT2\\\"> Project Engineer II</span> <span> , </span> <span class=\\\"jobdates\\\" format=\\\"%m/%Y\\\" id=\\\"94eaceaf-fc70-4558-aae7-c02aa39afdaaJSTD2\\\"> 03/2017</span> <span>  to </span> <span class=\\\"jobdates\\\" format=\\\"%m/%Y\\\" id=\\\"94eaceaf-fc70-4558-aae7-c02aa39afdaaEDDT2\\\"> 03/2018</span> <br/> </span> <span class=\\\"paddedline\\\" itemscope=\\\"\\\" itemtype=\\\"https://schema.org/postalAddress\\\"> <span class=\\\"companyname\\\" id=\\\"94eaceaf-fc70-4558-aae7-c02aa39afdaaCOMP2\\\" itemprop=\\\"name\\\"> Company Name</span> <span>  \\u2013 </span> <span class=\\\"joblocation jobcity\\\" id=\\\"94eaceaf-fc70-4558-aae7-c02aa39afdaaJCIT2\\\" itemprop=\\\"addressLocality\\\"> City</span> <span> , </span> <span class=\\\"joblocation jobstate\\\" id=\\\"94eaceaf-fc70-4558-aae7-c02aa39afdaaJSTA2\\\" itemprop=\\\"addressRegion\\\"> State</span> <br/> </span> <span class=\\\"jobline\\\" id=\\\"94eaceaf-fc70-4558-aae7-c02aa39afdaaJDES2\\\" itemprop=\\\"description\\\"> <ul> <li> Working with product management, Clinical Analyst, sales, and regulatory to determine optimal design inputs for new products.</li> <li> Completed design transfer and attained 510k on Class IIb device in under year.</li> <li> Lead cross functional team including consulting agency in order to Develop drug device combination product and research optimal process using DOE in order for mass production.</li> <li> Leading all aspects of design control from designing on solid works to process validations and V&amp;V Testing.</li> <li> Analyzing and resolving field failures through investigation and testing.</li> <li> Experienced in working with international regulatory teams in providing information for foreign registration.</li> <li> Responsible for gap analysis and test planning in order to create and meet deadline for projects.</li> <li> Experienced with reviewing and approving validation activities as well as provide support to staff to achieve project milestones.</li> <li> Experienced working with cross functional teams to complete projects and tasks.</li> </ul> </span> </div> </div> <div class=\\\"paragraph\\\" id=\\\"PARAGRAPH_94eaceaf-fc70-4558-aae7-c02aa39afdaa_3_95104344-4f04-46e2-9f70-7d9cc463a747\\\" itemscope=\\\"\\\" itemtype=\\\"https://schema.org/Organization\\\" style=\\\"padding-top:NaNpx;\\\"> <div class=\\\"singlecolumn\\\"> <span class=\\\"paddedline\\\"> <span class=\\\"jobtitle\\\" id=\\\"94eaceaf-fc70-4558-aae7-c02aa39afdaaJTIT3\\\"> Engineer I</span> <span> , </span> <span class=\\\"jobdates\\\" format=\\\"%m/%Y\\\" id=\\\"94eaceaf-fc70-4558-aae7-c02aa39afdaaJSTD3\\\"> 06/2013</span> <span>  to </span> <span class=\\\"jobdates\\\" format=\\\"%m/%Y\\\" id=\\\"94eaceaf-fc70-4558-aae7-c02aa39afdaaEDDT3\\\"> 03/2017</span> <br/> </span> <span class=\\\"paddedline\\\" itemscope=\\\"\\\" itemtype=\\\"https://schema.org/postalAddress\\\"> <span class=\\\"companyname\\\" id=\\\"94eaceaf-fc70-4558-aae7-c02aa39afdaaCOMP3\\\" itemprop=\\\"name\\\"> Company Name</span> <span>  \\u2013 </span> <span class=\\\"joblocation jobcity\\\" id=\\\"94eaceaf-fc70-4558-aae7-c02aa39afdaaJCIT3\\\" itemprop=\\\"addressLocality\\\"> City</span> <span> , </span> <span class=\\\"joblocation jobstate\\\" id=\\\"94eaceaf-fc70-4558-aae7-c02aa39afdaaJSTA3\\\" itemprop=\\\"addressRegion\\\"> State</span> <br/> </span> <span class=\\\"jobline\\\" id=\\\"94eaceaf-fc70-4558-aae7-c02aa39afdaaJDES3\\\" itemprop=\\\"description\\\"> <ul> <li> Worked to bring Drug Device Combination product to mass production.</li> <li> Completed new Class IIa product and completed project in 10 months.</li> <li> Completing CAPAs and resolving field failures by research and testing.</li> <li> Developed new testing methods and designed tooling for new testing.</li> <li> Experienced in using Injection Molding Machine to Create and Test Prototypes.</li> <li> Found cheaper and more responsible vendor for MRI related testing.</li> </ul> </span> </div> </div> </div> <div class=\\\"section\\\" id=\\\"SECTION_SKLL76d684b9-d30d-44de-810c-b0f4c84e80c1\\\" style=\\\"padding-top:0px;\\\"> <div class=\\\"heading\\\"> <div class=\\\"sectiontitle\\\" id=\\\"SECTNAME_SKLL76d684b9-d30d-44de-810c-b0f4c84e80c1\\\"> Skills</div> </div> <div class=\\\"paragraph firstparagraph\\\" id=\\\"PARAGRAPH_76d684b9-d30d-44de-810c-b0f4c84e80c1_1_6b2d0ea2-b0fe-4911-af72-588efa1c02a6\\\" style=\\\"padding-top:NaNpx;\\\"> <div class=\\\"field singlecolumn\\\" id=\\\"76d684b9-d30d-44de-810c-b0f4c84e80c1FRFM1\\\"> <li> Microsoft Office</li> <li> Microsoft Project</li> <li> Product development</li> <li> Quality</li> <li> Research</li> <li> Six Sigma Green Belt</li> <li> Solid Works</li> <li> Visio</li> <li> Prioritization</li> <li> Personnel management</li> <li> Critical thinking skills</li> <li> Team management,</li> <li> Analyst, agency, consulting, cost analysis, Critical thinking, Designing, Dialysis, direction, Develop drug, functional, IIa, ISO, Leadership, market and development, Microsoft Office, Microsoft Project, Personnel management, design process, Product development, product management, Quality, researching, Research, sales, Six Sigma, Solid Works, Team management, validation, Visio</li> </div> </div> </div> </div>\"\n        ],\n        \"semantic_type\": \"\",\n        \"description\": \"\"\n      }\n    },\n    {\n      \"column\": \"Category\",\n      \"properties\": {\n        \"dtype\": \"category\",\n        \"num_unique_values\": 24,\n        \"samples\": [\n          \"AGRICULTURE\",\n          \"APPAREL\",\n          \"HR\"\n        ],\n        \"semantic_type\": \"\",\n        \"description\": \"\"\n      }\n    },\n    {\n      \"column\": \"Resume_Length\",\n      \"properties\": {\n        \"dtype\": \"number\",\n        \"std\": 2769,\n        \"min\": 21,\n        \"max\": 38842,\n        \"num_unique_values\": 2033,\n        \"samples\": [\n          12523,\n          9931,\n          10626\n        ],\n        \"semantic_type\": \"\",\n        \"description\": \"\"\n      }\n    },\n    {\n      \"column\": \"Cleaned_Resume\",\n      \"properties\": {\n        \"dtype\": \"string\",\n        \"num_unique_values\": 2482,\n        \"samples\": [\n          \"information technology specialistdiscountpcfix summary obsessed technology power change everything technology fuels passion commitment helping organizations set engage bring fresh ideas help team galvanize performance refine strategy spark new energy futureand get theredepends build connect create transform world accomplished years information technology support experience highly articulate capable experienced installing updating hardware software systems users known effectively optimizing systems meet changing demands enhancing collaboration improving security experienced operations analyst firstrate skills organizing problem solving project management ready apply experience abilities take new professional challenges passionate driven professional remarkable analytical problem solving skills expert quality assurance tester offering five years experience detailed technical system specifications provides collaborative style welldeveloped communication skills seeking role test reporting defect resolution wellrounded team player dynamic written verbal communication skills hardworking resourceful team player history going beyond achieve notable results offering excellent blend technical aptitude creative ability inspires design teams engaging management techniques innovative thinking resourceful technical support engineer polished restoring system functionality quickly assessing resolving diverse hardware software problems skills issue escalation reporting analysis quality control schematic understanding critical thinking data management network administration experience leadership improvement plan knowledge supervision hardware repair computer configurations system upgrades new program installations organizational leadership troubleshooting maintenance equipment repair power hand tool use troubleshooting repairs preventative maintenance telecommunications systems component repairs multitasking part inspections friendly positive attitude lan wan configurations server system administration enduser training program installations software testing server improvements data backups project management security technologies network configuration time management active directory knowledge cybersecurity analysis system administration microsoft office ms office apple ios technician help desk assistance application software testing mechanical abilities information systems security professional advanced knowledge windows os advanced knowledge google chrome os soldering database management technical knowledge server system softwares servers storage systems network equipment pcs notebooks brands experience information technology specialistdiscountpcfix current company name city state assisted client new computer network equipment purchases updated installed software customers ensure computer efficiency checked computers performed diagnostics repair backed data evening helping alleviate lost information following malware incident updated software versions patches new installations close security loopholes protect users identified hardware issues caused component failures using approved diagnostic tools installed motherboards processors graphics cards configured computers network drivers connected printers peripheral equipment upgraded laptopsdesktops improving speed performance fixed appleiphoneimacipadlaptop products screen damage fixed brandwindows osmac oschrome os products liquid damage observed system functioning entered commands test different areas operations explained technologyrelated details easytounderstand terms individuals walks life various job positions responded assistance requests users directed individuals basic troubleshooting tasks reviewed current hardware software configurations recommended modifications increase system speed serviced repaired equipment according manufacturer guidelines installed new systems components according service orders manufacturer instructions assessed identified issues quickly resolved restore functionality built repaired computers according schedule installed configured setup pcs stores optimal operation reporting evaluated interfaces hardware software testing performance requirements studied complex technical issues determined proper resolution methods assisted postimplementation troubleshooting new applications application upgrades determined alleviated hardware software network issues installed supported hardware software including desktops servers printers identified operational performance issues worked managers resolve concerns completed various reports analyzed report decide improvements could made recommended process systems improvements changes operations updated hardware software upon availability supervised network eliminate bottlenecks immediately handled network configurations hours weekends alleviate downtime maintain smooth operations assisted customers various types technical issues via email live chat telephone delivered local remote tier support hardware software company personnel disassembled computer systems troubleshoot resolve hardware issues increased overall company performance improved uptime cost reductions quality control inspector contractor current company name city state conferred scientific engineering technical personnel resolve design research testing problems worked engineers facilitate research development testing correct mechanical failures generate technical specifications prior release developed implemented best practices defect prevention continuous improvement used specialized tools take precise measurements various aspects samples consulted engineers resolve quality production efficiency problems wrote detailed reports outlining performance quality defect rates completed nondestructive tests visual inspections continuous basis inspected quality finished products making minor repairs meet project expectations documented nonconformities immediately recommended techniques prompt resolution completed nondestructive tests visual inspections continuously reviewed drawings blueprints determine appropriate level inspection required adhered safety protocols minimize equipment damage avoid injuries assessed materials parts products conformance quality control requirements production specifications network analyst company name city state identified operational performance issues worked managers resolve concerns supporting following hardware types servers storage systems network equipment pcs ipad notebooks brands analyzed operational performance identify pain points provided actionable solutions management educated personnel company policies foster improved customer retention increased revenue technical knowledge standard server system software linux windows vmware drove revenue customer retention visiting corporate franchise centers serving clients educate staff company policies customer styling applications wrote reports outlining results facilitate management decision making executed monitored standards user interfaces page design graphics development provided senior technical support inhouse staff user departments network applications monitored project budget careful assessment resource usage task management ensure costs kept low supported customers password resets account customization recorded complaints product deficiencies returned orders customer documentation system supported customers data connectivity issues assisting troubleshooting steps rebooting hardware maintained composure patience face difficult customer situations applying deescalation techniques positive customer support performed site evaluations customer surveys team audits promoted continuous improvement governance processes spearheaded server infrastructure development quality control staging production operations quality control manager company name city state stayed wellinformed company federal regulations bolstered compliance corporate processes used creative professional policy find solutions issues diminishing conflicts handled scheduling procedures department directed team members setting achieving goals observed customer specifications monitoring quality control finished products education training federal polytechnic adoekiti city state associate science science technology phoenix east aviation city state faa aircraft dispatcher license aviation university colorado boulder city certificate cybersecurity policy aviation internet google support city certificate completed professional course security defense digital dark arts operating system becoming power user bits bytes computer networking system administration infrastructure service technical support fundamentals\",\n          \"business development director summary collaborate multiple stakeholders determine audience needs quickly developing strategic plans align clients business priorities strategies experience business development director current company name city state producing measurable results clients designing unique engagement initiatives employees sales channel partners consumers groups sales performance improvement products intangible services fortune clients success discovering growing business customers potential spend million year designed innovative solutions customized customers various objectives end result needs managing internal teams develop design operate complex custom projects ranging value least millions titles called include entire c suite ceo coo cfo cmo president evps marketing sales human resources finance define business issues improve revenue penetrating existing accounts opening new sold new accounts current position managed sales volume profit margin long sales cycle managed hired staff work major global account travel meetings business years total book business constantly million year nearly twice entertainment activity bdds similar tenure achieved million sales twice becoming trusted partner clients customers want win account territory district sales manager national account sales company name city state responsible growth distributor sales volume product mix motivation dsr sales forces developed custom local training marketing materials later adopted nestle corporate distributor chain accounts accounted million sales increased chain accounts national accounts created sales forecasts developed budgets strategic plans managed entire regional office staff working team grew business nestle largest us account nearly double surpassed sales budget goals every year manager twice led company nationally new product introductions district sales grew million million district manager hired five salespeople direct reports promoted managed eight account managers time developed new reports marketing promotional strategies field designed account reviews process management field training programs entire company sold small business owners managed distributor sales accounts using strategic planning innovative programming cultivating strong personal relationships took area territory sales million mature company industry average annual increase financial operations executive department merchandising manager company name city state financial operations executive south bend store volunteered merchandise manager stores largest department role department highest per foot sales volume department entire corporation th quarter accomplishments times president achievement guild award winner award sales volume profit times president achievement award winner award sales volume profit times achievement guild winner leadership year running combined volume top travel meetings sales several times since biw national sales contest superbowl twice awarded achiever year profitable direct customer reviewed consistently management throughout career outstanding exceeding expectations college elected executive positions finance club resident housing association skills sales business development distributor sales territory sales district sales sales solutions sales teams sales accounts national accounts sales management strategic accounts sales promotions travel meeting sales technology application sales clients management marketing budget budgets forecasts promotional travel meeting operations strategic planning training training development financial operations merchandising corporate operations employee engagement managing existing accounts forecasting human resources finding new accounts relationship building strategic direction education bachelor business administration finance general business western michigan university city state us earned educationalliving costs jobs worked college industrial heavy construction excelled several sales roles including direct sales home goods direct sales won national trip ranked top country sales started two successful campus businesses member varsity division football team years organizations imex milford memories planning board huron valley youth baseball presidenttreasurerdirector travel baseball lakeland milford travel secretary milford high school baseball instructor\",\n          \"engineering manager professional summary experienced product development engineer manager able collaborate cross functional team well customers sales bring brand new offerings new markets skilled managing cross functional team continuous improvements meeting project deadlines offering years experience field skills microsoft office microsoft project product development quality research six sigma green belt solid works visio prioritization personnel management critical thinking skills team management analyst visio agency consulting cost analysis critical thinking designing dialysis direction develop drug functional iia iso leadership market development microsoft office microsoft project personnel management design process product development product management quality researching research sales six sigma solid works team management validation work history engineering manager current city state create maintain technical files per mdr requirements well attaining k legacy products assess testing gaps legacy products design creep experienced working multiple departments experienced training leading engineers order investigate field complaints gap analysis building technical filesdhf experienced leading team engineers lead aspects design process including regulatory needs per market development per design control tasked create test plan analysis existing class ii iii products testing per latest applicable requirements trained team conducting project related cost analysis test gap analysis researching isoen isoastm requirements leading companywide eu mdr product transfer testing infusion products dialysis products standalone products provided technical direction mdr k related projects initiatives engineers technicians project engineer ii company name city state working product management clinical analyst sales regulatory determine optimal design inputs new products completed design transfer attained k class iib device year lead cross functional team including consulting agency order develop drug device combination product research optimal process using doe order mass production leading aspects design control designing solid works process validations vv testing analyzing resolving field failures investigation testing experienced working international regulatory teams providing information foreign registration responsible gap analysis test planning order create meet deadline projects experienced reviewing approving validation activities well provide support staff achieve project milestones experienced working cross functional teams complete projects tasks engineer company name city state worked bring drug device combination product mass production completed new class iia product completed project months completing capas resolving field failures research testing developed new testing methods designed tooling new testing experienced using injection molding machine create test prototypes found cheaper responsible vendor mri related testing education bachelor science mechanical engineering temple university city state certifications management leadership certification six sigma greenbelt certification work history engineering manager current city state create maintain technical files per mdr requirements well attaining k legacy products assess testing gaps legacy products design creep experienced working multiple departments experienced training leading engineers order investigate field complaints gap analysis building technical filesdhf experienced leading team engineers lead aspects design process including regulatory needs per market development per design control tasked create test plan analysis existing class ii iii products testing per latest applicable requirements trained team conducting project related cost analysis test gap analysis researching isoen isoastm requirements leading companywide eu mdr product transfer testing infusion products dialysis products standalone products provided technical direction mdr k related projects initiatives engineers technicians project engineer ii company name city state working product management clinical analyst sales regulatory determine optimal design inputs new products completed design transfer attained k class iib device year lead cross functional team including consulting agency order develop drug device combination product research optimal process using doe order mass production leading aspects design control designing solid works process validations vv testing analyzing resolving field failures investigation testing experienced working international regulatory teams providing information foreign registration responsible gap analysis test planning order create meet deadline projects experienced reviewing approving validation activities well provide support staff achieve project milestones experienced working cross functional teams complete projects tasks engineer company name city state worked bring drug device combination product mass production completed new class iia product completed project months completing capas resolving field failures research testing developed new testing methods designed tooling new testing experienced using injection molding machine create test prototypes found cheaper responsible vendor mri related testing skills microsoft office microsoft project product development quality research six sigma green belt solid works visio prioritization personnel management critical thinking skills team management analyst agency consulting cost analysis critical thinking designing dialysis direction develop drug functional iia iso leadership market development microsoft office microsoft project personnel management design process product development product management quality researching research sales six sigma solid works team management validation visio\"\n        ],\n        \"semantic_type\": \"\",\n        \"description\": \"\"\n      }\n    }\n  ]\n}"
            }
          },
          "metadata": {},
          "execution_count": 31
        }
      ]
    },
    {
      "cell_type": "markdown",
      "source": [
        "**Splitting the Data**"
      ],
      "metadata": {
        "id": "xP7oDbkoBd4D"
      }
    },
    {
      "cell_type": "code",
      "source": [
        "from sklearn.model_selection import train_test_split\n",
        "\n",
        "# Split the data into training, validation, and test sets\n",
        "X_train, X_temp, y_train, y_temp = train_test_split(X, y, test_size=0.3, random_state=42)\n",
        "X_val, X_test, y_val, y_test = train_test_split(X_temp, y_temp, test_size=0.5, random_state=42)\n"
      ],
      "metadata": {
        "id": "m8WNpc1YbCLy"
      },
      "execution_count": null,
      "outputs": []
    },
    {
      "cell_type": "markdown",
      "source": [
        "**Model Training**"
      ],
      "metadata": {
        "id": "qhX67nU6Bg_L"
      }
    },
    {
      "cell_type": "code",
      "source": [
        "\n",
        "model = LogisticRegression()\n",
        "model.fit(X_train, y_train)\n",
        "\n",
        "y_pred_val = model.predict(X_val)\n",
        "print(\"Validation Accuracy:\", accuracy_score(y_val, y_pred_val))\n",
        "print(\"Validation Classification Report:\\n\", classification_report(y_val, y_pred_val))\n"
      ],
      "metadata": {
        "colab": {
          "base_uri": "https://localhost:8080/"
        },
        "id": "NQBAuuZgbpNd",
        "outputId": "f04d866c-38d8-459c-9b54-5995c55fc55d"
      },
      "execution_count": null,
      "outputs": [
        {
          "output_type": "stream",
          "name": "stdout",
          "text": [
            "Validation Accuracy: 0.6193029490616622\n",
            "Validation Classification Report:\n",
            "               precision    recall  f1-score   support\n",
            "\n",
            "           0       0.82      0.86      0.84        21\n",
            "           1       0.55      0.64      0.59        28\n",
            "           2       1.00      0.22      0.36         9\n",
            "           3       0.44      0.36      0.40        11\n",
            "           4       0.09      0.08      0.09        12\n",
            "           5       0.00      0.00      0.00         8\n",
            "           6       0.78      0.78      0.78        18\n",
            "           7       0.82      0.69      0.75        13\n",
            "           8       0.00      0.00      0.00         2\n",
            "           9       0.65      0.59      0.62        22\n",
            "          10       0.88      0.70      0.78        20\n",
            "          11       0.92      0.80      0.86        15\n",
            "          12       0.22      0.25      0.24         8\n",
            "          13       0.82      0.64      0.72        14\n",
            "          14       0.93      0.61      0.74        23\n",
            "          15       0.38      0.62      0.47        13\n",
            "          16       0.64      0.74      0.68        19\n",
            "          17       0.88      0.44      0.58        16\n",
            "          18       0.31      0.73      0.43        11\n",
            "          19       0.67      0.91      0.77        11\n",
            "          20       0.61      0.76      0.68        25\n",
            "          21       0.62      0.71      0.67        14\n",
            "          22       0.50      0.67      0.57        21\n",
            "          23       0.69      0.58      0.63        19\n",
            "\n",
            "    accuracy                           0.62       373\n",
            "   macro avg       0.59      0.56      0.55       373\n",
            "weighted avg       0.65      0.62      0.62       373\n",
            "\n"
          ]
        },
        {
          "output_type": "stream",
          "name": "stderr",
          "text": [
            "/usr/local/lib/python3.10/dist-packages/sklearn/metrics/_classification.py:1471: UndefinedMetricWarning: Precision and F-score are ill-defined and being set to 0.0 in labels with no predicted samples. Use `zero_division` parameter to control this behavior.\n",
            "  _warn_prf(average, modifier, msg_start, len(result))\n",
            "/usr/local/lib/python3.10/dist-packages/sklearn/metrics/_classification.py:1471: UndefinedMetricWarning: Precision and F-score are ill-defined and being set to 0.0 in labels with no predicted samples. Use `zero_division` parameter to control this behavior.\n",
            "  _warn_prf(average, modifier, msg_start, len(result))\n",
            "/usr/local/lib/python3.10/dist-packages/sklearn/metrics/_classification.py:1471: UndefinedMetricWarning: Precision and F-score are ill-defined and being set to 0.0 in labels with no predicted samples. Use `zero_division` parameter to control this behavior.\n",
            "  _warn_prf(average, modifier, msg_start, len(result))\n"
          ]
        }
      ]
    },
    {
      "cell_type": "code",
      "source": [
        "rf_model = RandomForestClassifier(n_estimators=100, random_state=42)\n",
        "rf_model.fit(X_train, y_train)\n",
        "\n",
        "y_pred_rf = rf_model.predict(X_val)\n",
        "\n",
        "print(\"Random Forest Validation Accuracy:\", accuracy_score(y_val, y_pred_rf))\n",
        "print(\"Random Forest Validation Classification Report:\\n\", classification_report(y_val, y_pred_rf))\n"
      ],
      "metadata": {
        "colab": {
          "base_uri": "https://localhost:8080/"
        },
        "id": "hnvqt3VBzYPr",
        "outputId": "04d9ac7e-c63f-4259-d7a2-835043d22cb0"
      },
      "execution_count": null,
      "outputs": [
        {
          "output_type": "stream",
          "name": "stdout",
          "text": [
            "Random Forest Validation Accuracy: 0.6729222520107239\n",
            "Random Forest Validation Classification Report:\n",
            "               precision    recall  f1-score   support\n",
            "\n",
            "           0       0.75      1.00      0.86        21\n",
            "           1       0.92      0.82      0.87        28\n",
            "           2       0.67      0.22      0.33         9\n",
            "           3       0.50      0.27      0.35        11\n",
            "           4       0.25      0.08      0.12        12\n",
            "           5       0.00      0.00      0.00         8\n",
            "           6       0.73      0.89      0.80        18\n",
            "           7       0.56      0.69      0.62        13\n",
            "           8       0.00      0.00      0.00         2\n",
            "           9       0.60      0.55      0.57        22\n",
            "          10       0.79      0.75      0.77        20\n",
            "          11       0.81      0.87      0.84        15\n",
            "          12       0.60      0.38      0.46         8\n",
            "          13       0.92      0.86      0.89        14\n",
            "          14       0.83      0.65      0.73        23\n",
            "          15       0.40      0.62      0.48        13\n",
            "          16       0.69      0.58      0.63        19\n",
            "          17       0.62      0.62      0.62        16\n",
            "          18       0.58      1.00      0.73        11\n",
            "          19       0.67      0.91      0.77        11\n",
            "          20       0.59      0.92      0.72        25\n",
            "          21       0.69      0.64      0.67        14\n",
            "          22       0.50      0.43      0.46        21\n",
            "          23       0.68      0.79      0.73        19\n",
            "\n",
            "    accuracy                           0.67       373\n",
            "   macro avg       0.60      0.61      0.58       373\n",
            "weighted avg       0.66      0.67      0.65       373\n",
            "\n"
          ]
        },
        {
          "output_type": "stream",
          "name": "stderr",
          "text": [
            "/usr/local/lib/python3.10/dist-packages/sklearn/metrics/_classification.py:1471: UndefinedMetricWarning: Precision and F-score are ill-defined and being set to 0.0 in labels with no predicted samples. Use `zero_division` parameter to control this behavior.\n",
            "  _warn_prf(average, modifier, msg_start, len(result))\n",
            "/usr/local/lib/python3.10/dist-packages/sklearn/metrics/_classification.py:1471: UndefinedMetricWarning: Precision and F-score are ill-defined and being set to 0.0 in labels with no predicted samples. Use `zero_division` parameter to control this behavior.\n",
            "  _warn_prf(average, modifier, msg_start, len(result))\n",
            "/usr/local/lib/python3.10/dist-packages/sklearn/metrics/_classification.py:1471: UndefinedMetricWarning: Precision and F-score are ill-defined and being set to 0.0 in labels with no predicted samples. Use `zero_division` parameter to control this behavior.\n",
            "  _warn_prf(average, modifier, msg_start, len(result))\n"
          ]
        }
      ]
    },
    {
      "cell_type": "code",
      "source": [
        "\n",
        "dt_model = DecisionTreeClassifier(random_state=42)\n",
        "dt_model.fit(X_train, y_train)\n",
        "\n",
        "y_pred_dt = dt_model.predict(X_val)\n",
        "\n",
        "print(\"Decision Tree Validation Accuracy:\", accuracy_score(y_val, y_pred_dt))\n",
        "print(\"Decision Tree Validation Classification Report:\\n\", classification_report(y_val, y_pred_dt))\n"
      ],
      "metadata": {
        "colab": {
          "base_uri": "https://localhost:8080/"
        },
        "id": "QaNVOrPwzgEi",
        "outputId": "7a441e85-3445-4b5b-9f67-ebf67ec5e9e2"
      },
      "execution_count": null,
      "outputs": [
        {
          "output_type": "stream",
          "name": "stdout",
          "text": [
            "Decision Tree Validation Accuracy: 0.5656836461126006\n",
            "Decision Tree Validation Classification Report:\n",
            "               precision    recall  f1-score   support\n",
            "\n",
            "           0       0.83      0.90      0.86        21\n",
            "           1       0.69      0.71      0.70        28\n",
            "           2       0.00      0.00      0.00         9\n",
            "           3       0.19      0.27      0.22        11\n",
            "           4       0.27      0.33      0.30        12\n",
            "           5       0.00      0.00      0.00         8\n",
            "           6       0.70      0.78      0.74        18\n",
            "           7       0.27      0.23      0.25        13\n",
            "           8       0.20      0.50      0.29         2\n",
            "           9       0.44      0.36      0.40        22\n",
            "          10       0.94      0.75      0.83        20\n",
            "          11       0.65      0.73      0.69        15\n",
            "          12       0.33      0.50      0.40         8\n",
            "          13       0.76      0.93      0.84        14\n",
            "          14       0.50      0.43      0.47        23\n",
            "          15       0.38      0.38      0.38        13\n",
            "          16       0.43      0.47      0.45        19\n",
            "          17       0.65      0.69      0.67        16\n",
            "          18       0.64      0.82      0.72        11\n",
            "          19       0.75      0.82      0.78        11\n",
            "          20       0.77      0.68      0.72        25\n",
            "          21       0.91      0.71      0.80        14\n",
            "          22       0.44      0.33      0.38        21\n",
            "          23       0.56      0.47      0.51        19\n",
            "\n",
            "    accuracy                           0.57       373\n",
            "   macro avg       0.51      0.53      0.52       373\n",
            "weighted avg       0.57      0.57      0.56       373\n",
            "\n"
          ]
        }
      ]
    },
    {
      "cell_type": "code",
      "source": [
        "import xgboost as xgb\n"
      ],
      "metadata": {
        "id": "9XoyQ2yQw4n7"
      },
      "execution_count": null,
      "outputs": []
    },
    {
      "cell_type": "code",
      "source": [
        "\n",
        "xgb_model = xgb.XGBClassifier(random_state=42)\n",
        "xgb_model.fit(X_train, y_train)\n",
        "\n",
        "y_pred_xgb = xgb_model.predict(X_val)\n",
        "\n",
        "print(\"XGBoost Validation Accuracy:\", accuracy_score(y_val, y_pred_xgb))\n",
        "print(\"XGBoost Validation Classification Report:\\n\", classification_report(y_val, y_pred_xgb))\n"
      ],
      "metadata": {
        "colab": {
          "base_uri": "https://localhost:8080/"
        },
        "id": "ooUHofzEzm-a",
        "outputId": "6cac37a9-a07c-485f-b5e9-70263e68479b"
      },
      "execution_count": null,
      "outputs": [
        {
          "output_type": "stream",
          "name": "stdout",
          "text": [
            "XGBoost Validation Accuracy: 0.739946380697051\n",
            "XGBoost Validation Classification Report:\n",
            "               precision    recall  f1-score   support\n",
            "\n",
            "           0       0.80      0.95      0.87        21\n",
            "           1       0.82      0.82      0.82        28\n",
            "           2       0.83      0.56      0.67         9\n",
            "           3       0.44      0.36      0.40        11\n",
            "           4       0.45      0.42      0.43        12\n",
            "           5       0.67      0.25      0.36         8\n",
            "           6       0.83      0.83      0.83        18\n",
            "           7       0.62      0.62      0.62        13\n",
            "           8       0.33      0.50      0.40         2\n",
            "           9       0.88      0.64      0.74        22\n",
            "          10       1.00      0.80      0.89        20\n",
            "          11       0.87      0.87      0.87        15\n",
            "          12       0.62      0.62      0.62         8\n",
            "          13       0.93      1.00      0.97        14\n",
            "          14       0.89      0.70      0.78        23\n",
            "          15       0.48      0.77      0.59        13\n",
            "          16       0.70      0.74      0.72        19\n",
            "          17       0.73      0.69      0.71        16\n",
            "          18       0.73      0.73      0.73        11\n",
            "          19       0.67      0.91      0.77        11\n",
            "          20       0.72      0.84      0.78        25\n",
            "          21       0.85      0.79      0.81        14\n",
            "          22       0.56      0.67      0.61        21\n",
            "          23       0.80      0.84      0.82        19\n",
            "\n",
            "    accuracy                           0.74       373\n",
            "   macro avg       0.72      0.70      0.70       373\n",
            "weighted avg       0.75      0.74      0.74       373\n",
            "\n"
          ]
        }
      ]
    },
    {
      "cell_type": "markdown",
      "source": [],
      "metadata": {
        "id": "FtSAX06rBvf0"
      }
    },
    {
      "cell_type": "markdown",
      "source": [
        "***Hyperparameter tuining***"
      ],
      "metadata": {
        "id": "6GWlTtqsCCrt"
      }
    },
    {
      "cell_type": "markdown",
      "source": [
        "**Hyperparameter tuinning test**"
      ],
      "metadata": {
        "id": "PKXs7XwIMRi3"
      }
    },
    {
      "cell_type": "code",
      "source": [
        "\n",
        "#from sklearn.model_selection import GridSearchCV\n",
        "\n",
        "# Define the parameter grid\n",
        "#param_grid = {\n",
        "    #'n_estimators': [100, 200, 300],\n",
        "   # 'learning_rate': [0.01, 0.1, 0.2],\n",
        "    #'max_depth': [3, 4, 5],\n",
        "#}\n",
        "\n",
        "# Create a GridSearchCV object\n",
        "#grid_search = GridSearchCV(estimator=xgb_model, param_grid=param_grid, cv=5, scoring='accuracy')\n",
        "\n",
        "# Fit the grid search to the data\n",
        "#grid_search.fit(X_train, y_train)\n",
        "\n",
        "# Get the best parameters and best score\n",
        "#best_params = grid_search.best_params_\n",
        "#best_score = grid_search.best_score_\n",
        "\n",
        "# Print the best parameters and best score\n",
        "#print(\"Best Parameters:\", best_params)\n",
        "#print(\"Best Score:\", best_score)\n",
        "\n",
        "# Evaluate the model with the best parameters on the validation set\n",
        "#best_model = grid_search.best_estimator_\n",
        "#y_pred_best = best_model.predict(X_val)\n",
        "\n",
        "#print(\"Best Model Validation Accuracy:\", accuracy_score(y_val, y_pred_best))\n",
        "#print(\"Best Model Validation Classification Report:\\n\", classification_report(y_val, y_pred_best))\n"
      ],
      "metadata": {
        "id": "bgEGdurxB7SB"
      },
      "execution_count": null,
      "outputs": []
    },
    {
      "cell_type": "markdown",
      "source": [
        "**Model Evaluation**"
      ],
      "metadata": {
        "id": "5TMtVpFFCJCb"
      }
    },
    {
      "cell_type": "code",
      "source": [
        "\n",
        "# Evaluate XGBoost on the test set\n",
        "y_pred_test_xgb = xgb_model.predict(X_test)\n",
        "\n",
        "print(\"XGBoost Test Accuracy:\", accuracy_score(y_test, y_pred_test_xgb))\n",
        "print(\"XGBoost Test Classification Report:\\n\", classification_report(y_test, y_pred_test_xgb))\n"
      ],
      "metadata": {
        "colab": {
          "base_uri": "https://localhost:8080/"
        },
        "id": "JAZsSqe_0j6B",
        "outputId": "35828c1d-975d-4bc9-fe7a-8538a66a83f3"
      },
      "execution_count": null,
      "outputs": [
        {
          "output_type": "stream",
          "name": "stdout",
          "text": [
            "XGBoost Test Accuracy: 0.7184986595174263\n",
            "XGBoost Test Classification Report:\n",
            "               precision    recall  f1-score   support\n",
            "\n",
            "           0       0.94      0.94      0.94        16\n",
            "           1       0.78      0.78      0.78         9\n",
            "           2       0.25      0.17      0.20         6\n",
            "           3       0.64      0.50      0.56        18\n",
            "           4       0.73      0.47      0.57        17\n",
            "           5       0.40      0.67      0.50         3\n",
            "           6       0.74      0.82      0.78        17\n",
            "           7       0.75      0.56      0.64        16\n",
            "           8       1.00      0.50      0.67         2\n",
            "           9       0.50      0.31      0.38        13\n",
            "          10       0.93      0.70      0.80        20\n",
            "          11       0.79      0.79      0.79        28\n",
            "          12       0.83      0.60      0.70        25\n",
            "          13       0.77      0.89      0.83        19\n",
            "          14       0.56      0.75      0.64        12\n",
            "          15       0.70      0.82      0.76        17\n",
            "          16       0.80      0.75      0.77        16\n",
            "          17       0.74      0.74      0.74        19\n",
            "          18       0.67      0.74      0.70        19\n",
            "          19       0.72      0.93      0.81        14\n",
            "          20       0.65      0.83      0.73        18\n",
            "          21       0.58      0.58      0.58        12\n",
            "          22       0.72      0.86      0.78        21\n",
            "          23       0.64      0.88      0.74        16\n",
            "\n",
            "    accuracy                           0.72       373\n",
            "   macro avg       0.70      0.69      0.68       373\n",
            "weighted avg       0.72      0.72      0.71       373\n",
            "\n"
          ]
        }
      ]
    },
    {
      "cell_type": "code",
      "source": [
        "original_categories = list(set(y))\n"
      ],
      "metadata": {
        "id": "4mhQVcKqMrpP"
      },
      "execution_count": null,
      "outputs": []
    },
    {
      "cell_type": "code",
      "source": [
        "\n",
        "for i in range(len(original_categories)):\n",
        "  print(\"Before OverSampling, counts of label '{}': {} \".format(i, sum(y_train == i)))\n",
        "print('Before OverSampling, the shape of train_X: {}'.format(X.shape))\n",
        "print('Before OverSampling, the shape of train_y: {} \\n'.format(y.shape))\n"
      ],
      "metadata": {
        "colab": {
          "base_uri": "https://localhost:8080/"
        },
        "id": "ituvgYd-2DJx",
        "outputId": "c64f1d97-fef6-4f77-e4b1-e625f474f4c2"
      },
      "execution_count": null,
      "outputs": [
        {
          "output_type": "stream",
          "name": "stdout",
          "text": [
            "Before OverSampling, counts of label '0': 81 \n",
            "Before OverSampling, counts of label '1': 81 \n",
            "Before OverSampling, counts of label '2': 48 \n",
            "Before OverSampling, counts of label '3': 68 \n",
            "Before OverSampling, counts of label '4': 74 \n",
            "Before OverSampling, counts of label '5': 25 \n",
            "Before OverSampling, counts of label '6': 82 \n",
            "Before OverSampling, counts of label '7': 86 \n",
            "Before OverSampling, counts of label '8': 18 \n",
            "Before OverSampling, counts of label '9': 85 \n",
            "Before OverSampling, counts of label '10': 78 \n",
            "Before OverSampling, counts of label '11': 69 \n",
            "Before OverSampling, counts of label '12': 82 \n",
            "Before OverSampling, counts of label '13': 74 \n",
            "Before OverSampling, counts of label '14': 61 \n",
            "Before OverSampling, counts of label '15': 88 \n",
            "Before OverSampling, counts of label '16': 83 \n",
            "Before OverSampling, counts of label '17': 82 \n",
            "Before OverSampling, counts of label '18': 85 \n",
            "Before OverSampling, counts of label '19': 85 \n",
            "Before OverSampling, counts of label '20': 77 \n",
            "Before OverSampling, counts of label '21': 85 \n",
            "Before OverSampling, counts of label '22': 74 \n",
            "Before OverSampling, counts of label '23': 67 \n",
            "Before OverSampling, the shape of train_X: (2484, 5000)\n",
            "Before OverSampling, the shape of train_y: (2484,) \n",
            "\n"
          ]
        }
      ]
    },
    {
      "cell_type": "markdown",
      "source": [
        "# **For class imbalance using SMOTE**"
      ],
      "metadata": {
        "id": "3ZdUkQcA23SJ"
      }
    },
    {
      "cell_type": "code",
      "source": [
        "pip install imblearn"
      ],
      "metadata": {
        "colab": {
          "base_uri": "https://localhost:8080/"
        },
        "id": "cfJus0l62WLq",
        "outputId": "6f403096-5c92-40d9-a743-bdda1f2cfba3"
      },
      "execution_count": null,
      "outputs": [
        {
          "output_type": "stream",
          "name": "stdout",
          "text": [
            "Requirement already satisfied: imblearn in /usr/local/lib/python3.10/dist-packages (0.0)\n",
            "Requirement already satisfied: imbalanced-learn in /usr/local/lib/python3.10/dist-packages (from imblearn) (0.12.3)\n",
            "Requirement already satisfied: numpy>=1.17.3 in /usr/local/lib/python3.10/dist-packages (from imbalanced-learn->imblearn) (1.26.4)\n",
            "Requirement already satisfied: scipy>=1.5.0 in /usr/local/lib/python3.10/dist-packages (from imbalanced-learn->imblearn) (1.13.1)\n",
            "Requirement already satisfied: scikit-learn>=1.0.2 in /usr/local/lib/python3.10/dist-packages (from imbalanced-learn->imblearn) (1.3.2)\n",
            "Requirement already satisfied: joblib>=1.1.1 in /usr/local/lib/python3.10/dist-packages (from imbalanced-learn->imblearn) (1.4.2)\n",
            "Requirement already satisfied: threadpoolctl>=2.0.0 in /usr/local/lib/python3.10/dist-packages (from imbalanced-learn->imblearn) (3.5.0)\n"
          ]
        }
      ]
    },
    {
      "cell_type": "code",
      "source": [
        "# import SMOTE module from imblearn library\n",
        "\n",
        "from imblearn.over_sampling import SMOTE\n",
        "sm_over = SMOTE(random_state = 2)\n",
        "\n",
        "X_train_res, y_train_res = sm_over.fit_resample(X_train, y_train.ravel())"
      ],
      "metadata": {
        "id": "rkWCeKkj2ZSQ"
      },
      "execution_count": null,
      "outputs": []
    },
    {
      "cell_type": "code",
      "source": [
        "\n",
        "print('After OverSampling, the shape of train_X: {}'.format(X_train_res.shape))\n",
        "print('After OverSampling, the shape of train_y: {} \\n'.format(y_train_res.shape))\n",
        "\n",
        "for i in range(len(original_categories)):\n",
        "  print(\"After OverSampling, counts of label '{}': {} \".format(i, sum(y_train_res == i)))\n"
      ],
      "metadata": {
        "colab": {
          "base_uri": "https://localhost:8080/"
        },
        "id": "_dEFnghm2Rmy",
        "outputId": "6660473b-e115-4f47-c373-f69f6753b65a"
      },
      "execution_count": null,
      "outputs": [
        {
          "output_type": "stream",
          "name": "stdout",
          "text": [
            "After OverSampling, the shape of train_X: (2112, 5000)\n",
            "After OverSampling, the shape of train_y: (2112,) \n",
            "\n",
            "After OverSampling, counts of label '0': 88 \n",
            "After OverSampling, counts of label '1': 88 \n",
            "After OverSampling, counts of label '2': 88 \n",
            "After OverSampling, counts of label '3': 88 \n",
            "After OverSampling, counts of label '4': 88 \n",
            "After OverSampling, counts of label '5': 88 \n",
            "After OverSampling, counts of label '6': 88 \n",
            "After OverSampling, counts of label '7': 88 \n",
            "After OverSampling, counts of label '8': 88 \n",
            "After OverSampling, counts of label '9': 88 \n",
            "After OverSampling, counts of label '10': 88 \n",
            "After OverSampling, counts of label '11': 88 \n",
            "After OverSampling, counts of label '12': 88 \n",
            "After OverSampling, counts of label '13': 88 \n",
            "After OverSampling, counts of label '14': 88 \n",
            "After OverSampling, counts of label '15': 88 \n",
            "After OverSampling, counts of label '16': 88 \n",
            "After OverSampling, counts of label '17': 88 \n",
            "After OverSampling, counts of label '18': 88 \n",
            "After OverSampling, counts of label '19': 88 \n",
            "After OverSampling, counts of label '20': 88 \n",
            "After OverSampling, counts of label '21': 88 \n",
            "After OverSampling, counts of label '22': 88 \n",
            "After OverSampling, counts of label '23': 88 \n"
          ]
        }
      ]
    },
    {
      "cell_type": "markdown",
      "source": [
        "Our target class is imbalanced, so we need to balance the classes. For this purpose, we use Synthetic Minority Over-sampling Technique(SMOTE), which is a well-known technique for data balancing."
      ],
      "metadata": {
        "id": "Gfl2He3eNSAJ"
      }
    },
    {
      "cell_type": "code",
      "source": [
        "\n",
        "from imblearn.over_sampling import SMOTE\n",
        "\n",
        "# Apply SMOTE to the training data\n",
        "smote = SMOTE(random_state=42)\n",
        "X_train_resampled, y_train_resampled = smote.fit_resample(X_train, y_train)\n",
        "\n",
        "# Train XGBoost on the resampled data\n",
        "xgb_model_resampled = xgb.XGBClassifier(random_state=42)\n",
        "xgb_model_resampled.fit(X_train_resampled, y_train_resampled)\n",
        "\n",
        "# Evaluate XGBoost on the validation set\n",
        "y_pred_val_resampled = xgb_model_resampled.predict(X_val)\n",
        "\n",
        "print(\"XGBoost Validation Accuracy (after SMOTE):\", accuracy_score(y_val, y_pred_val_resampled))\n",
        "print(\"XGBoost Validation Classification Report (after SMOTE):\\n\", classification_report(y_val, y_pred_val_resampled))\n"
      ],
      "metadata": {
        "colab": {
          "base_uri": "https://localhost:8080/"
        },
        "id": "kWOeY6g502MF",
        "outputId": "cc4afd33-a990-4191-fd66-c65eead4ae72"
      },
      "execution_count": null,
      "outputs": [
        {
          "output_type": "stream",
          "name": "stdout",
          "text": [
            "XGBoost Validation Accuracy (after SMOTE): 0.7453083109919572\n",
            "XGBoost Validation Classification Report (after SMOTE):\n",
            "               precision    recall  f1-score   support\n",
            "\n",
            "           0       0.80      0.95      0.87        21\n",
            "           1       0.83      0.89      0.86        28\n",
            "           2       0.57      0.44      0.50         9\n",
            "           3       0.36      0.36      0.36        11\n",
            "           4       0.50      0.50      0.50        12\n",
            "           5       0.20      0.12      0.15         8\n",
            "           6       0.75      0.83      0.79        18\n",
            "           7       0.62      0.62      0.62        13\n",
            "           8       0.33      0.50      0.40         2\n",
            "           9       0.88      0.64      0.74        22\n",
            "          10       1.00      0.85      0.92        20\n",
            "          11       0.74      0.93      0.82        15\n",
            "          12       0.75      0.75      0.75         8\n",
            "          13       0.93      1.00      0.97        14\n",
            "          14       0.95      0.78      0.86        23\n",
            "          15       0.56      0.69      0.62        13\n",
            "          16       0.76      0.68      0.72        19\n",
            "          17       0.79      0.69      0.73        16\n",
            "          18       0.69      0.82      0.75        11\n",
            "          19       0.71      0.91      0.80        11\n",
            "          20       0.74      0.80      0.77        25\n",
            "          21       0.92      0.79      0.85        14\n",
            "          22       0.62      0.62      0.62        21\n",
            "          23       0.79      0.79      0.79        19\n",
            "\n",
            "    accuracy                           0.75       373\n",
            "   macro avg       0.70      0.71      0.70       373\n",
            "weighted avg       0.75      0.75      0.74       373\n",
            "\n"
          ]
        }
      ]
    },
    {
      "cell_type": "markdown",
      "source": [
        "**one deep learning method to see how it work and its accuracy**"
      ],
      "metadata": {
        "id": "YseIMA6lO-ce"
      }
    },
    {
      "cell_type": "code",
      "source": [
        "\n",
        "import numpy as np\n",
        "import tensorflow as tf\n",
        "from tensorflow.keras.models import Sequential\n",
        "from tensorflow.keras.layers import Dense, Dropout\n",
        "\n",
        "# Define the deep learning model\n",
        "model = Sequential()\n",
        "model.add(Dense(512, activation='relu', input_shape=(X_train_resampled.shape[1],)))\n",
        "model.add(Dropout(0.5))\n",
        "model.add(Dense(256, activation='relu'))\n",
        "model.add(Dropout(0.5))\n",
        "model.add(Dense(len(label_encoder.classes_), activation='softmax'))\n",
        "\n",
        "# Compile the model\n",
        "model.compile(loss='sparse_categorical_crossentropy', optimizer='adam', metrics=['accuracy'])\n",
        "\n",
        "# Train the model\n",
        "model.fit(X_train_resampled, y_train_resampled, epochs=10, batch_size=32, validation_data=(X_val, y_val))\n",
        "\n",
        "# Evaluate the model on the test set\n",
        "loss, accuracy = model.evaluate(X_test, y_test)\n",
        "print('Test Accuracy:', accuracy)\n",
        "\n",
        "# Generate predictions\n",
        "y_pred_dl = model.predict(X_test)\n",
        "y_pred_dl = np.argmax(y_pred_dl, axis=1)\n",
        "\n",
        "# Print classification report\n",
        "print(\"Deep Learning Test Classification Report:\\n\", classification_report(y_test, y_pred_dl))\n"
      ],
      "metadata": {
        "colab": {
          "base_uri": "https://localhost:8080/"
        },
        "id": "pWvvg5FUOJJ2",
        "outputId": "bbea5f9e-9a89-4326-8177-fb4eaf92fc8f"
      },
      "execution_count": null,
      "outputs": [
        {
          "output_type": "stream",
          "name": "stderr",
          "text": [
            "/usr/local/lib/python3.10/dist-packages/keras/src/layers/core/dense.py:87: UserWarning: Do not pass an `input_shape`/`input_dim` argument to a layer. When using Sequential models, prefer using an `Input(shape)` object as the first layer in the model instead.\n",
            "  super().__init__(activity_regularizer=activity_regularizer, **kwargs)\n"
          ]
        },
        {
          "output_type": "stream",
          "name": "stdout",
          "text": [
            "Epoch 1/10\n",
            "\u001b[1m66/66\u001b[0m \u001b[32m━━━━━━━━━━━━━━━━━━━━\u001b[0m\u001b[37m\u001b[0m \u001b[1m5s\u001b[0m 59ms/step - accuracy: 0.1536 - loss: 3.1032 - val_accuracy: 0.4397 - val_loss: 2.4474\n",
            "Epoch 2/10\n",
            "\u001b[1m66/66\u001b[0m \u001b[32m━━━━━━━━━━━━━━━━━━━━\u001b[0m\u001b[37m\u001b[0m \u001b[1m5s\u001b[0m 72ms/step - accuracy: 0.4982 - loss: 2.0472 - val_accuracy: 0.5710 - val_loss: 1.6804\n",
            "Epoch 3/10\n",
            "\u001b[1m66/66\u001b[0m \u001b[32m━━━━━━━━━━━━━━━━━━━━\u001b[0m\u001b[37m\u001b[0m \u001b[1m4s\u001b[0m 50ms/step - accuracy: 0.7473 - loss: 1.0757 - val_accuracy: 0.5791 - val_loss: 1.4975\n",
            "Epoch 4/10\n",
            "\u001b[1m66/66\u001b[0m \u001b[32m━━━━━━━━━━━━━━━━━━━━\u001b[0m\u001b[37m\u001b[0m \u001b[1m5s\u001b[0m 49ms/step - accuracy: 0.8545 - loss: 0.5864 - val_accuracy: 0.5657 - val_loss: 1.4524\n",
            "Epoch 5/10\n",
            "\u001b[1m66/66\u001b[0m \u001b[32m━━━━━━━━━━━━━━━━━━━━\u001b[0m\u001b[37m\u001b[0m \u001b[1m4s\u001b[0m 65ms/step - accuracy: 0.9269 - loss: 0.3602 - val_accuracy: 0.5764 - val_loss: 1.4443\n",
            "Epoch 6/10\n",
            "\u001b[1m66/66\u001b[0m \u001b[32m━━━━━━━━━━━━━━━━━━━━\u001b[0m\u001b[37m\u001b[0m \u001b[1m4s\u001b[0m 61ms/step - accuracy: 0.9723 - loss: 0.1704 - val_accuracy: 0.5818 - val_loss: 1.4615\n",
            "Epoch 7/10\n",
            "\u001b[1m66/66\u001b[0m \u001b[32m━━━━━━━━━━━━━━━━━━━━\u001b[0m\u001b[37m\u001b[0m \u001b[1m3s\u001b[0m 50ms/step - accuracy: 0.9898 - loss: 0.1088 - val_accuracy: 0.6059 - val_loss: 1.4713\n",
            "Epoch 8/10\n",
            "\u001b[1m66/66\u001b[0m \u001b[32m━━━━━━━━━━━━━━━━━━━━\u001b[0m\u001b[37m\u001b[0m \u001b[1m5s\u001b[0m 55ms/step - accuracy: 0.9918 - loss: 0.0709 - val_accuracy: 0.5952 - val_loss: 1.5034\n",
            "Epoch 9/10\n",
            "\u001b[1m66/66\u001b[0m \u001b[32m━━━━━━━━━━━━━━━━━━━━\u001b[0m\u001b[37m\u001b[0m \u001b[1m6s\u001b[0m 62ms/step - accuracy: 0.9985 - loss: 0.0475 - val_accuracy: 0.5952 - val_loss: 1.5612\n",
            "Epoch 10/10\n",
            "\u001b[1m66/66\u001b[0m \u001b[32m━━━━━━━━━━━━━━━━━━━━\u001b[0m\u001b[37m\u001b[0m \u001b[1m5s\u001b[0m 54ms/step - accuracy: 0.9952 - loss: 0.0398 - val_accuracy: 0.5818 - val_loss: 1.5978\n",
            "\u001b[1m12/12\u001b[0m \u001b[32m━━━━━━━━━━━━━━━━━━━━\u001b[0m\u001b[37m\u001b[0m \u001b[1m0s\u001b[0m 26ms/step - accuracy: 0.6144 - loss: 1.4350\n",
            "Test Accuracy: 0.595174252986908\n",
            "\u001b[1m12/12\u001b[0m \u001b[32m━━━━━━━━━━━━━━━━━━━━\u001b[0m\u001b[37m\u001b[0m \u001b[1m1s\u001b[0m 36ms/step\n",
            "Deep Learning Test Classification Report:\n",
            "               precision    recall  f1-score   support\n",
            "\n",
            "           0       0.60      0.75      0.67        16\n",
            "           1       0.14      0.33      0.19         9\n",
            "           2       0.00      0.00      0.00         6\n",
            "           3       0.60      0.33      0.43        18\n",
            "           4       0.36      0.24      0.29        17\n",
            "           5       0.50      0.33      0.40         3\n",
            "           6       0.94      0.88      0.91        17\n",
            "           7       0.56      0.56      0.56        16\n",
            "           8       1.00      0.50      0.67         2\n",
            "           9       0.50      0.54      0.52        13\n",
            "          10       0.88      0.70      0.78        20\n",
            "          11       0.88      0.82      0.85        28\n",
            "          12       0.36      0.32      0.34        25\n",
            "          13       0.76      0.84      0.80        19\n",
            "          14       0.67      0.33      0.44        12\n",
            "          15       0.48      0.65      0.55        17\n",
            "          16       0.75      0.56      0.64        16\n",
            "          17       0.83      0.79      0.81        19\n",
            "          18       0.36      0.42      0.39        19\n",
            "          19       0.67      0.86      0.75        14\n",
            "          20       0.64      0.78      0.70        18\n",
            "          21       0.55      0.50      0.52        12\n",
            "          22       0.62      0.76      0.68        21\n",
            "          23       0.57      0.50      0.53        16\n",
            "\n",
            "    accuracy                           0.60       373\n",
            "   macro avg       0.59      0.55      0.56       373\n",
            "weighted avg       0.61      0.60      0.59       373\n",
            "\n"
          ]
        }
      ]
    },
    {
      "cell_type": "markdown",
      "source": [
        "# Result visualization  using Explainable AI (XAI)"
      ],
      "metadata": {
        "id": "Kv8M0dAJAYpz"
      }
    },
    {
      "cell_type": "code",
      "source": [
        "pip install shap"
      ],
      "metadata": {
        "colab": {
          "base_uri": "https://localhost:8080/"
        },
        "id": "r95KcmCd6VmX",
        "outputId": "b6b24652-0ce1-4e75-f204-79057f24e8b7"
      },
      "execution_count": null,
      "outputs": [
        {
          "output_type": "stream",
          "name": "stdout",
          "text": [
            "Requirement already satisfied: shap in /usr/local/lib/python3.10/dist-packages (0.46.0)\n",
            "Requirement already satisfied: numpy in /usr/local/lib/python3.10/dist-packages (from shap) (1.26.4)\n",
            "Requirement already satisfied: scipy in /usr/local/lib/python3.10/dist-packages (from shap) (1.13.1)\n",
            "Requirement already satisfied: scikit-learn in /usr/local/lib/python3.10/dist-packages (from shap) (1.3.2)\n",
            "Requirement already satisfied: pandas in /usr/local/lib/python3.10/dist-packages (from shap) (2.1.4)\n",
            "Requirement already satisfied: tqdm>=4.27.0 in /usr/local/lib/python3.10/dist-packages (from shap) (4.66.5)\n",
            "Requirement already satisfied: packaging>20.9 in /usr/local/lib/python3.10/dist-packages (from shap) (24.1)\n",
            "Requirement already satisfied: slicer==0.0.8 in /usr/local/lib/python3.10/dist-packages (from shap) (0.0.8)\n",
            "Requirement already satisfied: numba in /usr/local/lib/python3.10/dist-packages (from shap) (0.60.0)\n",
            "Requirement already satisfied: cloudpickle in /usr/local/lib/python3.10/dist-packages (from shap) (2.2.1)\n",
            "Requirement already satisfied: llvmlite<0.44,>=0.43.0dev0 in /usr/local/lib/python3.10/dist-packages (from numba->shap) (0.43.0)\n",
            "Requirement already satisfied: python-dateutil>=2.8.2 in /usr/local/lib/python3.10/dist-packages (from pandas->shap) (2.8.2)\n",
            "Requirement already satisfied: pytz>=2020.1 in /usr/local/lib/python3.10/dist-packages (from pandas->shap) (2024.1)\n",
            "Requirement already satisfied: tzdata>=2022.1 in /usr/local/lib/python3.10/dist-packages (from pandas->shap) (2024.1)\n",
            "Requirement already satisfied: joblib>=1.1.1 in /usr/local/lib/python3.10/dist-packages (from scikit-learn->shap) (1.4.2)\n",
            "Requirement already satisfied: threadpoolctl>=2.0.0 in /usr/local/lib/python3.10/dist-packages (from scikit-learn->shap) (3.5.0)\n",
            "Requirement already satisfied: six>=1.5 in /usr/local/lib/python3.10/dist-packages (from python-dateutil>=2.8.2->pandas->shap) (1.16.0)\n"
          ]
        }
      ]
    },
    {
      "cell_type": "code",
      "source": [
        "import shap\n"
      ],
      "metadata": {
        "id": "K5UDOzr06bNY"
      },
      "execution_count": null,
      "outputs": []
    },
    {
      "cell_type": "code",
      "source": [
        "explainer = shap.TreeExplainer(xgb_model_resampled)\n",
        "shap_values = explainer.shap_values(X_val)\n",
        "expected_value = explainer.expected_value\n",
        "\n"
      ],
      "metadata": {
        "id": "GooOusdU6d9I"
      },
      "execution_count": null,
      "outputs": []
    },
    {
      "cell_type": "code",
      "source": [
        "shap.summary_plot(shap_values, X_val,title=\"SHAP summary plot\")"
      ],
      "metadata": {
        "colab": {
          "base_uri": "https://localhost:8080/",
          "height": 697
        },
        "id": "4DeyFkLj6kSP",
        "outputId": "fe40de88-19ba-4cd8-d518-1a37a80766de"
      },
      "execution_count": null,
      "outputs": [
        {
          "output_type": "display_data",
          "data": {
            "text/plain": [
              "<Figure size 1150x660 with 7 Axes>"
            ],
            "image/png": "[encoded data removed]"
          },
          "metadata": {}
        }
      ]
    },
    {
      "cell_type": "code",
      "source": [],
      "metadata": {
        "id": "6Xk1FG8YPYeV"
      },
      "execution_count": null,
      "outputs": []
    },
    {
      "cell_type": "code",
      "source": [],
      "metadata": {
        "id": "sC9Yow54PX19"
      },
      "execution_count": null,
      "outputs": []
    },
    {
      "cell_type": "markdown",
      "source": [
        "**Evaluate the model's performance using the validation set and refine for accuracy and efficiency.**\n",
        "\n",
        "> accuracy was 75% for xgb that was best among them.\n",
        "\n",
        "\n",
        "\n"
      ],
      "metadata": {
        "id": "Nyte9RmzPaA2"
      }
    },
    {
      "cell_type": "code",
      "source": [
        "\n",
        "# Evaluate XGBoost (trained on resampled data) on the test set\n",
        "y_pred_test_resampled = xgb_model_resampled.predict(X_test)\n",
        "\n",
        "print(\"XGBoost Test Accuracy (after SMOTE):\", accuracy_score(y_test, y_pred_test_resampled))\n",
        "print(\"XGBoost Test Classification Report (after SMOTE):\\n\", classification_report(y_test, y_pred_test_resampled))\n"
      ],
      "metadata": {
        "colab": {
          "base_uri": "https://localhost:8080/"
        },
        "id": "-Zr5-6u85vcn",
        "outputId": "c2915ed1-dc81-432c-bd67-bf8745f09c11"
      },
      "execution_count": null,
      "outputs": [
        {
          "output_type": "stream",
          "name": "stdout",
          "text": [
            "XGBoost Test Accuracy (after SMOTE): 0.7184986595174263\n",
            "XGBoost Test Classification Report (after SMOTE):\n",
            "               precision    recall  f1-score   support\n",
            "\n",
            "           0       0.88      0.94      0.91        16\n",
            "           1       0.80      0.89      0.84         9\n",
            "           2       0.25      0.17      0.20         6\n",
            "           3       0.67      0.56      0.61        18\n",
            "           4       0.67      0.47      0.55        17\n",
            "           5       0.20      0.33      0.25         3\n",
            "           6       0.88      0.82      0.85        17\n",
            "           7       0.64      0.56      0.60        16\n",
            "           8       1.00      0.50      0.67         2\n",
            "           9       0.50      0.31      0.38        13\n",
            "          10       0.94      0.75      0.83        20\n",
            "          11       0.83      0.89      0.86        28\n",
            "          12       0.73      0.64      0.68        25\n",
            "          13       0.77      0.89      0.83        19\n",
            "          14       0.60      0.75      0.67        12\n",
            "          15       0.76      0.76      0.76        17\n",
            "          16       0.76      0.81      0.79        16\n",
            "          17       0.74      0.74      0.74        19\n",
            "          18       0.71      0.63      0.67        19\n",
            "          19       0.71      0.86      0.77        14\n",
            "          20       0.56      0.78      0.65        18\n",
            "          21       0.64      0.58      0.61        12\n",
            "          22       0.64      0.76      0.70        21\n",
            "          23       0.78      0.88      0.82        16\n",
            "\n",
            "    accuracy                           0.72       373\n",
            "   macro avg       0.69      0.68      0.68       373\n",
            "weighted avg       0.72      0.72      0.71       373\n",
            "\n"
          ]
        }
      ]
    },
    {
      "cell_type": "code",
      "source": [
        "pip install joblib"
      ],
      "metadata": {
        "colab": {
          "base_uri": "https://localhost:8080/"
        },
        "id": "qVZWvFopcLkh",
        "outputId": "21b54ed4-7ed9-4241-ece5-a79c3ffacf85"
      },
      "execution_count": null,
      "outputs": [
        {
          "output_type": "stream",
          "name": "stdout",
          "text": [
            "Requirement already satisfied: joblib in /usr/local/lib/python3.10/dist-packages (1.4.2)\n"
          ]
        }
      ]
    },
    {
      "cell_type": "code",
      "source": [
        "pip install PyPDF2\n"
      ],
      "metadata": {
        "colab": {
          "base_uri": "https://localhost:8080/"
        },
        "id": "rujhhcD6CNu2",
        "outputId": "a3558dbc-6d84-4ae7-8cd5-7c4f8c25e91f"
      },
      "execution_count": null,
      "outputs": [
        {
          "output_type": "stream",
          "name": "stdout",
          "text": [
            "Collecting PyPDF2\n",
            "  Downloading pypdf2-3.0.1-py3-none-any.whl.metadata (6.8 kB)\n",
            "Downloading pypdf2-3.0.1-py3-none-any.whl (232 kB)\n",
            "\u001b[?25l   \u001b[90m━━━━━━━━━━━━━━━━━━━━━━━━━━━━━━━━━━━━━━━━\u001b[0m \u001b[32m0.0/232.6 kB\u001b[0m \u001b[31m?\u001b[0m eta \u001b[36m-:--:--\u001b[0m\r\u001b[2K   \u001b[91m━━━━━━━━━━━━━━━━━━━━━━━━━━\u001b[0m\u001b[90m╺\u001b[0m\u001b[90m━━━━━━━━━━━━━\u001b[0m \u001b[32m153.6/232.6 kB\u001b[0m \u001b[31m4.7 MB/s\u001b[0m eta \u001b[36m0:00:01\u001b[0m\r\u001b[2K   \u001b[90m━━━━━━━━━━━━━━━━━━━━━━━━━━━━━━━━━━━━━━━━\u001b[0m \u001b[32m232.6/232.6 kB\u001b[0m \u001b[31m4.1 MB/s\u001b[0m eta \u001b[36m0:00:00\u001b[0m\n",
            "\u001b[?25hInstalling collected packages: PyPDF2\n",
            "Successfully installed PyPDF2-3.0.1\n"
          ]
        }
      ]
    },
    {
      "cell_type": "code",
      "source": [
        "from PyPDF2 import PdfReader\n"
      ],
      "metadata": {
        "id": "2b1634QvxnBU"
      },
      "execution_count": null,
      "outputs": []
    },
    {
      "cell_type": "markdown",
      "source": [],
      "metadata": {
        "id": "ovRUTPdTNHD1"
      }
    },
    {
      "cell_type": "code",
      "source": [
        "\n",
        "# Save the model and vectorizer to disk\n",
        "joblib.dump(xgb_model_resampled, 'trained_model.pkl') #Hence we get best accury from XGB after using SMOTE\n",
        "joblib.dump(vectorizer, 'vectorizer.pkl')\n"
      ],
      "metadata": {
        "colab": {
          "base_uri": "https://localhost:8080/"
        },
        "id": "GOjyjDv_7TJu",
        "outputId": "78649ba5-4bd4-449e-c32e-e55a94471dcc"
      },
      "execution_count": null,
      "outputs": [
        {
          "output_type": "execute_result",
          "data": {
            "text/plain": [
              "['vectorizer.pkl']"
            ]
          },
          "metadata": {},
          "execution_count": 37
        }
      ]
    },
    {
      "cell_type": "markdown",
      "source": [
        "# **SCript**"
      ],
      "metadata": {
        "id": "EEyKYBFN8Xsf"
      }
    },
    {
      "cell_type": "code",
      "source": [
        "import joblib\n",
        "import os\n",
        "import pandas as pd\n",
        "from sklearn.feature_extraction.text import TfidfVectorizer\n",
        "from PyPDF2 import PdfReader\n",
        "\n",
        "# Function to convert PDF to text\n",
        "def pdf_to_text(file_path):\n",
        "    text = \"\"\n",
        "    try:\n",
        "        with open(file_path, 'rb') as file:\n",
        "            pdf_reader = PdfReader(file)\n",
        "            for page in pdf_reader.pages:\n",
        "                text += page.extract_text()\n",
        "    except Exception as e:\n",
        "        print(f\"Error reading {file_path}: {e}\")\n",
        "    return text\n",
        "\n",
        "# Load the trained model and vectorizer\n",
        "model = joblib.load('trained_model .pkl')\n",
        "vectorizer = joblib.load('vectorizer.pkl')\n",
        "\n",
        "# Define the input directory for the new resumes for each category\n",
        "input_dir = \"/content/drive/MyDrive/Mediatec solution/ACCOUNTANT\"\n",
        "\n",
        "# Process each file in the directory\n",
        "results = []\n",
        "for filename in os.listdir(input_dir):\n",
        "    if filename.endswith(\".pdf\"):\n",
        "        filepath = os.path.join(input_dir, filename)\n",
        "        # Convert PDF to text using the defined function\n",
        "        resume_text = pdf_to_text(filepath)\n",
        "        # Check if clean_resume_basic function is available\n",
        "        if 'clean_resume_basic' in globals():\n",
        "            cleaned_resume = clean_resume_basic(resume_text)\n",
        "        else:\n",
        "            cleaned_resume = resume_text  # Use raw text if cleaning function is not defined\n",
        "            print(\"Warning: 'clean_resume_basic' function not found. Using raw resume text.\")\n",
        "        features = vectorizer.transform([cleaned_resume])\n",
        "        predicted_category = model.predict(features)[0]\n",
        "\n",
        "        # Convert the predicted category to a string\n",
        "        predicted_category = str(predicted_category)\n",
        "\n",
        "        # Create category folder if not exists\n",
        "        category_dir = os.path.join(input_dir, predicted_category)\n",
        "        os.makedirs(category_dir, exist_ok=True)\n",
        "\n",
        "        # Move the file to the category folder\n",
        "        os.rename(filepath, os.path.join(category_dir, filename))\n",
        "\n",
        "        # Append result for CSV output\n",
        "        results.append({\"filename\": filename, \"category\": predicted_category})\n",
        "\n",
        "# Save the results to a CSV file\n",
        "if results:  # Check if any resumes were processed\n",
        "    output_csv = pd.DataFrame(results)\n",
        "    output_csv.to_csv('categorized_resumes_ACCOUNTANT.csv', index=False)\n",
        "    print(\"'categorized_resumes_ACCOUNTANT.csv' created successfully.\")\n",
        "else:\n",
        "    print(\"No resumes were processed. Check file paths and processing logic.\")"
      ],
      "metadata": {
        "id": "WW1rYMFgco9Y",
        "colab": {
          "base_uri": "https://localhost:8080/"
        },
        "outputId": "6ea4b279-8392-48fc-b4cf-a7d310a48b1e"
      },
      "execution_count": null,
      "outputs": [
        {
          "output_type": "stream",
          "name": "stdout",
          "text": [
            "'categorized_resumes_ACCOUNTANT.csv' created successfully.\n"
          ]
        }
      ]
    },
    {
      "cell_type": "code",
      "source": [],
      "metadata": {
        "id": "GglmRk3EQzK3"
      },
      "execution_count": null,
      "outputs": []
    },
    {
      "cell_type": "code",
      "source": [],
      "metadata": {
        "id": "W4EoseJuQzH8"
      },
      "execution_count": null,
      "outputs": []
    },
    {
      "cell_type": "code",
      "source": [],
      "metadata": {
        "id": "QcD3QbJRQzFV"
      },
      "execution_count": null,
      "outputs": []
    }
  ]
}